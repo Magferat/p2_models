{
  "cells": [
    {
      "cell_type": "markdown",
      "metadata": {
        "id": "view-in-github",
        "colab_type": "text"
      },
      "source": [
        "<a href=\"https://colab.research.google.com/github/Magferat/p2_models/blob/main/20_epoch_Train_Rawnet.ipynb\" target=\"_parent\"><img src=\"https://colab.research.google.com/assets/colab-badge.svg\" alt=\"Open In Colab\"/></a>"
      ]
    },
    {
      "cell_type": "code",
      "execution_count": null,
      "metadata": {
        "id": "mCTPWzZ_JSuN"
      },
      "outputs": [],
      "source": [
        "pip install torch torchaudio matplotlib scikit-learn tqdm ipywidgets notebook soundfile audioread librosa seaborn\n"
      ]
    },
    {
      "cell_type": "code",
      "execution_count": 19,
      "metadata": {
        "id": "NpMdx2hPJhSq"
      },
      "outputs": [],
      "source": [
        "# Standard libraries\n",
        "import os\n",
        "import random\n",
        "import math\n",
        "import pickle\n",
        "\n",
        "# Numerical and data handling\n",
        "import numpy as np\n",
        "import pandas as pd\n",
        "\n",
        "# Plotting\n",
        "import matplotlib.pyplot as plt\n",
        "import seaborn as sns\n",
        "\n",
        "# PyTorch\n",
        "import torch\n",
        "import torch.nn as nn\n",
        "import torch.nn.functional as F\n",
        "from torch import Tensor\n",
        "from torch.utils.data import Dataset, DataLoader\n",
        "from torch.utils import data\n",
        "from torch.nn.parameter import Parameter\n",
        "from torch.autograd import Variable\n",
        "from collections import OrderedDict\n",
        "\n",
        "# Torchaudio\n",
        "import torchaudio\n",
        "import torchaudio.transforms as T\n",
        "\n",
        "# Display\n",
        "import IPython.display as ipd\n",
        "\n",
        "# Sklearn metrics and tools\n",
        "from sklearn.model_selection import train_test_split\n",
        "from sklearn.metrics import (\n",
        "    precision_score, recall_score, f1_score, roc_auc_score,\n",
        "    precision_recall_curve, average_precision_score,\n",
        "    roc_curve, confusion_matrix\n",
        ")\n",
        "\n",
        "# SciPy for EER calculation\n",
        "from scipy.optimize import brentq\n",
        "from scipy.interpolate import interp1d\n",
        "\n",
        "# Progress bar\n",
        "from tqdm import tqdm\n",
        "\n",
        "\n",
        "import librosa\n"
      ]
    },
    {
      "cell_type": "code",
      "execution_count": 20,
      "metadata": {
        "colab": {
          "base_uri": "https://localhost:8080/"
        },
        "id": "bQOi8TPGJr0x",
        "outputId": "dc1497f8-9301-476d-d076-505f757b59c5"
      },
      "outputs": [
        {
          "output_type": "stream",
          "name": "stdout",
          "text": [
            "Drive already mounted at /content/drive; to attempt to forcibly remount, call drive.mount(\"/content/drive\", force_remount=True).\n"
          ]
        }
      ],
      "source": [
        "from google.colab import drive\n",
        "drive.mount('/content/drive')\n"
      ]
    },
    {
      "cell_type": "code",
      "execution_count": 21,
      "metadata": {
        "id": "rrXo9n-HJuLo"
      },
      "outputs": [],
      "source": [
        "dataset_path = '/content/drive/MyDrive/Dataset'\n",
        "# dataset_path = r\"C:\\Users\\T2420353\\detect_dp_fk_24\\Dataset\"\n",
        "\n",
        "train_path = os.path.join(dataset_path, 'Train')\n",
        "test_path = os.path.join(dataset_path, 'Test')\n"
      ]
    },
    {
      "cell_type": "code",
      "execution_count": 22,
      "metadata": {
        "colab": {
          "base_uri": "https://localhost:8080/"
        },
        "id": "YnL7rdJPJ6Jj",
        "outputId": "6b816f5c-1b00-492f-a6e1-6d2e19c021ee"
      },
      "outputs": [
        {
          "output_type": "stream",
          "name": "stdout",
          "text": [
            "['Fake_tts_F_P2_D_9.wav', 'Fake_tts_F_P2_D_23.wav', 'Fake_tts_F_P2_D_28.wav', 'Fake_tts_M_P1_D_7.wav', 'Fake_tts_F_P2_D_19.wav', 'Fake_tts_F_P2_D_35.wav', 'Fake_tts_F_P2_D_36.wav', 'Fake_tts_F_P2_D_25.wav', 'Fake_tts_F_P2_D_45.wav', 'Fake_tts_F_P2_D_41.wav']\n",
            "['Real_M_P29_E_018.wav', 'Real_M_P29_E_017.wav', 'Real_M_P29_E_010.wav', 'Real_M_P29_E_012.wav', 'Real_M_P29_E_001.wav', 'Real_M_P29_E_009.wav', 'Real_M_P29_E_011.wav', 'Real_M_P29_E_013.wav', 'Real_M_P29_E_007.wav', 'Real_M_P29_E_002.wav']\n"
          ]
        }
      ],
      "source": [
        "import os\n",
        "print(os.listdir(train_path)[:10])\n",
        "print(os.listdir(test_path)[:10])\n"
      ]
    },
    {
      "cell_type": "code",
      "execution_count": 23,
      "metadata": {
        "id": "veUGKtkdgk99"
      },
      "outputs": [],
      "source": [
        "def parse_filename(name):\n",
        "    name = name.strip()\n",
        "    if name.startswith('Real'):\n",
        "        parts = name.replace('.wav', '').split('_')\n",
        "        return {\n",
        "            'path': name,\n",
        "            'label': 0,\n",
        "            'fake_type': 'Real',\n",
        "            'gender': 'Female' if parts[1] == 'F' else 'Male',\n",
        "            'id': parts[2].strip(),\n",
        "            'set': parts[3].strip(),\n",
        "            'sentence': int(parts[4])\n",
        "        }\n",
        "\n",
        "    elif name.startswith('Fake_tts'):\n",
        "        parts = name.replace('.wav', '').split('_')\n",
        "        return {\n",
        "            'path': name,\n",
        "            'label': 1,\n",
        "            'fake_type': 'TTS',\n",
        "            'gender': 'Female' if parts[2] == 'F' else 'Male',\n",
        "            'id': parts[3].strip(),\n",
        "            'set': parts[4].strip(),\n",
        "            'sentence': int(parts[5])\n",
        "        }\n",
        "\n",
        "    elif name.startswith('Fake_vc'):\n",
        "        parts = name.replace('.wav', '').split('_')\n",
        "        return {\n",
        "            'path': name,\n",
        "            'label': 1,\n",
        "            'fake_type': 'VC',\n",
        "            'gender': None,\n",
        "            'id': parts[2].strip(),\n",
        "            'set': parts[3].strip(),\n",
        "            'sentence': int(parts[4])\n",
        "        }\n",
        "\n",
        "    else:\n",
        "        return None\n"
      ]
    },
    {
      "cell_type": "code",
      "execution_count": 24,
      "metadata": {
        "id": "iqtinK1UgnY5"
      },
      "outputs": [],
      "source": [
        "\n",
        "\n",
        "def get_file_df(folder):\n",
        "    rows = []\n",
        "    for name in os.listdir(folder):\n",
        "        if name.endswith('.wav'):\n",
        "            data = parse_filename(name)\n",
        "            if data:\n",
        "                full_path = os.path.join(folder, data['path'])\n",
        "                try:\n",
        "                    # wav, sr = librosa.load(full_path, sr=None)\n",
        "                    wav, sr = librosa.load(full_path, sr=None, res_type='kaiser_fast')\n",
        "                    duration_sec = len(wav) / sr\n",
        "                    data['duration'] = duration_sec\n",
        "                    data['samples'] = len(wav)\n",
        "                    data['sr'] = sr\n",
        "                except Exception as e:\n",
        "                    print(f\"Error loading {full_path}: {e}\")\n",
        "                    continue\n",
        "                data['path'] = full_path  # Use full path now\n",
        "                rows.append(data)\n",
        "    return pd.DataFrame(rows)\n"
      ]
    },
    {
      "cell_type": "code",
      "execution_count": null,
      "metadata": {
        "collapsed": true,
        "id": "BKwfcgVsgzb_"
      },
      "outputs": [],
      "source": [
        "df = get_file_df(train_path)\n",
        "df.to_csv(\"train_metadata.csv\", index=False)\n"
      ]
    },
    {
      "cell_type": "code",
      "execution_count": 26,
      "metadata": {
        "colab": {
          "base_uri": "https://localhost:8080/",
          "height": 206
        },
        "id": "fMJBrJL2g2dd",
        "outputId": "6e6438bb-c2f0-4232-ae5a-a4a36db77431"
      },
      "outputs": [
        {
          "output_type": "execute_result",
          "data": {
            "text/plain": [
              "                                                path  label fake_type  gender  \\\n",
              "0  /content/drive/MyDrive/Dataset/Train/Fake_tts_...      1       TTS  Female   \n",
              "1  /content/drive/MyDrive/Dataset/Train/Fake_tts_...      1       TTS  Female   \n",
              "2  /content/drive/MyDrive/Dataset/Train/Fake_tts_...      1       TTS  Female   \n",
              "3  /content/drive/MyDrive/Dataset/Train/Fake_tts_...      1       TTS    Male   \n",
              "4  /content/drive/MyDrive/Dataset/Train/Fake_tts_...      1       TTS  Female   \n",
              "\n",
              "   id set  sentence  duration  samples     sr  \n",
              "0  P2   D         9  2.389000    57336  24000  \n",
              "1  P2   D        23  3.132000    75168  24000  \n",
              "2  P2   D        28  3.169958    76079  24000  \n",
              "3  P1   D         7  2.848000    68352  24000  \n",
              "4  P2   D        19  3.107000    74568  24000  "
            ],
            "text/html": [
              "\n",
              "  <div id=\"df-843dd235-1a0c-4b22-81c9-c2441de58a96\" class=\"colab-df-container\">\n",
              "    <div>\n",
              "<style scoped>\n",
              "    .dataframe tbody tr th:only-of-type {\n",
              "        vertical-align: middle;\n",
              "    }\n",
              "\n",
              "    .dataframe tbody tr th {\n",
              "        vertical-align: top;\n",
              "    }\n",
              "\n",
              "    .dataframe thead th {\n",
              "        text-align: right;\n",
              "    }\n",
              "</style>\n",
              "<table border=\"1\" class=\"dataframe\">\n",
              "  <thead>\n",
              "    <tr style=\"text-align: right;\">\n",
              "      <th></th>\n",
              "      <th>path</th>\n",
              "      <th>label</th>\n",
              "      <th>fake_type</th>\n",
              "      <th>gender</th>\n",
              "      <th>id</th>\n",
              "      <th>set</th>\n",
              "      <th>sentence</th>\n",
              "      <th>duration</th>\n",
              "      <th>samples</th>\n",
              "      <th>sr</th>\n",
              "    </tr>\n",
              "  </thead>\n",
              "  <tbody>\n",
              "    <tr>\n",
              "      <th>0</th>\n",
              "      <td>/content/drive/MyDrive/Dataset/Train/Fake_tts_...</td>\n",
              "      <td>1</td>\n",
              "      <td>TTS</td>\n",
              "      <td>Female</td>\n",
              "      <td>P2</td>\n",
              "      <td>D</td>\n",
              "      <td>9</td>\n",
              "      <td>2.389000</td>\n",
              "      <td>57336</td>\n",
              "      <td>24000</td>\n",
              "    </tr>\n",
              "    <tr>\n",
              "      <th>1</th>\n",
              "      <td>/content/drive/MyDrive/Dataset/Train/Fake_tts_...</td>\n",
              "      <td>1</td>\n",
              "      <td>TTS</td>\n",
              "      <td>Female</td>\n",
              "      <td>P2</td>\n",
              "      <td>D</td>\n",
              "      <td>23</td>\n",
              "      <td>3.132000</td>\n",
              "      <td>75168</td>\n",
              "      <td>24000</td>\n",
              "    </tr>\n",
              "    <tr>\n",
              "      <th>2</th>\n",
              "      <td>/content/drive/MyDrive/Dataset/Train/Fake_tts_...</td>\n",
              "      <td>1</td>\n",
              "      <td>TTS</td>\n",
              "      <td>Female</td>\n",
              "      <td>P2</td>\n",
              "      <td>D</td>\n",
              "      <td>28</td>\n",
              "      <td>3.169958</td>\n",
              "      <td>76079</td>\n",
              "      <td>24000</td>\n",
              "    </tr>\n",
              "    <tr>\n",
              "      <th>3</th>\n",
              "      <td>/content/drive/MyDrive/Dataset/Train/Fake_tts_...</td>\n",
              "      <td>1</td>\n",
              "      <td>TTS</td>\n",
              "      <td>Male</td>\n",
              "      <td>P1</td>\n",
              "      <td>D</td>\n",
              "      <td>7</td>\n",
              "      <td>2.848000</td>\n",
              "      <td>68352</td>\n",
              "      <td>24000</td>\n",
              "    </tr>\n",
              "    <tr>\n",
              "      <th>4</th>\n",
              "      <td>/content/drive/MyDrive/Dataset/Train/Fake_tts_...</td>\n",
              "      <td>1</td>\n",
              "      <td>TTS</td>\n",
              "      <td>Female</td>\n",
              "      <td>P2</td>\n",
              "      <td>D</td>\n",
              "      <td>19</td>\n",
              "      <td>3.107000</td>\n",
              "      <td>74568</td>\n",
              "      <td>24000</td>\n",
              "    </tr>\n",
              "  </tbody>\n",
              "</table>\n",
              "</div>\n",
              "    <div class=\"colab-df-buttons\">\n",
              "\n",
              "  <div class=\"colab-df-container\">\n",
              "    <button class=\"colab-df-convert\" onclick=\"convertToInteractive('df-843dd235-1a0c-4b22-81c9-c2441de58a96')\"\n",
              "            title=\"Convert this dataframe to an interactive table.\"\n",
              "            style=\"display:none;\">\n",
              "\n",
              "  <svg xmlns=\"http://www.w3.org/2000/svg\" height=\"24px\" viewBox=\"0 -960 960 960\">\n",
              "    <path d=\"M120-120v-720h720v720H120Zm60-500h600v-160H180v160Zm220 220h160v-160H400v160Zm0 220h160v-160H400v160ZM180-400h160v-160H180v160Zm440 0h160v-160H620v160ZM180-180h160v-160H180v160Zm440 0h160v-160H620v160Z\"/>\n",
              "  </svg>\n",
              "    </button>\n",
              "\n",
              "  <style>\n",
              "    .colab-df-container {\n",
              "      display:flex;\n",
              "      gap: 12px;\n",
              "    }\n",
              "\n",
              "    .colab-df-convert {\n",
              "      background-color: #E8F0FE;\n",
              "      border: none;\n",
              "      border-radius: 50%;\n",
              "      cursor: pointer;\n",
              "      display: none;\n",
              "      fill: #1967D2;\n",
              "      height: 32px;\n",
              "      padding: 0 0 0 0;\n",
              "      width: 32px;\n",
              "    }\n",
              "\n",
              "    .colab-df-convert:hover {\n",
              "      background-color: #E2EBFA;\n",
              "      box-shadow: 0px 1px 2px rgba(60, 64, 67, 0.3), 0px 1px 3px 1px rgba(60, 64, 67, 0.15);\n",
              "      fill: #174EA6;\n",
              "    }\n",
              "\n",
              "    .colab-df-buttons div {\n",
              "      margin-bottom: 4px;\n",
              "    }\n",
              "\n",
              "    [theme=dark] .colab-df-convert {\n",
              "      background-color: #3B4455;\n",
              "      fill: #D2E3FC;\n",
              "    }\n",
              "\n",
              "    [theme=dark] .colab-df-convert:hover {\n",
              "      background-color: #434B5C;\n",
              "      box-shadow: 0px 1px 3px 1px rgba(0, 0, 0, 0.15);\n",
              "      filter: drop-shadow(0px 1px 2px rgba(0, 0, 0, 0.3));\n",
              "      fill: #FFFFFF;\n",
              "    }\n",
              "  </style>\n",
              "\n",
              "    <script>\n",
              "      const buttonEl =\n",
              "        document.querySelector('#df-843dd235-1a0c-4b22-81c9-c2441de58a96 button.colab-df-convert');\n",
              "      buttonEl.style.display =\n",
              "        google.colab.kernel.accessAllowed ? 'block' : 'none';\n",
              "\n",
              "      async function convertToInteractive(key) {\n",
              "        const element = document.querySelector('#df-843dd235-1a0c-4b22-81c9-c2441de58a96');\n",
              "        const dataTable =\n",
              "          await google.colab.kernel.invokeFunction('convertToInteractive',\n",
              "                                                    [key], {});\n",
              "        if (!dataTable) return;\n",
              "\n",
              "        const docLinkHtml = 'Like what you see? Visit the ' +\n",
              "          '<a target=\"_blank\" href=https://colab.research.google.com/notebooks/data_table.ipynb>data table notebook</a>'\n",
              "          + ' to learn more about interactive tables.';\n",
              "        element.innerHTML = '';\n",
              "        dataTable['output_type'] = 'display_data';\n",
              "        await google.colab.output.renderOutput(dataTable, element);\n",
              "        const docLink = document.createElement('div');\n",
              "        docLink.innerHTML = docLinkHtml;\n",
              "        element.appendChild(docLink);\n",
              "      }\n",
              "    </script>\n",
              "  </div>\n",
              "\n",
              "\n",
              "    <div id=\"df-58854f99-d658-43a2-83d9-d7b255b9b98d\">\n",
              "      <button class=\"colab-df-quickchart\" onclick=\"quickchart('df-58854f99-d658-43a2-83d9-d7b255b9b98d')\"\n",
              "                title=\"Suggest charts\"\n",
              "                style=\"display:none;\">\n",
              "\n",
              "<svg xmlns=\"http://www.w3.org/2000/svg\" height=\"24px\"viewBox=\"0 0 24 24\"\n",
              "     width=\"24px\">\n",
              "    <g>\n",
              "        <path d=\"M19 3H5c-1.1 0-2 .9-2 2v14c0 1.1.9 2 2 2h14c1.1 0 2-.9 2-2V5c0-1.1-.9-2-2-2zM9 17H7v-7h2v7zm4 0h-2V7h2v10zm4 0h-2v-4h2v4z\"/>\n",
              "    </g>\n",
              "</svg>\n",
              "      </button>\n",
              "\n",
              "<style>\n",
              "  .colab-df-quickchart {\n",
              "      --bg-color: #E8F0FE;\n",
              "      --fill-color: #1967D2;\n",
              "      --hover-bg-color: #E2EBFA;\n",
              "      --hover-fill-color: #174EA6;\n",
              "      --disabled-fill-color: #AAA;\n",
              "      --disabled-bg-color: #DDD;\n",
              "  }\n",
              "\n",
              "  [theme=dark] .colab-df-quickchart {\n",
              "      --bg-color: #3B4455;\n",
              "      --fill-color: #D2E3FC;\n",
              "      --hover-bg-color: #434B5C;\n",
              "      --hover-fill-color: #FFFFFF;\n",
              "      --disabled-bg-color: #3B4455;\n",
              "      --disabled-fill-color: #666;\n",
              "  }\n",
              "\n",
              "  .colab-df-quickchart {\n",
              "    background-color: var(--bg-color);\n",
              "    border: none;\n",
              "    border-radius: 50%;\n",
              "    cursor: pointer;\n",
              "    display: none;\n",
              "    fill: var(--fill-color);\n",
              "    height: 32px;\n",
              "    padding: 0;\n",
              "    width: 32px;\n",
              "  }\n",
              "\n",
              "  .colab-df-quickchart:hover {\n",
              "    background-color: var(--hover-bg-color);\n",
              "    box-shadow: 0 1px 2px rgba(60, 64, 67, 0.3), 0 1px 3px 1px rgba(60, 64, 67, 0.15);\n",
              "    fill: var(--button-hover-fill-color);\n",
              "  }\n",
              "\n",
              "  .colab-df-quickchart-complete:disabled,\n",
              "  .colab-df-quickchart-complete:disabled:hover {\n",
              "    background-color: var(--disabled-bg-color);\n",
              "    fill: var(--disabled-fill-color);\n",
              "    box-shadow: none;\n",
              "  }\n",
              "\n",
              "  .colab-df-spinner {\n",
              "    border: 2px solid var(--fill-color);\n",
              "    border-color: transparent;\n",
              "    border-bottom-color: var(--fill-color);\n",
              "    animation:\n",
              "      spin 1s steps(1) infinite;\n",
              "  }\n",
              "\n",
              "  @keyframes spin {\n",
              "    0% {\n",
              "      border-color: transparent;\n",
              "      border-bottom-color: var(--fill-color);\n",
              "      border-left-color: var(--fill-color);\n",
              "    }\n",
              "    20% {\n",
              "      border-color: transparent;\n",
              "      border-left-color: var(--fill-color);\n",
              "      border-top-color: var(--fill-color);\n",
              "    }\n",
              "    30% {\n",
              "      border-color: transparent;\n",
              "      border-left-color: var(--fill-color);\n",
              "      border-top-color: var(--fill-color);\n",
              "      border-right-color: var(--fill-color);\n",
              "    }\n",
              "    40% {\n",
              "      border-color: transparent;\n",
              "      border-right-color: var(--fill-color);\n",
              "      border-top-color: var(--fill-color);\n",
              "    }\n",
              "    60% {\n",
              "      border-color: transparent;\n",
              "      border-right-color: var(--fill-color);\n",
              "    }\n",
              "    80% {\n",
              "      border-color: transparent;\n",
              "      border-right-color: var(--fill-color);\n",
              "      border-bottom-color: var(--fill-color);\n",
              "    }\n",
              "    90% {\n",
              "      border-color: transparent;\n",
              "      border-bottom-color: var(--fill-color);\n",
              "    }\n",
              "  }\n",
              "</style>\n",
              "\n",
              "      <script>\n",
              "        async function quickchart(key) {\n",
              "          const quickchartButtonEl =\n",
              "            document.querySelector('#' + key + ' button');\n",
              "          quickchartButtonEl.disabled = true;  // To prevent multiple clicks.\n",
              "          quickchartButtonEl.classList.add('colab-df-spinner');\n",
              "          try {\n",
              "            const charts = await google.colab.kernel.invokeFunction(\n",
              "                'suggestCharts', [key], {});\n",
              "          } catch (error) {\n",
              "            console.error('Error during call to suggestCharts:', error);\n",
              "          }\n",
              "          quickchartButtonEl.classList.remove('colab-df-spinner');\n",
              "          quickchartButtonEl.classList.add('colab-df-quickchart-complete');\n",
              "        }\n",
              "        (() => {\n",
              "          let quickchartButtonEl =\n",
              "            document.querySelector('#df-58854f99-d658-43a2-83d9-d7b255b9b98d button');\n",
              "          quickchartButtonEl.style.display =\n",
              "            google.colab.kernel.accessAllowed ? 'block' : 'none';\n",
              "        })();\n",
              "      </script>\n",
              "    </div>\n",
              "\n",
              "    </div>\n",
              "  </div>\n"
            ],
            "application/vnd.google.colaboratory.intrinsic+json": {
              "type": "dataframe",
              "variable_name": "df",
              "summary": "{\n  \"name\": \"df\",\n  \"rows\": 5950,\n  \"fields\": [\n    {\n      \"column\": \"path\",\n      \"properties\": {\n        \"dtype\": \"string\",\n        \"num_unique_values\": 5950,\n        \"samples\": [\n          \"/content/drive/MyDrive/Dataset/Train/Real_M_P52_F_19.wav\",\n          \"/content/drive/MyDrive/Dataset/Train/Real_F_P34_C_047.wav\",\n          \"/content/drive/MyDrive/Dataset/Train/Fake_vc_C1_A_027.wav\"\n        ],\n        \"semantic_type\": \"\",\n        \"description\": \"\"\n      }\n    },\n    {\n      \"column\": \"label\",\n      \"properties\": {\n        \"dtype\": \"number\",\n        \"std\": 0,\n        \"min\": 0,\n        \"max\": 1,\n        \"num_unique_values\": 2,\n        \"samples\": [\n          0,\n          1\n        ],\n        \"semantic_type\": \"\",\n        \"description\": \"\"\n      }\n    },\n    {\n      \"column\": \"fake_type\",\n      \"properties\": {\n        \"dtype\": \"category\",\n        \"num_unique_values\": 3,\n        \"samples\": [\n          \"TTS\",\n          \"VC\"\n        ],\n        \"semantic_type\": \"\",\n        \"description\": \"\"\n      }\n    },\n    {\n      \"column\": \"gender\",\n      \"properties\": {\n        \"dtype\": \"category\",\n        \"num_unique_values\": 2,\n        \"samples\": [\n          \"Male\",\n          \"Female\"\n        ],\n        \"semantic_type\": \"\",\n        \"description\": \"\"\n      }\n    },\n    {\n      \"column\": \"id\",\n      \"properties\": {\n        \"dtype\": \"category\",\n        \"num_unique_values\": 95,\n        \"samples\": [\n          \"P16\",\n          \"C13\"\n        ],\n        \"semantic_type\": \"\",\n        \"description\": \"\"\n      }\n    },\n    {\n      \"column\": \"set\",\n      \"properties\": {\n        \"dtype\": \"category\",\n        \"num_unique_values\": 5,\n        \"samples\": [\n          \"F\",\n          \"C\"\n        ],\n        \"semantic_type\": \"\",\n        \"description\": \"\"\n      }\n    },\n    {\n      \"column\": \"sentence\",\n      \"properties\": {\n        \"dtype\": \"number\",\n        \"std\": 14,\n        \"min\": 1,\n        \"max\": 50,\n        \"num_unique_values\": 50,\n        \"samples\": [\n          5,\n          38\n        ],\n        \"semantic_type\": \"\",\n        \"description\": \"\"\n      }\n    },\n    {\n      \"column\": \"duration\",\n      \"properties\": {\n        \"dtype\": \"number\",\n        \"std\": 1.3487590259844489,\n        \"min\": 1.340125,\n        \"max\": 12.165229166666666,\n        \"num_unique_values\": 3912,\n        \"samples\": [\n          4.527895833333333,\n          2.819395833333333\n        ],\n        \"semantic_type\": \"\",\n        \"description\": \"\"\n      }\n    },\n    {\n      \"column\": \"samples\",\n      \"properties\": {\n        \"dtype\": \"number\",\n        \"std\": 78206,\n        \"min\": 19778,\n        \"max\": 672256,\n        \"num_unique_values\": 3912,\n        \"samples\": [\n          241302,\n          90733\n        ],\n        \"semantic_type\": \"\",\n        \"description\": \"\"\n      }\n    },\n    {\n      \"column\": \"sr\",\n      \"properties\": {\n        \"dtype\": \"number\",\n        \"std\": 13411,\n        \"min\": 8000,\n        \"max\": 96000,\n        \"num_unique_values\": 7,\n        \"samples\": [\n          24000,\n          8000\n        ],\n        \"semantic_type\": \"\",\n        \"description\": \"\"\n      }\n    }\n  ]\n}"
            }
          },
          "metadata": {},
          "execution_count": 26
        }
      ],
      "source": [
        "df = pd.read_csv(\"train_metadata.csv\")\n",
        "df.head()"
      ]
    },
    {
      "cell_type": "code",
      "execution_count": 27,
      "metadata": {
        "id": "dezqBuzwKOJg"
      },
      "outputs": [],
      "source": [
        "\n",
        "\n",
        "\n",
        "# def pad(x, max_len=64000): #dimdim\n",
        "#     x_len = x.shape[0]\n",
        "#     if x_len >= max_len:\n",
        "#         return x[:max_len]\n",
        "#     return torch.cat([x] * (max_len // x_len + 1), dim=0)[:max_len]\n",
        "def pad(x, max_len=64000):\n",
        "    x_len = x.shape[0]\n",
        "    if x_len >= max_len:\n",
        "        return x[:max_len]\n",
        "    num_repeats = int(max_len / x_len) + 1\n",
        "    padded_x = np.tile(x.numpy(), num_repeats)[:max_len]\n",
        "    return torch.tensor(padded_x, dtype=torch.float32)\n",
        "\n",
        "def init_weights(m):\n",
        "    if isinstance(m, nn.Linear):\n",
        "        # torch.nn.init.xavier_uniform(m.weight)\n",
        "        nn.init.xavier_uniform_(m.weight)\n",
        "        m.bias.data.fill_(0.0001)\n",
        "    elif isinstance(m, nn.BatchNorm1d):\n",
        "        pass\n",
        "    else:\n",
        "        if hasattr(m, 'weight'):\n",
        "            nn.init.kaiming_normal_(m.weight, a=0.01)\n",
        "\n",
        "class AudioDataset(Dataset):\n",
        "    def __init__(self, dataframe, transform=None, target_sr=16000):\n",
        "        self.df = dataframe.reset_index(drop=True)\n",
        "        self.transform = transform\n",
        "        self.target_sr = target_sr\n",
        "\n",
        "    def __len__(self):\n",
        "        return len(self.df)\n",
        "\n",
        "    def __getitem__(self, idx):\n",
        "        row = self.df.iloc[idx]\n",
        "        path = row['path']\n",
        "\n",
        "        # # torchaudio load\n",
        "        try:\n",
        "            wav, sr = torchaudio.load(path)\n",
        "            wav = wav[0]\n",
        "        except:\n",
        "          # wav_np, sr = librosa.load(path, sr=None)\n",
        "          wav_np, sr = librosa.load(path, sr=None, res_type='kaiser_fast')\n",
        "          wav = torch.tensor(wav_np, dtype=torch.float32)\n",
        "\n",
        "        # Resample if needed\n",
        "        if sr != self.target_sr:\n",
        "            resampler = T.Resample(orig_freq=sr, new_freq=self.target_sr)\n",
        "            wav = resampler(wav)\n",
        "\n",
        "        # Silence trim using librosa\n",
        "        wav_np = wav.numpy()\n",
        "        wav_trimmed, _ = librosa.effects.trim(wav_np, top_db=20)\n",
        "        wav = torch.tensor(wav_trimmed, dtype=torch.float32)\n",
        "\n",
        "        if self.transform:\n",
        "            wav = self.transform(wav)\n",
        "\n",
        "        return wav, row['label']\n"
      ]
    },
    {
      "cell_type": "code",
      "execution_count": 28,
      "metadata": {
        "id": "pPQVKwvZQddA"
      },
      "outputs": [],
      "source": [
        "# Setup\n",
        "df = pd.read_csv(\"train_metadata.csv\")\n",
        "df = df.sample(frac=1).reset_index(drop=True)\n",
        "train_df, val_df = train_test_split(df, test_size=0.2, stratify=df['label'])\n",
        "\n",
        "transform = lambda x: pad(x, max_len=64000)\n",
        "\n",
        "train_dataset = AudioDataset(train_df, transform=transform)\n",
        "val_dataset = AudioDataset(val_df, transform=transform)\n",
        "\n",
        "train_loader = DataLoader(train_dataset, batch_size=32, shuffle=True)\n",
        "val_loader = DataLoader(val_dataset, batch_size=32, shuffle=False)"
      ]
    },
    {
      "cell_type": "code",
      "execution_count": 29,
      "metadata": {
        "colab": {
          "base_uri": "https://localhost:8080/"
        },
        "id": "OpKfYJ6kln_X",
        "outputId": "fdb24f78-419b-4dbc-ea74-48431f4df18b"
      },
      "outputs": [
        {
          "output_type": "stream",
          "name": "stdout",
          "text": [
            "Train dataset length: 4760\n",
            "Validation dataset length: 1190\n",
            "Total dataset length: 5950\n",
            "dataset length: 5950\n"
          ]
        }
      ],
      "source": [
        "print(f\"Train dataset length: {len(train_dataset)}\")\n",
        "print(f\"Validation dataset length: {len(val_dataset)}\")\n",
        "print(f\"Total dataset length: {len(train_dataset) + len(val_dataset)}\")\n",
        "print(f\"dataset length: {len(df)}\")\n"
      ]
    },
    {
      "cell_type": "code",
      "execution_count": 30,
      "metadata": {
        "colab": {
          "base_uri": "https://localhost:8080/",
          "height": 168
        },
        "id": "SIMcflFfnhfZ",
        "outputId": "d5802122-3a52-4913-a63d-9e9ed2cb5edb"
      },
      "outputs": [
        {
          "output_type": "stream",
          "name": "stdout",
          "text": [
            "Real Audio | Label: 0 | Path: /content/drive/MyDrive/Dataset/Train/Real_M_P36_C_017.wav\n"
          ]
        },
        {
          "output_type": "display_data",
          "data": {
            "text/plain": [
              "<IPython.lib.display.Audio object>"
            ],
            "text/html": [
              "\n",
              "                <audio  controls=\"controls\" >\n",
              "                    <source src=\"data:audio/wav;base64,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\" type=\"audio/wav\" />\n",
              "                    Your browser does not support the audio element.\n",
              "                </audio>\n",
              "              "
            ]
          },
          "metadata": {}
        },
        {
          "output_type": "stream",
          "name": "stdout",
          "text": [
            "Fake Audio | Label: 1 | Path: /content/drive/MyDrive/Dataset/Train/Fake_tts_M_P3_F_004.wav\n"
          ]
        },
        {
          "output_type": "display_data",
          "data": {
            "text/plain": [
              "<IPython.lib.display.Audio object>"
            ],
            "text/html": [
              "\n",
              "                <audio  controls=\"controls\" >\n",
              "                    <source src=\"data:audio/wav;base64,UklGRiT0AQBXQVZFZm10IBAAAAABAAEAgD4AAAB9AAACABAAZGF0YQD0AQAYABYAEwARABQAFAAEAAwACgAKAAMA+//+/woAAQD0//7/+f/7//r/6//2//L/+P/t//n//f/5//T/8P/x/+P/5f/V/+L/4v/W/97/vv/M/+T/zP/f/+H/0//0/9n/4v/o/+f/7P/g//T//f/y/wAA8P/k//D/9P///+b/9P+t/6f/x//H/77/TP9w/2//VACcAYT9P//HAuf/QgG3/6D+ef+i/6H/Y/++/z7/rv/R//P/IQD0/q7/0f95/4H/x/99/z7/wP+m/9v/uf9z/1kATP9EACQAq//8/yH/cQCrAFP/NADd/xoA3P8P/7P/eQDY/0r/9P/X/9P//P/n/pwAPADx/63/8v+2/wQAE/8uAGAAB/+6AC8AN//PAAL+iQJv/5v/6v/z/tgAzADO/tv/uwDY/mMBFv9lAPr/qQCw/t4A7/+p/50Ap/8SARMAuv+u/+H/dwFu/9X/MwBn/8IAiQGe/REBDQFf/64BKP/a/hcBo//L/yIBIwDl/WoA4P9ZAmT/Z/45AAcDA/7MAFgB4/00Ahr/bv86Ah37wgMK/mcARQOv/bz/ZP+n/yUCIACr/qn/5gE/Aa7+0v03Agr/k//iAlb+Fv+8A+H+LwBLA0f+egFJ/wICkvwkACkCBQCEALn9hwCTACQDf/yaAdYAlP+kAKX8pwGAA2j7n/9uB4r49QRA/gT+RwPv/V4Cd/74//sBnv3BAEwBIQPW+QMDz/+D/JIBoP/wAgH/nf1OAgoBXP7NAE4Bi/05BVH8e/2N//YETf/q+QgHT/+gAAj8RwMLAhL8cABeA5H8rQDz/1cDbvtFBqn7/gTD+L4G/wFZ+mf/+Qdz+/IAKwPI918JrvtYAJEDcQB+/T74pRD+8XMJFf5FAD8ABP4pAyL9WALj/d4De/p0APv+GP9BAlH74QE4/cUBoPe/Cv38Yfu+Bun9gP24AHv8ggSV/L4BUfymAFUFFfnXAtMBcP3QAtgCt/klAVT9ngXZ+AoF+vrOAOsBa/weAXr73ga8/If+fP5RBGv4MAV+/Q0Cif+lAbv3rgcp/Jj6hwc9+poCwv1n/g/9DAGXA1T9yvpZCE37BwRA+hf86Qb8/Yj9cQIe/yMAwgO79ycIlv7t/SEB3Qhl83oHSwAZ/y8Ew/gADIz2qQBsBEX4kAZN/TkEM/9x/OEEKvorANMGoPt8+wwNevlT+o8ITAHK9GINYQWP8GsGz/9f/C0Fdvx//HsEjgCk++QAtgL0+twFEPxIARsCs/qI/VQCuv+S/Vv/kAJr+y//4gEv/87+WQKd+mkEbAFb/Hv+8gM2BHj1DgWyBqT4nfsuBp79if4YCLr7WPnzA3sDrQAV+JEPUPzX+dsEH/40AWcDOvkiA9H87gPWAc/4lAaEAr3+Q/2VBtvykgH/CnX1vQFiAtT/N/uoAn8Iff6a9qwFCwU6AEoAnwAx/oIFQ/rPAmsCFPmTBPoA9/87/tAAPfvnBIX7EQjHBXLzlvldEOIAVu8RCagA/AEJ/tEAHf6HAXD85AJ0BksHG/TJ9pgQxf32+DUFOQBQAdkCQfbqA4UHs/oF+hMALwz491rxfw67/7YAgwB8+4D8gght/XEBZgGp94UExQTe9bgAdwf7934DJAmm/VH2h/79BowD3QVB/C76Q/tiEBf7bACq9r0ILwWY+cT7AwqD+0nx6Qy+B7j2oQUX+4X3QA2FC7zpfv+jEJj4T/esEMv7KPyZ/zH+4Qrq9t4BA/1G/QIDqAfPATv1zP50CsD7ivqiC5rzQf5mB5/5VwTw/8j8xf2FBnQEu/3R+CD9owYrB5L09wFw/ET/mweL9hwAqwkK9RQDNQFIBLf/E/+r8P8K8A9J+fn0fAMcBgH3u/43CP34QwaX+Cf8cAceCOXycP4qBSYJ3PgX98b4/g/3BLH4LPbt/PUDaPn3AyYHd//e+jH++fhyBnMGTP4YAvv82QQ2+yH5IQUjBjEDEwWn/B37afui/SsOmQHV92v9uQLI+RoGoQDNBtUBkfs+/DwC6gGP+pYD6/d8/vYJrPo48ygD6/t9/t0A8wcfAXDucwU7CFL+Av4J/8/96v+NAy0CnAG0+5D4NwcFDLn6X/im/ob/mgFNDsP9VvJg+9cFugNSAl0C4fZS+DL/QAWSDN/+l/ARA28CLgeKADL6bQJfAIn+vwPGAGICIPVlALwIKPtMB8ID2vJx/TkGf/4DAAsGuvl19ucGyQlk+sb8dwL1BVn+tPw+B/sBRPwV/D0LQP6A+4j/ewAe/pUJoAC4+Qf+HvneBDgQhQQP7xH5kwZgAwoEcAKC8jAFzAXJ/dUEf/9NBGf1af3vEU7+DvfG/bUDwwQBA70Cwvd0/i0Dxv+kBJAEXfUP/VcF/v/o/xAEP/wX9ygCywsVA9L2vfsT/mAD/AlMAfv3Lf2EAoEGlQEiAev7QADWAr8BHQMu/zr8Gf5uBDcGSv5b/5H9HP//AUsDbfu//xUDWPxq+wgBGAGB+V77BgFEAgwDG/n5/vEEVAF1+isA6wTwAf/+x/vw/UgDqAT3/LH8TQQ4ABf8U/65A+b/dP5F/nf+gAC2/ij91/59ASf+APwC+98AgAOE/SL7Rf9hAfn8FQHP/wwAaP5b/kD/ygNhBMT8mvu+AnAE5QOA/un8tAF5A3/9z/z0ASYCl/0a/yoBh/3kAP4AJf7C/xwBY/xe/XwDiQKb+0IDJQPLAS3+Q/+MA5MIpALL/bf8x/4xBYsIxf/6/eb+Kf48AqsEUwBv+yH+JwMVAj8BYP49+1f+FwR4/rb7t/2z/Ff/LQFr/Bv9Z/5u/eYAUv59/qP/EPojAAABmPue+e77Tv8rAPf9kfvS+WP6Uf5vAdT+e/xN+7L6EAC/AGX8j/y2/Xf+UP3FATn+U/sPAKf/wP3l/4D+qfoV/GkC0wNv/lH4HP3XBBgD2/7y/ccASwECBSkF8APMAycDKAXwCQ0OLwezAs0ISAxvEFYO4wlzDHYPTxGeEokUgg8hEQsVGRWrFFYSERGJEW4UVw8VEJwOPAzUC7II5QrcB6UDGALJAbcCtf5/+zH6yPql+Xb0C/MD8grxB/Be7ZHrYOmN59fnJufr5Zjkm+E74yriXODR3g7iOOf543Lght0g4NHjWOaS5zji8N865NPqE+yy5s3hPeZF8CzyDOok5xbyaf7H/8r47fIv/GcKAw2TCWsGuAo8E0gbzxyDGVQa2h5hJAsrqSkWJgcofi3LL4Yukis/KngsJi8iLVwqSyUaIjYlzSjrI3wcYxajFisYzhjUEmINggopC8QKXQjeBPMB5ADiAaUBhf+p/Yj6xvt4/fD7C/jB9YP2CPhi9rDys+8b707v4O0f66Ho1OZD5TDj8+C/3ond9dxk2qTXatZw1R3YRde+1LfS5NDgzsTU3tMS0/DP+M2N0I7W6tiP13XXjeHl7BLv++Z35f/wOQIUCQIDRv9qBlYT2xw/HRMfSh+lIwAqADFBMzkxjTBTNCs5SDnGNEk1YTepNqoz6C85LZIsbC1DKwgj3BtMGVcbNxuUFeQNegndCbAJZwkgBUsB/P5nAIr/Of8T/ov9cf01/Wn9m/3q/Tr+6v6S/m38o/ud/C/+u/yA+dH25PXi9iD11PH/7gvsBesU6cPn7uSv4Z3eRN2F3BDcTtip1evUmdRq0IPQgs6xz5HNPM39y2LMT82i03zgdenM38LUWdaZ7qMFAANF8ibv//++E9wYdxb8GbQdXyGPJYwtiTQsNPMyjDfFOls4sTXPOUw+Hz1tM4stZy0kMbkw+Cz8I9AcixnnGC8aJRWiDcYHEwUcBdEBQAAH/i/93fly9zv2b/i++Rb5yPlO92z3p/gJ/Jz/U/1E+7P6bv1TAPf+y/0Z/QD9i/zh+rz4G/ht9/r0d/Fn7n7qwupe6C3n6+Ex3QHbNdn92EPUx9DxzrvN6MoEy5bIqscEyILKA9//3xTaOcdAzjDsFQC9+cDjoefC/PcOsRBDDYYUchj6GwofFissMm0v3TAdNK04TjPcMvc6XEIlPCIsOikzL6s2+TIoKsAhvhwpHCUbBxt/FDMNmQdHBRsE8QHRAR7/Xfyx9sr0iffw+Fj7Zfjj9gL16vQI+o7+VwAg/BH4OfsWAFYDiAF+/t/9nf8q/x7/jf4l/WH7J/jZ9BP0f/I18b7tKut+5uXhguAA4GvdAtlF0s7R9tHCzVDLoMsrynXKMsXB2ercU951yC7GYOIs+WD6oeFC3y/0KgloDfgG1ApEEpkYpRn0IwIrWCzRK5sudzPOMCcxADddPUg4oSwNKAsueTUtMkYqoiKjHdMbBxx+HFUYxQ/+Bz0H+QbYBcoDvwFS/1/5sPUd+NP8N/1l+c70wPRI96b5t/0Z/a/7I/gr+fD9HgJTArz9ovwV/i8A4/97/5T9Yf2y+Wz2qvcS94L1DPHM7SPsz+ko6HflLuMK3j/bZNcE2PzUvtNizw7OPMyWy9/gcuOG23XHq8fo5Pn82vMZ3iDcq/IiBFEF9QHaBvoLBQ83EL0cDCVIJcoiiydrK1Yr+ikTMo45MzSmJ0slsy7NMnMurictJqUh0xtPGhIfAB9CFhoLBgqXDJsMEwlMB9cEx/+h++b8DQL/AuP81vhs+I77YPw0/Vb/Nf5U+5D5GP0WAdkBnP7P/Jf8uv1o/nz/KgAH/df57va595H5Kvnd9Mjws+6G7TvsNeu96Mvk2uCz3gPfId0t2V3Xv9PW1BfR59c85Enmq9g+yjDTOez2+xjubNxP3wL1uwH4AP3+hAI0B+8GRgytGAAgqh0IGe8fWiVFJpMkPStKMcIr/CEqIakr5y/1KZ8iqyFvIK4c0xv0HgkfaRWcC88LzxFPEuwKkQZ9BVIFvQCLAFEDeQNtAID5aPr+/Mb+nf5P/vD8b/rq+JD8ewH+AEv8Gfhs+d39DP/g/Yv7BPoE+Nb3Ovh1+Tj3kPM78DbwfvBF7pbt7Ota6d3lsuJX4jblKeEW3XPbMdqF3Y/Wyt8e56PoaN500Cber+9B+QbtL+Be51P1J/zW+xP+wAFeAvP+zwVSE2IYnxQMEEQWBByEHKUdryOwJwEhdxpIHJ0ooilzI9Id4x1TIEwb5Bp0HVEfaxexDqsNMRQNFuIQoQwNCHEHUAV1B44JMwcfAdv7xP08ASMCgf+w/ZT7gPr6+bf7zv6I/fn5TPbj94j60/tp+8L4B/ce9WH2TPhT+Zb2EvOL8QXy8fOd8yvy2+/p7CrsVOuh7JzrWumu47zkNeS0563jN9+I5M/qu+0h5cDexuTB8Hz1Oe8M6ejsMfQX+CL7+f3m/pD8z/x1BboNgg6SCkgLfRHdFOgTvhVfGv0bJxgsFZoZmB78HUQaphlxGzwZcBXYFv0aTRozE8gNHRAOFBwU+A8zDaYLBgsgCm0L0wthCYcETQHQA7EFSgUcAfX//f8R/+b9L/69/2T//Psg+fT5ifw//fb7Afl3+IH4vvhc+Tf5GflI9gD1vfVy9pD1SPX/9JH0F/Ka8VfysfJR8ZXvcexg7STtB+4e7T/q8OeT7GDwj/AI6iTnFevM80v1SPDH7Ajw4/U2+Hv5Vvqt+xb7gfyMAe4GbAd4BIAF0gk8Dd4Mbgy6Dt8Qwg+0DvcQAhSfEx0RuhAtE8cTzhEwEAIS8RLlEIkOzg6zEI8Qrw5jDaQNmQ1qDPgL8AtFC+sJ6we9ByAIQge0BZcEFgSLA8EBPgGlAWYBaAAN/lj+Lv5e/r79B/w//NH7MvsF+lv6jPrj+S35j/fv9yv4Svji9r71+fWw9V71z/SQ9MXzBfMW8hHyWvJQ8YnwNvCP8Njv2O6n78Hxc/Kb8ELvvPDw9Or1qvST83b1KvjH+ZD64fu+/Ej9Ef5wACYDkAMXA5EDpgWBB5kHsAdpCKEJ1wmaCXcK5AsjDIQLqQu3DKANTg2lDCwN+Q30DUANNA31Df0NZQ0eDQoNZw2tDHoLnAu4C/wK2gmyCOcIjgisB3AGvQVdBXMEpwM6A+kCFwIXASMAWAAcAHb/m/71/eP9W/0D/ZP8P/zS+wP7p/qT+i/6xPkw+bn4Wfjh92r3MvfU9oX2xPWl9Vf1HPXO9G70FfTa86fzufOT8x7zrvL48ojztvMh8x/zbvNn9M/02PRm9Sr24vaM94/45/kA+5/7SvyW/TT/OQDWAMkBvgK0A3EEOAVdBiIHgAfvB7EIuwlrCtMKVQvVC00MmAzzDJQN2A2TDTUNQQ2UDZkNIw2QDCUMzwtdCwcLugo3CmUJhAgKCPIHmAfKBu0FMQXOBFQE6QN3A9MCAwJLAfUA0wBtAL3/Cv+H/iz+3P2E/TD9r/wd/LD7afth+yH7nfod+r75mflx+Sb51vh3+Br41Pec93z3OvfV9nb2MvYO9v/12/Wk9W31OfU39Vn1jPWm9Zz1qfX79YP2Cvdk98T3Rfjr+Kj5cfpV+xv8uvxj/UX+VP8tALcAMwHcAY0CGAOLAwsEhATXBAwFdQUQBosGwAbpBlEHzwc9CIAIyQgfCVIJcAmhCeMJHQoYCtcJsQm6CbwJjgkwCckIeQgmCMAHXQfvBnEG5gVbBegEigQpBKkDDwOJAiQC2AGAARABmQAuAN//mf9R/wb/sf5Z/gX+vv2J/Vj9FP3E/H38QfwX/Or7tPt3+zz7FPvx+s36qfp++lr6OPog+hD6//ny+eP51vnT+d359PkA+vz5/vkZ+j36Wvpu+oP6pfrQ+vv6IftJ+3P7mvvD+/P7Kfxf/JH8xfz5/DT9ef29/QX+Sv6M/t7+Pf+a//L/QQCdAAYBagHKAScCjQLtAkUDnAP7A10EqwTeBBcFXAWeBcsF4QX0BQ0GHQYfBhQGCQb5BdoFsAWJBWwFSwUQBdMEogRvBDsE9wOzA3kDPgP7AsEChgJIAgcCyAGPAVsBIgHmAK0AewBOABwA7v+//5D/Yf84/xL/6P6//pP+cP5P/in+Bf7g/cH9pP2E/Wr9Sv00/R79Cf33/OT81PzP/Mb8xPzF/MX8zvza/On8/vwQ/R39MP1M/Wj9gv2j/cL96v0P/jD+Yf6P/rX+4f4I/zn/Zv+M/7n/4/8OADAATwBxAJIArgDGAN0A8QAKARwBKwE7AUsBVAFaAWABZAFoAWIBWwFXAVIBUQFJATwBLgElARkBBQH6AOkA2gDHALoAsQCtAKQAlgCRAIcAgQB8AGwAYgBdAFQARwA7ADEALgAlABcADgAMAAYA9v/t/9//3f/a/8v/wv+6/6//oP+c/5H/j/+C/3H/aP9u/2v/Zf9Y/1v/Wf9Y/1b/Sf9N/03/TP9N/1T/Wv9e/2j/Zv9z/3r/gv+O/5X/nv+o/7H/uv/K/9H/2v/k/+3/+f8EAA8AEQAWAB4AKQA7ADMANAA5AEgASQBMAFAATgBOAE4AUABVAFYATwBKAFEAVwBVAEwASABLAFYATgBBAEEASABQAEUAOQA8AEkARAA/AEAAOwBBADkAOAA5ADQAMAA2ACwAKgAtACgAMgAuACkAKgAoAC8AIwAaABsAHgAbAA8ACgALAAUABAD6//f/7v/x/+z/5//j/9n/4f/d/9z/4v/X/+D/3v/f/+j/3//p/+v/7f/t/+//8v/u//3/9f/y//j//v/9//f//f8CAAQA+P8EAAcABAADAAYADQAAAAQABwAFAAQADAAJABUADQAAAAkAEAASAAgABgAHAAwADwAMAAwACQAEAA4ADAANABEAAAASABgABQAJABMAFQAMAA0ACwALABIADgAGAAkADQAAAAEAAAD7//f/+//y//L/6f/y/+7/5v/i/+P/4v/p/+X/1P/X/+L/4//d/9//2f/V/+b/5//a/9n/4P/g/+L/6v/l/+v/6f/y//n/+f/m/+v/+f8AAPT/8P/8/wMA/P8BABAACAALAAsADAAYAB0AFwALABIAHQAlAB0ADQAQABkAKwAmACUAGQAjADAAMQArAB4AHwAgACIAHwAaAA0ADgAPAAsABQALAAsAAAAAAA0AIAAYAA8AEgAaABgAFwAbABMABAAIAAAAAQAFAPT/9v/7/+H/2//w//H/3v/0/xQA5//D/8v/VAA1AIn/i/8VADIArv9b/67/EgAKAEb/b//z/wAAlv+E/8H/6v/U/8T/mf/k/xQAyP+2/xsAy/8SAIgAWv8wACEA0f/A/wUAXwBKAOL/yv8sAI0AJQCeAKQA1f+zAGMACv8L//MAiQRHAdf6/v7/AccAGv6O/SwAtQEvAeH/B/8oAHgAJgAg/8X+A//+/nP/pP+H/qr+xQA7ASgAFf+I//8AjgFbADX/zv+QABgB7f8//4r/tP/F/sH/CP9B/4r/7f+//v3+9//o/2//2f5f/4f/CwCX/wEAeP7m/EP/aQKT/tT8uAFeApX+KP7UAUgD7f/7/g3/OQEeAeT/lv6Z/sgApQHQAAMAuACaAT8AdwDSAOcAggAfAJ4AdwAQAKb/XP+UAPv/4P6EAJMAGQD9/hn/kP+c/3z/UQDW//r/GACD/2X/hP7N/oQAWf/Z/dH+Xf+8AEUArP+RAiAD4/6oAEYBg//s/hEAAABh/2j/NAHRAr4AMACLAd0AVQAUAG3/BP/n/xL/ff58/b3+SP+//mr+//7x/gwAlP9eAFr/4P6C/zYBr/9w/4H/iAB9/2//iAGNAGIA+v9oAaAAWAB7/CEATwJcAOn8+/5q/9//GABq/0/+9/9NARMAZwJw/mb+4wG2AlP/UP/sAJ4A5AI7AFD/OgJDAdcAVQD4AOMAOP+zAJICnAD9/pD/jgCFAJf/AAE0AAEAlADBAEH/QwKiAX79+P8XAsQAOABq/3T/RQA7AQH/dv8/AeoAdAGU/7P/DALDAoAASgBoAe0AVQIwA1YAzf5QAk0CcQBBADr/JQDbAJ4AWP7y/CUAxP90/xz+h/4HACYAJ/3y/0wB5f7F/W7/KAFO/1X/GwAqATwA//6H/+QCBgHr/hMAtf99AkACBv8x/N0AAwNIAc7//P1CAIADmP9D/Ur/BALxAUf/0f20AIsBfAAT/wMAZwIiASv/V//QABMBdAC1/pP/agFuAKP+Wv6u/63/QgJo/7L+OQDoAT3/+v0aAGoARAI1/tj9TgG3ATn+JAAUATwBqf8J/qkBhwE8AN/+RP8/Aa4B6f5u/i//CgH6ACoBuf36/R4BxgGK/YL8jP4KAYEDvfxY+20AqwFfADD/pvxb/ZAApQKI/9D94f6mAboBh/+z/gT/if9NAc//iv0C/koAKQDC/of+jP5P/3MAP/6c/k//NwCr/jL/9gAY/xj/eQBHAYP/G/6b/ysC5AFV/oH9igCyArIBQP/G/jcAcwOeAsP9CP+OAsMCjf7n/rj/5AHmAHD94v6iAFEAJgAj/qn9NwF+AFwAwfxz/zj/HQEkAJr+8fzx/ZgAMf/o/1QAAf9y/+L/Of/P/pUA5f/6/7r/5f3Y/qz+DQBN/8/8mv7U/uL8q/5g/Uj93v16/YL+5P1o/vz9Rv7I/mP/4f2+/YsAEQLU/5z9Q/4RA0AEqAEF/zwANAMDBPsCTgAPAa0D7wTqAg0BJALwA9kEggMeAkcCDgPDBOwDJAMkAdEBEgNvBMoDnQFjANUBTwN7ApMBeAA5Ae0BxQFGAaD/+f++ADcBy/+O/lv+of8qAIT//v2b/af+nP6N/Q/9xPxv/Pb8ef00+5L6yfoV+/L6JPsw+Tr59/hA+gv6c/lT94z3Evma+Xj5Bvhh+Cr54/jp+AX5WPn1+VP6SPuG+z76IPqg+mn9ef5F/eX8aP9qAXYCiACZAjkFWQdbBxwI4AmNDLEMRQ/BEHkSfhEZExwVexdXF7kW9BZ+GDsYlhhKF90WDRdNFsEUaxOOER0ROBDuDSkLDQjpBkoGPAT/AP39y/xR+2z5j/az9G/z0/H57rvs6Oq+6njpz+cR5sPkgeMW5JbkU+MG4aDfNeEs4DDgc96h3WbfceHJ3p7dCuAq6dnunupJ4wXnEvPn+/n5K/RQ+dMB7wekBzUKWxCEFfoVnxiNHJAhnCMzJXsnfSkdKDMpoCvoLYErXycvJ6gnJSiaJMcg+R4EHpQavReOFCsR2g9UDaUJVAZQBM4CaAI2/1j7wPiz+ZH4Jffj9Efzv/JG8nzxGvHb8A/vt+1C7Z7ssusG62vq0+gK6MfmgOaD5WzkdeH+3jvfBt1c3FTYFNi21kPXPtSs1RjehOU64UvXEtUp50r17PXI6HPps/jCAyYGPAP5C6gTlhZJFpIbJCUZKswooSvaLREvty4kMao2nDVDLo8qGyxoMPgszSfkJDQiWB6VGSEZdxgLFHUNQAmbB94FcwN+AokBl/yW9172n/iv+pX3XPSu8Vryk/O59Nf0CvQB8qLwufBo8cvxnvA174Pt0+t463nqF+o555vjB+H73e3cBtvi1+zUdNMx0JfPB86y2LPkW90x0qrKyd4t9gn26+jV4+b01wPqBuAF1g1CGeIZvRfdHs4r2THEL3cvVDSANlo0YDZvPHo84jI5LMEucjItMNkneyOtIeocXhZ7FAYVKBEmCbYCNwEvAd/+n/xJ+wP5AfPq8Dj0b/dY9ufxy++P8dbzCPWb9cv1tvQf8yfzN/Uf9tL0MfI78KXwv++K7U3qlej35ITiNN583O/aR9Uq1OXOS87bzrvNEOIg3tTWVscUzWXrD/vm7vTfDOSz/FAJsQeCC0sTgRr4FnUaPCrkNY8zVi4rMUM4HzkvN+k6G0DvN5otHiqgMukzoCsAI+4fXhw6FnUSfhSOE+wHO/5u/D//w/5r+uD3mPVu8DftqvCP9w33JfD861zvTPQs94n24vYq9nb0rvPZ9+n6G/rF9FLxWfIa9G3ylu7Q6ePmXeK53+je1tzp12rTgs2RywrMcc1i4tje79OAv67HL+n1+sjuG9wn4b73FwRYBtkLvRXQGAcSMBcGKg031jQgLqwy3Dc0NxM2mzxuQjg57Sx2KhEynjMgK7AkMyGvHOUVHREpFIcSGgkj/2z7APyJ/bX4i/mp83Pw0+xH8Kz2hfVo8IXtd/BA9Ez2B/YS+RH3IvcQ9WT4K/yK+3/4TfTO87f1gvTO8Yvss+kr5kzikeD03jHYyNb9z1POQM+AzX3i694W1LHAKceK6R/5n+3p2GncHfYQBKcG+wj7DQESjg/IF78r8DICLncoCjBoOmA3cDRbOSU/MDg1LZwr0jN+MzEr3CPQIuse1hYuE3MVlRNiClX+Pv1v/6D+xfqD9h71AfCj7arwEvYf9Wbv2euh71r1dvY+9qL1aPYg9kv3QPk/+5b66/d/9VH2GfdY9kvyMO6E6uroHebp5GzgKtsb2GfUm9Ex0X7SsuSD4c7VPcO6yfrnRPgg8Yfentuv7A7+Awm4DsYN4Ag7B0kVhSqzMtUq2yLRKq40GDZqNNI1/jkgNEsuBS1VMcEvyCgeJQQlqB/mFtARTxMUFcgN1gL8/Y39Zv5p/IT6wPeE8Zju9+7E9D/2tvGk7cnt/PHB9Dr2WPVx9Ur0rfSd9pf5ffnL91L1b/V/9sz1zfPq8MbufesN6Xfml+Vd4TPf2Njf1BPU7tUd5f3ph9+B0IjGCdy18Vv6M+8r4Q/igu+jABQORBExDPADEgcHGBApTy1zJlciByc7Kx0v/jHfM8oxOyzQKCcruSt3KEglcyOaIfcbUxWBEjIT0xESDfMHFgSuAM39T/05/rL9Z/g98+HyNfV79jX12PLY8nby//FR8/j0FvZT9NvxW/J39JP1WfTH8lTyd/KN8ZDwO+8a7S/q0+f552Hm2OTJ37DbmNqS21jjIOs66UnggNYp2YToEvXZ9xXxResp7IHz2f82DL4Q3wuCBXQHmhNLH3QjkiJKIOwfRyGEJNEoPSocKOUkvSP3I0QidB+SHpgeLh19GXYUmhH7Do4N/gzVDB4KtwQs/xv+OQBZAe7/Ivzf+AL3p/Ul9v73vfgm9wz0T/Ls8gv07vQI9S31s/Na8mnxiPJh9ND0U/ML8p3wQPB58BLvAO8f7WbrFOsN6p3qf+ra6Sftqe/s74rtCuuF7Pvww/Qf9132FPd795L4Ef1IAm8G4QYkBYoGEgpTDtYQ+RGkEs8SlhKDE4AVXxZ8FZsTFRPqE+oTYRKrEL4PHg+1DjoO+g1TDLoJ3QdiCBEKbQrUCHoGgAUQBXoFugXsBeQEagOOAZIB3wGmAcsA0P9b/xj/vf7O/Vv9WvwK/Lz7Efzi+xD75fnN+Jz4cPhH+Gf3u/XG9Hjzz/JO8qTxmPCE78ru7+2K7RPuEu/S7yvv5u0m7fPtzO908cXy1/Ol9ED1jPan+GD7av2n/pb/awGhA1wFkga0BwMJAwqdCl0LPgzSDLAMTwyUDHYNuQ11DQMN6QwKDcgMjQy1DJMMOAytC6ALFgxIDA0MqAtbCyMLoQouChYK6AlfCaAI5QdQB58G4AU4BZIEswPkAhECawHGANb/9P5X/pb91vwh/G/7wfoL+iD5cvjT9xb3PPZ/9dP0J/SM8+vyavLV8SjxlvDt753vhe/w75Dw4PDu8NHwCvGg8UzySfMv9DP1Ivb89l347Plm+4z8h/0E/4sAxgHFAtAD2wSwBUkG5Qa8B3AIxAghCaAJMQp4CpoK9wqFC+gL/gv3Cy0MSwxPDDYMOgxXDD8M9gvWC8ULows1C7IKUwoMCo8J8QhLCKkHBwdTBqgFAwViBJ0DzgIfAoMB4gAvAIv/4f5D/qD9Af1y/ND7K/uV+v75evnu+Fb4yfdB98P2Q/bG9V/1AfWX9Df0wPNc8/Hyr/Kv8uPyDfML8//yHvN58wT0qvR49TT29var97v46PkQ+wD82/zd/ef+2v+3AIkBUALrAnoDIgTZBFQFogXvBXcGBQd3B9wHUAjICBYJZwnSCUIKjAqPCqcK1Ar5CvwK4grWCrcKewoiCssJfgkWCZwIGwinBysHlQb8BWsF4wRTBL4DKgOaAg8CdwHyAHIA6v9f/83+Sf7A/TH9ofwP/IH77vpj+t/5WvnW+FD41/ds9xH3tPZh9gr2svV09Vb1WfVd9VX1T/Vb9Yj1zPUn9pf2D/eJ9xH4vfh/+UL68/qp+2j8LP3r/ZT+Nv/O/1gA2ABVAdABNwKOAuQCRQOwAw8EZwS9BBcFcgXLBScGewbCBvoGNAdtB6IHyAfjB/sHDwgUCAYI9QflB88HrAd/B0oHBAeyBlkGAgaoBUIF0wRdBOcDagPvAnEC9gF1AfMAcgD9/4L/Bv+N/hz+rv1A/dL8bfwR/Lz7Zfsc++H6pPpz+kP6JPoY+gj6CfoO+h36MfpF+mr6lvrC+uX6Dvs9+2z7nfvM+wT8N/xs/KD8zvwF/Tb9av2a/dD9A/42/m3+pP7a/hf/Wf+Z/9r/HwBqALIA9wBGAZUB5gExAoMCzQIUA1sDlgPXAw8EQARpBIcEogS0BL4EvgS5BKoEkgR7BF4EOQQMBN0DpQNtAzQD9wK5AnkCOwL+Ab0BdgE1AfcAtAB3AD4ABgDP/5X/X/8w/wP/0f6r/oH+Xf44/hb++f3b/cX9pv2Q/Xr9Z/1a/Ur9Of0u/ST9F/0T/Q39Ev0S/Q39D/0Z/SX9L/0//VP9cP2O/a791/0C/i7+XP6R/sb+/v45/2//p//i/xIARgB5AKkA3gADASwBUQF0AZABogG2AcMB1AHhAd4B3wHkAd8B1QHRAcQBuwGvAZ4BiQF8AWgBTwEzASQBEQH7AOoA1QDLALQAoACVAIkAfABqAGQAXQBaAFAAQwBBAD0AMwAsACYAIwAaABAAAQD7//f/7//p/+D/1f/P/8T/wP+8/7H/q/+k/6X/l/+P/5H/if+L/4X/gf+A/4L/hf+B/4v/kf+W/57/ov+q/7j/vP/H/9T/3//s//P/8//7/wgACwARABwAIAArAC4ALwA1ADsAOQBBADoAOwA9ADgAQAA4ADgANQAtAC8AJgAhAB0AHAAYAA8ADgAIAAUABwD8//3/+f/6//f/8P/t/+r/8//0/+7/8v/v//b/+P/0//X/8f/2//P/9P/u//X/9P/p//j/8v/w//X/9//x//X/9//x//T/9P/7//b/9v/7///////9/wUAAAAAAAsABAAFAAkADgACAA0ABgAHAAYABQD//wIA///8//f/+P/y/+v/6//k/+b/4P/e/9n/2f/S/9D/1f/M/83/zv/L/8v/yf/G/83/xf/H/8j/yf/L/8n/zf/O/9H/0//Y/9b/2P/e/9j/0//S/9j/2//Y/9z/2f/X/+H/3//Y/+L/5f/b/+H/4P/b/+D/2f/d/+L/2v/e/93/3v/g/9n/2v/e/+D/2v/d/9z/2P/g/+L/2f/k/+T/5f/s/+n/7f/v//f/9//9//z/AAAGAAgACQAFAA0ADgAMABMABwAUABMADgAUAA4ADgAPAA4ADgAHAAoABwAHAAcA//8AAP7/BAD4//z/+f/5//L/9//9//v/+//5/wcAAwAOAAUAAAAXAAwACAARAAsACwAMABIAEAAPAAcAEAAOAAwABgALAAIA/v8AAAAA/f8EAPT/AQAJAPX/+P/0//b/7f/t/+z/5P/o/+H/5P/r/+j/5P/q/+z/7//z/+j/+f/8//T/CAAAAAAADwAAAAcACgD//wwABQAAAAUA/P8OABkAFQABAAwAGAAyAD4ARwCf/28AlgDh/3wASQDc/zQAbwBTAMj/LABMADoAKwArABMAMAAhAP7/GQDi//f/HADq//H/BAD6/yoA9P8GACQAIADa/wEASABGAEUATQCDAKYAhACoAKwAmgB+AGgAPwAlABUA5v/m/wQA+v+5/8X/uv+Z/9AB0P0XA6sE1gE5AXMAmQDWAO/+xf9PACP/x/9c/z0AFwDu/sf/Vf9c/2X/YP6G/ob+zf8M/9n+NACO/0f/4v32/usAhP7u/3YATgB2AKL/HgBdAEAAyv/8/3f/pP6i/yT+7P5zAB0Ap//PA68ADf4Z/3n/TAA2//7+mf41/tz/mf53/+v/L/+HABP+mP4O/rj+KQC6/zP/Gf8d/+v/jP7Z/7T/x/9gA93+MgI1Ajj9SP4YAKr/Ov+Y/3r94PsQ/17+WACO/xj+HwAHAEf8NwBz/tn/nwDc/fb/TAKM/kv9aAIXAbL+OgHg/VgBNv/9AOH8/wGk/uz+JQJz/Vj/l/7H/tcDGgBh/h0BxgDZAXL8vARL/rABCQKk/N4CggFc/R4DbgCR+7oFWv9o/UQAHACkAG8AZQJd/qwAbQLOAMcBff+/AFsDrgB1Avn9J//BBAz/JAEcA+ACtv9tALgEdfyeAkoCjAKb/mYEvQDT/5IATwFo/4UGaQFk/hj9WP81BKEErPu3A076Qwhl/bj9aQMp+pAFBP0iBN0B7PxIAI7/iAQd/yEEDwDk/FcCugK9/LMFTwAv/1AEmgHE/SYB9gFVAT4Ddf00AbwBRv8y/KcEyf/g/SMDKf10/kkD2f7GAHYAC//r/VIClP0cAGkA+f5U/1MBwPwYAWwBK/2XAbP//gIL/QT/MwCzAq4BE//R/oT+hAAUA4379wAGBUf8if12AM/+mv54AhX9CAK//kn+dwEt/FIAlQPD/xsAev5+/YsAhgE+/m8BRgNM+z8C+P9l/AIC8f9/BQ/8gwCr/hr/GQWB/ab9cwNwA5L8VQP1/GEALf8NAkoHYf70Adz8zgEl/VgG0gQz+hYG4fnMALAC1/yLBbX+cQiI/N32uQXbAyb9+AIkB1T6vv1pAJAA2gH9AmcB+wGhAIH9Xfvx/nIIuQQZBaj4Rfwc/ycHqAVM/2j8IwWd/qcGlfiLAMoBnAIJA177aAEF/iz+TgFG/doJ3/voAIz80v2bBej3DAev/Xb+OwRYA6v0OPw7B3v/RQZD/cz6PPqdAksBrwF3/k4Dt/iJ9wwCag6H+57zEgN+BRr/5P8V+vP4DQVaCtL4uwLy+zb48QECBa0Cpvng/hj+tf8PA5r3yASU+ZcAuwxH9GsA7/eo/dAIzAIg+7P9LPphAAz/GQlI9fH7CAic/NkCePuR+VAEBf6mBiv/WPxN9tUFyAPl+TIIm/oV/hj6egqDAiX0AgT+/x4JhPbc/a0Duv9Y/WUI4PuE+t74LAjQCknxcgFeBFYFtfPS+2EMX/8n/cUG5PWU9lwO+AT2+Jj8tv8cAIQHyQL99TL/KQJvBB39xAAf/SD+6gS5/GEAQQDtAvT7gfmyBPwLV/Ye8WgQTAXq+KP0zQFGB7IFoPpP+uUHiABb+tX14gx2Bd0AG/e0+tMF+wTv/BsAz/6vC4b6kfEZBv0OOvco/B0CUgV1ATj7qfxvBJwBqAOUAYb2qQYq+dMAkQEECzP9jO7vCf3+Mf0zB1n/GPgGBq75TAeq/3z76QH1+zwJUAOc/2j0KvjfEccCr/yABDvw3QRBCrACkPFECJn6AQj1AJT5m/qjBRsLkPFx/4EFvgQf+LP9DAkVAtn+Qv/A700Tvwcw9Xb84P1WCKv/AgB79wEAAA7P+3L8gvmpA6oH4P2++cr+bAxD9EX+JQPNCUYDe/FP/FINGAZW9BsFRPpWCFACZ/048y0JCAJ0BVwFP/cm+TgD8gYhAvsDGfZ1AIkJmf59+cj+ywpC+IkA6Aot/rX7t/gaAQsFWAQZBbz0SP2nAUgF5wJy+2D8IAP0BBcCPvX8/5MDSf4CAR4JZ/RnAxn2sQWFAAQE2gC+/J//KfuZBjwA8wBF/B/6pwNTCtj6/vvCAwv8oAC5AewAIwKyAh/3WP+fBUH4/Qyy+PIAjwFm/LECAv6B/uwDVAJUAmX2GQZ8+DD7Rwy8DM3yKfwA+GMH8AQGCDX0OwCsCSP+6f4Q+N4Acgew+PEC+hFq9lPseQDTDWQFhv3y9GYCwQsk+2f2NARHBRYBBgDc/5/5+ADZA9/8WwwHB7X3kforB13/9fQpDbwA9wW196f84gDh/LUBJAPyBZUAUPjy9tUAnQYZB9P4CPo/CQ3+5P61+Ij6OAuKA+X/dPtl/WcBgv/UAHMCbgjO9cv4wALUAfgACv+Q/E8LtvkP/kT/6QY/+m39Ggpi+r79dvzo/L4DugU0/9X9tP1PADkAKQNd/Q/5cwKLCZ77y/0u+WQF9gRD+nP8ofxYC78IPfDI+TwE0RBY8un/V/97/ywKCuuVEGIAsgAy9G0Avwxe+poHj/MfBg0CePxa+tQDjwTvA+P4G/aYBXIBx/2S9WQFPQia+8nuhfvxGYL3i/pYAfP7nxJ5+r3xU/5BDVkDOPfN+rwDfgZY/0Xw4gBpEMYF6ew18RARaguC85X3yf0OCYP+5/xs96cEYf+y/tz+TQWJAPb4hgIm/tX/VQnS+VT5ZwlZ+vz7hQFA/jQGPvah/mYCxwcL+FDxkAdVETn7TvsM7vQE8RF89dT0wAbeBWgHNO6o/FsNXQJ9+rkAfAJ0+18M6PSO+ywI5wX9A5/v6AaG/J8ARQQS+5MESQDy/Nj+Zf6gAWz8HAEtBhcJRPb+//sFa/mb/KQWnwCn8e/+6v6mCPwCkfLJBI8AtAWL8ugCtgiPAjb6wPe3CqsHnPNH+jMEwAgd/dr7FP7J/rgFiQYX+p33Mgh/BP8BA/gNAgQGhwmR9kD34wz5ChH3kPXvA/wGkgrq+zjuQgOACW8GxPS7AGwT9f6v8aP7BAcMDdf64vRPAAoDmgt19XP8wAN6Dkr7ifj/ADv8rgs7/MP3+w9f/5P58/d4BjgPXPjF/ZcCQgv0+gP+nQI1ACEDHfzDCz38ufif/XYD2AUh/yf+V/jHA8z9WAqC/ez0xQSjEaPyfvLgCh0GOgDm/U3/9QNI/FjyDg2PDH8CdO2Q/QkRkvuM8tv/EAskB2H+1flV/yALM/gA+LgE9w6G9+vzhgLzBA8KZ/d1+Vz9Qw3RBeP+y+70ADsQ5P497c0C8AMUAY0Dqf3H/DP9QwLoBbgBvALEAFH1ugJ6CY7+lfpX96kJYPsA+xwCbQY4/K31dAWY/o4EX/8K+6n9agxaAX7v+fteCsME6fw9Blb56QDW+g0FnwgA/aH+NPTC/FELIA1T+F3yuPymB6n+YAA1AEr2zAYCBE3/Jv6y9VYD1P+5AxANCvyu9vT75Qgu/9H2HgE+AesCTP7f+DUIhP6a+0n/dP9yCC0A4fhn+ecKlwOS+0L+PP9tAz74Ffu1AhMILwHg8X0C+gqsACPz7/nQDFgIWPUE9tv8lRFAAl3xJPYaBjUCdvnW/CYGQQU4/JT5I/10CnMCgvucAD4D8Qcm9xX5/QNKBhMF9wD0/Jj/+Pk5/1AG9f/9+V//n/zM//MAz//PBCD+HP4N/ngDbwEU/SD7ofViBLoGHv4J/Lz4r/e7/0QDOgjl/vX3FwbuARr/+/rS/MgAKgJKCf0FWfrj9Uz7QQl1CYMB9Pwn/qX9jQJMBA/5cPe/AcUIJQbd/fz33vmG/hUDaAYuBKb+PwGmAuz5d//jBAYE3gFGAMkAlAJL/Z75DfvVBgoGrwH6/h771PbB+3wEWQC1A18EF/mS+7EAPgP4/Hr/ZQcDCNUB3v/q/D/+YwCgA40K1v47/aP9GPwZ/3f/jv/MBV///Pw1AJ8AL/xv+hMDZQWUAJABjAJS/bf+C/o9AzAK0wTh/031oAGgBhb83/3l/SEByQOoA+oBlvpY/jEB4gDwA5f/sv74AwsAcPxP/YcCjv/XAJwCZgRbAGX5J/1R/pUCfwMC/1f/eP9G/sf+bwGNAPUAqAPFALwAWf8F/rv+MAL2BfwDJALnAAz+Q/0t/VkA7wHfCFMEcfwK+5L8//0W/ZL+cgHOBKcCK/yq/yQAoP0s/YQGzgiJASD7/ftk/20BegEt/e//VAVsALf6ufp7/3IBowMAAir/+fwy/h4AoAF3AAIAiv+bACoATv1v+5v7ev/m/nsAywF7/6T8Y/wN/9kAEgItAPr/sQTgBssBnv8oANwAZwCu/e79bgJSA6n+7fso/lj/Bv7X/uf7cP2oASgAX/5A/nsALQAdASoEAQIG/33/vQHIA9QDfv78/eL+Yv/RAKEACf8p/mz7uPtD/Xj+j/7D/kIAfgAi/0b/hf3E/P//uAAC/7P/F/93/ZX9hf2E/eD/qAFhAjwCAgHQAeMAlv5K/x3/iv2P/Ev9sf4t/+7+iv4r/7AA6wK1AyQDsQHQ/yoAdAIjAzoCJQL0ATgBywAUAav/hAALAa4AxwFUA4gA4Pxu/vsBwgJMAS8A3AFQAV///f7aALkB/QBJApoDvwI4/nr8af/0AfACOgEUAT7/S/6r/lj/wP+f/kT+8v56/7X9fvt0/BD+Gv7V/Az9KP25/cb8Q/wB/qj+Hf9Y/y//q/0Z/LH8qv2K/qT/Gf/k/TT9x/z5/Mz9Jf8zABUCDwIAAMz+Yv9wAXkCMAM6A5kDMAPpAsQB9wBfAGMBbQOuA2wDmQJ8A2sClgGBAZ8CCwX7BGoGHAaQBV4FIAZ9CA4JEgpfCTEKIgo0CYoJOgjkCCcIygikCG8HjQZXBY4FKwSuBIAE+wNPAgIAAf8l/dv7EPo7+K/24vS/817yF/HS73LvhO+A7oDtIexd687qUOl35zDm5eYd6BDpkuhJ59TnJuqp7c7ud+537/rx8PPT8xD3Jfs8AC0DWgehC+kOOxKVFLAXKBg8GrccOx64HYkbdhv6GmochR19Ho8dXho3GZ8YnRkGGZoZ6RslHKAbyxiRF5IU2hH4D/8PWhGjEPwOcwtOCVAHRAYKBWgDYwF//tH8cPv2+MTzp+5X61LpnufI5FPiD+Ba3pfbNtkZ187VK9XX0pLQhc5IzqnO/8/Mzx/O8sz2zVDRXNWl4oP18AWtCLUEIAceD1YY8BrgHw0jiyOyIbAdYx03GCsWRxZZGSkczRjtFjsSXxC3DkUPBBJZEowTmxBvD4wNfg9cFcYZQRwuGc8XLReCFzoYMhecFtgTGhPOES0PaQqXBc0DAwNuA8sCcwEH/pj4N/OE7jjr+ugr6DjoZuW+4OPbtNiH1+bU7tP00qfS6s9Fy6vJhsYaxfTAcsDJwtbEa80u3PT3vQi1C3QE2AUVFM8cliN3I/kn6Sf0JHAkFB/EGRoSWRIyFwUaYRoUEykNXwcdB/AJdg3kEVgS/hKPEa4ScBQRFuMYhBntG/Qceh5aHU0aiBiLFmYXABjfGcUYMxWZEDILLgixBSUGkgZWBkIDL/wx9D3uLu0K7jXuaeyG6WflgeCE3GHaHdnx1VPSD9D0zWHKYcKevGe5272oxL7Iw8mdzrPoWAZfGCQSVAxqFXIhTirEKGcsdyvsJv0ieCD/HjEVdw22C9UO0RGDD9AL9QXcAowD6wfsDBsQzxJkFOAW3hgdGpwYIRbdFTUZWB4eH/Ia8xN8EI0PWBG1Eg8TIRGtD+QPbg8MDIUHxwVpBd4E1QCx+wf2YfIO8XnvHO6S65TpEec75JbhM90H2TDUUNErzjLK7cXDwRe/87uLuwu+kcSAzDbdwfhWFMUfwBgKFMQZ0CPEJ3cn/SkGKUIj8Br8FIwQpAd9AnIClwgbCycILQREADMAxQFUCJwO3xJOFZsWhRigGIYZJhmuF10WMBfcGCgYxROiDlsKagoKDpkTphQXEbMLGAmbCVsLUQ3cDMgJlgRN/yD6uPRX8Fvuau7Z7gzurest51vhzNuw2JrWFNOEzIHGeMLbv8q6n7UPtVm6JcJuyaHblfsSGyokixkTFV4eoCjDKAknICvwKoghFhWqDjML9QOG/R3+IARICBgG8wDi+l/4ePz/Ba4P3BWxGXIb3BpfGrgafBsDGvYY6BfNFk4U5BD1DBMIRQbICAgPZRObErMO2gqyCewKng0bEKYOBQpzA779TvgB9ELxLPCu7wjvX+1l6lfmueDs2n7Wh9RD0Y3KBcT2v1K+L7p/t2G6XMENymbWFPMcFRQonCE1FswbGyhtLWUpeSnzK24mjxrPDiUJ+wOn/TH78f1EBHUFwwBr+XL0//fLAdkNYRUnGUociB2vHagc2hyDG7UYBxejFsIWlxQAEQULXAXgBCcK/xApElcPrQsLC1kM3Q1lDp8MOApBB3wEHACT+tb0UPB67mLuv+7f7HDopuJ73K7XPNNWz/PJx8T9wVzAS752ukG69r0DxmDYQferGHolVR4aF2AdNCj1KX8qfi3fLv0lMRlWEPsIKQD6+VP7WwGUBKcDMv5y9lPxb/UxAscO0xaUG9Qe5x3vGTsYBBrHG6IafRktGBYXThTzD50JQgRVBTYMHxJfEqIOwQtPCRQIfgmADEMOawz2CNcDG/0c92PzY/IR8XPw9u/W7aroFeH32lfWJ9S10TPO0siVw2+/bbzzuve7eb93xvvWkfV0FbYi+xl8EPwWHyWRLcMumC+eLpcm7hurEk0MBwaCAVAB4AHAA6kCNv6r9LftYfKf/xgNvBPjFuUX4BVkFHoWgBtCHisdIRywGSsYtxUMExINqAauB5AOGRVQE9kN5gc2BHEEDQi2DDUMhAjVA5b/YvvK9lL02fES8Q/xIPG27uboKeJK2+3We9V71BzRq8pWxZ/A6rx6u4G8g77nw1DYbPoWFWoX6wudC4YYsyW9K/ovrDIWLrUlQB4DGakRiwvKCbIIQAZGBFcDmf3K8qbtY/N4/7YI8Q1CEKwO3AyKDv8UdRpnHCId/hx/GyQanBlVGQMUuBDPEMEVRhaYE9IOwAkVBVcDLQZdCPQGgAK9/TH5XPWM89Xy6fET8czwRvBQ7QnpmuPk3VnZVdc01jjSqsujxQLBtr5yvUW+KL8lxdDYp/asD4sTgw3SCpYT+R6XKp0zZDWKLjYm7SGRHmIXzhFTD0oOtAqACGUGcwC99oHxsPRJ/J8DhgnsCwoJ4QThBvENzBTxF9kaQxyAG1QaaRvQG2UYwBVfFy4aDhkPFaAQEQtQBVkDjwXMBl0EMwC2+0/2d/Hm73rw0/DV8AjxFfAD7Dbn/OID37Dbx9ny2DjUR82XxpLD1cEHwZW/gb8uxUTZWPTjCMUKiQXsA1wMXBlRKMkxEzPuLJkpYif+JBse/hmcF6EV4xHTDfAIyQBl+K/0MPay+hf/4wPVBHYBMf5KAOIHOw6RE7YWYhhZGI0ZXh28HvEcZxtiHOAdYxtFGJ8TeQ7XCNkFuwU8BDABDf0J+bfzge6B7LLthe/27+nu1Ox26SrmK+SH4jrgtdyM2RLWrtE2zRDJ28YUxErCN8FAx5fWAu3O/7sGZwPi/1cDoBB9IF8uDTK+L/Yq0iibJ1gkuCALHVgbWxneFf4PbwYH/j34U/iA+nn97v+SAMD/Zvxj+0b9DwOyCVYPYxPdFJQWaRhyG74cKR2oHUwfjyA/HzUbKhUdD64KgghfBzAFzgCP+/H1P/HB7Ifqaeoz7Dvtduzl6WzmXuNa4aLgK+Dc3iPcXtjw03LPeMtyyWPIpMcUyErPtN5n8dj9UwGE/0P/QgQdEIQeDiqrLcMs8ioYKt4nlSRMIiEi9SFLIDQblxPfCSsCK/6Z/R/+ev4m/4T+/PsN+P31SfeM+3MBawcWDIsOKBCNErAVRRhmGi0d4SB+I7Yj/SBRHGoWUxH3DS8MzAmgBcv/O/nX8l/tE+pB6STqmuq66TrnHeQN4d3eC97H3Z3dM9zy2bTWm9P90BvP2M3FzFvNbtJz3XjsFPnt/3cANP9QAE0GeRFQHe8mTStpLFsq6CbvIs4gmSGrI4MkDyJXHEIUtQt1BR4CEQF9ABAA1f8j/gb77/bc9Bb1tvc8/JMBwAZPCosMSQ7YDwIS9RS4GeIerCKBI4MhvR3MGEoUsBCODjUMDQlnBIj+x/c38Yzsk+pP6jLqrujs5UnivN4n3LrattrL2sna09nn1+vUDNI50OXPrtAC1H3avuQA77P2V/pL+zX8Cv8WBroPxRk8IYQl7SbBJUQjOCGRIS0kEyccKKwl3x8xGOgQ0AvBCAwHGAYaBVEDoP/j+o72FfTR8231V/h8+x7+jwDOAskEQgY1CMULKhEGF9sbhx7jHu4c+hkWF+gUPxOhEYUPDQzsBqYAyPqa9in0bfJn8H/tBuoo5mziH9+I3NXa+Nlm2aDY+tbd1MLSm9EC0V7R+dLi1ofdseWD7RfzDfZd9wP5HP30A+cMpRWeHMMgECKqIbYg9SC5IqAl8yccKKsltCD3GukVlBI4EAEOmQvYCMMFEwJf/h/78vjF92v3qfdh+OH5U/wm/6QB/AIfBPYFxwnPDswTVBfqGPcYGRjbFhkVIRMsEX4P+Q2aCwAIGQNH/j36Rfdm9LTwr+zb6Enmn+TB4uXfF9yk2OXVi9Rk043S6NGL0RbSjtMd14zcwuNC61TxZPVY90b5jfyCAjUKeRKOGRweZyBpICwgWiDuITwkEia0JiUl8iGfHf4Y8hRPEVsOkwvxCEYGmwNnAWf/5P1K/KH6Lvlh+P343PrK/c4AcQOJBREHbwgECjwM9w7+EZkU3hV6FZkT3xAEDnwLagmVB+kFNAQKAjf/mft391nzve/g7NTqHel556jlk+MX4aLepNxm2xPbQdtL2+faWNqJ2qHcPeG45/ruc/XU+eP7JPwm/Gj9TwGvB4QP6hbkG+YdAx3DGqkYdxfJF9AY/xl2GpMZPxe8EwsQhQzrCQMIbgZDBToEngNSA0sDAgNaAoUBfwATADUAUwGAA0QGMglrC5cMuQwtDJ0LDQvYCoAK2AnLCG8H4wVeBPkCowFSAL3+2fyE+vX3qPW280Ty/fCZ7yDuueyM67nqX+oc6uHpoOnk6LLnA+Y65E3jUeRI59rr5fBZ9Y74EPo6+rP5fvmh+nX96wEMB38Lnw4wEKMQyhDuEDERjxGsES4R8A/vDZ0LvQnVCA4J2QmXCnMKdAnsB1cGLAWfBMcErwXfBgcIkghiCJYHxgZoBpoGRwcuCAMJmwm7CVAJMgixBvIEbwMxAnIBLQFsAQUCoQL2ApgCiwEXAKH+iP35/Nv86/zp/In8pPs6+o/4//bk9Vv1OPUg9bb0uPNO8sbwd++47pTu1u5l79nv++/K71nvEe8v7/vvX/Eu8xj18fap+EX63vt1/Q7/owApApUDtwSGBRYGjQYPB64HYggdCdgJgQoVC3YLkQtfC/QKfwoQCsIJlwmQCcQJLArGCmkL+QtQDG0MaAxDDP0LlAsCC14KtwkQCWIIoAfXBg4GVAWjBNYD2AKkAUsA6f6V/Vz8Svtb+pf55fg6+Hr3qfbQ9f70O/R+87vy8PEl8Wzw1O9r7zfvOe9p77Pv/+9C8H3w1fBQ8ffx0fK/88j0APZU9874U/rU+1f91P5DAJ8BzgLLA6cEcgUyBuwGlQcxCNMIdAkTCpsKAQtPC4sLvQvjC/kLAAz/CwoMIAxADGUMgAyhDMcM7Qz4DNEMgQwRDJELCQt7CuEJOwmNCNYHGgdPBnYFlQSwA8IC1AHdAN3/4f7u/Qb9Lvxj+6T67vlH+af4Dfh89+z2Yvbd9Vz13PRj9PLzjPM58/Tyz/LJ8tryAvMy82zzsvP/81b0ufQd9Zn1I/bP9pz3gvh7+Yf6oPvJ/O39C/8WAA0B9QHKApYDWAQTBc4FjwZZByMI5gilCVYK+AqFC+4LOQxlDHAMawxUDDIMFQz3C9wLwAueC3ILMwvgCnkK+gloCb8IBwhEB3kGrAXlBCQEbgPCAhsCeQHgAEcAr/8a/4b+8P1c/cr8O/y2+zv7xPpY+vb5mfk++eT4jPgz+Nf3evcf98j2dPYm9uH1qPV59Vj1SfVI9VD1ZfWG9bT18/U89pT29vZs9/X3kvhA+QL61Pq0+5z8jP16/mn/UAA1AQ0C3wKkA14EEQW0BVEG4gZjB9kHQQiZCOAIFQk9CVIJWQlUCUIJJAkCCdsIpwhpCCMI2weGByoHzAZnBvsFjQUYBaMEKwSsAzADtAI5Ar8BSgHZAGsAAACb/zn/2v58/iL+y/12/Sf91vyM/D/89vu0+3P7L/vy+rn6f/pK+hj65vm5+Y35Yvk1+Qv56PjK+LX4nPiQ+JL4m/ix+NL4+/gr+WP5qPn5+Vj6v/o2+7z7S/zk/IT9Jv7I/mj/AACTACEBowEiApwCCwN4A+ADOgSSBOMEKgVtBaMFzwX3BRQGKgY6BjwGNQYoBhQG/gXbBbUFjQVlBTgFAgXJBIwESAQBBLUDagMXA8YCbwIYAsABagEZAcQAdAAkANf/jP9B//r+uP50/jP++P3C/Yz9Wv0r/fn8zvyk/H78XvxA/Cb8EPwC/PT77fvu++/77fvn++r79vv8+wn8JPw9/Fn8gfyp/NX8Cf07/XT9rf3o/Sr+Z/6t/u/+NP96/7n/+f85AHkAtQDyACoBZgGhAdgBDAJAAm4CnQLJAu4CEgMwA0sDXgNvA3gDewN5A3MDZgNWA0MDJwMKA+4C0QKyAocCXAIwAv4ByAGUAV0BIwHpALEAfABHABIA3/+x/3//Uv8m//n+0v6x/pL+d/5k/k7+QP40/iX+H/4a/hX+F/4f/if+Lf4w/jv+T/5e/nH+h/6b/rP+y/7h/vr+E/8n/zv/T/9h/3H/f/+R/5//r//C/8//4f/y/wAAEwAiADcARwBaAG0AfgCSAKQAswDEANcA4wDxAAIBDAEYASEBKgEuATMBOgE3ATgBNAEsAScBFwEKAf0A9QDqANsAzAC6AKgAmQCCAG4AXwBHADoAKgAWAAkAAADv/+T/3f/S/83/yP/C/7n/uf+4/7T/tP+5/7f/vf/B/8P/y//P/9P/2P/f/+X/5v/r/+v/8f/0//L/+P/2//j/+P/6/////P8AAAIABAAJAA4AFgAdACYANAA7AEcAVABfAGsAdAB+AIgAlACdAKQArgC2ALsAvQDEAMYAxwDIAMQAwwDAALkAtACsAKEAmQCPAIAAdwBoAFgATABCADEAKgAdABEACgAAAPT/8P/k/9z/1//M/8r/w/+9/7n/sf+v/6r/pf+h/53/nP+a/5z/mv+a/5z/nP+b/57/nf+f/5//oP+g/6P/pP+l/6f/qv+t/7H/sv+4/7n/vf/B/8X/y//O/9L/1//d/+D/4//q/+3/8v/2//n/AAAFAAoADwARABcAGwAbACAAIAAhACAAHwAdABsAGQAXABMAEQAOAAkABgACAAAA+P/y//L/6f/l/+L/2f/U/8//yf/E/73/t/+0/67/qP+l/6P/nv+c/5v/mP+Z/5f/l/+X/5X/mP+b/5v/m/+c/6D/oP+l/6X/qv+t/7L/tf+5/77/v//D/8P/yP/K/8v/zf/K/8z/yf/F/8r/xv/G/8X/xP/H/8T/xv/H/8b/yv/K/8v/z//Q/9P/1f/Z/9v/3f/g/+H/4//l/+X/6P/n/+j/6//n/+f/6v/l/+b/5f/k/+H/3v/e/9f/2f/V/9H/z//P/8r/yv/I/8j/xf/G/8P/wf/C/8D/v/+9/7v/vv+9/77/wv/C/8T/x//G/8r/y//L/9D/0P/P/9P/1P/V/9T/1//a/9v/3//f/+D/5f/r/+v/7//z//b/+v/9/wAAAwAGAAkADgARABAAFgAXABYAGwAeAB0AIwAlACcAKwAuACsALwAuADAAMQArADEALgAxADIALQAvAC0ALAArACQAJgAoACUAIgAkACYAIAAiAB4AGQAaABgAGgAaABkAEwATABQAEAAJAAYAAgAAAP3/+//3//b/8v/w/+3/5//o/+L/3//e/97/3f/c/9v/2f/a/9j/2v/Z/9n/2//f/+X/5f/n/+X/7//x/+//8P/1//n//v8AAAAACAAMAAoADgALABUAFwAVACIAHgAtACoALwA7ADgARwA+AEAAUABFAE4AUABNAFAAWQBXAFUAZABlAGUAZQBtAGoAawBtAGIAaABqAGYAZABbAF4AZQBeAFYAUwBQAFYAUQBIAEQARwA5ADcAPQAqACcAJwAnACIAIAAdABcAEgAQAA4ABgAIAP7//v/8//n//v/y//f/8//1//f/+//1//D/9P/6//v/9v/6//7/AQACAAAAAwAFAAoACQALABAAFwAQABIAGAAZACMAHgAfACAAJgAnACIAKgApACsALQArACkALgApACgAKgAhACIAJQAiAB0AGwAdABcAEgAMAAoAAgAAAP3/9f/x/+r/6f/h/9X/2//Q/8b/yP/H/8P/vf+9/8D/v/+8/7r/uv+8/7j/tv+3/7n/tf+z/7H/sf+s/6n/pf+e/5//nP+i/6D/nP+n/63/rv+t/7n/w//I/8b/yf/J/9b/3P/b/+T/6f/q//L/7v8CAAAA//8GAP7/CwAWAB8ALgAgACUAKAAcADEANQBLAEwAKAArACIAAgAeADAAOwA/APb/9P8KAEYAIQDw/yAAFABgAJ4AjQCIAJ4AzAD6APYA5wC7AKMAnABvAHsAUAAkAGIACADa/5L/Cv9p/wIAOQCw/wz/V/+SAxsC0QIUA34CbwLSAjIC0AGCAsACbgMhBKEDwQL4AW8BUgGNARsBRgBZ/73+9v0j/VX8i/vs+jP7Kvvq+vD6XfvC+3j7Lftq+6v77Ptr/ND89vwv/WH9Bf0w/RX+TP55/rL+mv6C/iH+9/3+/Tf+s/4K/zP/3P9CAC8ArADsAP4AAABS/6P/twBvAg4EKgXsBAQDcwIJAlABvQBjALT/FP+h/g3+Cv3S/LH8IP3//Pf8zPyD/B38Ivw2/PH7HvyI+zj7TfsA+zn7U/vP+6H86PxX/Qn+bv4M/0f/MP8Q//n+9P7v/rH+UP4w/p7+IP+6/w4AagB3AFsAsAC/AMkAtgCxANgAIAFjAZsB7AHhATQCbQLRApAD9gOABKcEvASPBBgE9APiA/EDDQTkAwYEEQSfBNIEAgUlBRoFiwVMBTAF4ARIBNYDUwNQA2oDdgN4A5UDugMeBHAE4gQhBTgFMAXcBHYEqwPZAtYBCQFlALP/Mf9q/uL9Lf2b/Bf8gvs3+9H6Zvqe+Wz4NffH9Wb0BPPx8R7xXPDU79TvfPAX8ZDxyvFC8rnyCfMG80XyyPHt8Obw5u9f8GDyHPc9/YEC8An1EUQcwSTCKhcwszLdNOMyRy/NKSAjuRylFSUQQAuHCDYHLgeOCH4KAQ6sEOwSjBOdE20TrRFMD6ML1AjABmEF2gSmBPQF1QcxCtAMww6hEAYRhBALD0QMXAkwBQIBmvyh+Oj1T/Ov8U3wjO+T75fv1+9C70DuC+1167vpQ+dp5OjhHt8N3afa69h018/VwdT00iLSqtD1z0DPC85PzW7NUs970NzSk9i65Qj1KwMsEEsfGjJ/QBVL1E5AUANO1kb/PV4wICNSFcEJYgFW+fH2LvY392f43PhR/TH/n/8Q/C/3SvTK8Obvhu197R3wUvYWAKUJGRWZH/opRTFeNfA37zbjMh8qdB9QFdgLnQPL+jbztu5b7eTurvC48tn0sPY9+GH4i/eI9XPy6e5060Ppuei/6TDrvOwZ7xvyhPUX9yn2UfM/7/npd+OB3OTUoc2Ex9bCyr/1vfe8bbxkvdG/7sDvwf/G99S76XX6UwmRGvkyFEoUWNpfQGE9YAxacU6UQMQtxhzTDIX/e/b28IXxkPA671rwKfQr+ff3tPIh7GDni+UA5JfjHuRK6Yv0SwOtEyojfTLtP9hIs02NTSJKIUA/MVIgsxCoBG/5JPDA6N7mwelb70P1pPlp/U4A+QGEAQr+M/mD86zuMusV6i3sO+/Y88j4x//qBtULgg3dCjoGQv959oPrzt7V0pbIBcF7vBa6l7pfuwu9Cb8awVjEX8WuxQ7CycHKzaLi6/ruChEeVDjDVH9sPnUheOFyYWerWU5EsS/KF/EDpvXJ6Y7oner+76Dyj/Kk9yn7aPyF9XXqlOGr26Xcht955WXv1P7RFKwqAD+QT45bgGAtXBBTmkV2NAAgZAp0+YvuPeor6jPs7vCn+H0C+wouDmsNDAnuAk/7xfI77ELoS+eR6XLvN/mtBGsP5RfYHMEfXB4uGMsMx/1n7g7gTNS7ygnEksBTwQLFEsoJzwzUrtcF14rU185hyl/FtL4/ua+1hMLt2jf5BxMcJ0tGyGLGev9/mXlZcPJcCkqhL80YmQQY82zswefW623zy/zYBCUEhgSmAkkAd/Zv53Hda9l43hvlUPD5/7wTDytdPldPzlhqXIRY4kvYOx8p/BjxB9D4ZO5r67vwN/d0/vADBgsXEcsSFxD7B+//7vZG73nqoegN7APy8PqvBOsOHBl3H3EhTh3TFRcM5P9u8l3kRNlI0U7NaMxazaXQxdNJ19bYodjC1tHSks6wx03DG8A7v3XAQMENxLnEqMwG4i7+oBfMI1M0h0pbXqBmIl/iVeVFBzX/I48SaQRa9VfvkO1X74T2Zv4UBjMDo/0K+gj4a/JO5unc1Nmn36PrYfuwDL8dkC/PP2lLIE/jS4ZB7S9/G3sJ0fwn83/rtOeI6i30IAGUC3kQoBBAD6cLOwTp+jfxCeqK5Q3mN+wg9igBGwqIEUQWOBnvGB0T5AhG/Njx6un34zbfjNxY3Hzdk98l4vrjteJU3rnXBNLtzFDHTsKzvWG8VLwOvx3DicaJywHNKc8Wzx3ZA/BICSIaiiKQM+1JjViKWFtQMUd2OAcnShdeC///F/bK8Z/wkfOJ+TAB8QEv+5/0HfRD9AvwAerp6EvuRvmYB94WVCR+L0E47D2/PbE5QTKVJu8V1wUZ/aX6Q/qt98724PqAApcI9wlmB8QDk/+I+qv2m/Rw9fL2avqL/28GhQ78E9gUMxFXDLcIAgQS/X31MfAU7hLuP+8k8R7yx/GE7y7sOOhW48rdUNdV0bzNRs2bzvHORM+/z8zPZ89+zVjMcMqXyDLGD8PJyAjdAv73GWsp+zn6TxBkCmarW8VOhj7uKQcVHAkVBJsAc/8lAI0DTwnDDlgOBgSR9r3u6uvx6Djmhugx8qn/IBC6ITUy3j04QuBAiTrPMccnhhyIDyADGv0V/wMF4ghrCr4MWA+YDvwJSwQe/yT6u/VI9T753gDKCJYP5RNSFvMXThZEED4GXP1q96vztfFW8gH20/oc//EB8wI7Abb8XPUw7IvjVt0p2kHYXdcG2DDbrt5X4BreAdrW1DvP2chqwqm+tr2nvjvA6MHYzBLkgge/JQc3h0LBToZa81ccSgc7ViziHhkQkwp8DXwTMRc2FW0Sug86DWcFnvaT5r/dwN3+4n7r+ff0CI8ZJCfIMBY3KTnUMy8pRxzAElkOgw2UDQgNZw5UEckTFxIeDW4GW/5X9ZzumO5N9Nj8aQTsCz0TKhkCHAYZdBG1BqD9jvfu9EH1vfhM/WIBdANJBb4FHQOh/GTzi+u45vnl7+fY6VrrAusx6gLoTuSI3yTZ4NLYzfrKVctQzC/NR8yXyWbGF8MNwYLBxMK9xLzKKN1s/9kiXjyVSItQaVZIUktHSTj3KqwdLREODF4MiBKUFqkUyAoO/234RPT17ObjLOEN57fxuv1vCz4ZZSPtJzInAyXRI6gkNiM6HkgZ/BhdG9oaRxbbDl4Hs/8G+Yf0B/NR9bT36flE/NoC2wsYEtER9AwACfcImgpFCrwIiQjVCcwIcAYLBcYDHgD0+E7yje5+7tjw8fGg8fLwmPFX8QTuW+mE5Bvff9l+1BXSrtHu0dHR4s8UzrvLbcm3xkHDYsHmv7DB2cRgyX/Ot9aL5xoCYyLgOiJGykikSlFJ2UDNMzspqiHRGokVwRRlFqcWIBGxBRP3q+zJ5yXmNeXS53XwuP2tC7EX1SBxJq4n1yTKH9sdFiAmJDommSY+JrckRyB7F9YLwP9j9a/tO+p+7H/zufog/zcCBQYZCmEM+gyDDAcNNg8lE7YWHBj5FpQTfA1KBbX9SPjZ9GfyyfGH8y32TfhM+Nv2LfP/7YvoyeMI4Q/g9OBd4vLhzd8K3BTYc9MZz3/LkcjsxcjE18QJxpnGcMYlxpbGJsn5zDnTKuThAqAn1j+QRyhJ80k3RdY3oCu1KV4qGilXJA0jzyIEHSQRF/5f7eviHuKA5jnrW/U/AXsM2Q+8EHwTxhY7GY8Zch0pJegvOTdQNhcvhCVpHJQRQgd8ANX+IP/a/sn95f3A/s/+xPvO+Cf59v7zBnoOvxTNGfMdqx2HGMEREA73DK4JrQU/A2oDnwHB/Xr4OPMP73jsEOue6ZLpi+tM7DfqpeYc5FPiid833C/ZkNZl1fnTGdOe0RbPlMzFx2HE7sDowL3Ck8TXx2rMI9Oq2uPqfAj1KX89sUDNQMY/0junMXQwmTQEN+wzDC6gKDgezREfBbX1gOkR5oLuBveI+kL9rwDRATX/AAABB9cS2R4RKGguMjLdNVEz9yqtIJcaPRhNFQYU/xK3ECMKiQBA9yTx1fAP9Dr49PwyAzYKGw4yD/QOnA8AEpETqxWjF3IaBhp3FLQMwAR5/qX4zfSW8hHykvIV8jbvv+oC54Xjlt833QzeReCI4f7gG9952+LWPtMO0ZHQONH20APPs8oGxnvBi72Zu9O86cELywvRodY14yEAqiI5NN02bTWsNn4ycirBL4w9i0XdQMM1lStOHZUPogbM/iz5Rfhc/aX+Gfjr8iDysfFU8Ir19QNVFHwecCIMI4Aj3yQWJV0kEiTrJi4p0SbsIDoZohILCq8CcP4d/y8DdgS/Ai7+Kftz+4n9xAEwBm8LphD6EVkQRA4jDtIObQwiC7UKbQoqCDMDj/71+Bn1avHm7bzqKOkD6KHkVOBc3CjajNeG1TbUn9OZ0ibQSs3Gyk7JFcjOxn/GQMZgxX7DV8Jkw0DIS9Bf1nHayeiSBqYnazIvLPEl8icLKbMo0DOrQ1hJbD+/L/kiqRfjEUEQtgyJBgkENAUEACL0tuzD7abwg/NN+0EI9xMuGbkY5hSqEz8ZyiFZKAssiC94L/woLx90F+gTYRPaE4UTRBDAC9MFVf9a+Zb4iv2mA6YGyQX9BMcE3wSdBDAGXQokDtYPag4lDC8JcgUQAsD+5f0c/u39QPoG82HsB+fn4vPf/t7Y3+bezdrc1LnOXMolyHbIq8nVysPKaMjpw3jAlcDrwirFYcYXyhHQ7tRA12/hB/3vIK8zHi2aIEgfFSXCKeozfETwTMFCgC+JIbQa+BeyFzMX6BKcDNIGwf5R8zLqYekh7kn0F/tFApgGRwWhAk0CWgioE4IfdCZhJkEkwyHYH9MfRiHqIjYhDB7nGSEUfA5qClEIqAVVBGAE2QMAAZL9Lfxs/KT+7ABUAjQCewHRAZkBLAJSAmECSQH2/gH9iPux+8b65fe781/viut+53nkmuIQ4dDe9Nqq1nfScM9zzfTL7spZyWLHvsTAwoPB0cCZwMHBm8RJx9zKXNZO7xQM6hvgGqYVfhcxH6AqgjoLSoNP/0dLPF4zzi6dLgkxJDGEK8gjYxzSEaoCNPek9Wr7VwG+BAoE2/0R9nzz5fi+AxwQGxpoHOUXqRPiFY8c6SNIKkkvEjHnLlkqjyR4IIof+CEJJIsjKCCYGXARbQl6BXgF+AjlCyYKYATf/Uv7efri+jj9DQB1AsQAzf2Q+a72lvaM96H4c/cQ9pbySOzF5Uvh7uDe36vdwtmr1CHQOMt2yBPGysQYxFLDWsKnwQjAWb65vU+/kcEXxSHYYPoIFuYT2f3b+HUJbR8OLQw59UO3PVwsbR9bIugrATJQMwMsph8tFboOmgX6+Uv4bgEXCAMDNPo186zt9umA8Fj/0A3HErINNwV7ALkH9BVmI0QprCjPJnEk+SJPIIQgAiTEJ7En4SInHiMXJBBzCnIKKA2GDU8KXAGm+HrybfMv90H6/fpq+Aj0yO+Q7vLwA/Vn+Fv4uvQU8G3tU+w761PqE+ks56jiut2T2GTV/NKd0fPP7szVyUvFxsHOv3q/o8EjwLK+KLsjvAq+HcFB0CjtoAvpC531AOvj/vsdaCwBM784kza5KJAe0yezNY88VDqSMxYnHRlVE00RSQ15CmoNeQ/gBTD42O9J7qfyMvxbB3sI/AEf/PL7cf/5B08WviDuIJgbthipGgcfFyYELEYtTCusKNYk3R9OHjAhWCNSIUkcKBWODP0FZgSvBNoDcgJM/xf5AvIf8PfyCPaR9nL1FvIQ7qDsau3v7szvR/Az7mvnSeI/4XXio+GL3mPcDNgI1N/PN84tzSzMC811yWDFoL/RvgnAJ8FqwizB1Mlq4Sf+/QTX8ELm6PYrFZkjMChHL6IvPyZMH/opejkNQCg/TzmvLn0iiR/IIPkdWhmTGAEYoQxL/pr2gPg2/b0BPgR9ABn5BPVq+PH/Ggj8ELMVuRMdD1oQ/BhhItkojSpzKYEmWCXgJS8o2irJLMkppyLwGoAWcBQdE6MRbA3gBt4A9/y4+uX4pPja9wX11PHX73Xuxuyk7KPtMO5H7QXro+eI4xTiheN55AfjBd9u2lDW7dOw01DTF9JVzwDMKsiVxK/Cj8CNwYPCoMOzw0/M3uLM9r/3F+e85An7fhW4ISggGiLNIiohAyX+LjI7STzNOVA0Gi1HJxwl/ybZJK4grBsKFZ0LiQKA/w4BuwRQBfsAwvgm84v1+fycA64GKwiTCIgItAkKEPIYdiAbImIgFh7MH/EklyqtLNIq4yYZI1wfjx2vG88ZJBVAD68IngNyAar/J/3V+Cb28PMZ8Snuc+w67FzrNeti62vq1ucT5XzkVOSq5N/jX+JH3+jbC9qh2B7ZZ9iC1afQfMuDylfK38o2yCDE0r9OvxzDx8rf1sTkMe2K6uvjjOmZ/KQSdBznHM4ZZxmSHoooiTX8Oks55DJdLxAumS3ZLfosLipkJFUdjBUNDlQKsgnZCUUH4QLs/Zr4AvYH+e8ACwYnBU4ATP6OANEHLhKAGoQcehZlEyoXzSCwJosn9CSGIskfxR6hHq8d5xrOFhsTWA7KCCsEygFuABf+1vpW9mfyHO+s7entP+2C7Dnqoegu5yDnq+ec573njObH5Szk1uJ14WHgWOD639PePtuA2NTWIdYm1ODQ2MwuyarHcckkywnLI8yG117m1Oux4sbciOnpAF4Pog6WCUAK1xEsHQooRC2tK+ooLCteL7AxpS4BLM8qbSqsJ2Yijxx5F84UAhPtEP0NhArzBlYCpf8xAZkG3QjXBasBmwHaBbsKvQ8xE1sTDhGeD6ETSBknHhEf5R3XGvgX3RaNFwkYChZuEqwNzwlJB50GQAVCAvf99Pn39pH1bvTY87PxVO8r7RTsmOut6znr8Okg6cDp8erR6hrplOZx5RDmU+cv6LHlP+K/37ffkOBZ3/XcldcZ06zRH9R+14bWStJM0o/aHOWL6JXk3eF66RP1M/+yAUcDnATNCPEO2RYlHXUeSh7XH4ojYSdfKMoodifvJZwkXyORIUofPR61G8MYOBWnE2USJhBxDBwLLAxYDtoPww6dDPYJEgmqCykOzRCVEeMR7RFzEb0RUhNIFWUU1RGeD00OSQ6NDWMMEQpFB34ExgNIA08B6v6s/I/7Nfp5+KD2RfWF9E30i/PW8SDwbu+77yjwEvAs7/DsZOqu6UPtX/Ck7tbpSuVH5djlBuYU58vo6efj40TiMeK55LjhOODt4c3ju+SS5DHkk+eK6uDsbu/r8S/0uPZw+h39KwEjAWwCEAZOCUAM/AyVDkQQjRGMExcWUhd2F5MYIxqiGr4ZExlPGGQYzhcUGBcaGxiMFrYVhxOWFO0T0RMkFBkStxHIEb0RQhIYEFINkQ0OD7IOCw9tDUwLywncCnUIZgYLBw8GRQWlBA4C1QRAAxv9evuQ/Wz9lfzt+r72YvkD+a75KPUP9sb3u/bP80DxOfCk8EHzoPB48TT2f/E/7aXste097m/1CPYr7yjrIeqh8hr3m/PB8ITvCPKm8ODzzvQr+B72QvHQ86r1l/XW9uP0sfct/cP61PMq8eb0lvwzAML/Rvsc+pH4l/lG/+cAUgFfA6P/FwHTBCgFCwQ8BGIGFQlTCiAIlglZDIsK6QkUC7INmw9TClMNshBXEggNTgziDPkOyRJ6DzEO4wwHCEMTuA5GCUkOpAq3CA8IXQlLC8ALvAVEA0YJawh+A3oFWgIy/2MGCwTv/UwEkwOS/yf/Jv48+qD84foNBLYAW/cH9Tz3NvpN/TT/1vLX89/8svl4/d32++/+7YT/TPsM9xrwKPRS/A7/gPm27z788vdt+zT8xPtX+zP2qfy5+dX95f5lAxf2t/d8+6UAMAQP/ND3PwKPAi/+4PwH9hz9kwB7AwYEFQHM+ET0T/zCA1wLUPzT9N/58gVcBKv9Vv5EAaAEsAL+BJ8BQfrQA/8EP/8JAq4InQWpBEQGlPxI/u7+FQRdDVUKBv78+u8AOPzOCDsRJgO/BXj1yvfiCAgKaPzgAYcFPQPF+r4FxgHQAPwBnPgbCvILmAaeAV/ymAO5BkgGNgAyAaH+3PSKA7UNcAdl+DfsRf4RCuEO/P5c9NX27v3j/vACXf+a+sH74/0hBJsAM/ol9vH44QwWCczyNvV1AkIEVADh/BMChP1mBcsC0O02/rUGfwZ2CJD7YPpx97H8gAV/ECYAovVs8oj8Sw8eD5P6Le4OALkIIQLlA3vzewZiDFkD9PfZ8K8BrwdKCiwNwfX097X5mwAqCmgHBwQE/kz09gIfBKYC6PuYAIMEaQYKACPv9v77BQsCEwfGA3j/pPdR+nb/kQxTA7v7UflwBGj+0f10/7r3RfhnEjkHXgCl/W7y7Pyv9nwHoQ9BAU0BBfb37Cr7dg7NCwUEZf0h8SwDAQao/Tb/QQqWC1b89fRf9f4B6g6ACJz4OwBmAVP7FQE8Bpv+9ARDBPjyYvfo+2UQ4wYa8u/6fQLaArv8ZACi/9YNHPsx+Mj+OwULBAD6cwhm+VP8uwO6+yv/aRKoA+/0Du+p9hgN6hSa/kv0S/ipB938G/fj+r0BSg8DAQT9HvNZBRr+cfWVENEJN/z88xH8cAQ7/rEHFPwO+akA2wa1/Gz5Jf9cAgv+tQy7+VX7Yvn2BGYCKASgBT/3PvTiANEUMglB7MT1Kg2Q+9f+AglP9FYOlPiV+fkDegZP+4nzghAACLn1j/No+z0OEgCP8QMDLwqEBFr2e/zYAIv1igx/EL78F+6h/pkDwg67A1X0QQHcCsP6oAEQAAv8lQJCBfH98Q2R8+fscQXlB6kCyQeO+8T8DPwY+8T/tQhZA9MB3/0Q/Fn0wf55Be4ZyfLE7+8HKwkP/2b1G/veEVH6Sfo2A9wD3vvY7IoLYBkw9Hv2QPAEDpID0/6v+v4Fvg3W9JLt5vu1FHwDwfat9q0BlBAo+g3sEQkvBFAOt/S6+sAHYPC0A4gEpv4HFCr0ZfB//L8U5AVg/RzywgWoDBv31e+M/28O6xI8/z3qEfBTFdcARgFn/tT+1gdd/BEMi+rr/AQDgQ+IBjj2bfq898cOs/r29lkJQwdnDCbkHgKoEnH/de5ZCpsLCAF38QDtUAkgFkL64PZuCCX/VfVk9YMODg7p8H0E9PCrEr8BWuUZBo8aLQVZ3i38DhQrASP3ZO5fHY4LYe8a8jj8rRUVAvH6tvXQFtIATu6R8NEWyA8H/87nhftJG436h/077IUKohI+/WPqpfdkFW0E3f088dwJdwsh81H+bfttB/gARgFc/N352gThBhADtvXmAgAK/QFu9j39lQj5/pX26PvuB88G+Pot++T/of9n/OcDaQZyCNf4+/XU/7oCBAVnCBoCwfjt8UD2lRQJDPXxqvT2Ac0Ld/et8o37UxdUCjfzN/DzAlsDs//H/vAKMAC6+Dn4DwO8CQQDS/jT923+3BMQ94T9Gfm6CMAAsfQnB10GPvcfAiEGxfiJ+a399xXH90/tDwvXAy7+nP3d+q4HPQPIA2b1gvfOCTAJZAjZ6rfxDBK6BiICfPbs//0CUf2c9ykHsBIBBLrw1utkBgIepPxG6GT3fhejBJv1OfFD+qYbkgEG54kH0gXPBEnyxfjaBQgM5Qse6U3uiAqiFhT84fjW87YNKAhj+rj5h/aEEcwC6/a7ArgCmwER95X3wQi+Emn3Yu1XBgYLm/7M7UH9oA/MBff9FPpu+KcAfgPJAdsBuPvYA8sB2QDq9GsEYQmlAkfvbgG4DBEG2vARAav5Qg7MC0D1ivglAA76vgZzBD//QAPt+FsAbfqeChAFAPyi/rUA7vx5+nUMGf0d9t/8Rf/jCIgJfPqp65oGMRPI/939be4tES8IAPIM9+EA2Bo//J/xPvlABT0WFfcT9AYBBAkvCG/51+qfDHQMfv1U6WMLqAn49Z76bw0cCwHu4PVZFC4Eifqj+ZIDsPZACVASBfJj/H763AHaBt365gq09ygHYPth+hcEigFa/5QIZ/suACP/i/g6/7D9oQts/sYHeexxBmcJ7v5c7zkG/Q51Ac3+XPXj/l4JFQEs+FUAnQ9496352PkxEDgIFOv27bAOMx+Q+cjfBAKFA74OPvdC+DcJvwZ/8MYA/wuGAlj5xvhsCQMHjwSZ8n4B0QBuCFwAfPbLBPYECvue7o76fQ3DDYnxdvJZ/1oSx/g/9ngD+v03CkoAv/PcCYj7nQVZ/ej5WwPtD9n/Af/58Yb+fhJICwjxoPICBwIN8v138yDz8wn7B2j6mv9R/xT7MPrJ/X8JagbI99j45gyJATD+AgAMAxX9lwqhAh/9V/0TAML8bQN5/ZkC4fjTAEED9/f/BK7+EfoW/oMCHQT3/R/6vQKY99cC/QXO9RYAAAM1CuT3hfQCB7wDcQH19twBcwZ3Bpf0FfUUCtkOTfmI9qUB0/xeEH72D/J4Aa4C3A6h9Dv7UA2j/7vvMPkhDKoJDP3x+IIAWQG8BzHxRfvRAGEUNgQi9qP87vXlCT4AgPiXCR//TQTk/sj+4gB1+noC5wW/Buv7Qwa9/8v5HfiH/s4Q9v+h+d77OQIkBCgAeviR+4gG4f7B/14B6/tpBt8KIOk5/cUP1f0i84j/7RFiDLHvGu75DHsKJvs++AsCzA3v/krwY/3/B8wHYv8V+1UBeAjp+WXweAClCdz9KwM6+tEA/Ab/AEj6Xvg0CQkNuAUy8An33w6DBqv1Tf/CAYEE4v9Q+yP91gIV/iEE2f4FBcYDN/TK/KAEhQVB/in3+QLk/xwF9/1g/nL/kv48BdT+/wK9ASr+S/hrAwn/t/qjAL8DeAR0Avb6Svpu/2oC7AX0BSX68vth+gADdAY/AXf7ufnzBEIJiv4r/hX8hPmCCT0KCwEu+iT3HwTsATQCRQFoABr+vgANA2372vTV+vIEBgjjBK/7H/vi9jf+/wSiBF0APQbH/TEBXggc/T/0aQRaC04AqfnSAjsBHP6y/Jj7gQgYA8j/uvkLAI4Fnfxz9mgADgFqCi39NPt++sr55vvWBLEHhAPK/X78Jwdc/g/75f5gBWoHTAX7A+33AvrNAWb+7AI4BO0EoADd/cj+rgA++of2lQBlBh0FuQAs/pf92/x+Aiz+9f74AuUDewKW9wX8Qv2s/YIBrAE3AFIAqf3B/uH70v1lBpwEmQKl/An7cP1v/s8CLgOd/8P+O/0KBGsEXv5g/aD9rANoCM8CAfc99Hf/YwfgBtf/kvoX/jgCmP2x+6n+KAJuBuUENP7V/aH7k/wIAT8F4AQoAXj9Av3w/RX++v6E/pQCjAIT/lf7d/ox/BMBHgW5ARoAj/+Q/7n8T//EAk0EoQWpAkMBHv9L+zv83wJMA00ErgAC/63+FP2I/BP/YQHJA8wCGgBu/Uv9mP2S/68BSAIXBWIE6v/c/NH9mwAmAqACGf67AgQEf/4L+4j7u/4PBHEGwwWKAff/6v5WAfoBswEuAuMBXf/Y/aL7nfsU/B/9of++AWMBcPvx+kb6hvwxAm4CpwCH/rP//f+0/33/RgD7AQcC3QKUAdsBzv/1/Z0AcQLeAqwBRv+w/Jv8UACH/tr8A/93AVkBp//E/ev7KP3M/Tb/qQEpATcCNgOmAHgAIAFhAUUBlwBuAf/+BQGg/1z9d/q9/Nz9s/7cAaIAYv6u/Yz95f2d/38B2gGtAz8DmgAr/vP84f27/y8BWAKGAKL+Pf72/N/8W/3F/wcCcAIWAvv/N/8lASQD3QKbAvsCpgGE/+791/6mAlwD9AGqABkB1v8c/jr+R/2e/lkBAQMfA7MBZQAVACwBIAEZABQAh//YAH0BEAG7/mn9Xf4qAHQA7v7z/F79q/w8/Uf+qf69/vj9gv5K/g7+pvy++/r8JP50/p79XP2//VD+nv6K/v/+tv0e/t4AIQJ/AbQAi/8A/ob9B/0G/SX9lf1+/qz+mv48/qv+WAA2Au0CuAHHAMIAkwGCAjUDQwOfA8gDvgN1A10D4wK9AhIDPAPEA4kDhQLJAbYCTwQhBM4C/wG8A9MEagQJBEwEjwRyA44DZgTOBKUDJgPKBOMFAAYlBLYChgE9AeIBXQIzAsoAagD9//D/Uv9y/mf+LP7i/UL8ufve+sT61fql+u36HPnD+IP4l/jv9+z2PfdD91738fYy9g31MPMp8mPx//BA8bXyNPWf9d/zjfE18fbxEfIM82P07vUN94j4Uvnr+Mb41PmH/KX+cAGrBN8HRQkrCnYMuhBXFZYXmxlVG1MckhtyGhUcxR3CHnUeIiDHIC8f1hylGu0aDBpwGjQaJxltFgoToxH5D90OlAz7CsQJqQjlB1MGKwSqAfn/x/7+/LX6mffb9BHyEvBc7ozrR+iS5czj4+FB31fcFtoy2nrb3tz7243avNkU2VbYBdcW1wHXUNfu1s/WTNjL2IrZE9kY3N/f8OVi8RAAcgzZDrwQ3RThGtEeOiFDJlIn6CcoJXUkmyADGxQYcBbLGNwXEBgyGLMWlhUDEwsVrRR1FZoW0RgbGvcWDRdcF5IaCBu4Gq8ZuhdGFw4VNhSWEgMRUg+/DQQPPQ5gDNwIqwZhBW0DSgNFAWr++PjC9Inys/Bh78nsS+rS5uPj/OHn3+rdmNtA2vHYqdZC1K3RY8/LzGTKsMcLxevCecGCwNrANMSpyFzLrNF15K//MhQBFyQVrRmKIgAosyhRLFkuoiw9KFIkGCG6GHQR7A3hDy0TQhJNESYM/ghGB28KBRAXEg8UjhSVGDIbDB3kHX0cnxuQGO0YsxljGjIX6xC2DdQMHRAXEcERaBAhDmANwgxFDaQKIQfqA4sBZ/9T+yj3ifIe7/jtYO7n78bv7u0y61Po1+aZ5L3gK9zL2JPYT9gV1rbRmMwSyQzFSMMkwsDCQMTGxhTLosut0WXkFQaOIWEnoSEnHg4kCiazKJYtnzEXL5EltSK/Hf0VxAlUBGMH+QkBDaMLpwpHBkwE4ge8DVsUyxaxGoIcwh4yH6QfuR/DHEwaVxdmF5YVHxKqDTkJBAiUB5gKBA3CDuEPmBAIEzYTLhLSDUAI8wM7ASUAefwC95zwC+yK6rPqVuvy6anoBefo5Z3iT95S2s7XbddS1kTVu9GozfbHUcJPv/a+gsGHxL3J8M7U0XPbgvQxGcotsSphIF4hXic+J5gpGDDSMyoq7h9dG7IVygogALoAvQQFCAAJowjOBU//S/9FBr0QUBcRG1MfKyEMIpchiCEYHtwYBxfqFpEWPBI3DvoIcQOhARYFeguvDY8OAg9KEHIQIhHFEeMPIwz9By4ELP4M96jwcex46mzqXuso65jpo+f45YbjW+D73QTdQNxX2jnYutWf0eDLb8Zlw9DCD8RlxXnH9Mpqz/PR/NvA9/scXzDtKIMeNCKJKQ0osyblLYIxhCgxHsMZXRRDB8j99f/IBOQGhwZEBggAvPeF+YAESg8kFEkaviGXI6MguR52H7AdHBpHGXMZuBdZE4gOOwhwASb/7AL0CIUMsQ3ADU4NNQxkDLIMGg04DAcKpwWo/qf3qvGq7Qfs5+vc7PHr5uop6ZbmXeLd3p7edt9n36/dYdsf1z3Q+snnxV/FXsdOygXMbct/zAHOxtGD4n4ECSj9MWko5SFEJrgnWiSaKDoyXzK5JxYeoBf1DDMAevvY/v8CSQY0COUEZPlp8Tf2UwOxDlcWlB4EI/Eguh0AH/sh/x/FHFwcWRy/Gf0TBw53BRv+x/0JBUkMFw3UCaEHdgdRCZILZQ1tDTcLcAdAAdj6iPVb8kbw2O968O7wNO8Y7HHnReIb3wPg+OES4Zrdvdkw1VHPUMqRx6zG88cVyhDLFctrzBnPe9DG3R3+ySLVLi8jexwGI14oniYGK6Y1czX+KCEe+Rd9DqYCFgA9BFgFQwQ3BScDxfYd7BTxTwBNC80Q8hjSH+Ad5RidGicggiHQHpofyh5iHIcXaROECysBpf6hBDoNVQ/eDMEJaQZiBVkH/ArRDKgLTQl/BJH+fflb9gb0HfOg9LD1PfPp7mHqguQy3uLcIOBL4YXchta+0dzMi8ZGwg/CvcQux0HJQMtCzM/J48vF4JgGMCVSKO8erh0HJUcnQCmtMRg5BDQ5KjAkWhyvDgYE1QMHBVUD6QNTBfX9JO5n6AnxR/5XBkYOjRaCGCUVPxVoGx0gySDAIgIlTCOdHkwaIhZIDVIHtgcfDb0OTQzsCMsEpwEjAkYHdwuzC5EJcQZTAn795fl697b20/fW+PT2XfKI7d3o3eNV4evhiuK6317bAtfr0MPJM8UgxaPGuscYyCzICse5xdLEx8z95N4J+yO+Jc8a5xeHHk0nNzFlOyY90TNsK98n1iCsElQIMAkVC5cJ3QU/AnH4o+ur6MnwF/y1AuIIVQ6eDkcNkxCXGL0dhR8AJBknzSV+IP0cmhk9EqYOrQ9XFGMSMw7ZCSYGfgLQAUYFjgeYBnIE4gFR/c/3M/Xe9QX35/dP+Mf2k/LX7anqgud35MLihOKO4C/bDNQGzVDH38NPwxzFs8VYxX7DE8L0v9jEU9lT/Lga4SOIGooR1xLGH84wnT9BQsk5rTDmLHQpEx/9Eg8NcQ0pD+YM1AU++VLsSudx6yL0rPkI/s4BwAQkBjkIlg3OEtMXjh3nI9EnRiaKI0IfiRvxF6UXnxmXGZUW6BC/CwUH9wM6A+QD6wMmAkr/kfvJ9pfyR/G28+H2i/iv9+/0//AX7ebqq+kz6Ffm1+O54MDaV9MUzJvGrsTYxFvHJMeVxCe/e7pYvWPOX+6GDb0cdBjiDAgJNRI2JuM5w0ILP6Y1vjDOLTMp5x+EF6YTaBNHE7IOVgQ79uHqLuh37D/zhPjK/CT/Zv7J/Z3/tAZaDgIXnB38IZMiWyFbIPIeMR09HCAd/R78HjgckBYeD5gIuAREBccGwwavAun7ZvRm7iXsve0M8oP1l/Ya9QDy5u4U7HnqWunK6KPoyedc5Z3ftNekzyjKqMjJyaLLVMt8x7vAXLs4v5bQFexdBvETdBN8CkYGiwu/GwwuuzpEPjA7zjYDMUQpLyE5G6EaoRuqHEwYIw6H//jxX+tu6xrxJ/dC/Kj9Afxx+WL4nfqa/1wHfhA4GIActBxGGxMZ+RcFGZMcoCHfJEclmiFhG7cTgA16CvMJogkvBxYCFPss8y7tJOrx6iftOu/r7+TuXuzM6Hbl7ePI5I/n6Omu6WflBN6B1jzRws920P/RLdIC0KLL2MefyTDUNOYV+QUGAApxB58E4AYFEBMd5SjDMEc0bDQlMWArNCWjIYYhZiPiI2kgGxgcDWADev1H+4v6P/ra+Zr53Pj/90j3RfcW+Iz6wv4SBI0IxwvnDVMPDxD/EK0TihguHnwi4CM6IlEemRmZFWkSdQ/VC9wHrgNg/5b6gPUr8b3uQO4D78DvJu/L7H/pCudN5g7ny+c559HkYeEp3njcFNw73Ijb7dkN1+PT7NAy0JXTANzt5//zb/zH/zT/dv6qAFgHOBGAG98j/SjjKgYqQCfKIy0hsCDGIdoi2iHuHa8X8RAwC7YGcwPaAGT/3P6Z/pP9kPsM+Qj3tPYU+H/6S/0mABADVQXjBp0Huwj2Cn0OuBJ/FswYmBn2GOIWxhOaEMwNXwzQC4EKbgdTAtf8lvin9qr1+PQE9NHygPHG8NHvAe7S6/XpM+li6dDp9uhC5+Hlq+OK4eDfUt4t3AjaWNhn2EjbeOFw6Qfx0/W49m31c/QB9ob7twPBDOcU3hq8HSge3hxPG68a8xtkHgwhKSLaIGcd/xiUFM0QwA13C8QJYwgEB1cFiANqATX/g/1i/K/7m/uF/E3+ZADtAWoCQwJzAi4EYAcoC2sOOxBtELAPgg6XDKEKqwhbBwEH3AZ0BnkEGwLs/w/+Qf0x/QP9ffw1/Ez7QPq4+P/1D/OR8JXvRu8d7pTs9upN6XrmzuPf4KLd99ot2RnZAtvR3uXjAOm27JrtgOxn6y7sqe8E9v/9EgblDHARTxMpE2QSchKnFMsYnx0xIUQisSBjHXsZKBb5ExITAhP6EikSYxDFDZUKWAefBK4CpAE9AS0BOwEMAZYAawDbANIBFAOJBBoG2Ad8CUMKKApZCUwI2AdoCDQJPwlnCD4HLwZcBXsEGgOOASEAG/+3/j7+Jf2o+975ePio9pr0o/G+7rvsK+wZ7O7qnui15Lrgmd3E2t/Y+tdj2eTcceKV5yzq5+ka6K7mgOeL6/fxwPl/AfoH9QyyD50QuRCBEcsTgRfZGz0fBiG5IA8fixy3GTwXvBWXFfYV2RWyFHwSbg/uC4wI4AU4BIMDfAPjA+ADBgOpAYYAXAA5Ab8CjwQ2BiQHaQdoB70HXggxCfUJgAqaClkK7wkiCZAHVQX+AjABKgCT/0T/rv7j/RT96/tz+gP45PTf8R/wDe967kXtievv6Drml+Nu4NndMtux2OrWvNYl2SPeWeSP6QTsbOvS6d/os+q87+r2sf7cBaULlQ98EaMRlBGsEsAVCxojHpYgCiFuHwQd1BobGdcX/xZdFr8VjRR8EsAP+wwvCqkHrAVJBHQDxAJWAh0C/gFqAQsBjQF+ApYDlAQzBQUGRAd+CI8JPgp6ClcKpwpQC3QLuQpkCZQHYAZtBS8ETAJhAKf+K/3K/GH8Svu3+Bf1o/HZ7u3s0Oo+6NTlSuR14mjgwN3/2T7WzNIh0ffQ6NJE1xbezOWp6+7ts+w461DsxfAF+FYA9Ac/DsMTjBjLGwgd5RwVHecerCEWJM8kLySqIjIhvh9aHZgZ6hQAEdAO+w0eDVYL2AijBWQCtP+4/Xf8yvs4/C39Jv6f/hX/jwDBArwE4gV7BoMHTAkuDI8Ofg/UDngN+AwFDhwQ0A/HDcYJBAbgA9kC7wFWAIn/vP3g+435R/WN783pZ+b85Efk5uEt3VnYu9TW0XvPiszzyInF2MMcxXbJRNGh2/rmlO/w84r1lfeG/AgEKw3yFe8dxyS1KhEw1jKDMskvOi2kK0IqfiihJXgiCB8dG6MWeRBkCQICCfzx9yj15fOj8030rPT08/jy9vH/8tL1ZPpE/9MCvwZ0CxQTGxrpHv8fTh65HMkbrB0FIK8hOSBsHBUYjRPZDqIJjQQSALD7J/jW9P/xbe5s6qLnqOWR5JzhSd5r2m3XatUL023RwM6FzEvKTseKxYHBpr8tvSm9IsBzx9LXw+xqAncPiBKuE5cVUx6cJRos9TD9NWk/W0fITE5J7z4FNH4qkCQvHTEUYQx2Bn0EsAEn/Qv1iOs85PLfXN683SvfmuRN7S320PxGAR8FsQlhDrYTThhBHZYj0itdNc46BzxiNw0xMSpLI/Ad9RdVE1oOzgk2BZH+oPdq8ErrV+dI4zXgPd5F3+rh7eT25sDmIOVm4wniMOGF38jdR9y82k/ZJtbd0V3M48UdwdW7kbjqtji2t7x2xgPdlff0Da0dRxwqJSsoZTXGOHc58z0tQDxM5U9YURBL4D0CNh8pRx+YD1cBpfql9ML0JO8P68/lwt+R3r3aTtu92uzebukN83b/PgcHERobPyIHK3gszy/yL7EzqznAPJc+ODlpMhUpix6nFqwMKgR++cjwWexQ6Z/p3OYc5U7iROFh4pbjj+W95tHoLey/74bz//QR9YnyXO+/67znw+L43EjXa9K3zSHIUMKjvL226rAHq4ipJqtftsDLSesRDKEeIytjMSs/n0dPR0VE/D8RRhFKT090UUVL40NHNRgqoBs9CTn5A+ou5Bzfad343o7ekeHq38fhJ+Pe5RDsxvHN+vcEtBGiIREt9DcBPK8+Sj5iOic4zzEjLjsn0yFaG3ES5QrWAsr8w/R/63TkyuBi4cHj2uUV6dzrAfGP9VL5ZftH+737ZPtK/A79iP36/PH6LPih84ntPOUR3XnUksznxMu96Lhhs7mwWK7JrNms76ojr2m0rcA62rT3eB2fLwQ/90vBWJRkB1rMUvtI80U7RRM+5j0pNvgu9SS6F2ENIfs07XTf2tRr0HnOMNZH3Ojh1eiA8N/8wwNqCjIP2hQtHgMmczCvNtA7oj5DPjo9HTe0MLcmOxwCE8sJtwO0/Ab4jvOM79HsZOqy6b/oZeib6evrMfDX80/4mvwWAr8GjQnLCdEH4wWYAv3+C/pH9ZPwOezS557is9xV1vPPhsgawZy5h7VssqiweK+broOy5rRmu2y/csdS2sL1uBzuM1BEt05kXwlwBGlMWstF+j2OOP8sZSf1HRUcchUaDkUI+vyG9KLmHNqz0ZLOmNah3Hnj+OmY9sEJtxeGIdwjYSfcLBMxOTRIMeUuAi64LT0tQyniJaof2hYmDQgEPP5C9+jvL+qn55jqSO7l8VHzh/To91T74v2a/Hr6CPv8/ZIC9wRsBwoJDApiCLQEBgD0+J/whed94FTbJteX0yfPFswByMrF0cF5vba5C7ZBti21b7jDu8i/ash+zKjeCPXVF0Y0yj4rTAxYJG3LbMxYwUUENRYzHCeLG70QPwhTCf4GCgZJ/UL1ee9h5v3e+tiT3czi3+X164j4Mg2mHHYniy1NMic5ODtxOQQwnyaBIR0dgxlhExURvg6FC3MIswM3AXT7KffH8aTuXu/L8QP2EfeW+f/9jAO4Bv0EPALJAHYBsAGl/zb+6f3T/pn+ifzw+Q/29vGB60HlYN9b2y7YCNMmz27MVc3lzJ3JO8f7xC/Hu8VlxVLEa8SvyPvJnc8z1ZHnCAiDJDE5DD9QTmFi2GcXXbJDujXvKpAfQhXQCNEDPAAIAt8G4gRBA1z9Dfi373zopekA6y7rEeuJ808FuxWjIdYofi9VNqo5nDiPL5kjFRnyEaYMtgaFA2sDQwU5B0YJWQsiC00HpgG4/LD5kPeJ9BnyA/I19nb8TwLqBL8FHAa3B2MHfwQf/4X7J/qc+eb47Pda9z72LfT18T3vAewv547hg9wP2brWedSu0ffO5M3qzLbM3sqcyZnHQMasxB3Eu8XcxjTKEdW478ARtimCNzdE7Fv2awNnw1RoQCY1kigPGoYNFQLD/93/eAOmBWIFngYKAZP47+9A7QbuD+qm5g7pivU8ByIWqCLfKqQ0Pz0SQHI7gC+6JNcZvQ8uB2cBPQCU/+0A5QNiCJ8M5AsbB6b/Efvs+Oj18PDe7OjuwfXj/ZwDeQf1CgoO0A/QDckJBATa/nH6lffK9nz2dPbk9ZH1a/Uv9Hjxsut65dzfItxg2JLU0tFf0IbQRNB50BLQa88JzYHKQccTxT/F/ML0wvvCb9N98XcQkyc8M21JdmAebDpnvFJuRAcy9CJvFCQG6f7r+E386gBaBYcK7wqzB478RPWy8vLvcOmY4ZDlkvEpA74S2h+oLAw3UUF4RGZAzjWtKJcbCg7YA5z9y/rp+cv6RgAWB0kNmw1yCZ4DsP7c+hP1c+8I7PzsA/Id+XsBgQj9Da8RbhMfEwsQiAsHBUv+QvkB93D2zfUq9fv0Z/XE9Vj00fAj673lGeGs3MTYvdQ20mnQGNAy0HLPfc8VzjbMyskvxqLGUMTDw6PATMI71OHuIQ9vH1YucETzWqtqBWBHU1JBrzIkJPcS+QhL/IT5evpc/1gGewrbDXEHS/6Q+Pn29fJP6FbhvuPC73v+aQ3nGiAogzUfQZxGZ0OLOmIu2B+mEMUEpP3m+KT12vXr+qwDpQoGDVgKUwX1Abf9jvgz8RHs6eu07633B/8wBzMOJBQ+GNQYDhjtE0ENpQSi/X36MPhn9kr0NPRj9Wb29fWN8rHt4uf04qzdh9iK1NDR+NCC0ArSDNMm1KLTLNNF0bfOysr0xtjEH8K7wdC/Wskw39z9MBh3JXA5QU41ZJBlo1k8S0A5JiwYG3sOBwHR9iD3aPriASgGbQujDMgGkwCR/En6bPIe6A3jj+du85sBQA/7G/MpZThCRJlHQ0PrOcEtMB8AEAcEYPuN9f7xLvNM+dUCcgpkDeUKDwgVBgoD9PuA8nbsw+vm8A/3E/7FBR4O1hZIG/8dyRzZGKMR8AcLAZb69vb28ibwtu+x8Cf0evRP82PvQuvs5r/gqtvH1RvS6s5MzlHPatDj0QTSHtMS0tbQHM4QywLJucVYxRLCjMX50q/siwllGWgpCzw+VU9inFtMUINA3DYZKAUaoAyi//b8gP0pA+4FAQr0DgINnQfnAJj+PfmC7sXkSeIz6dbzlv/8CsAXyycKON1CEEVCQfE6FzHFI2QVbQl/AKX5L/ak9lT8ZwPzCEAKyAjNB6QFPwFo+Mbvu+r76v7tEvKZ+OoBRg2/FYUbmB5sH/4cARa9DQAF8v3e90Dyku4D7ezuf/Ca8HTveO597JbnNuFH257WydGvzX7Lq8tizRbPD9Gv0vzTENRu0trPEcyiyS7HL8SQw+PLOeOK/a4Qex8VMvxMqVtAXUdThUdVPaAuFCMAE6AGEv9W/pcDUAVuC/QOTxC+CxoGTQQO/v/z5Obh4Kziaema8jb7/AZCFpAoLTeBPjlAOz4GOXgvqCNqF48MtAN9/RT77/wGAgcHfgmCClULbgvUB0wAJ/fN7/TrPeo56kzsUvIk/B0Gqg/KFuccsR+GHosa1xOlDNkDRvvX83Duoexw60PrnuqB65vsLOvH523iFt6y2ATTsM3JyQDJqMhWyvfLUM8b03rVOdcM1nDWKtWR0zfPBc2I1jHn1vquBnEUaCnHPvNN2E6uTJFGxz74NHEnTBqvDP4F8QPCA1UFbAimDWQOzwzZCl4JWAQb+ujvzegZ51LoEOtG78j26QMoExkg1SjqLmAz+TM1MIcplyEQGlwSLQy7B3YGGQjoCaILZAx2DpsPBw5GCU0CU/zP9kvyhO1s6vLqrO5h9AT6uQC5B+MN4hF3EwMTaBD3C2sGLAB++h324fIu8Lbt8exN7VHtF+wB6ivon+Wt4vLeVdtg2ELWX9XW1MXVmddS2obcuN3p3gDgfOFc4Cje3t2B49ftkvZu/W8Evw9SG0cjoSaDJsUl3SNXIR4d2xe+E4QRThFsEdUSIxXbFi0XKxa8FcgUGhL4DKUGZwHi/br7Pvm79g72EfjW+1z/kgL0BVkJKwwjDmkPEBD9D0gP/A29DOwLoQsgCy4Ksgk2CmUL7wudC+EKJAqECVkIcQb0A5kB6P+2/m79TfwI/Ef8B/0M/mT/XAH7AkIEDwX/BFQE/gKrAJT9sfpy+Nv2dfUF9OvykPJX8iby+PFd8RbxufBo8P3vhu847wnvR++Z71nwWPEm8tby8vLj8oLy2fEV8cPwb/Ft8kHzuvNX9Fj1SPb09g334va99tv2WPfY94b4iPkR+x79sP+uAs8F1AhRC68NFxA4EoATuBMoE0QSeRGDECYPkQ0qDEsL3wp/CjUKFQo9CpsKEwuLCwgMkgwZDYgN8w1RDqAOlw5DDt8Nfg0ADTQMKwsHCvAI3AevBpAFdwScA9gCPQK9AWYBQAEuAU8BSQFJATMB2wBYAI//mv5+/VH8AvvL+av4ove+9vP1SvXF9ED0qvMt88Tye/Jc8lnyZvKN8tHyEvNN84rzk/Og85LzjPOB82fzQPP98qXyNfLA8UvxxPBR8CDwP/CO8APxgPEf8uHy1vPg9AH2Jfd++Pr5i/tO/RH/wACKAk4EDwa0Bz0JwgpADJQN7Q4+EGsRihKWE4cUMxW9FQgWABasFRIVfxS9E8oSwRHKEBMQeA8WD7IOUw4IDtMNmg0mDZgM4AvzCuoJ1QjXB9EGyQXUBA0EegMGA58CMQK6AUoB3wBEAHP/hf6H/ZP8nfux+tf5Ifmk+Ef4BPi293j3PPft9pv2Lvaq9Q31XvSz8wzzdvLw8Wrx7vB98DHw5u+M7yLvoe4b7o/t/+xk7M/rR+vM6nvqQOof6gbqB+ow6m3qu+rj6gbrI+tu69frTOwZ7Tvu5u/V8fHzTvbD+E37sv0LAC8CDQTCBTYHhQijCcYK3AvGDKENlA6gD4MQTRH/EZMSAhM+E1MTIBPDEkwSvxEjEYwQFxCuD14PLw8jDzgPTg9kD2oPYg84D+kOdg7ZDSENXgyXC9gKIQp3Cd0ITAjABzcHpwYHBlAFiQSvA8gC1AHmAP//Jf9j/rb9G/2R/BP8l/sY+5f6Bvpw+cf4Fvhl97D2+/VR9bX0IvSl80Lz5vKc8kzyCPLG8X7xM/Hm8J7wTvAL8NHvqu+S74Pvhe+U77Dv1O8C8CzwVvCR8NHwNvHE8XzybfOX9PL1h/dB+RD7/Pzj/rYAiwIzBM4FTQesCAkKTwuCDKYN0Q7rD/gQ+hHZEp4TPxSyFPkUCBXgFJgUNxSzEzATsBI8EtwRlxFvEVYRSxE9ES0RBxHEEGMQ4g89D4YOwg3sDBkMRQtxCqkJ7ggyCH0HwAb3BScFSQRbA2UCXAFTAFL/V/5j/ZD8zfsc+4b6//mE+Rb5ovgu+LL3J/eY9gj2ZvXD9C30mPML85TyHfK98WvxHvHk8LDwevBE8Bbw5++575bvbO9M7y7vG+8a7ybvOe9e75fv2O818KnwPfEE8vPyAvRI9Z/2D/iY+Rv7rfwn/pj/AQFYAqwD8gQ8BnwHsAjhCQkLIQwZDf4Nvw5ZD80PGhBGEE4QQhA2EBYQ+g/tD+YP4A/kD+sP9w/nD8UPmQ9GD94OXQ7VDUMNnQwGDG0L2ApHCrYJIwl5CMQHAAcuBkgFVwRgA1kCZAF5AJb/xf7z/TT9i/zg+0v7o/r8+V35q/gb+H/32fZL9rb1LfXC9F308POZ80Tz7PK+8n7yPPIQ8t3xrPGb8XXxWvFE8SnxK/Es8TXxVvFi8ZTxzvEA8lLynvLv8kjzw/Mn9Lb0RvXW9cD2jPeD+JX5gvqq+8P83/3//gwADwEkAjwDUwSBBaIGyAfgCOwJ8ArgC7cMWg3uDU4OnQ7PDucO4w7VDs0Otg63DrQOsA66DqoOpg6KDl0OEg6zDVENzAxUDM4LSwvUCkgKyQlPCcsIRwiwBw4HZAalBecEDQRJA3kCtAH5AFUAqf8H/3z+4v1H/b78C/yB+7z6Q/qn+QL5jPgO+H33L/fN9mn2IPbt9Yn1i/VY9S71E/X69Nr00/TF9Kf0zPTt9A71KPU69Uv1k/WS9af1rfXM9e/1/fUU9kL2U/ZZ9sb2/vYv91f3yPcg+IT4DvmV+S765Pp0+yn8qfxB/eH9WP4J/6j/cAAzAR0CFQMWBAcF9QXvBuQHtAhNCdsJLgpgCrsKCQuOC8ML/QtZDJ0MHQ1QDVwNXA1PDW0NbA1EDRwN2gyGDDwMzAs8C48K8gl9CSYJowjoB4wHXQfuBnIG0gVZBdAEFwSuA78C/gFHAYoA9v+l/0v/r/4w/qz9W/08/cX8N/w0+z36a/k9+bP5aPnH+d/5UPnY+df5HPsA/Lz4Lfk9+qP5oPmp96j3efhB+AL44/cV9wn2svXJ9Q320fXi9eb1gPWH9sv2HPcB9z33Xvg9+JL4Bfl/+Tv6fvoU+zj8Qv1v/Q7+v/6l/3AAGAGrAc0BfAINA2YDoQPBAysEoQQ8BQ4GiwbQBp8Glga0B1wIxQjDCMQIbAmTCmoLaQs5CwoLmQt9C0kL3QqgCV4JxQi/CLsInAj5B1kHkAccB5cGPAVTBMoD0AIKAsoARQCv/2z/4v59/v/9Ff15/AP8bfoT+ZP4wvf59s/1U/Wv9Rj1AvVN9Vf0BvTX8ynzGfIU8ofyU/JV8kfzSPIU8lbyXPM59CT0dfTb8zv09vOM88ry/fG78kPyKvLt8uPz//Qq9ub3F/kt+qL6Xvth/WT+8v4p/6wA0QLkBDcFAQYSCXsMHg5GD18RLxR4FgcXhBbJFjgXJxh5GN4YNhodG70bnBuiHBAdMBzkGdYWkhUsFY8VWBXXFCQVFBc2GRIZdBegFDgS+Q8BDlgMVwpyCLIH4AeSCAcJZwhjBxsGugQ+BFYCmf+F/Sr8Pvso+lT4Uvby9HjzhvJm8Zfuzevt6WLp3OiW5+blJ+ZZ6OboB+kg6Mrnh+fB5c3kEOTJ4z3jBePM5CfkVuSJ49TjpeRk5SbnmOel6P/pxO3m7wrxnPLS9Kv35/g/+wj9RAC3ApQE7AarB1QKYQxfDh4PVBB0EWATJxYTF2oX6Rf8GCcbuRv9HCEdRB5CH14fnR8RHpochBoQGnoZkRjFGOYXFBi2GJQZFxr2GJkX7BRhE5cQbQ0HCtIGsgXhBfQEHwNfAjsC+AGBAWf/AP0H+475bPgh9wj1YvNO81rzD/PX8LDt1usZ6qfoAOVT4nXgrOAG4RvgWt823aHeAeEq4gPh694d3+ndmdzd2YrYWNmK2dbaDNwx3wbiFuQH5vTm1ukz6oLpuuji68zwTvQI+Ob7wQA7B5YLTQ5rDt0O/w1UDhgP3g4AD/IPAxMbFsgYbhsvHIwcVx3IHEMcnhyPHDYclh36Hc4eSB+OHhodgBsxGrYYRRj4F0kYmRnNG8ccbB0GHpkctRj4FAURIg0vCWkFEgTBBKcGjAXZA6EC7AE3AAn99vlq93P22fXS8/fx3+4r7Sfrc+hB5APhNODC3mHfEN/a3UHdL9/e4S7kC+QR4wfiIOJy4g3ipN803cvcQt/Y4bDfkODD4+vldugr6f/qz+xt7f3tTvGu9dL3FvsI/moEjwkkC0oNaBBWE7kVfhaHF4QYBxowG0gb2RpTG+obThyJHJQczRwzHmoguyFZI9kkHCbnJT4kuyGnH78c7RrrGZUbJh0mHwQgzCASIQEh0B7jGtsWIBPSEMoOtAvvCaAIrwdoBkEEpgHa/xj+I/xS+rL4gPfe9L7yAfDm7A/qCegK5y3mH+Ue5D/ku+Od4hHhY96y3FraMto62z3b4to62grc695J4JbeSd2p3Tndc9zu2RHajNsG3/rgxt8R4u/mHPAh9j/7VgGiB9APChT+FJoT6RIUEzoUxhWVFRwZwB12ISwjxiKvIqAhzCA9Hj4cARvZGvwaFRtUHiofryDBIIEgLCEBIw4lPiQnJPMjPiQ5I/cgqB61GngY/hQ+EZkPHg91DsUMKQxwCy0Ltgl2BZ4AxPtb+Jv0yvFO8HbuDu8j793v5e9D7z7tb+jA5L/e7dnV1c/ULtYt1+vZH9tl3gLfD9/53vLdw9x42ZnY6NdP2FbXk9VV1cPU19aQ2fHaDtyU3hHnQ/Ds9In4EP/wBz0QQBMeE7gU/hj0GpIZ5RbWF7IXHhivG84d2R/bHmEf4CBJIh8hoRwnG+Ubyh3XGlAZLhvlG4EcVxuQHg4iVCXSIyUhAyDfHgEfjBp3GIYWZROfD1ENgQ1aDBoLJAkLCkkJKAcnA3j/E/19+ob3I/Q18oPvNuxK6YnowOeM5bvkOOWX5TXiH92F17XS4c+JzjbQ5NLC1fbXg9m42e7XeNek1HXTVdJX0bzSMtJt0+fSRNRF0zPUYt9s7Bn7Mf+1CRYUEB0xI2sgRh7jGFYZIhcVFrEXkhUPFqEXnxsGHDgaSBlGGhseoR9vIGQfSSHLIoIgfB2sG9ocJh0KHowgriQAKDko5iYKJr4kmSHOG1MYABdSFU0RTAzECx8LiApcB0wEOgNkAhQCNf+k/AX6cvgT9/T16fNv8E7tyeki517kROFD3RfZKNZs05zRl9A+0QrSutOp1vvYXttI2p/YEdVP0mHPusx8zGfLPc2MzojTrNaY2tzldPVwBYEMtBV6HjImciiZI6weNhalFCURUBH+EcgQZhSLFVocsh0HHYUcQxsUH7IczRu3GesZNxyVG20djhweHxQfgh+VIusk/iesJRElKiSeI6wfohdbE/sPbxDADvANihCOEUQTXBOrE2MR7Ap6BF//Vv0y+h71VfDU7UDuvu3h69TpoeZu4yvgmd1n2t/VZNIqz1zOwM31zZ3Ph9Ai0j3T3tPA0dXOwMzDykjKPMcFyM7LY9Ei1ifdp++oAygU8xpiI1wtOzFwL3IjGxxbFrERfw4zC48NmA2WDp0QxhMiFwAW3BZoGBkctR3kHO4dbB9XIXcfrh21HXogtiFRII8h4CNfJkUlPCLLH4IdPho5FCsSghOpFdcUtBBJD5oNVA3SC0cJIAZxAY3/x/5i/xz94fc880nxq/Gz7nTp4+P+35ncwdjn1DzQmM06zHzMk80Zz3jQCdCI0J3QINAuzVrKnci6x2bHWMf0yC3Mis8y2Bbt2QfoHMIkIirAM207KjhHKY8bZBMJENgNkAxJDeAKuAjTCfEP/BM6ETENVg4MFQ0blByHHD4eoyHEIzgjJiKKIOIe/xxdHaUf+SAXH/AZwhY+FgkXqhREEQkRGRPKFmsXPxdZFKIPhwtrCMEHXgSX/gP51/bl+Jb4Q/al8nPwy+8j7bbpy+N33bjXtNMQ0gnQHc6Ny4XK9spGy6nKWMizxnfFYcWSxjLGhsaVxX7Ifsv/zgLb/vAREC8iRytcLgM3gj4XN3cqcBo4FqETMRIqEv4OgwzcBSsGaglfCygIVASTCO4QrRkvHDUegiD2I1gloSNfIqYg5h8VHhIfxiDEIT4drBaKE5ETZhOLDqwMCA9zFsUZmBn1FjATZg+uCp0IcgVbAEH5APam96f5CfhD8zPwoO8Q7zbs7ee24qTejtoP2FDVA9H6y+/H3MYUxlXFu8IEwtjBpcPjxcPEOcUpxKLHvcgMzTLi1/+fIlAsEDFSNwdCxURAMnIiNRjnFgIU9g+xEZYPcQmMACQAsQVhBer/SPzVBJMR4RndG0kdxCEHJcYlGyT8IywkfCKQIXghciNwIIAZPBJ0DyQP1QyRCsgKkg5UErIUvRbZFywUExCPCvEJJwUmAF36pvge+qr48fe181Pypu+37QTszug25dff7Nsz2U3WANKFzMXIDcbCww/Bxb6RvWO9cb9ewK3BVcKcxHjItczf4XwBTyXtNM82vz13RlJJ0TZLJLwadBhdFYkQExI0EYQJcP3S+CL8Tvw696D0/vyjC0IX9B2cIa8kRyXmIxwj7iOuJXUlBCUnJ94pIyjuHoUVww+aDIgI2QUxCX4NdRGlEsYVyBYFEukKiwQBAyMA+fxn+qT6Cvx1+3v6Cvjm9IbwJu1O7Jrr+OgT5N3fxdwP2UrTMMxrxqTA2LzZue+6DrxrvSi9m7tIvlS/r8QMxgXU4vO8Gg85TTtjPm5Ep00aRpAwjyLWGl4bYheFF2AWmA75AK/0xvP59Ifyv+x57z79lQ0XGdochx8LII4h4CAVIvMjPSasJ2co6SvjLCkpKR7tE4UNhQonCZIH4wggClwNpA9EEAAOFggrA93/Vf9V/xT9MfvT+cT6Avvk+Jf1SfHp7l3tOO0v7Ebo9+Mi3zzcaNeK0T3KWcMuvsS5cbipts+2x7YPt7y467vSwa/H2dCZ6MwN8DEMQqdD5UgGUrlRBkGxLQkk3x8xHMMXgRZOEowHqPoy88Ty2PDc6wjoOe2J+TIGsg5ZEowV1hhbHC4f2SFiJQ8oBiqELLQwczLPLewjEhqBFGgRwQ4BClAGmwTtBUcHhgZcA3v+1PrM+JH5e/ny+K73r/jp+tT8+fw6+t32ZPMQ8gXxVu726a3kcuBz3ATYQdJ4yujC/ru0tym1MrT7s/ezz7QHt028HsNEzK/Ypu5LD8YuhEGfRhtM5lTIVBVIbTWLK/knzSOGH+8ZWRZGDtYDO/r18jXvJ+kP5TPlneym99r/kQXTCOUNxRIRF70aph6ZJHQpzi4SNMQ4wjg8MospNSHAGwsWwRDyC/wHdAYsBG4Cy/5K+yj34/Hj7uPtYfBp8ln0YPZk+Hn6J/ss+1n5yvae9GnyqPDQ7fnqE+cK4qPcjNbJ0KrJlcKbvDy5F7mguSS65bm0u36/3sNPygTXmfBHDn4lXDEPOpRHEFAOTiZCzDi8NDQwASt+JnslMiKgGrsQIglGA2z7VfEs6Kfl4+fV64nu7vFo9xv9mQJaB4oNZBPmF2EbBiDTJvgsDzBHL5QtsCz7K1kpJiTuHWsYvhJeDJUFAACy+8L29fEu7kjtkO0d7dDrtepS67XsRe4Q70LwUPJp9B32hfbJ9kj2ZvTB8Nfs+Ok657nj+d7h2vvXutV1017QfM2ryqbJUslEyjvOWdhA6ZD5uQTHCrMSQh2IJL8lHiNPI2glaSahJXAlHCdmJ+gkhiB2HRAbGheuEEsJSgQUAW3+vfo39wD2NvZn91/4PPpq/csAowMCBqYItwsYDhMPcg+uEDQTchVIFlAW1RYfF3cVHRK7DgAMrQh8BGQARP3k+oP4lfZJ9fT0pvXP9gn4bvlW+2j9aP4//tH9tv0g/T779Phc96724PWV9Bnz7/Eb8Uvw8O+/76DvPu9x7pfty+xi7GDsKu367e/uvu+08F/yDvSW9ZP2SvcX+NL4ePnu+bb6svuv/Jj9xf6YAIIC0gN6BAIF3gWwBh4HcAdCCPIJBgzmDYIPCRE/EqQSMhJBEY8QCBCTD18PfA8EEJ8QyhDsEPMQxBAZEMgOPg3YC6oKiAlNCCIHOgarBTkFzgR6BDUE4gN/AwsDiALjASABPQA2/yD+G/0r/Ar72/mm+ID3ZfYZ9eXzsvKo8bXw2+8876TuG+6D7dvsP+yH69TqiurI6n/rK+x07Hfshey27PXsQe2S7Qjuyu7i77jx7/M39k74Dfrx+/f98f+TAdYCAAQ5BXcGrQfoCDsKeQuiDLoN6w4jEBERtBEqEp4SIRN9E6sTzhMaFGUUkhSeFJsUlBRPFLAT1hLrEfQQ6g/QDsAN2Qz8CwUL+wnwCPgH9AbGBXoENQMSAvAA0v+//sv9/Pwr/Fj7kvrV+SH5UPhq94/2vPXp9A70MfNe8prx4fAv8Ibv4u5O7rTtDu1s7PDryOsL7JbsJe2s7TTu3e6l72HwFfHC8YjyifPQ9Hn2dPiK+p/8lv5xAEoC+wNZBWAGHQfAB2MICwm5CXMKNwsMDPgM4w27Dm0P6A82EFsQaRBrEHEQgxCaELgQ1RDvEAER6xCVEPkPMw9XDmENUQw4C0EKaQmcCM4HEAdkBrcF5QTyA/UCAQIUASwAS/+P/vX9bv3z/Hj8BvyJ+/D6PPp0+Zz4u/fZ9vf1IfVZ9KHz+fJR8qzxDvFx8MrvDu9M7qztRO0l7Untiu3t7XHuFO/P743wV/Ep8gfzDvRR9eX2tvif+oT8X/4tAOEBaQOtBKMFXAbxBnMH+weRCDkJ8AmtCmsLKwzkDHwN5w0eDi4OMA4yDjwOVg5uDpAOuQ7vDhUPHw8BD6wOIQ5oDZoMvwvfCvkJFAk8CHIHtwYCBksFhgSvA8oC5gEHAS4AY/+k/vr9Zf3d/GX87ftp+9n6OPp++bX44vcF9y/2X/Wg9PbzTvOy8h/yjfH/8Gjwyu8o75buLu777f/tLe6C7vzulO9F8Anx2fGn8n7zdPSV9ez2dfgY+sr7eP0i/70APQKLA54EewUwBs4GagcOCLsIbAklCuoKqwtmDAQNeA2/Dd0N4g3gDdgN1g3cDeYN8g0KDhwOGg70DaMNJw2EDMkLAQszCmMJlwjZBycHhAboBU4FpwTwAywDYAKRAcYAAgBI/5v+Av57/fn8ePzw+1n7s/r++Tr5aviV98H2+PU79ZL0+/Nu8+zyavLg8VPxufAc8IzvDe+77p7usu787nLvDfDH8JLxaPJH8yn0GfUl9lP3qPgc+q77Sf3u/ogADAJrA5oEkgVdBg4HqwdQCPcIqwlxCj0LDgzXDIkNFw54DqgOrw6WDmsOOw4VDvQN3Q3QDcgNvA2ZDVUN6AxQDJMLvQraCfMIFwhMB5UG8gVhBd0EWgTLAy8DggLDAQIBQgCH/9v+QP66/Uf92/x3/An8j/sC+1/6q/nj+BT4RPd+9sn1KPWX9BX0nPMp87HyNfKu8SPxmPAT8KfvZu9U73vv1O9P8OvwnPFh8jXzE/T79PP1APcs+H/59/qQ/Dj+2f9qAd4CLgRVBU8GIwfYB3gIFQm3CWQKHgvdC5UMPA3JDTYOhA6tDrIOmw51Dk8OJw4ODgEO8w3dDbsNfg0iDaEMAAxFC3QKnQnOCA4IXgfFBjcGtAUuBZ8EAQROA5ECygH8ADMAd//M/jD+ov0f/Z/8IfyW+/36WPqj+eL4FvhH94D2v/UR9Xj07PN08wLzkvIl8rLxP/HZ8G7wEvDH75rvo+/i703w2PB18Sry9fLT88n0xvXK9uH3CvlY+sv7XP39/o4ACQJjA6YEzgXJBpwHQgjJCEYJ0QlyChoLwgtiDPQMeQ3mDTYOZQ5sDlYOLg74Db4Nlw1yDUoNGQ3VDIIMGQyUC/wKQwp7CagI1wcSB1gGrwUUBYEE8wNfA8sCMAKMAd8AKgBt/7X+AP5Z/bn8GvyA++H6QPqf+fr4Ufim9/n2Ufai9QP1cvTk82fz9fKE8iLyu/Fe8QfxsPBl8CHw6O/N79XvCfBr8Pbwn/Fo8j7zJfQk9TH2VveE+Mb5HfuO/CL+xv95ARkDoQQDBjkHRgglCeEJdwrzCmcL3wtjDOwMeQ34DWQOtg7lDvQO3Q6wDmoOHA7MDYYNUg0lDf8MywyODC4MtAsfC2oKqgndCBoIXQe0BiIGlAUdBaIEJASXA/kCUwKhAesAMQB9/9X+OP6o/Rb9ivzx+1f7uPoL+mL5sPgG+Fz3wPYs9p71HfWW9BT0ivMG84Dy8fFk8dLwTPDG71nv8O6Z7mHuO+5Q7oLu2e5N79rvhfBA8SfyKPNU9JP19/aJ+DX6Fvz6/e//ywGCAxwFhwbYB/kI/wnnCrQLcwwhDdENYw7kDkMPgg+mD64PqA+fD44Pcw9SDyAP6w6yDmcOBA58DdsMJgxtC7QK/wlECZcI4gcsB34G0QU5BaAEIASsAyQDtQJYAg4C0QF5ATcBAgG2AEwAov///lv+ZP3f/NP8s/yc/Jj8u/wC/VL98vw5/LX8pvsO+Vb2GvWi9MjzIfPX8Wfvr+x56jfpReha59PmyOYa57zno+jj6Svrj+zv7ZnvvfE39Ob20Plh/HP+bACIAtYEcQe2CZELNA3DDm8QzhESEw8UzxQsFY4VXxYaF1EXwRaZFTMULxLiELIPYQ65DEsLQAqDCW0IYQcmBvMEwwMEA30CSwI2AjgCYAJzApUC6gJbA6IDoQM8A68CCAJkAfQAxACvAIcA9P8q/xr+ufwY+3D5efdq9SHzIfEj7xftIOvJ6A/mkOKP377cV9rj1xLVIdP80LXQYtG91d/czeTa6jDs2e3x7331PfvRAXsJLBBeFnsZCh0uIMUjeSb2JsQnrShJK4ksESvmJ/oidh5/GQcWqhPBEYwP8goaBp4AH/09+oz3tPVb9D71w/Wo9nL3hPgA+nD6Y/yv/yUF3QkMDckPQRInFdoWXxlvGxYd8BwfHI4bgxo0GRoXSBRTEfkN6wsgCRkGfQKv/vL6hvZy8yfxne/87Knpiuau4+bhL+BY35Heqt2c3KDa3NgT12PWFdWx02TSC9IR0v/QcNCm0FbS7NiT5VP2Nf/C/Rf5LfvoA5AOXxnKJGcsRStbJWMiVCepL/k0zDVnM78wES2NKIAjyx70GqcW+xJTDxQMtQcFAFf3LvBL797xaPSg8/7v6+yw6qbrS++l9lT+/wE0AmMC2wYjDasR6BWJGmkg2yOwJDIliSPyIaYfBh/mH40enRt9FJ0M0QYsA1wC0P+W/D74KPJs7FfnxeX65dDlIOQn4RHf2N2R3bTcytxO3Qbet91F3Zvdttzs2YfVsdOt067Uv9KdzjXK38dTyW/KxdIU4/j2iPzP8Evnae9rBNQVPyDHJjcp7iMNIAIndjZAQwlDBj0vNzQ2eTY/M4UvbSr6JZUgZxnKEj0K0wHp+R/0I/O384fyZera3+fao95V5gDr4uzr7RPvCPB981v8oAcbD60QwxEaGGMg7CVeJ3EoGSv3KwQsFytgKVMllR/+GrMXlRX1EYALpwIm+wX4KfYj86DucOqy5iXjl+Br4LzgHuHa31jeIt7a34Hh2uCY3zbg3OGx4VzgMt6Z3Hzaddje1vLSMc+Xyz/I7cVQxC7G981W3YzwvfOv5hzcdOm+BrsYdR/sIJYi9B6eHU4s5UE/TRBIND2pOQI8Xj3eOsA1PjIRLoYm2BvrEZsJeQOw/S76dfbM8njsveJK2rrZPOJi6p3pO+UP5GHoZu5q9Yr/BQrXD1kQcxCIF+UhliopLjsxRzXANMgwhyzBLXsvdC58KnMkqxziE60MkwgqBoEDz/7T9rftaOc15XXlSeUU5Gfizt/N3LDbYN1b4VTkluRP44ji5uEo4rjidOUD6MPmvuJL3DHZ39cn2LHWX9KNywbG8sIFw+HDrMYm1wDqYfU75rvWat/o/+cdsyISHcAZHB0EJaQwkkMeT6dM/kB4OiI/r0WsRLc+gzixNFcu3yJGFl0NXwneB/QDI/2Q88LpaeFV3cnfD+dy6+Tm1t3p29PlAPId+Wj8uwMcC8IN5g33FAAjdi5eMg4zaDTuM3ExOjAoNZM5hzhJL5EjDRwTGY0Y8BMIDWQEVvs58xLtvOoD6nDncORj3qvZg9cL2ZDced4B4dPhn9+y3R3eRuRB6IDqPupf6BTmY+Re5cDmpeUH4yreCtkE1I3Rc9DFzW3GPsCBuzi8UsDkyU/hoPBA62nVS8xe7VwSSSbeILwWQBmbHAktfULQUw9UbUX0PHhAXEofUPRI0kAkOhg3GzBpInMX7xEVEEYNNQWp+VLtn+Mg4VnjvecU6BniT9pS1y3foeuX9L72+PU4+vQBBApeEJMYHyIoKqwsvy1eLhEv1DAbNJ05qji0MXAn0iDZHy4fKx3fFH4Kkf/K+If0RvFQ7dToVuSD3rzZdtal1tvX49i82Wraq9k32N/YZd1z45PmgOUo4wXikuMS5wPqdeoi6PTkPeIG3zzcqtpE2rTX08+YyqfEjMPVwLXAg8Luw9HQ/Ofl9sTqxtBg14wCtyiNKXIWGRQYI4Uv7zlUSRZX+1KzQ0o/r0reUxxOdUMMQPg/vDgxKCEbWBjhGaoWnwqc+4zxQe1E69roiecF503kPd5b2t7diOYU7nLy+vPJ9rn7jgILCuQRDBvSISclZyRBJzgsqjFPM2YzOzGuLJcnSSUaJFMh/xoSFBUN1QMG/RX5jPbq8SPqDuSd3+rbP9st2wDbD9kD17PYCNmA2zDds9/u4Rbjg+Vu5n3m8ucG6v7s1uyz6wLqhefo5+TmD+ch4/Pd8NmP15fWStMfznnKA8Sqw9PCfMRnxhHIduV0+WT8YN4M06j5XCZHNroilhgUKL8zqj3lRg1YjFzfTbhEkkoyVL1S8UWnRHFFYj6bKy0aLxrQHMwZNAyr++/zje3B7FbpnOfO5fvfktwA2bndMePS6NrvBPJF9fD1gv03CRYSAxrCHBwhUCJgJcos/jEbNagxMy7MKxcoLijbJdsiPxtREtMMrQX4ANb7GvhY87bqU+Th3+TeCN+n3svcY9h21hzZ4d364Pjh9uI05CLlcuhN7c/wj/Gz8YTyVPOI81vzUfNN8fbuAez06CLmTOJr34ba2dbO0uXOmso/yJnFQ8P2wePAocFAwx3VQfLOABDwe9iu5MgSNjVDNGUljSQrL9E6EUnaWbtgrVX5SMhKOlOTVFlLDkV+Q/Q9xy9OH6MXUxZAFeIMZv9x8k/plOUY5YDlDOS/3pXYudZz2pfgFOY+62jwvfNg9h/88QaQEF4WyxnUH24lQyjrKEgsejDmMSwwjCwiKDgjaB9OHl8bBhU9C7MDqv17+Yz1GPGZ7LrmLOIA38rdft2z3sLeSN6Z3UrfV+JU5X3ol+s67knvcPDM8lz1uPfH+XX6tfly91X2XfVr9PPx4e4t61PmtOJ23ojbZ9e80lTOjslEyDnFRsMUwEq9UrxevLe/4cLuxx7a2/QuBbf2yeHu8Fgd+kKGPaQsACzcObpJO1LxXOFfGVaZTL1KZlKpT2JFpzzzOeI2SCdOFZMLAAxLDAEDLPWh6Z7j3OFE4aviiuE/3pnaHtqa4Nfmneym8Rf3Q/06ALAGWg/iGLEdWSCGJmQrhC1FLH8shS/ILjAsxye0IVYcvRWmE/IOHwmrAaj5ovRW7vfrxejd5W7i298w37nefd/24b7kOucA6QHs7O/C8j72+fn4/ez/6gCOAfwBmwJLA7AD8QGf/hb7Y/cA82DvKuzy6G7jrN2y15bTe9DTzRPMk8gWxeXAYr9bwJbAvL+gv7y/zMM6xkPMaNED3O71lg+NFt0AV/XIEes+o1S/Q9k0ejjFRSdOC1NsXLdbOU2WPs87x0EkPk4z6SqQJiEgJBCsAvL8+v+eAAv5XO0r5BXiguQi557qBuzf693p4Omw7zH4PAH/B5QLyg3wDvkUjhzvIx8n9iiiKVsoACauJN8ldCW3IVAc8BWbD2kJ8AWPA1EAPPpx88Ptt+kd6LXoieig5kjkYePC5XLo2uuc7u3wrfNZ9yH7a/3z/vQApQOEBVgGAQY8BPEBDABX/i/8Afm19eLwHeu15dLiK+BO3ODXeNP6z/PLlckMyRvKjcqOyQDI2cZkybHMlc870MjQS9Ow1wvdveJy6dn3PRD5IOQcugfWBhomc0lIUq0/MTDVMU86hkQCS49Ow0X2M2QokinqMC8vziOmGe4TERDRB43+Tvu2/Ev/vvvB8iLsuekZ7xD03fjd+i76Afj59m38RAZNEI8TRxKZEEMTeRj2HNcfniHNI4AhQB36F7QXlhggF9sRBAu6BZ8B3P7p+8j4mfXR8vDw7O0868DoBulJ6+/tve9e74nu3O6T8lX5Df4kANP+OwCwAXUEIwVzBqoFyAPKACD+ZPzw+cP2nfLR7s/rEujq4rPdCNsC2gXZQdWr0ZbOnM3qza3Nq84gz3DRJtJa0vzShdVM2cXbbd2W3breDODa5n3uV/vjC8EadR3HDjgIRRgZNjtG8D5eMkktWC30MXE4FkGqPzMzmiYYIDghJCC3HRcaSBYgEeIHV//1+YL7YgAJA2oA9PlV9A3ziPac/NsDxAcQCEUEJANFB60PxRagGaUZnBhWGAYYfhg4GgIdYx7EGr8TLAwfCI0FHgULBdgDhf4s9SLvuO0W8lX0Z/V38jvv9Ozh7XTyuvUZ+Zj6WPxi/Gr8qv68AT4F4gdFCpgJjgXkAUgBcANMBAkDoP5X+H7y/+607RrsEeq55lHi9tzt2L3X/Nfb2NHXaNbL03PS2tLO1M3XS9kj2h7Zg9j22cjdJeIp45fhOd/c3mPi8OnI9E8DhBCDGKQRWwgKCpMdHzTKO3Y4PS/KKbImnCkqMiw49zYcLQIinxoeF1cWzRUSFQAT9g30BiUALvyH/Lz/HwQRBokFlAJg/0r+WgF9CY0RORaKFXoSwhCMEeUVXxr3Hdkd9xolFmUSBxEOEcAQ2Q6jC1EGBgAu+pD3Xfdz9zj2SfTd83nzvfGs73nwBfZM+2f+LP0R/LH7GP4HAXIDhQSZBTcGPgXFApYAtACCAQYCiQBa/dL4V/Tl8dbwSPDn7sTsO+mf5NvgPN9M313f89964GTgMt6r2yPa/dqT3evfPeFd4L/fJN5a3d/c397O4STkkeMA4ZvdWt0z4XXoVfLM/f8MRxaRFloOuA2UGvorWTfBN4014zD2KzYo/ychK20rPygXIQcaFRRBDp8ILQQBBBgGrQdnBn8Cbv6E/OT+LQRmCr0PlBIGEpIP6w58EZsVDhlHG9EbpBpOGJEV2xKIEPIOkg0CDFwKPQgtBKf+kvno9nD29PZS9yX2ffQ187TzJfVv+Bn8Tv+TAJkBqQJrA5QEVAa3CDsJYAhEBmEDyQC5/hn+jPyH+2r6Nvkl9lXyte/27oTv9+/B7x3uQOyU6sTpO+nb6OPok+hd6N3ns+cn5wLmfORU48LjAeXw5THlyuOi4tPhQOHP4Gjgb9//3bLcYdzB3F7ezOAg5TDrzPC393kBkxAxG6cdbBvWHm4niS5uMaUxwDA9LkIrQygeJIkfpBrgFe4QbQ1bC3cHPgLy/c79MgDjAl4FKwcGCqEMWA99EZAUcxjdGlQciBzYHb8dpBwHGvkWABXOEiYReA01Cp0GwQMOAa3+yf17/ND7wfnY+IL4g/lz+jn6d/ox+7z9/gD8BOUIVQorCmII6wfKB80Hpwb0AwMB7v4i/lb9WPsP+Rj3jvWT9PfzmPS29IT03vPC85TzAPMJ8jDxuPCJ8HLwj++R7rXtHu3m60bqqOn26VPqbOmR597l8OTO5A/kN+N/4pniYuLo4dnhjuEH4QvgveBJ4qjkxOVh5iHn6upI8gb6bQFCCAMSDBuSILIigSMuJmQnBChfJ4kmZSUcIqkedxlWFf0Qlw0VCugGugX/BDIFVwQ4BVEHkwoVDtMQGxTIFrMZlxvmHNkd7h1aHTsbDBldFs8TqhBZDSoKSAc4Be0C9gAB/1X+3P2u/ZD+VwBFAgYCugFIAV8B0gHjAmMFdgZrB6cGMwWEA7oCJQTjAwEDuwBj/779ZPsV+Zz2LfVy9JH0b/Vu9pT30feE90z35fat9hv2C/at9Qj19/NP8njwye6T7QLs9OmI6APoMOj758PniOeJ56fnZufw5gXmPuX34znjJ+Nr5IjluuUS5Qrk4+Ow48rjmeMC5EflAefS6eHt6fOW+s4BHQqFEzgc6CBCI8YjMyW1JBIj1iCUHvscjRlcFpESfw+UDGoJEgc0BaAFzgZ9CDMK/gyEEYQVNxluG9QdTx+6H8gfLR8JH1MdnBoBF2kTUBCvDEQJ1wVgA6oBlAAQAL3/PgDZAMYBAQMLBbYHHQlLCWwIAAjyBw4IhAjWCIEIwgb4A28B5/84/63+Kv1L+0f5gvhx+Mz4OfmQ+Sb6IfoA+p35W/n8+Bj4d/cQ9yP3xvaS9fHzPfLN8CLv7+z46nTpKOlL6WXpZekw6YLp3uh26J/oEOok6zXqVuj35ZHk1ePQ4+Lkm+Xi5knnVecG55/mb+ai5LTiB+Kw47jnM+1T9AL8ZQWFENcaBSJKJSIopCjPJ58jqR9xGycXPxMGD8cMEwp1CO8GXQb+Bs8HQgowDAUPHhKDFo4bih9UI2YlDSe3JjslfyJ/HpAZ7xPjDqgKLQctBC0C1QDjAIQBZAPHBAgGLQc+CIcJ4glzC+sLPQwsC34KVwqUCVgJtAcLBikDFQF6//39mvwX+w/7HPvO+9z7A/z3+1j7KPtD+p35fPjX95L3SfeC9033APfq9ar0gvNr8pHxEvC/7obt8eyo7ETsLOyu60Prf+oH6p/pCuk26JrmDOV64w3jweJF4vnhfuEa4iriDOO/4zvkVuTb4o3i6+KH5ITlY+Uo5gfn7eoN8Fn3ewEWDzweEihfLVswnzJ3MAgpNB+KFukOwwgCBFUBTgF5AtAFDQk7DIcPJhJUFQQWthcoGgkecyEYI5QlkSe0KU4pEifrIgodfBb4Du8HNwFO/I35IvlM+wv/FATsCCsNOhAQEh0TuRLFENMNCwsnCYUHgAb5BYEFEwXCAz0Cs//j/Bn6Y/fe9Tf1SPYx+M36lv2U/+8ARAFtACT+7PoT+Eb1nPJm8IDvee9676zv8+8K8I/v7e5S7mzthezC6wnrPerZ6WjqIOuC6zLrkOqU6T3oieac5N7icOE/4ILflt+44C3ijOPS5J7l7eWz5aHlUuUy5BjjhuKV44rmsuri8KT64QkwGiMmMS7JNPQ4njfxMNcokx+CFc4MogVHAsYATwJNBfUH3gvuDoUSxROSE4oUixY4GnMceR9KI4gnpCsXLkAvki3rKfwjCBwbEycKdQIq/Cf4F/e1+Kb81AHlBoYLqA9xEx8VYxTKEqoQkA6IC10JvAd7BisFDQMCAQz+e/uQ+MX1jPPL8RLyOPNm9b33ffqo/Xf/LwDN/73+n/wd+Yf1AfIU79/sqOtY6zjrqes87IrsXOzI61Hrc+pK6UPotuf65zXoXOiR6IXoeOhl5xrmsOTW4ibhlt5T3Trcq9yp3QzeUd+F38ThjOLn4ljjKeN+5dPlRuiD7f34rgvjG5opmDKDO+pAUD5cNz0tGSJnFfcIdwDk+hP5L/vG/nAD+AjmD/YVTheUF2sYohpyHIkcsx5hIcol9ClWLX4w5zD8Lykr6COpGi4QTQYS/JD00u+h7/rynvjh/0AHgA/mFSEaSRtVGqEX7RIsDlIJfAUjAuz/wf60/Xb9VP3I/Jz6y/dZ9R3zXvFt8Anxm/Lm9K73fPqe/G39X/3y+3T58vVI8jbv++ud6aPnL+cY5/zmjucL6EHp2Okl6v7pC+lS6DTnm+bA5YbkY+Pb4d/g2t8Y36veNd5t3kjevN5H3wDgIuGr4fHiAuNV45DjZeRc5u/opfEs/2QRvCFjLuM4GD9qQhw+mTUAKZEabw2UAaT60PaN9yb7rgD+B7MPlBdrHIUewh7xHpAfbh9pH5YfYiEuJPEmCilaKdcnsiP3HJ4UtwsUA0H7JPX88T7yIvZB/JcDAAvxEYQXdBreGnsYiRQXDzgJhwNp/g77Dvl0+Lr4y/l9+w79Lv5q/sr9kPwG+wr5T/fG9Qr1BfX59Fn11/Sy9H/z2fEv8CHu5uzd6h3qielZ6ejpTOqd67brv+su64nq3Ok26HrmD+RD4lvg+94I3jDdnNyA2yTaJdg51gPVOtRR0ynSG9EL0tTTB9a816XYldpC3O/fJuSa6ij3AghfGaojmCvDMw45/jY1Lp0kehkuDG7/IPao8ZDw3POT+sMCHgz7FhoiOiltLCYuLjDvMOQuQiz2KeYoiiiHKB8o6CV1IzAgdBvxFOMNEQiqAt79Ifte+4H/NQXXCyoSDhiNHqAi4yPnINkbphXNDUUG3/6Z+f31oPRY9cf2uPlJ/WYANgHBALAAbgCP/0L+hP3a/MX8W/1U/nH+8v0V/Rf7nPeh82Lw3O0P6xHpcuhV6RPrI+2R74bxDPMQ9Onzy/Kq8Hvu++vZ6AbmqONO4kvhNeC+3/rebN793I3bLdub2qDZnteR1oDXINlQ26fcaN7E4ADkw+c27c73Dgk/GygnCy2iMcA25TUOLwolIhs1ERYH1gD5/G/8Cf9HBWQMOhK8GSoiXyj8KcUpHCvWLOosVCsYKikqMitHLIIs/yq9J8MjZx4dF6wOyAcTA2n/PP10/nsDdgq5EeQXqxzzHxgiCSGzG/gTMAz5BJT9lvev86HxZPH/8mD1xPdm+u/8yP2f/If7U/vY+yL8e/wW/aD9kf6T/nP97Pr59+n09PBm7ZbqUuly6LvnDehR6Tvrn+x27ZrtEe1/7AnsdusH6nPoBefd5W/k1uLW4U3gmt7A2znZuNfA1r7W0dVD1XzVBNet2d3aAdzx3OvdHN483dPhLu/XA0oWeiBoJ5Au7jO9MXMp3SBZFyQNqASw/+/9h/3NAV4Iiw18Ep4Y2B8HIrMg/CAwI9olASaJJvUnhik6LCYuhi4KK1omSCITHLkT8gq2BTICc//U/6QDtgl8Dx8VkBi9GLMXYxayE7YN/wa1Aen9gvv3+cT51vlZ+kT64PhE9xr2l/XF9On0bPb7+AH8xP63APYAjwAv/5f8LPiN8xXwdu1I61vpyej86DHpI+k46ZvpYOmn6AXomOeK5+Dnyegj6VLoD+fZ5U/kKOKB37zcxdku14jVYdVP1uXXONnN2iPdGd8w4Pfeit3b21bbzNv/3ejn/fqEElUiKynnLlM0hDTMK64h8xiOD88HWgTlBdMHcgtcEg0YfBplGx8ePB+eG/cXThhsHEAgeyP0J5ssljBTM+ozuTC2Ke0iuBxrFUANfgf5BSoGbQeqCm4P0hNNFqoWrBRHEWgO2QtDCDIEpgGfAXoCuAKtAVX/6vx0+tv30PTo8ujyg/NH9Ej2rvnr/F/+sv7m/ef7ufnB91v1QfIZ8CXwlPDl7+juNu6u7QvsPOr86KPncOZx5fjlYOcP6dnqnOs363/pvOf25RDj5d+o3Ibazthj2OzZRNwg3mTeV97V3vrf9N9l3lvby9ip1/fXStr44Hfwzwe3HMooty2CMhg1WC+hJWIbBhScDBwJSguGDvQRQxZFHOke2xx2G7wakRj2E4USAxdCHZcjNymnLx80ajb3Nk00lC3nJC8eXxlHFAQQzA70D0UR7hG7EtsSkRH4DgILkwZ2A40DSgXFBuMHHQqADJ0NGgxxCO8Cx/yv98rz6fEK8oT0Yfdg+Ub7ovy5/M/68PdM9Zfya/Fm8cXxo/G/8dXy7PKC8VHvI+2+6vrnNOa55dzlbOYe5yXoqehj6JTnx+VL43fg7N733mTfod8e30re29yZ27HbA9zT297aXtqq2x7dnt5o3oTcidr42B/asdwa5+z70hXuJ+0s3S1LL0Qt0yR7GjUTWw1YCiAOHBU2Gl8bHx5QIJkd0BdvE+ARNg/xDYASrhuuJJsqPi9+MloykTBzLi8r5STdHnMdRh7PHfcbyBrrGcQWmhPAEE4NawgwBM0ClwINBOcHFgw+DaoKCgi5Bc8Ct/+a/UT8uvpC+2/94f4R/hn9p/xM+rX26vPg8mHyN/Ku8zn1jvUX9VD0K/Po8MjuoO2L7C3ru+nR6d/qZevv6urpi+jA5hrlOeRO4/jhQOGj4STitOGG4NveZdzu2ffXBthp2cbbcd0i3t3e2N443mnckNrM2OfWgNWN1fzZuOmXAfoX5iBcH9od3hyvHGIZ+Ra7E4QRXhULHW8iUSEOHpgdPxyqGHUUGBKCEScRXBSOGskgoSMTJCgkciP+IWMhASM2JFkkCiUWKEQqWijuI6wfrxvyFuESNRBdDdcJbgiFCRQLiwuRC7AKaweaA4IA0v69/Cj8O/0G/ykAkgD3AM3/nP2b+5r6qfki+Df3nPcL+IH3YfY29cDzhPF+8LrwVPHK8GDwlfCB8I7vD+7Q7ATrHum852nnqOfJ53bn7OYs5lrleuTM4x3j9uGC4JLf394a3nfdid1J3nbeiN7t3hfgDOEg4X3gAd853VbbWdoX2m/d0+gT/KgNhBSSEsMQIhHzEHEQERKYFcMXQRuiIC0kvyKyHjwdNxwOGlEYAhliGqwZYxmiG/Qd8h0CHOoaoBq4GhIdmiBoI8sj7CMgJWMlByR7IRgfhRwHGuEYrhiuFy0VtRK1EKMOiQxEC/EJ/wZOA+gAH/8n/XD7HPvy+j76Y/od+zH7RPrs+R36zfmI+dP5hPoh+qX5UPny+Ev4Y/fw9q32iPaL9j32j/Uo9HfyI/Hl767ubO1u7KbrmurG6WHp2ejr58/mT+YB5v7lyOV65b7kxuMl423ihuIU49jjV+Rt5CblXOXl5E7kaeOJ4sDhF+K54tjiy+We7YP3Vfyu/Jz7Z/uD+2z8AgE2BZAIuAv7D8wUFRYJF7QXJxjPGIYZIhzWHfQdkh3kHYIfBSBeH04ehR1lHbgdNx95IMAghyBKIEMg9x61HZgcoBvPGuwZBBrUGV8ZRRjRFtkVfhR4E7IRkw+YDTMLewmGB+gFdgTNAt8B5gDZ/2b+zfz9++n6zPk6+b34rPjn91/3FPdC9mL1dPTe8zvzoPKl8qLyK/Jl8YrwI/B874ru5O0h7XzsFeyx63Lr0+op6qTpNenr6JPoY+j950vn5OZJ5r7lKOWo5Nfk8+QD5bXkS+T04xnj0+Ly4Sbh++Cb4AvhjOC04pfo0e7v8gLz1fPe9fz3TfuA/qYCogXPCBgOEhI1FUYWvBf2GVMb2R3pH4chliFEIfQh+SJZI4YiySEOIbgg9SBtIZkh2iARIBEgCSBzH0ceKh1ZHEobsRozGsoZDxn3Fy0XWRaxFVEUvhKKEGwOvAyPCvIIzwbxBE8DswGnABD/bf3y+5P6dPks+DL3hfaU9UD1x/Rs9AL0J/Om8g7ydfEv8f/wxvBz8Onvsu947+PuX+697Untzex27D7sjuv26nXqK+rN6Tbpp+jw50vn6+aW5kPmE+a55Vblx+Q65LvjyOIf4ovhAOHo4Anh3+AS4J7hEefz7CDwSvCm8VX0aPZ6+XT8PACpAggGeAtKD2sSxxP+FQMYlBm3HJofYiEuIfAg0iEDI2AjqyLXIUohKSHiIakihSI4IeYflB9JH4EefB3GHPcb/hq3GqMaSBrsGE4XPhaLFSoVDRRrEiwQGA58DMEKIQlBB2AF8gPAAu0BjwD3/mr92/uB+hj5jfjA97j21PUg9ez0BPQu82DylPH58HDwX/AM8H/v3u5F7uvta+3+7JzsHOyt6znrDOup6iLqZ+nA6C7of+f/5n7mFebe5d3lqOXo5AnkCeMu4lnh1OBu4MbfgN//3kHej94f4uvnhusu7EztSu/p8X/zhvag+jn9jwDSBCIKMQ0uD2MRtRMkFsoYixwbH8AfpB9uIK8hIiLsIYMhsyHEIR0i6iLuIhMiryAhIOcfeR/FHhwegB2cHBMcvRtSG3waOhk0GH0X4BYGFjAUmRKpEOEORA1SCwAK1AcnBtsExAOaArcAR/+d/QX8i/pW+ZT4Wvdj9pz17vQz9BzzOPI18Unwv++F7zrvbO6w7Sbtuuw77KbrW+vj6mbqK+oC6szpF+l86PbncOc858bmreYt5u3l4+U/5Z/kS+OP4pHh+eC+4Bvg59+R3x/fdt6m3/3jGOnt6kTriuwN72TxDfPb9jb6QP1iAAcF+wlZDIsO+BDhE5oWdhkWHTwfih+uHyghtyLLIogimSIHI0UjyCNZJPMjrSK0IV0hzCAZIF4feh6BHawcHBy1G/8a4Rm9GMQXUxeRFkwVvBMDEmwQgw78DEULdAndB4UGswV0BC0DvgElAKn+C/0B/Oj6t/nD+L33Ffck9jD1RPQy82/yu/GG8f/wTfC079Huae7J7XXtHe1z7ELs1Oup6zDrm+ob6kbp3uiT6Efo6OdB5xHngubg5f7koOOx4i3hnuA24Ijfgd+P3sTdINy53PrgB+UB6CXoC+kb64Ls3u8R84b27vnJ/EoCFgZVCRsMqQ0OEVMTyBdvG68dKR8VHxgh0SHGIvYirSJGIzYjYiQSJdckqCNqIgAiViGWIP4fJR81HnAd7RyvHIobThonGR8YphfeFg0WbxS8EiMRRQ+yDekLHgqHCAYHJwYaBYoDDAIxALb+Qv0a/Dj76vn9+PD3PPdy9nL1gPRb83ry0fF78SPxqPDa70Lvqu5G7vTta+0P7XfsJ+wI7K/rOOtg6nvpuOgZ6NzndOcB54LmnuXP5ITjTeLW4Hvf0d4E3uvdh93l3JPbAdvE3cPhyORF5jPncehq6Y/rUe8D8xf2U/mW/c0BOgVVCCQLJQ64ECwUNhhmG1sdDh46H0kg+yCYIQIikiKsIkIjYSSfJCQkByNIIp4hwiBKILsfHx8FHjkd6BxcHGMbKxoEGScYkxcQF2cW/RQlEy0ROQ+ODewLegonCfgH5wbBBXAE2gIZAVn/F/4c/UD8UvtX+mv5R/hQ9072TvVQ9GHzyfIn8qrxAvE08Gbvh+4G7nTt7ex+7PDrlusl6+DqSepe6Zfov+dV59fmd+YK5hPl7eOn4jXh0t+b3oXdsNzc20Tbn9pB2UrZsdsq36ni1uM75SfmDueu6kruBPM39kT5cP3EAPAERghLC4gOrhFzFXwZrBzjHpwfvx/gIIEhqCKNIwQkqSRQJAAlMSWoJOAjuCKwInwiVSIZIiwhASCmHrUdjh0UHYMcyhvWGkgaZBm2GFoXKhUpE/IQPg/WDYkMSQtNCX0H5QU8BFUClAAn/679Kvzd+tT5RfjF9kL1QPR287LybvLe8QDxz++37gbuXO2S7Afsm+tN683qP+qd6b3o2Oca583ml+Yu5pXlxeTf48vioeFh4AHf19393DfcYNtI2gHZM9fB1WfWutko3irhceJn4xDlc+cP69XvGfXH+RP+QgJnBuEIZQqNDK0Q/hW8GnYeFCC1H0Mebh2PHqMgZiJII4QjjyO2Im0hVCBAIBkhciI4JEAlmCRFIg4g7x4WH5QfHCASIBwfiR1uG7cZiBf/FsEXkhg5GU0X8hRZEFYLfgmPCbsJbAcgBCUBjv32+QP3gfb+9ZH14vQm9Pbxq+7I7IzsC+707ojux+2u6+/p5egi6YPq6OqE6l/pvufZ5RDkl+Pl4zTkt+MZ4gHgU91t27PaQdve2vrYFNbP0q7QGtDX0C/SZtUd3jroKep440rhfexM+4sC5AMPBeMEwAPAB9AT8hvUGhIYlhrtHu4dSBwnHnchNyIKIVkhHSCWG4cYFRzkIskkTSGDHYwc9BwIHgoiziRwI8oe2RzZHYkduxwNHbselR35GX4X2xU+FHQTABWQFe4QsAmEBcYFZQamBcoDKwHt/Kz5lvn8+k/6U/jD95H38PWO877zNPV+9e70MfWA9B/yx+8H8ffyDPOS8NHtuOvf6L/nRujC6LjliuB/3Wfdpd0U3f3cONz02L3UnNIw017Ra8/kzbXMCc5ay//MZcog0onjm+/+76fgeuWw984IyQ1xCZYLaQi4CX0VYyPlJ/gbzRdmHiIkRSSqIFIjiyNuIJAf5B+5H/Eatxt8IkwlbSByGTcb8yCwJP4kKiRwId4cyRvFH4oidCDbG8calhrYGKkWtRa1F3cV2RIiEPQNMQmSBnsHuwhsBvMA2vw8+wX8jf6l/zH9Gffn9Jf10Pgx+SH48fb49MbzRvMV9GP0yPL88RPxOe+J7FXqierH6sPo7uW54obfSd0d3Yjeat212rTW79XB1P7T1dJm0UXOqMy5yjbMDswUzUrLWMuw1wTrDPaG7L/ggew8BJIT6BByC/oJWQn4D5IfvCyiJ3YZcxZ7IA4oXyfXJO4kiCLTHbIdoCAnIesdIR5lIecgtBsWGR4eZSRHJSgiPB5NG2sb0h7iJB4jiRymFg0YfxvXGzQauRgxFRARYg6pDvUNTAsnCBkFHwEF/gj+LgB1//L8I/po+Fr3uPac+K35g/hd9e7zf/QI9Qz1yvQZ9GryFPCt7pTuAO7O7A/rEenT5Qnj1+DC4IPfct1U2uLY7Ndy107VMNOR0BLOfsyLzD7MmMoAyo7J1spWyRvVYOee8LTosd7l7A8GZxIVD2sIAgmZDNEVziQdLIklVxqnG0slHCrhKEEnVyeSIjEdch5wInAj9x6IHZEdRhulF8kZzh9MIuod/hlYGesZPhzFHrEhBR6XF1UWMxpcHVwczBmXF+8TLBG5ESQTlRBICm8GaASsAlQBxwD1ALz8IfnJ9yT5Lfqe+Kv4EPfy9NfzvvT09/v23/TZ8hvyJPJb8TjyFfIh71LruOgU6fDoeuYS4yjgdt1x25Tai9po2TDWh9Lgz07PYs2EzDPMf8nSxwfIDcmby3XKa9lq6Wjw7eQe37DycAv+FEgNPgZdCCsQ1BxOK4st1iH6F3odLyrkLrkqTCaGJH0g7RznHzwkPCNrHMYY6RexFz4XhRuXH5AdnBUWFLAXqxwDHv8dlBz/F0kV1BjaH+ggVBsuFmsV8RViFokWFhVGEHsJLAYtBq0GhQU6AwP/+fmS93P5zfvT+lb3pvRD8/fy+fMK9yH3sPOu7zLva/Fp8g3yLPE57x3rzugJ6kzsPOq05EvhNeAY4DPe8t3/26LY1NN70gnSPc/zzInKb8mwyDvIA8kgxyrIVNpf6fnrU9w13BTzXghwDR8FnAVICXMOYhvuKRstHCHtGBYiOS70Lysr0SkPKTsiRh8fIvgn3CRyHAYYvBZsFloX8BqMHLMWpRB4ENgU/hnZGUUauhYsEvoSuhkxII0eghdDFDoV3xijGtEZXBXgDlQL9QvHDLsLwQgcBFAAtfxH/Xr+dP4h+lj2pvOS89Xz9/W69d/yTO4C7Wzv8PGr8eLvt+3T6m/poeuQ7bfsy+fO42ji8+Ly467iDOHL25zYFdeR1qjUj9HTzTbKTspGyt7Lysa9yGnSH+ME4ljZwNdc6rT82ABM+977WQHWCGYSOB8eIvkbvxfbH4wrPC4mKo0piyqWJ2YjmCXyKfQoDSHCGhAaMRvTGgocmhteF88RHBHoE8oXzBftFSUTgxB0EdwWBxvoGdcUbhNdFUoYIBmtF/0V1xJhEO4OThD4DloO7QnOBXEC3gJrA1kCx/0F+jL3mPaf9o/2TPUS8gHv3O3d7onvoO8W7lTseupF6T3r/uwJ7IboI+bp5aTmceYy5iTkteGO3lrcadvq2f7XEdWo0IrP6M7U0C3QhdAm1cban9zx25/cXeY870bzr/Kv9BX7DAJICIEOJhP5E7cU7hkbIYUkQyQ9JJol5iZQJvAmRyjQJkgj0iDIIN4gAyBLHpUczRprGFAXlxh2GF0XWRV8E5MSzxP/FVkY7xXnEQgQsxP7Fv0X1hTED/8NlQ8EEjUSIRDkCWkHEwZXB00HIAUpAbb8Vfqn+t366voR95v0ePGn8DDx+PHi8EvuEuu96k/rz+zU7F/rY+iA577nJ+kw6b3o8eZH5VDkDOWt5ObinuA53nbcatuq2mvbZtlC2YzXztvG3jbhIeAj4BrkuekP7W7vs/Cw83b3w/zDAsgGYgi2CXINBhM2F9sY1xkUG5EcWh4cIMIhUiHxHyEfjh8EICwgmB9fHlcc/xqxGnAbKBtHGfUWLRb6Fb8WURYjFmwUVhPsEjETnhN7Eq0Qrg+tDswNbA2SDCIL9gmXCAcHbgbyBaUEEgMaAVf/d/6B/rL8GfvK+R/4h/fM9pz1wfQq88XxW/G68AHwTO/L7vXtee2p7HXsYuyU67TqXeq86cjpgukX6fXnu+eU5pPmfean5fnkteTa5LTk++Sn5UDn3egI6bzpJutL7bTv9vDY8YXzafX59636bv1S/5oA3gK3BZYIWgraC3QN/Q6MEBsSnBOfFCQVbBVMFlYXERhYGGIY2BgEGRsZaBl6GSUZshhXGF8YChiyF2UXfhbNFVsVohS9E8kStBGUEKkPaA4rDUYM7wquCbQInwc7BkIFQQTtAlsC8wDC/zH/Rf46/Xn8u/uT+ub5Fflf+PD38fYy9rr1FfWI9BT0jPP48nXy6/GR8UHxsPBP8PfvkO9P7wTvvu567ifu1+3O7b3tZu1L7WTtSO1z7bvt1u0P7ibumO5Q7/vvfvD58IHxYfJg82r0p/W89uX3GfnR+pf8If6//y0BywJGBNUFawe1CMgJ0QrCC9sMzg1+Dh0PmA8eEIcQ+BB4EaoRxBHQEeoRKRINEgASzRF9EUUR8RDAEEoQ2Q9JD54OHw5nDcYMDgxPC5kKvwkACTMIdge5BuYFKwVgBKAD+AJIApgB7wAwAIX/5v5Z/sT9L/2S/AH8ivsF+5n6Lfqw+Uf52fiP+Dv47/eq91L3E/fZ9qv2fPY99iH24PW/9a71kvV59WD1TPVL9Vb1ZPVt9WP1YPVm9ZP1zPXv9ff1AvYl9mL2vvYM90f3ovfl92n4Bfmg+T/6u/pa+/z7uvx8/Sj+1f5o/wUAwwB3ASYCyQJQA+cDhwQ3BeIFdAb7BoAHEAicCDQJrwkDCloKrArxCjQLVwtvC24LXQtJCzYLDwvdCpYKPwr0CZ8JTAnkCH0IBwiMBycHqgY0Bq8FKQWcBA4EfQP3AmkC1QFHAcIAQADD/0j/2v5t/gn+nP1C/fH8jfxH/PX7sPto+yH78fqw+oL6Uvob+gL60vm6+af5iPmE+XL5bvl6+Yr5nfm3+c357/kd+j76dfqj+tT6C/s/+4v7y/sV/FH8kvzc/B79Yf2p/ev9KP5t/qz+5v4l/2P/k//U/wkALgBmAJIAxwAAASsBWQGJAb4B8gEoAlUCgQKsAtsC+QIoA08DZQN7A5IDqAOyA8MDvwPGA7cDqgOiA5kDgwNoA0sDPAMoAwsD8QLPAqUCewJbAikCEwLYAbsBkQF6ASsBKAEBAdwAyACXAHwAZwBcAD8AHQAAAPH/4P/K/6//iv92/1n/Rv8u/wn//P7Y/r3+sP6R/of+cf5g/lf+Sf5F/kX+RP5C/kb+S/5O/l/+bv58/pP+mv6v/sb+1/7w/g3/Hv8z/0b/Wf9v/33/kP+a/6j/sf+2/8D/yv/Y/+P/6P/p/+3/9/8FABAAGwAdAB4AIwAxAD8ARgBDADwAPgBKAFAAVwBOAEUAQQA6AD8ANgAxACgAGwAQAAQABAD2//T/5//U/87/xP/C/8H/t/+q/6X/pP+q/6P/l/+V/5r/m/+a/5v/lv+L/5z/of+e/57/ov+a/6X/qP+o/6X/oP+e/6D/pv+j/6L/nf+e/5v/nf+Y/6H/pP+m/6L/oP+v/7L/s/+3/7r/xP/D/8z/zv/W/9r/3//h/+b/7f/s/+z/9f/4/wAAAwAAAAAAAwAKABIAFgAUABkAIgAmACYALgA3ADgAPQBAADwAQQBHAEkASgBIAEQAQgBHAEIAQAA7ADMAMwAwADEAIAAWABYAFgAKAAkA/P/z//D/6f/u//D/0//W/9r/1v/X/8//yP/H/87/zP/J/8v/yP/J/9T/1f/J/8//1P/b/9z/3P/X/9j/2//f/9j/1v/Y/+L/4v/d/+f/5//3/wAAAgAFAAUADwAeACEAIAAwADAANgA6AEYATQBTAFcAWgBfAGwAcQB0AHwAgQCAAIwAkACMAIkAhQCMAJEAoACnAJ0AhgCHAJEAlgCKAJAAhACGAI0AigCFAIwAdQB8AHkAaQB4AGgAaQBkAF0AZwBZAFkAUAA4AEAARgBAADMALgAoABgAIwAZABMABQAHAAgAAgD9/+//8v/5/+v/4f/j/+T/4//d/9r/1P/P/8r/zv/C/8j/y/++/8b/0P/G/8b/zf/F/8n/zP/K/83/y//T/9H/3v/n/+P/4//w//b/9v/9/wEADAARABEAHgAgABAAHQAnAB4AGwAjABYAJwAuACYAIgAbACoAOgAxAD4AMQA0AEMAPwBGAEIAOAA4AE4ASABLAFEARgBTAFIAXwBRAFEATwBLAE8AVgBGADcAKQA/AEcAOAAmABAADgAdADYALAD6/+H/1/8FABIA4//L/9f/0f/F/7H/zf+5/6H/q/+o/7z/rf+h/77/vf+l/57/l/+2/5n/qv+W/63/hP+G/5H/q/+I/4D/e/+g/6L/jP99/4X/mf+M/4T/lf+f/4r/jP+i/8j/t/+c/63/tf/I/8z/yv/S/9X/zv/c/+P/6v/c/9//3//U/87/wf/N/8z/zf/X/9f/5/+g/13/1P9hAA0Ahv+N/+r/8f8zACsAyv/X//r/7P/V/8v/vv/f/w8ACADm/6n/0v8qAAwAlv/P/8//xv+v/+3/v//Z/wv/5f8qAN3///+z/0P/rP/I/8n/w/+a/7n/zv+L//n/TQARAMH92f7CAd0BMv7r/dD/SwFnAHb/bf+e/yAALwDi/yMAAwAHANP/9P9VAGUAKwD4/63/U/+M/6cA7QB+/2b+KACKArgBQv6+/OD/YgLEAX//SgDVAdT/MP40/qf/XQDf/8j+fP8BABoA9//U/kX/KgFNAeD/wP03/h//qAEqAPv/GgDV/s0A6gH0/+D95/4ZAOb/Pf8r/2IArQFSATMA8f5U/oH/7gHuAF/+tf5XAFUAQgAIAOz+gf/8ACoByv9f/6AARgFCANz+WP/f/2MAQgEnABL+1f1/AdgCKgFlAHIA1gHHAcz+z/7iANMBMwArAPj/MQApAf0B0AFfAMb+3P7ZAR0Czv/Z/s7+1/6/APkAsf6N/ywAgAAkATL/Vf4DAP4AQwBD/7v/9f+IAKcA+wBDAK4A4gC0AGIANAGlAHH/vf6TAKEBpv0u/bQAqgIrAEQASACGAN0AWQAB/zMAKwD2/1EAFv8c/8cAfQGPAKQBIgADAOEAmwEoAW//JP+l/0YCi/+d/oD/0f+MAJz+Ev/z/jz/6P/4/o//Mv8i/+/+rv8hAAP/af7a//wAAgBWAAMBkQBSAFH/tQElAnEAogCEAMIAngKeAOP+z/48AH8BxAHk/6v+ZgEzAfn//v6O/+8AUQAP/57+8P+LACAA4v+2AHgAigDB/xkAyf+9AE0ABgDOAJEAAwCj/2IAvf8sAa4B2P9V/+AA0wEJAMr+MP8CAVYAp/4nADsARf7H/5ABmwCb/qD93/9SAisAKgDZ/loArABrAOD/g/7y/5oAWQCO//f/WgBq/3D+X/8nAez/6P8UAOX9QP/eABYBO/+u/Yb/UAFlASAAS/9RAS4BugBeAKwAigAG/77/OACs/zv+Hv6CALb/S/8c/iD/+AAq//7+9f7LAOb/jP4JAH8AfgDa/ysAIgDk/1QAVACy/6X+wf/k/+b/mP86/wL/wP4VABgB3P9z/oz/CQBRABcAj//2/sT///+cACgAsP6WAHEAhv7MAKsBrAHI/lH/i/9VAJYBIQAh/pD9/QBQAGsAzgAw/3z/QAHkALH/WABMAYoBHwElAEEAMgDrAJYBzf9J/ysBmwBaAA4A4/4X/8n/PAAS/6b+x/8I/+T+5wAj/2D9VP88AmMATf2Y/HoB0QMvAOD8g/53Au0BCwBN/pr/0QAGAUT/kf+3/7X/GgA3ALv/Ff+m/gEAHgBv/0P9wP0l/4D+B/5j/s39yf2n/r79yP19/p3+vP57/gQAg/6Y/6T/lQCoAGQA8f8sAL8A8wGsAWIA7QDjAHEA2gCeASMB7P+RARwAzf6H/3MAPQCC/7b+SP9KAH0ABv/C/pT/+/+YAMcAXQB2/0gAPQIiAl0A7gBFAgoDWQL9AckBoQJ4A0sChwDFAS8CSgJhAYUA8gA7AEgACAHo/z7+KP+m/57/Xf24/Wj/zP84/jr8QP3K/rj/IP4n/Zv8Q/0i/qj90vwh/MH8qvxk/KL7Mvv6+u37Bfw1+qP5Cfq5++j6ufq1+iv6ofq2+v/6JPsm+/f7Bfzs+9b7nPxk/Tr+8P19/U/+rf8vATkB2wAeAe0BBwPsAwoEAwVfBsoGggeSCM0IuAmqCeoKIAyhDH4NQg5zDg4PzA+TEGkRxhEZEhsT+RI9E64RLhEeEpESURHPD4wOSQ57DekL8wncCLoHkgZEBOEBBgAB/6j+i/zV+TL3X/Zi9Uf09PE78Cbvq+2O7CTrbeol6jfpfecY5sPlw+au5UblsuPT4/njCuUj5cvk7uN847Tkc+U05VHl+uNJ5NblXebl5pbmFe3z9Q76SfY08mz5yAWFDM0LAQqUD6QWjxlQHVEgCyapJoknmylpLJcuCy9pMB0vEi2zKqMqlyuRKAwl7SCdHkQcjRhYFXsSYg/8CqEHCQUcAwcBo/5T/Rv8vvog+jn6Hfsn+5f6I/uz+5T8Tf0o/SL+sv2O/dD94f0o/V38b/s3+gH5Mvcs9dTyF/D57XjrgOjo5eDiFOFw3uTcettY2I3WcNOP0yHSANEp0C/N3szhzljOSNC2zCPa0en26ybkm9ad6uQBaAvFAzn8kgjFFggdbR/fJN8raCwfLcgxIDkcO9w3Gzn5Obo42zNTMnkzYjHiKq0iCiFpHlIa7RQQD7cMPweAAWj+qvw7+w33YfS98/Hy9vJd80H1WPae9Yz2oPkQ/Ov9pv7y/+oBfgNRBOkEFwZLBgAG4QTbA00DCgIU/8r8D/qm9sTzVPBO7brpw+V+4xrhvt1f2n/VHdTb0RrQLc9Ty0LJS8ubySXL3Mek0KnmS+qw4qPQj9+N/kgNaQWZ+GQEpxb2HbggFScvMcEywS3DMpA9TEO9Pyw8+z7sPfA4YzRhNlM3MC9pJIIf5x21G40UFw9iC/sERv7Z+Zz5U/nM9KPwqu5B7w7vf+8I8tvzkPPu8tj1NvrD/WT+dP+TAQADSgQPBssHvgg2B8MFfAXTBEsDVwCo/RP7hPfU8mPv2uxB6qrmLeK+3a3ZxtXo07HRhs+7zKvHhchiyEXHcsVkwy3Xz+Y05O3Un81+6X4CWgnN/Ev7xAfzFBweQSTALO8vEi7QLyo4eEC3QfU+TD/MPoo7rzdXN2M5jzOGKkMjdSA2HVgY1xKTDhsILQBF+1T6Dvlh9QXwcu0I7f7seuyD7nvww/Cm79fxB/aX+cz7Efw3/8AAHALKBLMGRQgpCJYG6wY+BmwF5wOsANX+y/qz9+fz/vAQ7j7qyuXZ4fjcgdlu1RLTStCOzb3Ji8ZYx2DGw8NRwzLLVuFG4bLWKMl53EX6qAba+svzjQASEa0ZvB2BJtMuby3zKxc0iz+MQ9A+xz0lQHg+RTp9OG88zjhlLSIlbiNEIzMdjxXIEIgMPwTG/A/8+vty+J/wCeyI7BrtKuwE7B3vi+4v7WztJ/Ni+C/5vfgl+xr+8AB+AV4Fagd2B10FJgUBB6YHUwXuAdz+Iv3w+ZH2L/SR8CPtz+ei47jfENwD2CjUntHozU7KOsqiyM7DuMHyw8fdjuE12XfFBNFp78sB5fgt8Sr5FAo3EM4UqSB9Lcss1ifEKiA640JkQW49EED1PqY7GjpkP0M+ljQhKE4nciggJIkbOBalEp4L9wF6/wAA2P6K9Yfuj+0h7tztM+0M7hLvTOtv6h7wmvXn9+X1PvZW+gb98f7BAfMDvAS7Aj0CgATeBWsF6AE6/kj86vk8+Sz3ZvLM7YLp0+Zl44nfnduW1yTTJdHRzPfNeMx3yBXG+cJS1HXk9d4j0I3Jy+SO/ssAZvMO8lgCkBC2FOIbSCUxLLAnASiQMkY+UkC1O1I7zD2QOvs5oTvfPAY1dCsnJhEpNybHHs0YrRTJDmcIJQLIAqUBsPsQ9CrwVvDw8ILv7PBH77XtheuV7ir1svUi9Un0X/dz+Rf7Lf2HAFQArv8k/lcAiAE5AUn/Jf0h+j74BvbB9FTzqO+165PmieMN34zeg9k12eXSjs8JzqzOtssSys/K7N0w4oLaqslr1LvyuwEK+AzpaPMjCswTVhPNFu4hcSd6JBYpLzSvPP46HzdPOnw7EDlbOUM8oTkqMKgpFSkHKhwkIx3CGZwVwg3jB/sG2wWOASv5DPX+883zdPEU8cfwj+6c7DLtDPIt8xTzivJJ9SD3T/fd+Hn8Af9y/dn7lvxK/4H/8/1n+w36U/h09r/zz/IP8EHteuj75BDhRt+Y3DraO9YQ0QPP29CAz/zMN8mj1r/in+DC0QnOoObI/c/8l+1A7SUBQRHeEpATKBslJWskliRcLiU33TqnNno2nzmCOE85qDrGO8QzLix3Kk0sPiltIiwcshoaFXAOSwonCS8H9gAZ+zT4NPY29X/0tPNR8hfuGO4e8F3zTvEY8hryWfTi8w71P/cs+pz5kve/9yj5nfok+mz4qPbf9Bvzo/H68Z3wbe2Q6MjkFeM54fPeo9yN2ePUAdSP0rDSNdBW0G/dAuXF3gTSvNRn7X7/1fh+6unt0AN8EUwQAw9zF30gyiIgI7EqGzOfNbAzBjYkN6A25jaXOTY6NjMXLDcqVS3cKskkwR4YHGsXAxPZD10NuAq8A+f/v/za+8T4vffo9lf10fCU79vxDfS684Lxp/FB8vXy/PIN9iD3Fva78/vzxvWi9rD1j/S98u7wge9+77TvPO456rLmB+QD44PhuN+h3S3ZhNdx18DVGtT50NrbG+dm5RTWtNEa4+77h/yS7tDqOfrICJQLqgvoE/gb3htAG2gjSC1sMR8vkDHQM1IyPzGQNdM6aTY3LcUo3Sx8LYooDyPlIHEdGhe+Et4RqhEcDJ8FeAGr/9T8DPzp+4P5n/Rz8LHx4/NP9HrxAPFQ8ATwLO+s8WX05/Ne8ULvffDL8mDzw/GA8OPuDO4r7a3tNu6o7LPoPuWK4/TjyOI/4S3eFttx2I7ZmtmT2NDWW97i50TmFNvm1n/oJPw//MLux+qx+iwJVgzFCpAP+xbcGDoaYCEOKuIs/SrJLJcvmzDoMH8zEzYNMkUrgSnOLLQspigRI88gHB3MGEYWsRX/EvgLmgb8BFME3QAL/uP8QPtS9jbzBfSk9t70HvFu78jwp/By8NHwUPJH8Y3v2O7y8Ary6vAS8MHvHe/H7QftFe7J7ursR+oc6DnnjOaB5jfkmOKh3vrclN4Q3STciNjL3sfoBOmf4NLXbuO+9V38LvKc6n/yoQEjBzAHHwm/D7QShBTsGI0gOSXcJZcoZCp3KmgpUS4HNKUzcSvTJ6Ipti2nKxkoZiRtIRkd3Ro7GnUY6RPZDuILRAkqBnoD+gM9At/9wffm9gf4Cfmv9gL0APKZ8O7vsfFE86jyU++q7abuj/Bz8KTv9+617kvtf+xD7O/t4O3A7M7pTOiB5wPonuh45nXkmOHU4L7houES4HrdWuFp6B3s9OWv3ybjzPFC+RL2/e5X8tn8GAR+BmcGWwuoDn4S4BWAG8UeQSDgIiImnif4JZMn7ysTLwgrxiYOJmIo+icyJt4jISL8HBIZLxiEGQcXRRClC0YK7wlBBloDdAKlAOT86vj4+Bv6BPnu9cbzIfPN8XrxaPIe9EnyRO9F7QPwJ/JT8TvuIu0m7l/uqe5H7TztJO1v7C/rt+p76c/ogurG6QbnaOVU5LXmQuhO563jeeRM67TxE++F5zjm5e9l+hL7vPTL8k75uAJ7BQQGfAYgCqsM4hCfFQwZcBmyGREdBCHpIXgfgCCjJKYmoCNcH4cfZSIWItkfYB0nG/AXDBZpFjIW8hI+DXUKXQp+Cp8I/QSTAgMBmv/P/ZH9Qfz2+xz5U/co9kb2APf79VX1SfPC8knyl/Mn9LLy+fDl78Xwy/Ey8RXwmu6+7n3vFPCM61nrDe7r7UjrE+wa7IzrIugH6m7q5uvh6ovpcesl8JTy4fC27k3uCfPI+CH7UPlA9yf7Lv+VApkEZgabB2MIMAxjEHUSQBN5FMMWlBf1GHQZZhqAGz4cpBxXGzgZdRlKGjwajxjKFVMUQxRwEsgRGBAKD5sLhQoVCssISQiGBokFNAQyAR0AzQB2AZ3/b/uI+0D6Xvs3+5H5zvf49vb2b/eD98b2U/UX9Ev0vvLe8/TxJPFu8fTyefRI8cXtPO8G8ELwqu9v8JDu/u2P7oTvpO6J7W7tOu4J7pXw9vN/8+Tx6/Cg8aH2DPmp+BL4g/nj+sf8jwCQAjMCGQOFBBUIowrmCn8LXgxyDwARsBF2EGwQiRNHFHoT6hLcEucTSRP7EskSABIQERwQVQ8ED3gPwA6gDa8LqgqACjELpgoRCLAH0QZYB6QHfAWTA2YCSAP/AjwCMAFV/3UAzf/W/zz+kPwa/Ej8Of3C/Db7bfv0+Ej7qPpF+1D8s/gy91L4vfvH+lT4tvig+Qf8rfrj9or3zflt+f35ifnv+7f6zfb7+nv5Pvie+C/4lvsV/3f6s/bc9eT5GP6B/gX7V/fy+n/+jP3B/bP8Ufum/AAAnP97AJEAiQDEAWoDwgH+Ar4FEQSkBa8FEQcpB9kGVwZeBsoJ+AqoCSEGXAfZB80KXwkwCPQIpAn+BpUFFAeBB9wGiAVKBS4FWASRATYAzANcBVgDk/3t/BYAiQKoAKD9rv5c/jP9c/35/8L9FvzL+dr4yv3P/q39jvsn+gn7v/lR+qH7QfxQ/af5PPyK/DT47vcI/Xn/avyC+vL17fdj/Gb9WPuC+zL6j/eb/DgAIPta+Wn1Rvq1AyAByP4G9eL0igGCArUAGvtK+YH5QvwDA28D5/rS+Pr76AHGBG0DY/1f/Df/zQGIAjcCPf/F/2EDcQWfA5IA3v5RAUMDugeBBbr8H/4dB68J5QOS/xsDqQB9CqYDQfhN//EH6wlG/3v6kP12AZIDVQQY/7T9Pf0oAUMAIAMq/WX6Pv3bAIkBmf7a+vf7sADDADQBFv5s/Zn67QCEAl//fv1A/bL/LQK3/ej99v3wACoBCQB5/9z8W/01ABcAtwPK/bX3pv/M/xYBg/0JAXb/eP0+/WMA7v9f/Z38fv2HAxX+Qfmk+F4B1gYGCDj48vxZ+zv+agdeAA4CMAGG/CsBYQI/+xT+TQltBCICyfsS+jQERAkgA/QBy/6W+ZkEvwFgAdEJEP+cAGT9l/zVB5gE5wJsAd3/SwBmAU//AABNA9ACwf6Y/xQCogHN/sMBMABWBHoEs/kE/hQDIQjg+5f90QFi/R4FMwOl/fIB3f6s/af8bP4oBNAEgv1P/X//zf+bArX8dP1H/TECngOv/Tb/0P2OBf/7df7XA7r9WAJxAWUDW/7j+/z9Pf9gBL4CVgL1+4368gQHB08EPfz0+Aj83wOeDAcBl/79+CT9LQU1BY0IVf/M94MCmQZU+pYCjwKlAtkHdfhJ/ukESwZu/pr+6wc3/sL+VACO/G4BTvvNAZYIQwMwAhf4ivztBN0BxgV4/9z3LP9nB+UEhf4y/hL6bwFsCDkC3v7G+vX85AN4Akv/rADb+zr7ZgK4AL3/TgEDADD+XwXv/k77T/7l/XYAPgb/+h75TwP2/0UBx/ts/Ln8lQYlBdb3rvf//qAD3Ak4/0f6jvTy/BoQDQZs/LD6S/ekAqcJZgL9+z7+NQBq/bj/of+7AJ4AJ/0Z/qf/egXB+kj76f+AATQJSvwyAHX5CfweCsH9kvsxBW0AjfpC/FgI0P85BWD4DAP//o//BP3TAwj9dQBdBNP32AUWAan96vb9/tsANgjaAVf8UPmSAUb7Pwi8/5n89PlC/4MHo/3h/Dz6rAMUCW/38/wc/tf5+AxLBSL5Bfom+iACfQLRA4T6W/xVAcT9Ff1ABKT9nf+z+igEUABTBFHzMvlCEdgGQPmG9BUGBP3w/kz/6v9QCsv4rf1WAcYAqgIBACL+oARRAkv1bP/fBkINSP+Y9STzgAltCSwBA/pM+08I8ASW/b7x//tnBEIP2wWb+gr72/UMBDoMHfyo+0IAWvvmCAr7JwDvBdX8dfl9AIsKvQSl9q/+mgAbAbr8SP+ADDr80f4f+OT/+wNcBFj/PQAPAQ/2+P92CLUBmAC4/Fn/PgKg+qv6eAqQA8n65fnz/DgFfQA3AHD9RQWWBLD7rfr1AMsACgLdBEwFjPrY+0z/GgfcB1b8J/m/+VEEzAc7ALQBwvQ/BOn6tQIYCbD+n/j2BAgB+vso/pb/uwoZ+pv9tgBk/r36mwJ+CO4BL/xjAzv23gKjBV79lgil+kr6IP6t/I8K8QVE+d/0tPvABboP1QOt88vzZ/9eC18KoPlu8AQBXwo0AncDTPQn900IGwVSATgEuvgD+7z6KgctA6oJ5vqX+WL7HQKtESv1OvtU+7gIBAGLA7782ferAwn+eAVsA3YCOvV6AHL8AQsrARf7hPt2A/4D3P2b+y3+/AHyCsH8//Ui/TcJvgAIA1wASPc3AeYEbf1q/bYEtv9nAXj6ogA7EAb09vk1/SwCsQvA/fv6bQEN/Jn7mQsf/0oBQ/kf/eMF5wDkBBn8x/yA//YBM/wIBSgIevWU+Sb+qQIiDff9qvvF8OkK6wY6A9/7ffZBBN4DUwBz+DUEaAQNAWn6GP6FA2AH/wAb83n91Pm2DScLovmlATv15gC4/YEKJP7R/3L7BgU6ABP5y/91BAwEt//h/4f/8/V/BiEJwf5UBS7w/gej9Tr/Hwx6+ggMMPElAKQBlwoMAL3+sPWKBVMDgwMMAcj0n/r9D1EBAgNb/kb6kwTO90IJmgOxAH4CsfAlBUoB8QplAHjza/vmAWcLQwVoAMr0QfKMA+8K7g3U9Sfxm/0OAycLAPkn/TsBwAGHApcFyvYAATj5RP/rB2sIXAW7+fz9jfZUCiACAAL+AUz9tfw9+u//fgCdBHn1TgAzBDECgfzg+KH+x/pTDOv/Of2b/Vv6XvzNCkb9AQPkBPP7Tv0g+W8J+AQNAssAi/BrAPkKuAKg/q78PP7HAtgDfwK89hj8MwLF/84Fr/1N+4D73vz3BOYClAAF/g/8Gf4GBO4ApfuU/wT6MAYTBWICTfxG+tYEpvZqBnQAxP0OBlL8xQFx9x8CEv9R/oEJifyh+bsBjPv5A1YAQABEABIA//ylAoD7uPprARYDdAMaAkQBTPuH+of59wS/A3UG6v+9+TD+PABsAGz/eP9fANr7bQdL/n4BwgFU+9L78gKO/3kGBP8t+jz8ewISCE4Am//y95cAmwCI/v0Gnf2N+eT/WAMIBZf9ffoLAf8DxAGp+FX+tQLJBgT+2QTr+jT7qgP9/JoFcAYuAecAefj1AAX87QFnB9gAEwF5/ykCqPocATUAFP8XCDQCn/z9+Uj8MwU9/NUABwI2ASn8kwFl/5b42wQ7AskAMwSzAMT6o/7F/o0FbQTq/Yf9A/99/RMHX/92/+n/KQMIBTT8qwK6/1wDdv43+2f/SgDbAaL/ev2B/NgEkP5lABD+KfyEAxn+//+XBbAD1AJd/K8B2/3mA3f6TgDtCeX/gwM++PIDsQBW/awBPv3mAdgEoQel/x7+v/jT/G4DPwQQBwsFLAP3+ZL8DfpQ/lYEOP5BBSMATABy/aD4Bfwe+v4HCgIXAlv+jwDeAVH55/6R+ksFygdABG4Gav0T+6b3i/2xBfMEfwQM/1QAcwI2+pb9pPj9/S8JkwAnAwP9BfuI/f//f/wF/v8AP/sIA74GsQbq/N/9MPrr/VgFsgENATj+Nwf7/LoBYvvq+gf+MPzbAZYDZgHwAIP5uAFWAjIA7wRn9FT82vxx/ukITAClAMYCcfjrBMD4Lf9uANQG8/+VAYwKSvrR/Vv9uQCoBPn9ywG4+zQBT//9/F4DOP7C+6YBgf3TAF8CvAFH/7MDsPq5/UUBiAHSAVn87QZv/LcCDf0w/gn+r/tEAef8Kwc5/tD/xALu/OT7BPu+/Fj6VP4NA8gEaQPA/sv6//sH/Zz3Sv6g/tcD2AiyAp8CmP7N+Vr7Dv1LABL/lAqQAXYC0giC/6b3cACU+Qj9fvu7ARgDHQEiCwEEJ/t89/v4jvuy+nkAiwMCDNUGofxc+xf1LvovBhUDHQbL/gz9EQS/+3P8xPwDAKALNQNqA5X6BvpBAugAGQAuBecEdQNY//v4t/sqAMT6pQMnAzEGkAPX/6j4EfaB+kr7gwJECAkGHwlzA1v1APsh+EP3tP7DCqIObwdP+z75OwDw/JoCGwD6/gIKLghtA0EATfUq+dj6DQJ3A7gJ6QFCAbQBbfoB+fX8kPlgCiYGawiyAR8Acv6C/Lj9efyUAm8IvATDAhL8evz1/E7+6v/sAYAEvgMYAHH/1f0l+e36cwMWByQHtfxr+9EAXf02ASsBzgJoAY0F+AHw/pz64vte/LcBAwMOBZYEkgQo/En9o/vh/IH/6wGOAAQFuwLf/cv9y/tA/zkABwEVAcX+7QRsAmP/5AG0+mr9PwU9BZMDv//h/3EAHf7y/Zb+XwV8AhMC/f4T/pb5EvzRAG4E5QJqAJ79kP1Z/TgCbP+x/yQCUPwKAXgGZ/8Q/uQBtP9j/+0A8vvt/jsARf5UBYwFHgMRAff8z/28+IH5mwNsBDcBxQG7+yv/dvz9AF8DLgD8/LYAgP66/WsBoPwj/wIEEQRcA9b+H/rF+Y/8sf0V/9wBnwHzAr0EFAESAIr/u/z4+fL8Vv6ZAwcHTwclAiQBnABB+tr7oftc/rMDMAF7ATcAsgDzAJIAyv6o/Wf5QPgJ+Tj97gCIA2EFlwJSAoH/C/tM+t/4Tvs9/goAuQMcBKsDVAOzAisB9/+1+5L36fgH/rAAAQV9BlsE+wWBAXL9Hv3u+8n8Bf1h/C7+3f+MADsCvgOoBOACowBM/YL7Bvq2+l/9kP99Am8DtwI3AlICyv8mAfX/XPzb/Fz8VP2v/58DkQRAB8cFIQEzAPn7K/nL+j38c/7KAgwCXwV4BvQDyQInAWP9GPwT+j36Iv19AVYD5ga0BhIGsgNRAYj8Ffru+dj55f13/wYC/AYrB94FeQNUAIH82Pos+/X7hf7gACUEtQdLB9sEDANsAAn+APxI+gb7Uf3F/48CfwUKBaYDxAEx/o39M/1S/cb9w/2BAHUBqAK5Am8CQQEe/zj+qf2f/nj98v1DAKYBCAIMArABMgEJAkwCmP+3/dr+///I/4EAiAASAXICcwFcAVYBtf7u/tb+A/5TAOX/7gBTAIIAvAA3ALYAeP4V/T77if5PAN8CRQXRA1AC0wD+/tL+2//oAJYCawSPAwQEcQLhACIAHP7t/eD+W/6G/wf/hP1b/ar8yf1f/nT+ff+Q/2//zP6l/eb8n/wI/fj8CP4//yoBVwM1ApQBvwDK//f+jf04/bH9VP48ABMB5wFvAigCagFaAAT+LP3a+8z7Rvz0/HX+uP51AFUBJAHc/zf+mP2p/cD8K/1M/Sz+IP/u/wwBwAG2Ap0CvAFiAD//mP7e/oH/iQD3AZcD/gM7BAkDagJEAt8Aqf/2/lj++v4GAKwAWwFwASMB1wAOAKL/pP6N/rf+7v66/3gA8AHEAtQCbgLdAVABZAFkAZoB4gHeAZICtQLmAoUCZAJGAsABpwFoAS8BIgE3AB8AMgDfAL8AvwCiAAEANv+l/l7+w/0k/b38U/1i/Vn9Hf0j/RD9n/z+++L6b/oS+gL67Pnt+S/6aPqx+mf65fny+C/4Zfdp9//2bvcY+IP4Cvn3+D75MfmC+Eb4RPc+9/H2P/fs93X4Z/ki+oD7ufx5/cD9uf3O/QT+3/4cAMgB4QP1BdgI1wrrDIUOSRCkEXkSkhOyFI4WpxiLGoMc9R34HpUfNiDyH4Af1x2NHPoa0hlrGBUXYxWlE1QSahAaDv4K0QdpBW8CyP+9/KP6c/ib9kT1pvP38k7xYPBX71vuX+0263TpX+dJ5hrl3uPu4uXhcOE34Z7hWOLx4d7hhuD63xbf892v3cLded6q34Lg3OFV4jPjPONn48/jQ+Ta5VfnTuk87bTxCPdE+0f/fQRaCU8OlxHGFDIYfhsXH3Qi/CVcKUwsZC/0MUY08jQzNRk0tTLqL1wt7ipaKG4lViKgH6odShvQGLMVWhIfD+8L6ghMBiYEpQJXAnACyQPwBFEGgwdaCBgJCQkgCcIIaghgB7sGWAaOBh4GawUwBGQC1v9u/KD4S/RW763q++UG4preQtvv2BLWsNN10aTPZs5wzMTKNcnHyGLJaMoqy3LMvc2/z7rRVNOI1GjVntYj2XXcPuAd5bXsX/We/McBBgf3DTAULhhwGZ4cxiDmJGconSvMMDM04jYaOMI5xDprOYU2ITP+L0ctxymoJqUiISDKHO0ZlRYpE6wPQQvZBvMCyP8z/X/6JPng+KX5j/vt/akA8QI2BUAHbAmgChsMug0oDxkQXBFZE0gVvBWZFboUZhMVEGwLCQfaAa789/Z98pTuPeqT5fLgLt012TDVItElzevJLceVxaDEb8RkxRXHAcmFynnMX85w0CPRmtHW0dzShtRo197bO+EI6Mnxm/tHBNsHYwx4ErsYBRuCGvccSSIBJwEqRS1FM9g3CTmoOMs5lzr5N0cySC3fKUAnXyPPHx8dcRqUF20U1RF9DqUKOQV2AAT8Wvlq95v1KPSL9Ej23fkf/OT+eAEtBJUGIAj6CbAMyQ7FEJ0SDRXcGNoaJBzXGyYbwxnbFo8SJA7MCKkD3f0i+Vf1ffFe7YLoTuRs4CfcLdf80ZvNbcosyJjGOcbSxnjIc8pmzCbOls+g0F3Rd9FX0izTZ9OF1IbWRNvM4PbmX++z937/aQK+BdYLjRE5FAQTkxTCGhEh9CSfKGMu9DPdNT424DZIOKY2UDFsLD0qkSkhJwEkJyEaIGwedxvfFyEUlQ+1CakD+/68+5r5RPee9dz1W/fR+Y/7l/yE/Vz+kf9PAF8BUwMYBgkJegyCEKQVshmuG8QcGx2wHGsa1BY7E9wPZQz2CMEFcANEAIT8Mvi18wfviOlX4wPdcddy05jQf87SzO3L48v+yzrMmsw+zZPMFMzey8TMHc5vz5jQmdH/0vjUL9iE3QPjmOhv7772EPyV/9gCdgjbDBoOsw8GFUEcoiCpJAsq4y9HM28zvjP4NK801zCYLYUseSyVKz8pGSjHJxAmsyFlHYYZmxRlDnEIUwQxAvr/kf0//KD8YPx7+9X6Rvqx+cj47vco+S/7cP09AC8EpQgNDMEPshK8FJUVUxVDFUUVZxQJE0QSgxELEOgNqAvqCEcF2wDl+7f37fJh7ZXoFuSc4Frdc9rF1zrVKtPS0LvOCM5mzTrNwMzMzALO6s4Vz6vPLNDt0GDR8dHb01/XV9w14WfmNO068+P3AfvW/lEEAAnTC5sOlxMyGrMf9yMIKKMsDTD9MI8xjjO5NIEzqzHPMCsxqzDCLkgsRirKJ64jYB/TGxMYohNxDokKKQivBaoCwf/c/Ub8uPqz+cH4z/cJ94L2Mvdc+VL7Lf2k/3gCEgWGB0sKcAyiDWcOJw+qEL0R8hEREr8RhRBOD4sN0Av/CGsFbgHU/ej6/faJ8ifvqOsx6L/ku+Fc34Tcatlm1ojUI9OI0VHQf9BY0R7Sh9Ku0obTxNO705HTztMK1FzUGdat2Tze5uME6RLu9vJd9kH5B/2KAdcESAdBCz0RYxdfHIMgziWUKrAs+S0QMD0yHzPMMTsx8DGnMu8xITBTL4ctGSpgJuYi0R/VG5YWLhImD4EMLgmsBWkDGwEQ/9n8Lvvb+e/3vPV89fP1Y/dh+Ab6xPuD/Xj/nQFMA9cERQU/BqcH4ggOCiwLxAsdDIML4Ao/CuIItQbnA80Baf+L/Ab6dfef9MbxdO6f6ynpd+aN45DgU95d3JLaKdkr2NDXi9dJ19zXU9hS2HrYhtiJ2GrYQ9g82F7YotqB3aDgh+Sa6JjtIvFM80n1sviD/A7/OgFYBRILVxBgFIkYGx5ZIu8jLSWWJyYqDCsLK+IrGy7vL6IvKC9cL2IuFCuzJwslByNeHzwblhhIF3QVghIMEGgOvQuyCH8FOgPOAVX//fxc/Kn8o/yx/Cj99f3E/ar9pv0I/jf+6f0V/lT/9P/nAJEB5AHKAcAAIgBf/3T+Y/0O/L/7Qvs7+nT51PdF9vnzv/ED8Kvubu3N6xzqTelB6Pfnhebt5bfkQ+Qy43HjUeMM447iRuKr4jjiSOLe4eDg6eDK4Lvhi+P75Qnpoew575vx9PJ79a33N/k8+9X8gQB4BFgIOQ1qEeIUoBeuGXAcqh44IFUhuyKMJEcmUyeLKEYpZyhhJ4MlfyQaI6wgzx4HHeAbeRpwGEYXZBXrEhsQVg3uCxoKywfkBbAEIQQlA24C8QERAez/hf5z/fv8bPzD+1z7dfvU+3z7SPv1+9z6U/oP+qX4cvjy93v4yvda96P4qPcE+OP3Hfcf9pX0J/S781DzDvMr8g7yS/H38HLwZe/27TXt2uz162jrNOsb66/qmuk36Srpqujc57vmreaW5mLm9+as54zpFuwg7ofvh/D/8eTzYvWO9rn3yPmt/Fj/ZAIGBjsJkgs/DUkPqRFgE2IUSxWZFh0YDBkEGiQbfBs/G4MaExpBGgkabBn8GBkZNRn3GKQYKRh5F0cWyRTsE1MTvhLJEecQcRCXD64Olg0oDK8K0ggDB8gFlARzA1wCWQGdAMz/A/8e/kv9ffxm+6/6jfoL+qT5aPkn+ef4Pvjq9yf3yfYi9oD1p/Vg9Sj19PSD9DX0rvMN81/yxPFr8cfwdvBD8PLvk+8R73LuLu6l7T3t9uym7HvsS+wK7OjrrOtO6/HqeeqV6pLqyepk64rs7u0W7wnwKfFz8uLz//Sd9or4yfop/XH/GgL1BCAH4giBClkMOg6VD9EQHhJ9E5MUVRUkFuEWHhf0FsUWFReWF8YXzRftFxYYGBjKF3oXLReVFuEVGxW2FH8U/hNtE6QS8RExETIQLg8IDtEMnAtXCkwJPwg3BzYGEwUPBO0C6gEFAfz/Dv8l/m792vw//KH7I/ue+vH5Y/nA+D/4uff/9n72Avaf9UD1v/RV9PnzgPMb86ryUfIA8prxSfEG8cnwiPAy8OXvsu9Z7w7vvO5m7ifu2e2c7XbtTe1C7TXtP+087SrtNe037Xvt3O177n7vePCO8bLy6vNO9YP20fdO+fn64PzI/ukAJwM1BfIGbgjeCUULdgxuDW4OhQ+ZEH8RRhL2EmcThhOAE6YTABRhFKkU/BRfFbgV4RXWFacVSBW4FCMUqhNaEwMThhL5EWMRsRDgD/sOEQ4aDRYMIAtACnMJjwiaB6IGmQWUBIgDjgKnAbwA5P8d/3H+4v1Q/c/8Rvy5+yf7jvoJ+nz5+Ph1+Pf3ivcN95f2K/ay9Ur15PR/9Db05POf823zMfP78snyhfJV8h/y6PG08X3xR/EW8efwvfCQ8FXwIPD279rvwu+6763vq+/B78zv8u8X8DfwhvDf8GzxLvL58uvz8/QQ9k/3oPj6+XH79vyj/nwAYQJFBAQGmgf+CDwKYwthDEoNHw7rDroPcBASEYwR0hH1EQYSIRJREoYSxBL3Eh4TPhM6Ex0T4BJ3Ev4RfRENEbUQTBDVD0cPng7tDS0NZgyaC8IK7AkbCVUIkAe7Bt8F7QT4AwsDHwJJAXIAr//9/lf+z/1J/cj8T/zM+1D71/pp+gv6rvlb+Qr5uvh0+Cr44PeX90f3A/fJ9pv2d/ZV9jb2Efbt9cv1ovWA9V71OfUe9QP17PTU9LH0l/R49F30SPQy9CP0C/Tz8+HzyvPF877zwfPM89Xz7vMX9D/0cfSd9Mj0DPVh9dz1dfYY98j3efg4+Q368Pro++38B/46/40A9AFmA8YEDAYxBzsIQAk+Ci4LCgzHDG4NAw6KDgAPTg97D48Png++D+sPHRA9ED8QNRAZEPgPzw+PD0EP4w59DhcOuQ1DDcUMJgx6C9AKJQp8CdIIHwhmB6gG7QUzBXoEwAPzAjMCbwG4ABgAd//c/kf+tf0z/b/8S/zm+4X7I/vP+on6O/r3+bT5cfk0+QH5z/io+IX4YvhM+DT4Ifge+BD4EPgP+Az4GfgZ+Cj4K/g3+EX4S/hk+HH4h/id+Kj4xvjf+PP4Dvkq+UL5ZPl7+ZX5tvnM+ej5B/ob+jf6S/pj+n76m/q3+tv68vog+0b7cPuo+9T7DvxJ/IX8xfwV/V79uf0S/m7+zf4v/5r/AABwAOYAWwHbAV8C2gJgA+IDVwTTBEsFuwUxBqMG/wZtB8cHGAhxCLMI8Ag3CWoJoAnUCfkJGwo7CksKVgphClgKUgpHCisKBgreCZ0JXAkNCbcIVwjxB4gHEgecBiIGnQUiBZgEGgSUAxEDmgITApwBJwGtAEIA0f9m/wv/qP5P/gH+rP1h/SH91Pyk/Gn8OPwV/Oj7x/uw+5j7f/t1+3H7aftx+377hfuY+6j7tPvK++L79vsO/CT8OPxP/Ff8a/x7/ID8kPyT/JH8kvyT/In8evx4/GH8S/xB/Cj8GfwE/O/7zvu1+6X7f/ts+2D7TvtJ+zb7L/sv+yn7K/sv+yT7OftN+1z7jfuh+7f74/sO/Dz8ePy1/PH8N/14/cL9Cv5V/p3+A/9b/7v/BgBBAJEA5AAxAYEB6wFSAo0C8gIlA0EDqgPlAzEEfASeBN4EywQABSsFQAWNBaMFtQXGBdQFCwbIBa4FtAVQBWoFywVMBTAFPgXZBLsEJwU+BaQElQSkBEgE7gP7A4gDXQOMA0wDKwPFApgChAIjAhoCpgFIAWYB5gC/AJkAgQA6ABsAYgAuAPT////E/63/l/+J/1j/V/88/0b/PP/Z/rz+bP5G/jD+Ev4m/nz9Mv1d/XH9Jvux/qICQP93/ir9hvvm+5f9/P3n/t79mP3G/Nr8PP0k/IH8Qfzw+2r8mPl0+er4avkT+sH5Q/qj+pf6Ufkp+mn7WPrM+gn8Kvwo/Ez8Rfyl/Lr8Jfx+/d79Kf43/6D9Kv42/9b/yAEtAfkAogFcAccB3AEcAZoCwAI8Ah0CIATsA0sCagUUBN4EAwX7AskENQhrBd8EGwSZA4gGPgfVAg8EdghbBkoEfQbsBvIFnAcBBX4EaQQZBHoFUgUDBC0EWALBAVgDvAMGA3wDuQMrATABRQF3ATUC2AHY/6//y/+c/0X/P/9h/r7+yv6h/vv+6f4O/aL+E/6r+5796/sv/Gj8HvpH+c35R/xm+mX9C/m7+Bb62/rZ+av4j/us+g/9/vu49i37GPp1++L8n/yt+cP7Hfsb+lr7E/pU+8L75/w1/L38Ffvo+L76qfqF/P7/5fs6+kn6QvmQ+lj8avzI/gP+fv7O+xr6jfy9/Mv/wAOBAYL/hvw++0f9kgK6A4YDhwW7AUoBSwE0AssEUQhbB60Iown4Bh0G5wXuB1oIcQ6eDsoKTwn/BnwHMgs2DPUMYQwoChwJ7QmyB1QJVQuSC9AK8gnACR8HkwacBXIHJgmKCMoH2AGxAEgCWwJsArkFeQR2/sr8pf96/un9iQBx/FsAuf9A/3/7OPsg/Dn5iP/D/XT/sfyQ+Ev4wvrF/Dn8j/3W+B76jfm2+fX4mf7S/EX1cfey9ov6CfoJ/Hv3tPJj9kL4b/l5+B/3yvXY9mb3m/jn+b33NvZf9uP4bPkA/Nj6V/dE9VL3S/u7+tD6BfoN+Z76TPyZ+9D8j/9x/97/VAKiAuEBqQOtBFsGDAgbCkkKywoNC2MLpwxeDakOBxGqEL4PiA98DtAN2xCGE8QSzhG4DhEKDgu3DmQPzg6lDWcKKAeHBsQGWQjpCGgG0AKDA/EDXgTTA+IAof9F/+7+Sf8CABT/kv7y/vP9X/20+8r7Gf3V/mb++/y4/N/6WvkM+gX7xfv6+dv4xvbD9YP2hPdz92X2rfS68srypPPP8zryofDD79nvEfBc8LLuVO8O8BrtS+rT7HLt7+5H70juTO357VLuVu1E7+/wQ+8m7Z/sI/A28THyqPHO7sDtVe+/81P37Pjm+J/2h/bG+W/+mACxAbQCkQJeBUIJegy+DTsQyhGpEkoUthf9GEEcex4dH9QeCx4rHSMe/CDZIuMgcx3FGgcaRxo2GrMZoRfMElQP+g7RDwsOcgucCKoGugUxBoUEXwMVAn4BBgH5AHYBPwBHABwA5gAhAVcB5QAeAfcBbQG/ARkBwQDV/2f/I//l/YT8kvoi+Wz4uPbO9LHzLfL179bte+tN6Y3n6ebz5cjlw+M84ibgzN/534TgmuEa4A7e+9yH343hS+Fn397eYt834WHiA+Rk5V7mIemE7D/wEPKU8XnziveX/ucBAAOjBGgJVw66EiEW/hkUHcIgkyIEJvQqTCxuLbwvHDIBM5wxWTAaMWAzijLQL4It0Ck/J3gkfSOvId4d6hf8Ew0SIhBwDP0I8AYABZoCJf9w/qj9K/0I/J37oft0+zT6rvow/EP+cv4q/lX/LgBAAb0BLQKhA5ADzAIrAagAwwA7AJn/3v3o+w/5Bvf79bP1dfMj7+3r2uhw5yvm6uIR4bndkdye2mfY1dYM1cbUcdNU0izQOM7kzfrOCNBa0oTS3NNa2APejOME4rbja+Uo8C75hf3D/2z/qAWtDEgU4BsnH0IicSN5JoMtIjJsNTE2JTcUOFE3xjZINvA5uDgFNkAxrSxBKrkoniYyJRsg/hc/EVYPqw9NDCEI2wDE/jT8U/rQ+Jb3Kvgp9SL0U/ND9AP2Lffz+L/5P/kw+Yb8nwAIBH0D8wEuAv0DDQdVCIQHvQZoBGED+QKYAvsBPgBP/U36ivZ883TwQO8m7TLpdeSo3jDcmtpm2uzWEtM5zgDMWMo9ynzIB8ZjxDbEnMY9yWbLVM8B1ajYCtch2GLchOsC9VP2k/Ve9hsCyAuCE1AYWhsRHlch6yaHLls0xTQnNQw3RDldOb84njnpOwQ6djX/L1YuZi7MK0oplCPMHZ0XahNMERgRKQyJBU3/o/w1/Nn6r/jZ9kD17/K08W3yyPSL9aT1gvbp93X4IfkG/QYB6QO3AsQBoAMqB84JHAs1ClAJ+QcxCHkJlgm3BxYEvgDw/pL9x/qo92rzXu+N6zjoduUw4j3dldj91C3S6M8vzIHJlMXWwrrBHMOAxerGQ8gFzKbSXtRV0sHTPd7y7PHzPPGO74j3qgQ7D9IUFBcnGiUdsSJKK20yBzUTNAg1kjj5O1M6uzl3O8Y85jkKNLgvnS/NL+0sVCjhIXgbohVlE0YTCRG1CfEAz/x//T79M/oy93v1UvQM8qDx4POQ9l32Lvau9zD5CPoB/OMAPgUVBdAChwM9B0wMXQ3qDD0LhgqACj4M7Qx6C4QHywPyAdIA+f1v+lj20/L+7r/qh+eO5Nbg99xT2MbUeNEizrPLocgfxj3DbcNOxrjHu8ktzfjRWtQL0bXRFdty7J/zv/Ct6+HxwQBdDWUTCBWVFlUYEx5PJ2QxqjQiMukw3jRTOTw68TjsOd878zgdMo4upS8EMGgtHicVIdEalRVyEyIUUBH8CF3/dfzN/SX+IPtk9pT0dvIG8R3x6fOE9Q31evOA9Ef27Pht+9D+SAHZAMn/oQHKBr4KfgvFCQMI7ge7CWYMOg1WCjUFvQFnAbwBIAAe/KL2yfFR7rvsNutY6O7ix9yc2JjWbtQZ0V7N4snax3nF4sQTxVjHCc0B0xbW8NALy7jPYOBW8uP1n+1t5zDvigCID+AVMhV6EwgUaxsRJyYy5DRFMV0unTCINVc4eDlYOdk3iDM5L6gtsi7pLEopSSTyH20aFhWaEYcQFA7KCAEDxf7f/DT7+/kL+Yz3FvVc8tjxOvRJ9sr24PZP91D4u/ly/BQAiQJDA/8CTwRMB5MJ7grKCiIK8QkeCsQKqAqKCPoECQLqAEwAMP7k+cv0qvBE7sHsnepK5g/he9zZ2frXzNQZ0dfNTMtXyWrH3caAxi/LjNI72drWH82tyQjW8esd+HHy7Obo5gT2JwgmEtsTJRLOEG8T8xweKlkyjzDpKt8qhDETN6M2XzTeM180ZzIaL7MsiStAKDgkgCGyH8wa+BKqDIQLSAzHCQME5f1x+qv4X/ll+hT65fWn8T7xRPUz+bT5Jfhx93j5ufxGAM4CAwQ+BOQEAgcYCrYLMgyMC+sLcgwGDYQMswqlB+4ESQMGA2kBH/7u+FT07vAu71rtDuoU5SngHdx22UjXfdT20MnN3cooyEzGwcVfyBnQXNjU2p3Sr8ifyvzc0/Pv+kPx5eMp5YL2TAtMFy4XxRAzDEIPRByeK+EzUjAOKDomqSykNO41fDL8Llcu/y5zLnsrxibYINYdLB59HzEcdhPyCUQFmwY4Cc8IKQRj/Sn42/b1+IT7ifu3+WT34vYD99z3c/kp/LT+QwBHAPD/OwD0AXoEFAfjCC0Jkwi5B7QHYghnCcYJ6AhnBvQCBQCn/v/9e/1d+0v3pPL57iDsZuoq6Grly+FK3gvbjNcP1PLQi876zfvNds690cPXptx32iLTjM5o1i/n7vNH9ATte+nB7mj6DAYMDrgRXRGyD4kRNRnWIh0ooygpKMUpWyt/KjYoGSiLKu4s7SzlKYkkxR0nGPQWiRoEHhocohOJCQADwQKIBk4KmgpXBhkANPub+bP7SP8VApkCoQD4/Zr7afsL/XUARAScBmsGqgN1AEz/8wC6BEMItQk5Bz0Ccv3a+zf+oQEIA5EAbvvL9Y3ywvKX9Ff1p/NE73bqQubq43zk+uP74pnh0d/F3ATZltVg02bUYNoP4lHoFumu4vjZXNdm30zum/kH/CT3AfLE8UP4ZwL5C8QRMxJQEPUPSROxGFsdFyDyIWwjJSRrI6AhAh8GHQIdeh+GIp4iZB1hFT0PjA7xEVkVERWJEOsJAQWGBIkHjAp+CkcHjQOKAfcBVgQnBp0FIwMlAeoB2QMSBY4E5gJtASgBjAIRBKAD7wCn/af8FP4MAM//fP1I+tL3ZPYD97P4hvni+DD3tvVl9CDzUPKH8lXzB/T48/rx++4A7I/rtetz7MDsiupi52fkYuIG44fm6+o67t7tOuqH5WLjUua37JjzePdF9xH1AvRQ9lz79wA2BW0HhAhKCiENJBAwEkYT2xNUFSUYIhuOHKAbxhggFqcVqRc7GkAbaBmYFc4RBBCMEHAS7hIwEVwO9gtQCwcMhgz1CysKPAjeBqYGcgeGB60GnASOAqsB9AGGApEC0wE8AMX+TP6i/tb+rP6Y/cr8g/yd/MP8hPyi+8v6B/oL+hP6K/pp+tD5evm2+AT4Pvfu9iv3w/YV9q30KfPd8VTx6vDi72Tuquy76i7pz+fH5vDlsOZC6WLrYus86fDmfubQ6LfspvCv80r15fWE9h/4Hvu3/hoC2wSPB9kJsgsTDRoO8Q7+D14R7xKrFO8VLBZzFWwUmxMrE6oT2hT/Fc8V1xOMERQQxw/jDwsQERCDD4UOaQ3ZDMUMOwwNC5UJzQhECAoIxgf3BroFEwTdAqkC0AKaAuIBEAGvAFwAEQCm/xb/Uv7w/Z39YP3m/HH8qvs2+0D6hflQ+bD5nPkw+S356/h2+P/31fb+9Zb1x/WD9en04POV8nvxAfHZ72bu1uyS683qwumy6GPoRuln69jsNez56VroUuk97LfvI/IV823zEvQ/9pf55vxe/+wAdgKsBHUHBgqwC48M9AzIDYsPtBEeE6ETURODEvQRtBKgFFMWGxZGFEgSyRF7EnQTQBP3Ea8QyA9xD6wPzQ81D1kNpQt5CjkKfAq2CosKkAj9BZQEYwRoBHQEOgR9A1QCpwGYARgBaQCO/5T+7P7N/0z/GP0a+277J/y4++j74/pJ+s35ZfnD+Yv5ZviQ9nr2TvdH9w72IvRp8tjxuvEY8n7yXfHD7rns8OsI7I3rfOl45/zmJenK7EzvUe7P6TPmWee17IXxkfIr8Zbw0fIi96D7VP6s/rT+ywBOBcYJDAzeCxcLjgv+DUIRrRNNFIATuRFDETcTDRZhF7EWKRU+FEkTZxLkETsSTRLmEUYRsxAQECIPgA3ADJ8MgwzJCtMJqwrQCq8I/gWXBSgG8wU2BYwEGgSeA2gDcAKaARoBk//M/g3+av0e/VP8J/0X/LX7dgHkBKsA7PrT+K37tP07/sT87fdW9X/0LvUk9kn3pPYc9J7ve+2r7+Dxm+4k6ffjQeHF4Q/kOeXq47PjZ+Xe5ZLi0d924XfnhOv16tDpKuyW8LTzCfUW9x/8FQJSB9ULPw9YEHIPqxApFk4dgSKOIIIaZheaGaccUR41HmUbCRaMEkQS7BI9EbANIAqACRIKKAl3BqIDyQEyARoCogR9BvgEkQDP/U3/3QPvB6kKKwpvBkgEmwXqC1cSgRIhDZwJOQqZDa8OLgxzCWwHaAcfB/0FSAP9//D9xf1Q/7//kPwO92vxL/L49Fv11PCR7GXqSeqm6K/jV99L35HfiNx31yfT4s0tx3LBw8G9yHXQZdad2iTaiNUQ0BXXhOrq/oIFe/9E+9wAng0IGZkhuSgwLVsvtDIdN3A5ljWsM304A0EDQ6c5KCxeIiUdJRwNHr8f5BlhDN79//YG+Mv5Z/mF98v0WPDU60rrdO668h31HvjV/HwAMADu/xEEzgtNE3YYmRsUHWUbeRnWGoIfcyNSI0AglBtgFqERiA7SDTENpApFBrwAzfnA8iLubOy37MPrJego45Hdptj11tHX+Nn72c/WC9P40ITP6cxdyijIhcYFw5q9urrGvLXDpM/U3qPqbek23WDWEuWoAv4YTByFFbIS9BZ4H/8r8jtkRkpEyjvWOA4+L0GjPQs6ZjrHOUgyGCaqGlYSowtlCKgI8QbT/W7vQeQ24sfluulo62vqneZ34mri5eeO8Bj4Ef1YACwCngMuB7wO5Bf5HmYjkyVMJk0kFCN+JM4nsCi6JHseIBgQEmINpAniBicDYf319onwxOqt5VXiEeFh3yfcntcM1BfSrdGU0vfTwNNq0XbO8cx4zEDLAsl+xvHDkcGDwEbAQsJHyPDY9+zS9STqedp535X7HBg8I/MeAxl4FugZKijZPZtLDEe7Of81zjvAPxA8wDiKOG815y2GJZAeORV7C/sIcw7+ENoIMfqQ7y3t6/E/+q4AbP+M9vDuQvEX/D8Hwgy9DUYN5w21ECIWhhygIcQksCa7J/cl1CE2H6EgQiTDJA8goRdHD20J7Ae8CDMI4gKV+irz0+6b7f7sLuwv6nnmfeKG31feCt7T3b7evN8F36DabtYm1QjWFdVn0fbOqMtOx5fDrcH4wZG9A8L81xzzCPd42yvGydVT/+4c+B3cFIcOLA0YEnUlaz9tSac8Ay5hL8U5pTrzM1gxFTO5MPon1h51FpkMBgYsCOcOZg2NAMTweukO7Lr1a/5rAAD5j+5J60zz0wBRC6AOFQ3FC/YMDBJ3GOQeOySAJ+0mwyIJHYkaQRzRH1YgORsMEqwIfgJ3ACUA3v7R+lL02O1o6HPlH+Rs5NHk6ePy4FLd89pw2/DdmOCM4lPh792c2YnXC9nP2JjWxdAwzknLB8e2wfG91bxpuxXCFNrj8cbzwdYVxRTYkQXAIWsgZBLJDPgPfxuDMNhEJEnuOjgxazcJQtk+FDNFLikyyTM5LWMgXRLbBI4AnQZDD7sLE/uL6WzjFeqP9jn+6fwb9EXtiu4u+FsDJws6DrwPYREPFEcX1RpvIMUnRi0ULdYlbB2GGdIc0CGCIQQaaQ7jBH8AwP9m/4j8LPfB8O3rnuj45WzjmeJl42/kq+Ne4HXdYtzZ3tjiieZn5uXhzNwB2nHbF90S29jUr8+NyzPJ6MbQwxS/2blxxYTg2fj78CfUR8nx4voLByKsIfEXeBAhEf0dHzcKSpRJPDtLNEY5Kj8aPNQ2pTQuM6MumCcQHqIQXwQYAjcJgg2LBvP2u+mT5ZfspfgoAFX9c/Pd7MjwW/zQCIMPoxEeEYwSVRYJG5sfSiQdKjcuHS21JXMdURpgHQMi2CBGGDsLQAFy/TX+Jf/z+4H0fex05yjmueWF5BHjSuKg4iPic+CX3jfeZ+Db48zmzea84p3dP9ut3ZbfZt0p1q3QccxhyiHKQch0xNi8xsVI4Kb6OfW21+LKROS7DVslaCM+GdsPXRCPHpA5zEyYSQU56zDTN3g/GD0NNpwywS/GKvMjYxz9D5YDff/LBfEKAAUh9urow+TH6g/3S/9U/ZHzzuzT7537sAiEEHkSxBGpERIV5hmpHyQkOykqLPIqiSQ1HBwYRRqfHrse+BagCmj/CPqC+lL8Tvvj9F7sfeUn44TjT+QI5JbjAePw4ZbfgN7j3g7iM+X656bngOS03wTdat6R4ITfNdqn1HbQ9czbysbIfsUMwHfB+dWN7yj3ReDWzEvWv/r5GVEjJxwoEQkMGBSlKhdCB0k4P6802jQ9OkY6IzZNM3gyIy7kJzwf2xMqBgcABARGC0EJxfxO7ePkDudR8vf8HP/I9zLvM+7T9c4BgQv6EBsSQRJLE74W5RoYIMclJityLKcnOR/TGC8YqxvsHYIaDRF/BR/94/kP+tv5s/bG8FfqheUD48LhsOHD4nHk0eT54iXgZd6w33fj9+cp6ubod+RZ4LfecuCg4bDfnNqc1QPSvM+yzWHKB8WPwIrI9t5X9JjyjdzOzgLeZAAiGy0hqhjGDTsMXBmtMCxC4UKUODozgjc3PG45rDKwLsIt8SxDKcAfZhAhAv3+WwaMDGUHNvmL6/rlL+vh9bf9IPzG9EjwB/Q//CQEMQpUD/ISSBX3FuIY4xq1HhIlwiukLCcmGh3qF8EYkhulHDMY5A5eBKL9kft7+3r5pPVs8PLrEOin5QHkCuN4413lFuc05t/i9t9A4OnjVOh66vzojOR+35Ddtt7937LdVNn31F7Sm89GzALHUMKawdnOLOXn9Snvrtr70WzkZAZ9Ha0g7RUzDXYPhx9MNKpA6z28NVY0/TraPf43Ri/ZK2ktfS7FKS8enQ6oAikBlAdwC1wFQvgU7FDoe+1y9gT7hfjg8qvx0faR/d0C6gbhC+4QYRXfF8MYeRl/HEYjZCqyKzMl5By3GNYZoRxvHNEWxg1sBY8A4/4e/eH43fP1707t1+oE6HTkk+Fj4SbkGOfs5iLjUd9G38nivebg6O/nZORL4Dff0t+H4ALeWNor18zVh9Nw0LzLncaIxsDRf+W386XwvOCo2MjkQ/8PFUEddhdUD6ANXxlqKzI5/Tk3NCUyjTZNOug36TGBLHYrnCxALC0laRcHCToDUAb0CmsJdgFL9lTuiuwG8eP2LPn29l/0EPXO9/r7jAAsBiULoA+dEqQUpxVmF/AaeSA5JOYjPSCQG2QYPxf5F3QX/xP8DMQFLABr/VL7Jvl89XDxae3L6oLo9eVY43Dic+N95VjmXOX44vPg3+BG48nmSOix5j3jGOB/3nHee97g3dXb+NgF1QTRS8xCyiHQzt9+8O31xusy3rbdh+8tB5MW6RbCDy8LAxCPHIUpKzCdL6EuDTG8NT82MzLRK/woOCpmLcIsNyUGGOwLBgc9CWINYQ2wBqL7ovJD8DX0kPlG+/H4Ffa69TD4sfvn/mIBzATSCGENzhAAElAREhH4Ez8ZVx6yHnwZCBOuD0MQDxLQEWkNogbIAGT97/tj+tT2y/KJ8IHv9O2I6/fnUOW+5HTm2egd6jHo3+Tc4lLkGeg56lfqJujK5KHiAOJC42vjruJy3x7crNeB1JDU/tk35JXuSPMh8Jfp0+ap7B75mgUDDUIOlwz5C4sPnhbyHQwj/iXYKP8qbysxKbEmRyX5JZUndihSJsAfLhclEEsNAw5CDxgOiAn9AhP9Y/oT+0v9wf6B/iD95PsK/E/9jf8sAoEEJAZ8B70IBgoWC9QLYQzhDS4PTg8lDiAM/gldCMgHjAdqBuUDUAAZ/dz6OPnd9xL3XfbK9MHywPAs73bu4+4n8GPx/PAi76ntJe2X7ajunu5Q7t/tfeuS6o/qbOva6QjnMeTy4BPf49183z7j4+iu7r/xbPBn64bo4+p88oP7PQKrBF0DCwJvA9QIEhBzFr4aHx2VHpEfBSAEIPkfYyAKIUYiZyKUIE0ceBdnE9AR6BGDEq8RYw6wCTkFygLpAksEGAUHBG8CIgHgAF8BfwKcA0YE0gS3BdoG8waKBfoDHQOSA8wExwXcBNgCMADd/WD9Vf4B/6/+vv1o/B764vhv+TX5PPjy93n4vPic+X35y/g99xH3bPcX+Mj4pfhG+Nv2LfVQ9K/zyfKH8dPwz+8z72zt/evq6Y7nReUj5IfknOa06iXuS+/A7crrhOtK7vfyrfdS+539xP4iAGwCkgW2CJcLug5DErQVZBd+F5gWyxVsFSYW2hcVGVoYoxVFEgwQTg+RDwYQvA/IDhYNPgsdCp0JXgm2CJoIxQi/CCcIWgcCB6wGOQZTBs0GywYeBtMEYANWAiMBQAALANn/df8R/k78V/vC+s76hvpG+4v76Psm/D38PPwP+1/6JPuQ/Mb+Lf8k/lX8ZvsN/GX7Mfsx+wX78fkD+Kb2V/aP9cn0EvTn813zoPJm8cnwwu/u7hPu1u287frtBO9P8e3zTvW/9BXztfL88+f1S/id+lj8Cf1v/XP+dABvAhEE3QVDCPUKygx1DWINCQ30DDUNbQ4SEJcQ7Q+hDpgNZA1nDbcN4Q2sDQsNVAwJDLULDAsbCmoJegngCfoJlgnSCKEHIQYNBekEXgVFBSoEnQJgAXMAsf9M/1j/Dv9R/sv9vv3K/XL9+vzV/L38xfzo/Df9qf2p/WD9H/0t/Vr9cv10/Zz9mv1V/dj8p/yY/HD8APx5++f6a/rw+Xr5QPni+Dr4Zveo9kn2I/bF9S71hPTz80bz0/LP8qPz/fTd9br17fSa9Cn1VPaG97P4xPmm+nX7e/zt/VL/VAA5AZkCWAT2BSMH5wdFCFIIgghECYMKZAtnC+AKdgp1CsYKMguEC3EL3QpBCggKLQofCqAJ/giECEgIHAjdB38HwgbIBQAFwwTiBK4EDgQZAz4CqwFXAUsBJQHCACMAsP+c/73/uf9o/xL/3P7k/iT/Uf9S//r+nP56/pz+5/7y/sD+aP4E/uf94f3i/ab9Nv3C/Gv8OfwE/LP7QvvF+mP6Hvr2+br5WfnX+E348Pe496n3nPdt9yr31/aG9lP2TPaY9iP3oPfc99v33/ca+I34Rvkk+vL6hfv6+4/8af1K/hb/yv+IAFcBIQLjApYDFwR4BNoEagUUBpEGyQbQBuoGHwdvB9EHFAgcCO4HzQfsBxsIOQgoCPMHtQd8B1QHOwcVB8cGSgbRBXsFLwXPBE4EzANVA+gClQJJAgUCogE7AfUA1ADEAKAAcQBCABkAAAD6/wAA8//P/6n/jv+L/43/h/96/2H/Pv8i/xf/DP/5/tT+qP6D/lv+Nv4R/u79xP2T/WP9OP0N/eH8svyL/GH8M/wA/NP7rvuK+2b7OvsQ+/H6zfqr+of6a/pN+jL6Lvo6+kb6RvpE+lX6gPq7+hD7YPuh+9r7Ffx3/PL8aP3g/UH+nP7z/kT/r/8VAGwAuwD5ADwBgQHDAQQCTgKRAtICDgM/A3UDqwPlAycEaASfBMgE4gT2BBcFPwVqBY8FogWdBY4FfwV4BX0FfQV4BVwFMAX6BMoEpAR+BFcEIwTlA6MDWgMbA+ICtAKEAkYCAQK4AXYBPwESAegAwQCTAFwAJwD4/9H/tf+Z/3v/WP8p//r+z/6r/pP+ff5d/jj+Cf7c/bj9m/2E/XD9WP06/Rv9/fzq/OH81/zN/Mb8vfyt/Kj8p/ys/Lb8v/zB/ML8y/zU/N785Pzx/P78A/0G/Qr9Ef0h/TT9Rv1Z/WT9dP2H/aD9u/3W/fb9EP4y/lX+d/6f/sf+8P4f/03/eP+m/8z/9v8mAFIAewCgAMIA4AAJAS0BTwFwAY0BpAG7AdIB6wEAAg8CGAIhAjECOQJDAkoCUQJUAlYCWQJbAl0CXQJVAlUCVAJPAkgCOwIuAigCJAIeAhMCBALxAd0BywG4AaEBhgFqAU4BMAEbAQIB6gDOAK8AlAB5AGUAUgA6ACQABwDx/9r/xP+4/6j/mP+F/2v/Wv9H/zn/N/8v/yj/Gf8F//n+7/7s/vD+8P7s/ub+3/7Z/uL+6/7x/v3+Af8D/w7/GP8q/z3/Sf9X/2f/cP+F/5L/ov+v/7r/xP/M/9H/1v/Y/9v/3v/l/+X/5f/o/+T/3//c/9r/2P/T/9P/0P/O/83/zv/Q/9P/2P/e/97/4P/f/+L/5v/s//T/+v///wAAAgADAAUADwAQABUAGQAYABgAFQAPAA4ACwAJAAsABQAAAPn/8f/o/+D/2P/T/9L/zP/F/7r/sv+s/6r/qv+n/6T/nv+Y/5f/lf+V/5b/l/+X/5j/m/+d/5//oP+l/6j/qv+1/7r/vf+//8D/wv/G/8z/1P/a/93/3v/f/97/5P/n//D/+v8BAAUACwAPABQAHAAmAC8ANgA+AEQASgBOAFEAWABeAGcAbgB1AHYAcwByAHMAdQB7AH0AgAB+AHQAcgBvAG8AbQBtAGYAYABZAFUAVABOAE4ARgBEAEUAQAA3AD0AOAA7AEIAQQBCAEIAPAA4ADgAOgA8AEEARQBFADwAPgA1ADYAOwBBAEMAQQA7ACwAJQAkACMAJAAjAB0AFQAEAAgAAAADAP/////7//j/9f/z//P/6f/r/+r/5//l/+D/5f/g/9//2f/Y/9z/3v/b/+P/3v/b/9b/2//U/9n/0v/X/9b/1P/Q/9b/x/++/8T/xf/B/8j/xf/L/8j/x//G/8f/xv/L/87/y//X/9T/1//k/93/6f/r/+3/AAD3/wMADQAOAA4AEgARABMAGAAeACUALwAoAC8ALAAqACgAKgA2ADAANQA8ADgAPAA1ADIALwAqACUANQAwAC0AMAAsACIAHwAlABkAGgAkAB0AFQAYABcADwAEAAwAAgAFAAMAAwAAAPn/6v/c/9//2//b/+n/7P/h/9f/1f/O/8j/yP/J/8//zf/U/83/yv/C/77/xf+//8T/xv++/8L/wP/H/8f/y//N/8//zv/P/8//1//c/9j/3v/j/9f/1v/Z/9r/2v/c/9P/0P/S/9T/yf/J/8v/2f/z/wIAAwD2/9X/wv/G/+P/CQAYACIAEADj/7b/qP+z/9T//v8RAA0AAgDi/9n/1v/K/8P/y//S/87/3//x//P/6//q//H/9P8CAA0AGAAnABsAFwAUACwAUgBhAFEAMQA9AEYAaAAiAO//bwDhANsAuAAPASoBGAGfACwAvP96/6f/yv/5//n/zf+A/+3+df8EAdMChwFlABD/afy6+jf8qgBKBr8JfAkjBGf+AfrE+sr+CQPfA+oBev6C+/j5RfpT/GT/YQFoAYT/Rf0//CX8qP1h/2cBhAGJAIP+af3m/YT/lQEAAlcBhv8h/r/8kvz4/fj/lwA4APf/WwDjAUwE2ATLAmT+Z/t4/K3+EAAfAT4CBwGi//j+h/4s/qD+/P+5Ad0DtQP5AB//uv6j/1YARwFgAff/d/9h/5MA2wHCAgUErAPjApEAm/5F/en8bv4FAAYCygJTAaL+Qvxf/CT9PP8oAWsCIwJuAccA5v/5/zP/ff8cABoAov+r/8f/lf9CAU8DtgHW/w0AAwFD/2j/0v/GAGAB/QCHAOMCRQbIBq0EkgHT/2P8BPxr/D78vvv9+yv/Af69/8b+N/7H/Ir96/4J/9b/tP8R/879b/6g/9X/nAEfAq4A+f5d/2cANACdAaQCxgKiAFv+1/2k/rQABf/G/sD+Pv4f/rH/dADw/Z38lf10/+X/MwBdAUgC+ADZ/xz/pv/2/34A0gEfAVEAK//+//v/DwDrANcAgwEfAVUAdwCMAF4Aiv/fAL3/7v5oAHEBRgEtAB//6P5GALcB0QGeAUsBwf8k//b+ov8r/7f/Sf+p/2gADQDm/2H/RP9z/qH+pwA8AW8BFf/v/uAA9P/vAIcBcALWAsgBogDZ/rQAwP8ZAFkAuAAQATkAtP9K/v391/1j/2kB8ABJAIX+s/5T/gb+CgAGALkAOwByADQA8f/q/27/VgBiAHMB0wG1AbIByQB3ABUAsADHAHEBZAECAWQA2f+r/2AAbwDrANoAWwAWAS8BdAHQAI0AlQCIAC8CVwIRA44CSgGXAPv/VgF6AoIDwwOwAqQBnwD7AJUC8APSBIMEVwNkAvgBrQJ5A5cDiQMVAzkCkAF6ALYAlQBFAMj/+v4d/wH+2P3U/On7K/tC+k37Lvti+wf6yviq98r2fve49/r4XfgQ93L0j/KX8uLytvNc88rybvFV8PnvqvAH8h3z1vPB88vzifQz9fP15/Xp9u72Uvi++cH6Pv4AAzsLog+mD9YOPA7XEQUUuRiUHEUeBh7BGjYabhm6GesZFBnDGOQVvBMQEmoR0xDYDiAOAQ32C40KLwofC18LggtwC6sLXQviCh0LfgveC40LdQsfC4sKkAmQCNoH+QZvBngFfwQPA3gBvf+M/dn79Plg+Hv2ZPSQ8nrwlu6A7Kbqquju5nrl7+N+4u3gc9+b3Rvcxdqz2WLYcNY81XPTLdNs0qrRDtDbzRrOF85t0EPSftPF1IzSldWk2MXgm/B5CjouFziMLM4SwRKoKLY8Z0zrTetPCUCMLUwkFyNsJrsdSRmpFHoPYAZq+GPvy+Wy5JLqEvUD/R/7BPcl8fjwhviKBqgVXxwCHgAcShrzGVscRSNzKG0qCCe4IRwd3hfhE4YO+wwODp4O+gvlBJf+AvmH90H71wFLBroFfgIx/4j8qfzz/+wDRgWOBOUCBQFQ/jj8FfvL+Uf4iPbO9AbyW+1N5yvgZ9qb1vXU9NP80YnOlMkrxWbDsMQWyGDKNMswyh/KV8qJzIHPydLp1ZjZdN/N4ifq2wLRLb5NVkXzJmoWQyKhMrw/skxYU2NFKiiYFUQT+hRXEuUO7g1sCdsBUfnG8Zjqa+el7N34hgWwDUwPfguDBukGFxCwHbgojS0QLWUoOyG8G0Ya5xyLHscdcBqgFY8QBQplBAMAmgBdA3kGSQfIBRoDTQCGAVsFCAspD9cRuBEMDjcKCAjqB5MGagWGBNoDZAHK/T/60/Zn9L3yuPIS8ivwQ+wO5/7hY93/2hLaAtqY2U3XK9TTz0DN4M200HTUAtYW1hLUkdGX0NHQ9tJM1BnUYtT31bPa9dsM5b8DrDCnSr46ix8cGJEj6y5dOJ9Jo1E4QuElbxJRDtcMuAuPDMEM7giiAHn4l/Bt6U3offAr/zEMYBPNFNoQJws6CkESBh+PKYMu5ixNJV0bphTRE8YVMxd/FrkTcg64BkX+Bvlq+XX9HAIjBj4JnQjuBC8CBAP3BksMqhNsGNgWyxCiCpUGowJ+AfkC2gM7ASf8//cW9Ovws+8j8I/wTO9j7ZfqteYe4j3esNw83GHcr9wi3LrZitVC0l/RcdJ51DDWlta21HzRkc5HzK3Lts1czwPQrdAC1HfX4NoF7o4V+D3ARTguuBmLGv0nAzT4QelOIkmCMFwX8Q0hDqANiw2mDHsHev6n97PzfO1Y6CbspPkxCBQRSRTIEmMO9gzYEwIh6CwzMscvWieSHaoXbhf/GG4YHBWMDxAJPAJO/UX6QPla+sv8NQGDBIEGgAWkA2gF2AlcEbcWiRm+GLkTgw+EC1AJ+QYJBN8BWv3Q+Pr0dvKi8BDud+1m7TjtE+wP6qfn2eNq4RnhI+Lu4abfu9zL2T7YhNf710PY1deS1xHXL9ZV1DPSPNBozojN083Uzh3Ptc9b0dzTidoo8BEXWDk/P7YrshuHHpUpsjeTRyFT1Em9LvsZDxMYEzQQcQ84EPUJpP569UTy1e2I6K3sZPqBCMsNcA7WDcQL8wvkEz4jOi8kMscuYyiRIUwcYxv6HJ0biBdZEngNYQjzAdj7ifdt90H8JAJXBmcHjgQAAcEA1wg0FGAa4hl/FaMRBw6NCw4MrAqABjoAUfyW+rb3hfSL8X/vNu7J7frug+4S60/mBuOw4jzjJuP04SLfTtu/14/WzNeM2DPYg9bs1UDV99M90onQEM/TzITMwc5W0W/Rqc6UzvfQd9vS86oZUjeiOGokkhVCHBcuRkEqT3tSxEXYL1MiAR/qHa8YvxPPEcQMzQMd+fXwtul45ijszfixAxwG5gMPAtgClgjlE5kiPCxcLjMskijAJeAjBiVEJhclMyKaHpQZkxC5BrwAmP9dAS8EDAbaA1r+7fnj+r//0QXCCiENJA34Cz8LEwu4CT8IQwaHBKYCNQE//7H7DPhE9e/z/fJ18dXvS+0J6m/mh+O94Y7fAd1q2qzYhtbm02LRFdDfz27QidEx097THtMw0qbS89I000HScdLm0UXSSdS81VbXwt4U+G0ZBSzLJSkULRD6GZgr1jxxR/pGsjmyL6wsBi0FKYshMCB6H2EeoxYVDA4AUPW78lb4agEnBdIBpfwY+HX4zf06CB4RRRXmFmkZCRyRHIYcAx5ZIMoidCZFKQ0n2B2DFGUQrxH4E+AUKBP9DE8EqP1d/OH89vyB/L38sPxo+2D6Dfk/+LH3R/m+/AD/5/5H/er7+vpN+nj5yfgk+B/2PPS78dTukOr35UjizN/K3SPbLthQ1aHRtc51zVHOKdBS0GLQOM80z3fPvdAi1GHXa9nL10zX2dch2g/e0+i+/rYSexkbEh4NPA++F0QizS1nNsE1oDCzLvsvjS4GKN0lVidWKrEoYCOsGzsRywnCCHcN8g4ODIYGNgKv/7r+GwGtBFAGhgY7CG8K0QpSChALGQ60EcQUShe8F/QVyxTtFWQXwxaHFZ4UDxNTEA4NowoNCAYGAAXTBJUDsP8g+wj4RPat9Wr1H/RO9FXz3PL88nbzVvMs853yZPOp8uHylvKv74fuju5m7R/se+ug6tXoh+Yf5jvj4eIa4hTjG+VT5OXjGuWn5dzmWunK677scO4c79fxK/Qs9QH2Pfdb+Gf5dPpL+8b8bP6PAO0A7gDLAKQAmgEiA7wEjAUaBsEG4wdgCfUKZAxWDssPaBGrEzQV2RXtFiMXvRd2GEMY0hi5GMUXdBawFcwUARRJEy8SYhHMEBEP/Q0fDacM2QtyC1kLDAumCngK6wnoCWQJRAmDCaoJVQlQCIQHYgaJBVcFfwTkA+cCHwFMAK7/tv4c/ub8U/wo+9z5Pvl5+AD43fae9h72XfWi9ZX1YfVB9dH0v/Tb9I70gvTO9Aj1mfWb9f31RfbS9gj3G/fG93b3+veW+I34ifii+Ab5Zvin+G74cPhK+Cz4JPjs9973u/eB90X3HPeJ9gv3Yvc5+Mb4Q/mG+JP4rfiI+bP5d/oh+3P7Tvyp/Ln9//1s/tv+1P+AAOwAeQGFAX4BiwG4AcYBAwL+AbcBAQL0AU8CSQIpAswCugJEA3ID4QMQBEkExQQ9BbQF/wUMBh0GEQYzBnkGmQZfBk8GZwbuBdkFjAXcBDYFxAR9BJoEEQSOA2IDHAP6ApQChwIzAgsCqgFmASMB9wDHAHMAqgBnAGgAJwA6ADIAxv/v/yAA7f8sANz/LQAJAPD/BgALADQAEwANAD4A5P/T/6r/r/+//6H/6v/J/7r/oP9t/2//fP+u/+z/IQA9AOL/7f/p/9j/9/8gAHAAbACXAJEAmwC6AKwA0AA7ATcBSQFIAToB7gDMAOMAzgCrAKMAYgBrAAUANAA3ACcAUQBIAHcAjgByAHUAuQCQAP8A6QASASIBBwHzAAIB3wD6AN0A7QDeAOYAqACcAJMAZwB7AHsAfABxAEkAcwBAADQAIAAeAC0ALQAcABMAFgAVABMAEQAJAAEAJwAdACsABQA2ABkAHgBZAEoAXQCKAHMAqwCWAJIAuACLANQAvwDJANEA2gCtANEAkgDBAGwArwCRAI8AgQBZADsAFgAgAP3/KgD8/wUA7v/j/9X/x/+e/9f/lf/Q/+D/t//r/8z//P/2//r/BwD3//7/2v/W/7b/nv+M/23/PP9B/+v+2/6k/pf+a/5u/lr+cP5E/lf+TP5B/lL+Wf6D/pj+rf7m/tP+5v71/vr+Ov8x/1L/b/9R/1j/X/9E/z7/Uf9S/1j/Qf8v/yL/A/8O///+Cv8E/8n+5/7s/rj+zv7b/sP+8/75/rT+M//G/uD+Q/8g/1L/RP9z/1j/jv95/4L/pv+i/9T/v//i/53/y/+9//H/IAAHAPz/8v/f//v/sP/h/9z/wv/v/6L/tv+i/5f/yP+c/7v/pv/J/9P/s/+x/7P/s//H/8L/mf/d/43/w/+3/5T/1//U/5P/1/+U/7D/rf+J/7z/pv+O/7b/fv9+/5z/jf9X/5D/hP+S/5j/pv9y/2L/yf+k/3n/AwCV/5H/0/+D/7n/sf+2/7D/tf/i/4j/zv/d/6f/z//W//P/0/8GAN7//f8QAMT/wf9EABoAw//Q/2P/FADoAZT/8wD9ACv/RgHm/+IAAwB5AJoAXgCz//QAogArAeMAiQDfAOEAmQBbASkAZgA4AaQAegAbAesA7f9ZAbsArAA9AT4AgwA5AbQAtQAjAMwAhAA4AAkB7wDK/9QBsAC7/7EBOwBLAF0BFf/bANb+SgEWAdX/zQBYAKv/AAALAU//GQB2ASX/UwBf/x0AEAEb/+8Ac/+KAOf/sgCR//wAEwDA/6AAd//v/3T/OwDwACr+JQF4/zQANAAt/28Bvv+LAAMBCQCUAkL+fP+/AZEAR/7XANr/Kv/QAcL+VwGBAMX/agHw/1EAd//n/wEArv/OAQr/AQHj/UkCIAAt/lgEuf2IAg4A3P7IAS7/CQGe/5EAoQFa/PICOAFE/q0CIf4BAH8Fe/tWAoABaf3SAIICxf0RAggBw/4NAor+yP4RAQ0BR/7cAWsA8/vBAn/8SgPR/WUARwDg/z4AMQDvAC3+VP/RACkBOwA2/sIAdP9f/jcByP9wAtX/sv13Afv/df7AAtj89AI3/XUBz/1FAT/+YwCg/9UCVv3DAan+cwBQ/VkDQ/3h/ggEc/mfA+H/K/cLCGj/LvjcCT33fAS9/1v6+gaR+joC9P5jAJT/gf/9AUX++f4EAof/nf0MBKL/C/2vBd//5/kYCtD7Rv0aBsD5bAGDAF0C6/aEBmH/4fljBIj+W/r+BrD95PasDUDyJQEHByT4bwJlAI8AEvURD574Fv2bBaL6RgDiA/j4egHZ/ZgEXPmPAkcBjPiwBvz84vy/BX36zP34BPL6U/qVBm/6pQBu/hgCOvgBB6n7IP0GB973YQVY/NkDA/qcAjr/vQLX/8P+kAHI/rcDfP0S/2YBP/pqCr/8nf6HCBz4dP7fAS4AJfzRCET0NAex+PsHIvsvAUIB/Qd8+uP9mwRa9hgFnQMi+/kDYwM8/lj/GQKaB3D5UQO+BOgDbfrICCj8y/xGDXrwVg0nAY75NQR5/nH90fxqA2z+FQMT/JMGwP55+CUCeghB93QA+QJ1+7cF3/zm/KcFtf3FACUDsgDkBWL0OgJzA8T6gf2CBGT+xwWuAnT1GgdJAHf89f/H/+YFAfhO/VABFP3u//wB3/yRAcgHhvI6DPH1sP3HCKMAUfVBCKv9fPZVC6T/nPqOAlgBc/1JCHz/tfyS/2gHM/0I/DwIPPDKB6z+v/x6+O0H7fuQ9ucEeAHOAt78bQTs9DwM4P7e84gHYwNG/LgAWwli+tcEBfxNAIkH9/+u/l/9tQDl+gUG8wH/+CcDMQLi+8IADglN740FzAJA+70A9QRO/jT8NgVuAGcCT/oRBE8BHQF7/tT9Ef2GAjADdvVODcv/4vU0CAP8IgGzAz79jvkDDL79XvrtAksAG/+5/5sAQQFZAhUD1/mK/2kJCQKy+jsBHgEKAcb/WPy8+dwMxPtT/rT6NABqAFb6KgYc/RcDnP5IAKX8GAYeAtH/agbR/cAEY/vw/3kDYAEhBJEEEv8tAdX79f2lBHX/g/zxBGP+4vxjAlj8HAYeAmr/kv4BBe/9Gv3r/8j2XQEaBBcAzftoAGT58vwjAHgIwQA8+7QJZvsWAOQAZf5C/KMFtwS7/roCy/pq+pEDPQdh/xkBeQEU+Qb8eAOV/a7+XgI8/xAAJgI6/GT7hfyt/3IFLQa9ABX7Kf8u/aYBmQIvAZcCr//Z/AD8LgDu/DH5TwQQA2j/VwKE/EfzC/z3BGb+iAQLBZX5V/k9/7AB+vsbBQ4HIQQYAKwDMP1A/kP+AAMlCo4BI/78+jr8mf6MASn+owRrAQP7D/5K/2T8U/lg/38BYQLGAH78DfqB/hf+RQANCPwFtAKE+MH8nAFyAPwAKQJCBIQB2QB+/qb+mwCqAVf/jQVJAu/5SfpK/VP/I/5n/6z92QBsANz7l/nM+zb/V/84AzUECP8s+xD8bP9CBM4EPAQYArUBnP0o/ZEBkwKhACAAXAVSAhYATvxi+2f/SwI2AtwAzQEN/Ej4NPnt/dD/Ev7V/ML/JAKWAJ36YP5cAnAFOgQRBRkEAwFX/hcA5wStBWoFogHIATUEAABv/b//tQMRAo8B4fyz+rf61/q+/R8BsABl/En6r/mx/NL9Ov2G/+QAyv9Q/1EAEv/O/Vr9MwD1AfkDXgFU/mb+0P+xAMIAwgC+/Zv75/kZ+dn66fyo/UD+OP1t+3r6Kfws+/X7o/3o/Sj9H/2T/wP+Nv67AMj/7wHcA60ERATiBFkEDQSkBckH7Qg/CJsG4gbbBfkFBQePBqcIdQgCCQEI1AhsCYwIawkpCOAIKQcaB9EGDwZBB2QGuwWxBfQFawVvBTkF3QSABDwDOALEAGb/aP6s/mf/6v01/Mf5+vcO+Gz4yPjN9vLzkvF28CnwOvAX8ETu3uxy6hHpxelk6g/sZ+0J7vbt+Ox36kHp2utL7ybyRfJr8bTwW/Eh8zj1AvhJ+Wn86f6CAREFxwZ4Cg8NrxIPFoIXFRmjGRsdUiBtI04kJCQBJN8jtyUxJ6Am8SRpI34iSSHkH18eaxyRGhIY0RVTE0MQbg1oC5EKCAlgBlEDGAG6/wT/l/6Z/V77Dvm19u/1Q/Wq82/xYu5b68Pnc+Wb4+rhEOAB3v/aKdjt1KrSHtKY0g7TDdH4zqPL08rXy5vO2c9v0BXRStVe2vHfu+e48ND6WP8CAnEI6xFbHHMhpSeVLDsxWzNCNC43qzfiN+s25jaDNFUvMCkVJBggkBsnGDMUUg+mCd0EAgOlAG3+v/wp/jYAlACk/x7+uv+pAyYJ5A0iD4MNLgxBDnkScBbuFvUU5hB4Db4LiQocBxoBMPrc9APw1+vM5ivghNjA0bLPfc78yxvFVL79uoq6i7zZvK+83bmvuL26qr/iyBrOpNiU487yfful/BkCtgvLHpwqojNUOJQ6ND7uPxRHYEqXSX5FCEL+QNA6GTISKM8hSx1EGW0UUA1wArD3zvHy8Znz8/Iy8Jrtt+wi7W3wB/Wv+nv/VQTMCeMMxA94EQ0XMB3IIQokoiGYH/IbxBqYGAoVNBCtCfkCgvqe8rDqfOQY39naP9aKzi3FCL0DugO6Xbi9tDWxkK8osJKxQ7Zlvf7Dbs9B3SnvFPbN9hj8fgx4JBcwRjjTO5ZBC0WtRstPP1XhVblOJkpBSAFB4DUrKwon4CEeGn4RMQit/I/viOmb6pnsFOn6497gId8d4AvkEe1J9N33gfqO/gEFaAt/EoQZDx9WI+IloCaDJd4jpyTMI2EhkRsWFMsLHAMr/R/4PPLb6Wbhw9gPz2XGecDzva65gbJmroarcKp3p0Gn1azlst6+mc5C4JfnYeXJ6mX8jBX5I+EteDXwO/U+sEHrTLBWFVmoVB1RKFBwSBs+MzUtMSMtbiTrG20Q0gLi9OTs8ewz7ITou+Gq3KjZCdhN3DfiMOpJ7T3wtfPU+Mz/OAdHEAYY/x0nIYkihyM4JPIlvCYtJvoiRRzmEwMM/wUtARb7VvMR63bhlNftzYDHQsLkvFG2n7CArOOozKY7pvWo2q4kvUnQ4N3C32vbPuO2+BMQoyC1Jy0u6jHqNno/rUoNUzFTi1GXUb1QIEqqPnc3ZTQZMpgr2CCTE9wESPlJ9JDzjvGk6tji9txC2szacNwF4UTkWOjn68HvSfT0+GQA1witEZ8YfBuYHbAdUCBQI+MlMib/IZ0cYRU0EIcKEQUP/8n3vPDs5yHeVNSey+3FrsAPvdW2m7FYrBGpZanrqxS578kI2A7ZE9Q/2SnryQDIDlQXkR/wJossdDIWPIdEYUheSqVOrlHvTP9B2jlCOHQ4yTWgLtQjGRVsB3X/af0Q+zn1He5e6NPjzd/m3XzeMeGq5IfoFey87ULv9vPY+9MEEwwyESQUIhb6FzMbaB60HxIfKR1SGvIVERAHCh8EFP93+hb1p+1H4w3Z3dA1zKLIIMMuvoC4CLVFseex+rw4yzbVENQP0+/ZYOaY8oD89QgSFP4aGh/tJZIuzTM7N/I9JkeqSntFJD4jOqY4ADdXNW8zWywEIFkUVw30CEwD3/2V+vX2g/EK60nnHOV15J/li+kA7Zntju0X8MT0s/rMAKsG7ArXDJsOBBGTE2AUqxSBFdAV+xMkEK0KsAXqADv+1/v19rbuBuZf3/ra39Yg0pLN08l+xsrEXMRUyT3QXNYr2TfaLt4P5dTsMPTj+0oEIgsGEd0WThzzIEokBikpLzE0vzV4M5EwJS5OLJcraCrCJ+Yh+Rp/FecQoQy+BwUEVQH9/Vf6pPaK8wbx1++i8PTx8/JD8x/0UPaJ+Cb77/36AAoDlQS0BnIIngm1CbEJmQr4CmUKCgklBy8E1v/X/Mz6BPiW9JTv+Osn7CDsd+ek5PHk5ONB4vThceHT42vnbuj76PHpDesk7DTuOfIR9rr5C/34//cCtwVkCHULdA5SEWQUABeHF4QXIBfDFtcW5xYFFtAUYRMmEcIOMwzCCQwIuAYiBZgDdwKEAaIA8v94/4j/8v9iANEARQHwAEABsgFjAoMCNALBAv8CJwMnA2IDqwPKA6ADVQOkAj4C7gHeACkAdf+k/pz9rvxH/HL7PPpu+WD5Gfkc+Zf3lfbn9m32fPWx9Ej0svNa86Lz0vMZ88byvfKt8lvz3vNg9Nf0jvXQ9gj4g/nT+jj8of1f/0gBwgIoBHgFmAZ8BwsIjQgHCWYJkAmFCTsJswgeCMAH0wfKB0kHAAfaBssGcgYNBuEFNwZ5Bk4GJwZBBiUG9wWhBXIFZgUxBRYF+ATOBG0E0AN0A0kD8AJpAscBWQEWAYUA0P8j/3X+v/0W/Y/8vfsP+4T6yPku+cX4Y/jl9z33hvYt9ln2hfZ09h/2qPVe9WL1cfWe9bT16PUv9pH2IfeT9+/3dfgx+TT6OPsy/AP9ov1l/hT//v8KAecBkQI2A90DawQJBaQFPwbhBmwH9Qd7COcIDglCCYwJ7QlHCmcKWQo+CvIJsgljCSwJ1whyCOcHTAepBvUFSAWOBOoDTQOuAhcCdAHZACsAl/8Q/5X+L/7N/WH99/yW/E/8A/zK+6v7hPtS+zD7BfsV+yT7Mfs5+0D7UPtn+3r7gPuM+537ufvl+wT8Hvwh/DT8R/xw/Kb83PwN/Tr9YP2Q/c/9Hf5y/s7+Iv97/9z/RgC3AC0BqgEkAqECHwOhAxgEkgQBBWEFxgUpBnkGtgboBgQHHQcoByUHHwcPB/kGzwafBmkGJgbbBY0FQAXrBJAEKgTAA0oDzgJTAtwBXQHeAFYA0v9Q/8X+Rv7O/Vv99vyf/E/8BvzD+4b7Tfsg+/n61/q9+qb6lvqO+on6hvqG+oD6e/p7+n/6i/ql+sb66Pr5+gP7FPsx+137k/vL+/r7HfxC/G/8qvzr/DL9fv3A/fn9JP5E/mT+i/7E/gP/OP9f/3j/k/+8//v/RQCOAMsABAE2AWwBowHeASECaAKqAuICBgMaAysDRQNjA3oDhANuA0oDJAMBA+QCwgKLAkYCAQK8AXUBMQHkAJwAYQAsAPP/tv9t/yj/6f6w/oX+V/4i/vP9zv2s/ZD9ef1k/Vz9Z/18/Yj9kv2Y/aj9zP36/TH+X/6A/qT+xf7x/ib/Wf+W/8X/8/8cADoAVwB0AJAAsQDQAOgA8gDuAOcA5QDqAPgAAgENARABCwESARgBKwFDAVoBcwGIAZQBnwGyAcsB5AH4AQgCDwILAgoCBQIBAgAC9wHtAdIBrgGLAW0BXAFBASEBBAHcALQAhQBdADYADQDw/8f/pv+F/2H/Qf8i/wb/9v7x/vT+9/74/gL/C/8U/y7/Vf9//6H/wv/i/wEAKwBSAH8ApwDMAOcA8wD/AAsBEwEbAR8BJAEfARMB+ADiAM0AvQC3AK8AoACQAHwAbgBjAGIAawBzAHcAgQCCAIkAkQCmALwA0ADjAOoA7wD1APAA8gDxAO0A5wDUAMAAogCFAGgASQAyABQA9f/W/6v/gf9f/z7/Hv8K//T+3P7C/qz+l/6K/oT+f/6F/o7+kP6U/p7+qf7A/tf+9f4O/y7/Sv9g/4D/mv+7/9b/6/8BAA4AHAAiACQAKQAnACYAHwAYAAwA/P/s/+H/1v/P/8f/v/+5/7T/s/+z/7X/uv/D/9D/2//o//b/BwAUACcAOgBFAFIAXQBoAGkAbgBvAG4AaQBdAFAAQgAuABMAAwDv/9b/vP+p/4v/df9j/0n/O/8t/xf/EP8H/wH/9v7m/uD+3v7i/uD+7/76/gH/Ff8q/zn/Tv9l/3//lP+s/8H/1//p//r/DAAYACUALQA0ADcAOwA+AD8APQA3ADAALgAmAB8AGQAVAA8ADgAKAAYABwANAA8AFgAhACsAMgBBAEoAUwBeAGYAdwCBAIcAjgCQAJIAlACQAJQAjQCCAHQAcQBoAFMASwA/ACoAGgATAP3/7//l/9H/zf+2/67/q/+e/5v/kP+S/5P/kf+c/5X/mf+q/7n/vv/J/+H/5//3/woAFgAoADQARgBaAGkAbgB/AIkAlACdAKAAnwClAJ0AjgCHAIQAgwB7AGgAXwBbAFAARQBIAEkAOAAvADYAMAAnAC4AKAArADEAKQAsADsAMwA3ADYANwA+ADkANAA3ADoALgAsACkAIAAWAA4ABQAGAPP/7v/o/9r/1v/P/8L/vf+6/7P/sv+v/6L/pv+b/5n/nP+W/5b/l/+h/5//qv+2/7f/uf/C/8//zv/d/97/5v/w//f/BwAHAAgAIgAcACQAKgAnADkASgA4AD8AQwBCAEEARgA/ADsARABIAEgAQABFAEMAQABFAE8ARgBQAEkAUABUAFQATQBLAE8AUwBOAE4ATwBUAE0APQA/ADgAMwAoACoAHQAYABAABgAAAPr/7//l/+T/1P/H/8b/wP+u/6j/t/+t/6j/sv+t/7f/sf+9/7//tv/I/8D/tP/G/8f/wP/B/7n/v/+1/7b/qf+u/7X/uP+t/7n/vv+v/7X/q/+l/6X/sf+i/57/sv/C/8D/xP/c/9n/4f/h/9P/6//i/+T/7f/t/+z/7P/p/+H/7f/u//n/7f/Z/w0AJgA2AFwAcwB9AIkAfACgAJkAdgBcADUA8v/h//n/tf+5/63/ef+E/9b/8f9PABYDsPw9BK8FIwHFAXEBg/9mAC//BwCXAJL/uf+S/+j/YQBz/2v/zP8PAHIAq/8Y/kz9GACL/nj+/f8u/17+FP43/zcAh/4+/wcBpwEYAdkAPwF2AFIAkgAmADb/bv8r//X8b/7n/+X90P/OA6EA+P5l/oz+yf+f/83+Tv47/qL+nP9V/kD/jf9aAPT/7ACd/3H/yAFCAPL+ZP/4/6cA+ART/xkA3/6NAxUFIAbAAM3/dv1s+wH+Efwc+9D9kfsK/cD+iPvS+8P8lv0O/wz+c/3v+379HP1l/XD+x/4n/+z+qAAOAE3+ov+n/ncBlgCWAXD/8AHE//H9iACy/8v+Iv0XAQb/QwCzABv+0ACb/Uf9zQLk/nT+k/6C/UL/iP7g/aX9Fv6N/w4AAwDX/YL9vf4Q/7H+bwDw/nb/NQHA/9T/LwGo//gANAJDAyIBUgC7AFb+DwHK/6b/9wHwASkAnP1pATH+n/x8AHAB8AA7Abj9A/6N/g/9pv6pAU0Bj/5lAIsC2/6S/h//7AFLBIADlgNfACf/fvw9AKwADQOoAoAC1wLhAh/9sv7dAVgDYQM5BnUBZP+4AeUBMABNAeUBHwNFCDkFMQDY//8BNQGZBDcGZwMzA/AByADrAb8DbwOTBXQG+wUxAy8DggIwA24FMgfSBGMDMAJyASMCGwRgA98DNAgLBDgAhQA8AyID/ATIBnYDFgULAsr/IwNuBIYBLgZgB+MCuAHP/a//NAYtB50FKgIOAcP+1gE6AF//oQA7AjYDbQIA/+H7bf5MAPX/eQWrAOAATv9eAHkDugNUARsD1AHxAi0AjgCCAAsBxQDmAQEFqQI7/Yf8OftT/gf9Lv2q/cT6mfgp+mb+Mf3u+kD9twAcA7gB4v4w/U0ATgM7AgAFgAJv/YL/f/9s/CX87PwS/GT9Yf5G+fX4WPyK+sr+8AAI/ln8g/5N/b38qP9D/pT92f7X/eP+qwBX/QH6Nf1X/e7+jgJhAHT9jfu8+z38Sv7Z/Lv6ovuP+0b7Rfv6++77j/6z/2j+Fv3v+5/8Y/9bAIf+bP7P/b/81f3o/m/8Uvsf/BP8IfzE+1H6Bvuc/Pr8wfzL/vH8WP3G/m0AxP7U/fv8P/yx/Ir8Gv7TAIIAyP5c/JH68Pl++fL6S/kY+hb7Xf2P/uH+LP59/icAkQGCAbgC7gCe/+H/HwCf/Yb9OvwS/QD/HwC1/Q79oPzC+sH8IP8WADn/vv2X/e/+kgCy/8X/QwC/ABEAy/2m/kwAvwHSAYMB5ADs/iz/hgBFAu8CfwA//r79Nf4L/Zz9KP/rABYAGP5N/Vv9pv62/6QBKAOFAHL8MPv8/XMBUAJNAa7/5/7t/ZP+//74/x8BkwDs/0f+8vwX+k/7YQBsAlUBl/1L/TP+P/5r/Vz+QALtArABUACb/nf8Avxz/1UDEQW4Arb/a/4J/4QAzgJ9BXAF0AI5APsAtAPNA50EFQWtBZADzwFhAvQEKQaKBZ4HtQipBxsG3QY4CMsHNgYCBhAI/gipBx4HpQZABkgFSwbQCJUKewuJC7cK+Ah6B2AIjAkNCoEIEAcyBokFZQSpA6gDYASpBQoFdgSEAqcAfv8O/0D/3/7b/pz9d/vh+dr3dvcV98D48fh39/jzG/FV8crx2/P1887yF/Dq67Pqc+v97Unude067PDpZek/6c3rZe+J8mfzI/OB8gjxf/Jf95P9qwFGBWUHKAkcClUMBxC9Fh0bkBy7HcQeUR+hH2MhiyJnIkUhLyGKIgMi9h8pHKYcIRxhG0EZyxi5GPYX/Ba7FH8TIRLYECwQ9g/BDfYJGgjvB/AGWwR7AE/+jf23/Wz85PnI9ofzNPL88XTyx+917HPqUuk96DTkIeAv3XDc8tsD2+jZf9hT1w7YXNlR2kHarNde1MHRFdIt1NPVq9by1dHXNNns2/Tf9uko+JUBxwiVC+MRvxeyHjYkrydeKkIqVyrmKRwnMyOKHsIeJR7QHbEaixZfEfgMdA37ENoWLRhFFmIT/w9cD1UR/xdgHUceFRvPFaMStBCGESATfBTOFKkS5Q/JDEMKKgm6CZAKHAm6BWMBmf1j+oT4f/fi9ZHz3O8A7PXoh+Yg49LfPt1c22raq9je1v/U7NQu1hDWONWO0AjM4cibyOPJwsnoyAHHnca4yA3M8c0w0Qjbd/BwCIYUChK5CwERJB4jKlkwWjA8LmYqyiUGInwcExg5Fs0YsBqVFqkO7gc9B4ML4xHpF5cYqBRaDqULBg7WFNocUSHnHzMZXRIKDy0PQxFXFCoYpBk7FggQzQxvDmYV0hwCIGkbeBHNCIgFOAdpCOUG3gMTAB78Hvgt9bX0ovYw+VL5ovWE72HoleOa4WDiq+Lj4BjbY9StzxPQmtLw1DTVw9Lqz4HNuMpOx5HDQcIZxhnP1teI2k3dzOxdBqEc3SE7HR4e8CVhMOEzIjbjM4EtNCWCH4QcoRcnEOUMgQwDDW4JEAaQBBQFUAbaCgURuhXvFYoTVRMYFS0YsRm0GScYHhXgEg8QYA1/CiMJNQpFDLMPxBE4E+YRmBG9EZETvRUcGEcZsBYYEAEIiwHf/kX/EAAA/kf5HvXa88b15/Ys91f1+vJK7y3sOusY6p3mUOE13BPZcNYR1VTUftQJ1FnTgdJY0n7PJsy5yGnI48gqyxfP39Lu05racfFIFjsxzzECIGAWth6bMDQ7ej1SNXYmoxUvDTUP8Q9EDEMGrgWABsQDEP85/JL+YATYDOIVQBoCGHQRQg7GEBAZ5B9KIa8ZVg+ZB7QFxwabCO4JDwmoB6sGlwkpDNcNAQ/ZEF0VXhc4GfwY8xbzEW4KDAb5A1YDzAGv/uj6Mvdf9H7z8PMP9sb3K/hD9ojyWu917fLskeuX6cvl3+Bm3BTZYddc1m7W79Yn1hrT3c9OzorOyc3Qy4TNBc9g0ZXPUc7zzvDV4u4QFlo630CcKXMTKBUZKzU+P0TrP8QxvxubCCQCKAYICGUEpQHgAOH9mPcs80P1gvtpBWgSjh0jII0ZTxKuERUYXiDOJjQmQB6XEekGOQLeAAwCaQNnBA8EsAFoAekBPQSsBxgNzRS+GkEdnRt8FxgU1BEEEmMSpw9nCG7+LPdl9dD2DPkE+T742fbg9TD2XPeZ+Hb4x/am9avzJfE47UXpAOc/5U/kdeJV3xTbldY21CLUhtSZ1FzSG8+Vy2/Kv8oLygLKLMqPzH3POd6hADQrnEMXOL0f0BahJJs4SURZSI4/GiduCdz5P/6rBScF5f/M+9r2lu6i6ufutfe2ADsLfRhSIMUeOxisFvEbMCVwLsYyhyzrG9MKAgL3Ac0EsgauBdUAVflx9Nr1svtgAncHBg3OEccVjxfXGMcZXhkqGXEYCRjZEgMKvACw+y37jPu3+9L6NvkB98b1Xfcy+nf8Kfzc+vb4gfZh9KDyzvFW8DTu2Ozm6lbo7OOP4MbeH97q3Zfcd9pV1ozR78x1ybnI78k9y3HL0conyWPGGslR4rgQEzwoQ2spwxDaEusoTEDJTcdNVjnvF3f/Jf0tBykLuQag/6/2zOvy5AHo2+8o90H/PQsyFXoWxBJREl0YnSH2K9czDjNIJxIYsQ4ZDYoOWw90DaoGWvxZ8ynx7vRq+tD+SQGyA+AFGwkmDlwUVhqkHJMd1hxxG+wXUxNfEZcPvQw0B50Bkv1h+Rr3HffK+PH4ivah9CP0w/Th9T/3Yvg892j0i/G875zunu3b7ATs5OlD5mXid9/q3VDdt9xG2+nXidPjzuHKIsh6yBrKV8pIyHLF4MSyxgvYt/0NK04+NSuxDUoHjRySNz9K+lHfR78pjggz/UQJpxczGfEPHAFe72DineM073T4afv6/rYEXQbMA7sEiAwcFnoe4ibAK44nBhzVEx4UfRk+Hs0f+RoJD7AAafnB+3kCNgZDBGP/+vqQ+bD8wQJZCu4O+RCkEdESbRRTFekWBRj6FzgWuxOLEMEK7gMm/+L9zv10/Fb6VPfC87fwqvA582T1I/UL8zHwP+126/3rVe547wruuuqm5xXlm+My48rjseNz4lLf5dpU1fTQ+M4kz0/PT8/VzQ3LsMaxwybDR8l/3mQDuCW2Kk0T7fwxAWgbATnETvxTfEDDHFQE+AnFIegxvy5GHEADEu5C6Fr0BAQDCRwCEfkK80fxCfY8ARsNUxN4FfoWSBdfFUsUaRjQH38m3ygXJoMdyhKGC2oM2RJLF8oTmggw/WD2C/j3/7YJXgzvBUj9WPoV/34HnhBiFoMVHxBaDHMNKBBdEd0Q1w4QCmAEPQCw/iv9QvsH+k75OvdM86DvuO3Z7AzsmOu6627qv+Zs4ivg+eCp4pvkE+UN5O/hHuDE3yjgZ+Hv4dzgk92r2UTWz9RD1krYV9fc0vrOcs3jztvbQPjZFuwbLwfa8mT3OA4OJyo7kENLOLYcYgtrFGMs9TugOXorHhcBBcD/WAp+GMMaXRBwAuX3MPNK9mUA/AixCPoClf/uAGMDpweMDq8U8hUvFOAUKhfhF0sXHxi1Gu8a3BhMFRQSNA7PCkcKIQzvDE4J9gMjAC//WP9oAc8EfwazAzr/af3r/koB/gOFBeQD5/4O+3f7dv60AEcBHACc/Cf4VvWN9Un2WvXm8o7vMOz+6BDnXOYz5nTlquT/4/LjqePX4nfiYuJc41vkieWc5rDmHObV5JDkz+SP5Ybm6ub45oflgORA5Jnk7+bv7az8AgorDP8BSvj5+fQEgxOtIBkorSPpFQMM2w9yHnUrEzC4KlMfRBT3DwkVix1SIkUefxTwCr8FigU3CJsLAgyQCJcD2QCEANMAAgJVBM4GegcTB/wG6gbdBmMHGAqwDeYPAA8zDIAKqgorDMsNJA+vDnELWAeLBSoGZwd1B3wHQAanA6oAK/+V/9L/xv8V//P9K/ww+lH5dvnX+bL5+vgv+AT3uvVN9I7zp/NM8wfzcvLy8Unx9u9Y76Dv+PDr8WHyOPJs8cDwgvBH8W3yV/Of8ynzMfKN8b7xsvKF8wT0bvQe9J7zFfNd8+rzs/RJ9Yf1mfWL9dv1L/Zx9in3//jI+9j9R/6O/Sz9AP7n/58CpQX4B50IHwhVCPQJoQxiD54RwhJ8Es4RrRGYEtgT0RT8FCsUqhJTEasQhBCUEHcQ5w+3DkQNIgxgC+EKdgoPCnUJogjBB+IGMQaVBUwFFwWvBAsERQOnAgsCqAGBAWUBHgGFAPv/hf9A/xb/If8p/wT/kv4c/sf9ov27/dz9Av7d/Yz9I/3Q/M789/wE/eT8j/wi/K37Rvsr+xv7Cvuz+mn6Cvql+Vv5MPkj+fv4xvhw+BH4yPeX93T3bPdc90P3Dvfz9u328/YI9yj3R/c59x33JPc59033ZveQ95f3hfeF95z3uffJ9wb4UviB+Jb4rfjb+Pf4Ovnu+RH7UPwP/Wn9jf3r/af+BAC4AVsDXwSiBOYEpwX0Bn8I4AneCioLBAv2CmgLKAyzDNQMcwzXCygLvQqlCrcKoAo1CpsJEQmiCFoIHwgACN0HjQcvB9QGggYZBrwFhwVpBS4FwgRCBNADUAPvAq8CiQJAAsUBPQG/AGUAIwAKAPT/uf9h//P+q/6S/or+l/6Z/or+W/4q/hn+Kf5H/lX+Xf5P/ib+/v3m/ej96/3e/cX9q/2P/Wj9Uf1I/T/9Lf0L/ev80fyu/Iv8aPxL/DD8Efzt+8z7pfuG+2r7ZPtj+1j7S/s0+yH7C/sI+xH7GfsH+/P63PrK+sD6uvq0+q76qPq5+tL63vrZ+sf6xfr8+mX78ftN/GD8VPxR/KH8Tf0n/tz+KP8t/z//nf9fAEkBFAJ3AncCXQKCAvoCmgMZBEYEKQTyA9oDBQRcBK4E2QThBN4E6wQWBVUFkAW8BeEFCAYyBlEGXgZjBl8GZAZyBnYGXwYpBuMFogV1BVEFKwXnBIIEEwStA2gDOgMNA8UCZwIDAqcBZwE3AQgBzwCNAEcADgDg/7n/lv95/1X/Nv8c///+5/7R/r/+u/62/rD+qf6c/o7+iP6L/o/+j/6G/nv+bv5i/lz+VP5P/kX+Ov47/i/+Kf4d/gr+A/73/fL97P3R/a39jf12/Wb9Wf1B/R398vzH/K/8o/yR/H38afxS/D78Nfwz/DL8N/w8/E78cvyR/LT80Pzr/Br9T/2J/b792f3m/fH9CP4p/lH+av5v/mb+WP5c/nD+k/61/tD+4/75/hf/R/+B/8n/EwBXAJgA0QALAUsBnAH0AUsCkQLBAt0C/wIrA2ADmwPDA8wDwgOwA6UDrwO6A70DpAN0Az0DCwPvAtwCxQKiAnICRgIbAvoB4QHQAbwBpQGHAWoBUAFAATEBKgEhARMBBAHyANsAzQDAALIAqwCaAIkAdABZAEUAMQAjABMA/v/m/8r/tf+n/5r/jP92/2H/TP8//zz/N/8y/yj/F/8O/wj/B/8N/wv/Bf8A//n+//4H/w3/FP8Q/wn/CP8K/xP/FP8T/wz/+v7z/un+4v7g/tP+xv6w/pL+df5i/lX+TP5B/jn+Mf4v/jD+O/5O/mf+g/6f/rb+0v7y/h3/Tv99/6f/yv/h//j/EAAxAFQAcACCAIcAiQCKAJkAqgC+AMkAyQDEAMMAyQDTAOcA8QD1APYA8wDzAPYA+gAAAQQBBwEGAQQBAAEBAQQBDAEWAR4BIgEbARoBHwEqATgBQwFQAVABSQFAATgBMwExATABJQEYAQgB8wDjANYAxwC8ALAAnACMAHsAaABbAE0APAAwACAAFQAKAPz/8f/o/9r/1v/R/8b/xP+//7v/v//C/8v/zv/O/8//yv/Q/9X/2//h/9j/zf/C/7T/r/+m/5v/if9x/13/SP84/y//J/8d/xH/Cv8F/wb/D/8c/yv/Of9G/1b/Zv9z/4X/mf+q/77/zv/U/9n/3//p//L//P8FAAQAAQD9//b/8v/1//X/8//p/9z/0P/F/8H/wf+//7v/uf+z/67/sP+1/7v/wf/G/8z/0v/a/9r/4v/s//H/+v/+/wAAAgAFAAkACgARABcAFgAZABEAEAAOAAwADAANAAwABQAAAP3/9v/3//P/9P/x//H/7//q/+v/5P/k/+X/4P/e/9v/2f/Q/83/zv/P/9L/zf/O/8v/wv/G/8T/xP/H/8r/xf/E/7//uv+6/7n/uP+1/7L/rf+p/6X/of+g/5//m/+b/5j/lf+V/5X/lv+W/5j/nf+g/6b/rP+v/7b/tv+9/8P/yv/V/9n/4P/l/+P/5//q/+7/8v/3//X/+P/7//v//f8CAAMACAANABAAFQAZABgAHgAjACoALgA0ADoAPQA/AEMARQBHAEwATgBRAE8AUQBPAEoATQBLAEkASwBKAEcAQwBAADsANAA1ADYALwAuACkAIgAhAB0AGwATABcAFgASABAADgAIAAEAAwAAAAAAAQABAAAAAAD9/////v/+/wAAAgAHAAYACAAJAAsACwAMAA8ADAAQAA4ADAANAAsADAALAAsADQAMAAoACgAHAAYACwAQABMAGAAcABwAGwAgACMAKAAtADMANwA1ADMANgAwADMANAAyAC4ALQAwACkALQApACYAJgAkACMAJgAlAB4AIgAeABcAFwAZABAAFwAQABEACgAGAAwAAAD7/woA/P/7/wYA/P/9/wAAAAAAAAkACgAKABMAEAASABwAGgAgACEAKwAiACwALAArADAALQAzACwANgA1ADIAPgA0ADkAOQAxADoAMAA1ADEAMAAwADEALAAvAC4AJwAoACcAIgAnACMAJQAjACAAIgAVABkADwASAAYADAD//wYA/P/8//X/8P/p/+b/2//f/9T/1P/L/87/yf+9/8T/u/+6/7j/uf+1/7P/rv+p/6b/oP+n/6X/p/+r/6b/pv+l/6L/of+l/6P/qf+t/67/tP+z/7j/uf+8/8L/wv/M/9L/1v/c/93/1f/S/8z/zP/N/9D/1v/Z/9r/2v/Z/9j/2v/V/9j/2//d/93/3v/d/9T/zv/G/8P/uP+6/7n/u/+//7f/uv+1/7P/sv+1/7b/vf++/8H/vP/H/8j/z//b/9r/1//b/93/5P/t/wUAEgAbABoAFgATABEADAAQAB4AIwA2AE8AUwBfAGoAbABxAHoAmwCTAH4AdwBWADoAQABlAJsAtQCxAHAAKQB///7+gv5E/qv+/f8JApQEMgh3BnsBGf1D+qX5i/uM/z8C3wIVAk//mPyH+7/8JP+VAfACAgKg///8cPxk/isElwi2CWII+wKy/RX6BftQ/P0BmgaRB74FXgEm/KP24/Y2+Pz7NwDvA0AGbQWsAlH9r/pP+Jz42fuw/00DmgPBAoX/Q/0O+/L6nP6DAtoG1weXBooCZf2T+ib6fvz+/g0DpwXGBAIDFgDB/gX90/10/xcBcgNVAqoA3fx5+975E/sJ/g4Hvg4BDHQK/QBk+VDzGvPq9Qz6f/66AdIBi/9q/I36T/rV/D0AkAMcBasDNgEc/u370/si/tkASAJZA+4ELAXpBIUDLgT/ArcC1QMGAI/8nfnc+Sf65vsr/tIBbwXwA0QBcfw0+Pf1IPYj+qP8FP6t/qX84/n592r3jvjM+4b/qQFyAkgCyQBd/hn+8P7d/3sBOAL1AoUCOALkAngD0gM2ApkB3gCIAGYAWwBxAfIAQAHDAA4B2QDuAKEBvgECAuMAPAAvALkAcAK/AxUFaQSOA6sCtQELApkC1wL/As8D5QOjAZkCFQVzBT8FSAZbBkwEEALw/6P9C/2z/AT+kf5qABgBXgF/AHT+cP2E/V7/uQDnAWcDQQJaAdn+zgCHAQIDFgUeBe8DCAOUBIMC+ADV/vr9jf6D/8wAxf78/Dn7JPpA+o777/1K/5kAIAAmAAoANABLAZICcwSQBIgCGQE/ALf/6v6s/2wAHwB//hv+eP3H/dT9Q/4yAB0ClgS+BW8GIgVJAoD+QPss/H3+agGKAu4ATv7r+if5Rfma+gT9gP1A/XD8k/xU/Nj7s/tD/HT/lwGmA34EygMKAw8BigHLAjoEtwT0BKcF2wPyAvkBwQGIAeYAFQFe/63+7P2l/ev9lv33/Tn+GP8h/kj9EvyR/JP+X/9vAMkBfAMsBIgD6QM4BNQELAU6BjIH+wYLBssDrgHf/8X/lwB6ACEArv8g/5r+uP1w/Qf+D/6f/lD/kgAbAQEBfwAlAD4AfwDeAXAD7QOTA1kBTf9w/of9of3p/Fn8PPw4+2r6i/mI+AH3Cfb29dn2Tvdq9pf1kvRl9Nb0ePU99h/2D/Y39g33P/gh+UD5vvgz+Pf3EPit+J343/dl9rP1SfYP92T3DfcI9o302vNI9Z72K/eW9YfzLPMt9NH2BPeB9rL0w/MU9LTzOvRP8hnxge+I8BX0QviXAu8MhRh8G5gakhtCHf8g4iB/JLIoYCr5KTAmpiScH7YZzRNdD8oN8AzJDFILewmTB2sGuAXvBTQIwwqGDYcPPhEPElMS9hHeEZIRvxDLD0UPyA6PDWwMSgvgChEJ2AdsCM4IdAiFBtIFOwVvBNMDVwOQAm4Av/5v/ez7v/l/98b1avSP8zHzMvPO8mDyC/Lj8Z3xIvEk8WXx1fHG8Ybx+/C879ftKOxH6+Lqsuoq6m3pLeh85rvlVuW05ZzlS+UQ5SXloeXg5S3mQ+a35dvjSuLh4U/j7+TX5FjjceBa33bgruEm41Thp+AU4F/htePZ59j7SBy/O8tEDjjHMFQuMy8OKBgkSSkAKpcnASKtILgd7hF9BAH4IfSJ9qv94QbpDXQT+RYzGakbLB0rH4QgHiL9JCIoPCssKgAllRvbEPgHlgHo/1T/egCoAbUCqgPQA0MFtAU2BckFeAk+ECgW0BmyGusXoRMGDoIJbATL/2X9KPw5/G775fqX+VP3CfY89e/2nfgs++b80/yy/F/7gvqk+G32Q/Qm8h/xk/Aq8ObuueyI6vznZeal5enln+bk5ornfOj26ezqNeo76EzlbeOM4kniWOLB4IDeYdxC2+vbpdwI3oDd7Nvq2tfbuN2K3YnbL9kw1zLWStVo2t/zOR/ZSMRVIU47RxNEdDv8KSMgghx9F2ASMxNuGtEaeBDgAWPzFOyJ7fT2pAKTDRwawyfpMmw5+TqiN5AvYyd6I0ojKSSzIkcerRU2CpL/yPeR8lbvte4U8pn52gNRDtgVfhjZF2MWHRa9FnAWtBWXE4cQSgx0B4ICvfwD97Pxoe5X7vnwIfX9+Kr7x/1+/2QBugIfAxMCKwAf/g38X/qS+Nf2VfQR8SjunevG6vvps+k/6fboAupG6x7t3e0s7rXtm+wq63TqiOoS6sHnJeSc4IreXN4y35Tfct4Y3MrZj9g92bTaT9zC3PzcFN2v3SPejt643AfaUtfn1hHYyddC5TgJYTtPXihiMlqfUDZFay45F3YKCAJE+433zf+wDCQSmgxc/5z12vJo+d8D6g3WGR4oCjiHQ2RIfEeUPxMyzyI5FxwSeRBODrUICwFD+yn5NPnE+Jb4Ovr//m0Ghw/9GEMgZiPnIeMdnxkWFi0SPgzXBP79avkD97r1nfSm87PyafLL8+j2PPsv/5oCwQSRBvIHqAj+B3oEw/9Y+tb1pvKy8AfwZe/r7gHvue/I8CbxEvF68Lbvm++N8ELyJPPx8TrvRezM6aTnyeWc5Cvk4OOx4zfk9OSr5fvltuVQ5fHkGuRH4tnfPt4S3rvePeDB4cXjn+Xs5jPn3eUG4xHfrdqa2K/Yz9tH7KQSoUagaipuz10ATUs9KCQsCEn1o+9b7wHyX/1eDVgYORajC0AD7QFdBz8PQBhGIxowhz0gR41JSUNwNWwkOhTBCNQCiAFIAlcBc/74+5H87P6dAJ0B5gOYCU8SJxwKJKYm1CMvHSMVbw3lBvUB+fzI94Pz0vGw8lH0D/Yj9xv4dvr+/j4F2QruDS4OYAw3ChEIiwWgAS78FPan8JPt/uzv7fzuFPCD8dbzr/aP+ZX7r/t++ob4n/YE9fbyUfCI7IXoauWg42zjweOj5Gbla+aW5/boguo96wnr0elY6JfnZOei58nmrORc4d7e3d7y4GDk/uaj6J7pOemm6bTpzugu5TPeu9jQ1gbaFN1t5Z4BeTISZLV3am+UXG5Ici7kDNHzcenF6VruIff2BgoVRRjaD4oDov3Y/5kILxWlI/0yTUCISWRMbkaYN0wjLBCgAiX70Pg/+vz8r/0Q/Nn7Fv/lA2QHvAk0DegSDho1IEsjLSHhGTwQKgfIACn8BPiZ9NLxl/Bk8VX0RPjR+in87f37AYMH/QstDsANBAxCCr4I+gbSA+n+5/hT89XvRu6C7nDvNfF786L29foc/zgBPgAL/ev52vcY92b2nfSx8RLu4upP6JzmKuX240TjBuT75tnq9u1C7+jub+4i7uzttOw66hrnmOT94yrkPeRq43bhz+Cp4R/k4uYh6NXoMui356fngeep5ozj/94R21TaLN3e3iPniQOnNLBjP3RSaw9Z3EdeMGEQaPXk5XDjpecP8nYCPRAnFYUPdAfTBP8HEA9NFykiXy/6PDZIdUy1Rkg2tiDxDJ7+3fVo8T7xf/S5+Dv9cAJ9CPIMGg7HDdcO0hI8GMscXR7XG4AW3w/6CIcBBfqm8wTv7uyU7erwj/Xx+aX9egAUA8oFTwj6CSYK4wnyCR4KcgnNBuwCHP5u+Vj1SvK/8LnwM/JN9VT5U/0dAGcBEgFk//T8fPqk+A73q/U69A/zxPEp8MXt1OpD6JjmQuYj59zo7+q77B3u6+717n3uhe1u7DbrF+pI6VfoZeeo5nXmiOZB5pPls+Tq48rjduQv5sTn4+gC6V3pU+qx6t3pvuYd5Nji4+Iu45LpFQPaLLdTyWG3WuJPT0XhMgEW1fok68rlOOf97x7/sw1rFPoTzxEUEvAU8xf3GvceXSbCMBA6ED7iOXIu1B6wDoIBbvg08/HwLfIq94f+dgasDGEQZBH/EFsR3RIeFbYWyRblFDERHQ3iCLAD2fyk9TPwf+3J7bnwcvWZ+pn/XASPCHYLnAwwDFYK3gcFBg8FnwR6A1EBlf6k+wz52PZU9db0pfXx94P7Y/93AtkDjgPFARX/CPzo+BD2svOJ8jzyVvIx8prxiPDD7tjsPetv6k7qvOqz6/PsW+5j79HvZO9s7jvtE+zf6pnpiej95xDof+gu6YbpY+nU6O3nGue85nnnhehe6cHpzukV66Dsj+3S7JbpJ+dk5iDnCOfH6X79lSJSR3dW21LiSwtEEjRmGzIEffQs7ODqXPGo/dsJVRA2EKcO4g/WErMU5BU+Gq4i2CyfNR863TdVLgsg/BC4A6/5X/O18LLxX/bO/acF2AtNDyAQvw9qD+UPrRAYEVIR1hAYD1YMCgkKBU//KflF9OPxx/GU83X3D/zdAI0FWglQC/UKugkgCD4GSwT/Ao4C5AG/ACn/Wf1h+4P5NPiS9wb4pflU/Dr/QgELAl8Bmv8X/R76RPe79MjytfGY8ZjyX/NP85Dyb/Fy8Ofuau1a7Nfr9+tU7BntKO4L77Dvn+8578fuK+5o7TfsJ+tR6pjp8eh96JboDOmx6R7qOOpf6pDqdesP7Q7vvfB08Z3xkfHV8fHxEvER77TsFOzN7IvtHfFdAWIfwTzpSClGsECuOgAuNxo+CGj88PWf9LH5ZQPfCwYP1g2fDNANZBByEogUJhmYIBEpmC8MMgMvZCZZGu8NoAMd/Pn2cPQo9VX5of/BBWgKDg3cDUoO6A53D1wPqw46DjANDgsxCNcEwACX+7r2mfN98i/zafUX+UL9lgG/BdkINwrgCY4I6wYrBWYD2gGMACX/Cv7U/I37Nvq0+PL3Efhk+Zz73P0TAJcBHwI+ARH/WPwS+R32s/NX8vDx4/GL8v3yK/Pk8mjyRfLl8cPxlvGZ8afxSfHF8MrvzO7Y7R3ty+yq7ALtYu2U7XHtP+0j7RvtZu3T7bLuu++/8JfxyPEz8bLv/u0c7Xvt2u5V8Jbx3fJc9DH2JveT9pz0DPIY8fbxmvST+30LQCJXNbM8UTtxNyMwiSPtE7wGmP49++j8mQJLCdAN2g44Dj4OPA/IEDkSxBSuGU8gpSZZKp4piiQaHIwSlwknAt380fk5+R37If/8A/oHRQoUC0ELjgsmDIoMbwwFDK4L8gohCW0G9wLP/mT6x/Yk9Sn1cfbn+Fr8VQADBE0HJwnNCHEHIgaGBcQEhwOfApYBVwDY/kj9tvu++Yz4uPgj+k38Y/5eAFYBbQEAAZ7/k/0E+674+PbW9XX1KfW69DX0rfNG88LyofKu8qbyqvLE8grzLvPC8tzx0PD+75rvee+A78rvFfAq8CvwDvDa71Hvu+5q7oDuvu7X7vruXe/072vwn/De8Abx+PAA8aHxxPLk8930h/Ue9vj27fdQ+Ln3i/ZR9bn0NfXM9wv+zQlXGvMoVC+PLv4qYCZnHscTyQpwBRYDVQMgBmIKkg3wDZAMIQy4DVcQnhL5FLkYah1mIRAjryErHX0WOQ/PCD4ELQE2/5z+ev/NAVYEAwYCB5YHWwhUCYEKcAtsC5AKaglBCJUG9QPBAJf97fpX+e74dPmV+kD8aP70AGQDWwVbBnUGLAa2BS4FJwSiAjwBuf9v/iP9Cfwr+z76B/rH+jP8rP3H/rX/KQALADX/qf3I+4j5oPcw9iz1oPRb9Ef0NvQ79HD0mvRP9PzzHfSE9MX0fvTb8y/zQPJb8YDwGfD777Pvp+8R8OXwWvEJ8bzwsfAm8XnxoPGP8YzxtfGx8dXxGPLF8mjzefOi84HzEPO88vryafT29fn2PPdN98H3Rfgx+P32ufWZ9UL3EvsGAeAJEBVMHwAlzSWXJDoiXx0kFi8P7woeCX8IzAiBCTQKbArYCQUKrgs7DqcQshLaFeUZXx29Hqsd3BrfFmYS2Q21CYEGKQTOAj8CrAKzA4oECwVjBUsGrAcPCQ4KfgrhCggLqAotCegGZASaAfX+j/wj+7r67/rK+wf9+v4oAbgCtAMRBIQEAgVEBVwFGwWbBIoD/wExAEj+Qvx6+l35Qvnr+Rz7Sfwn/ef9L/4C/i79JPw/+0f6efml+Oj3KPcr9gn1o/OQ8vXxyfH+8WryMfMC9Kb0v/Ro9Ab0f/PJ8h3ys/Gk8ZbxdvGB8aHxevHY8G7wjfAh8aDxzvEZ8qjyW/Pz82z0s/S19IL0e/QR9cP15vVw9fj0P/WF9nH30PcI+Kz4mvmo+Rv5Rvj89/34lvspAHAHdxARGOcbDR3KHU8dYxqvFcsRug/IDpoObg51DgYO4gxuC2AKrwrDCwQNgg7cEOATVBY2F5AW8hTlEqgQaA6WDBQL1QmdCKMH0QbaBbkEbgOSAnwCDwP7A8gEcAUIBoQG5waGBpcFWQTwAs0BpgAZAKz/T/8T//T+L/8J/w3/7/7D/vH+gf+MAEEB1AEwAicCxQHsAAIABv8D/mn9P/18/cH9yf2T/RX9lPz3+0f7tvpL+hL6Dfr++dr5bPmp+OT3E/eL9in21vWg9XX1ffVb9d30J/Rr8wHzyfK18vvyb/Pg8xv0BPTh85bzPfPX8oPymfLf8lbzg/Nk8yDzrPK48hjzTvNg87/z6PQ79nP3Lvg6+N73N/cH95n32/jF+bH5Zvn++Wv7JfzQ+4n6QPlT+fj6g/2aANgEKgo0D6oShhQ3FbsUtRNfEvcQ9g+JDzoPiQ6UDXYMTwscCi8J+Ah6CZcKwQsKDVwOUQ+vDzkPdw5oDUAMQAtoCtUJRQndCAwIDgc1BkIFWASuA3wDewOpAxoEkQS/BKEEbgQCBCgDQgLNAaQBhQGBAXwBowH9AV0CcQIVAugBxwGdAS0BrwBUAJP/2P4o/vD9kf3k/En8qvuk+4X7hPus++77dfyd/Lr8mvwy/Kb7yfpL+vP5mfk6+bf4a/gZ+L/3YPcC99r2nfan9tX2F/dB9z33Ufdg93j3SPcn9zH3aveW93D3cvek9wn4Pfhu+Lj4Cvkj+RX5R/m3+RT6Pfp/+gf7iPuY+2T7jPvv+yT82vuT+9b7Wvz6/E/9zv1A/oX+pP7D/k//if9x/zj/hv9rADEBwwEHAjEDrgU7CDIJeQiYCL8JpgpVCpcJvQkMCmwKzApLC58LOAuVCgQKUwrOCp0KAwrxCQYL5wvTCzgL0gqNCtcJHwmzCI4IMwjDB+YHTwh0CNEH5waCBmUGIQZoBfUEMwVxBVYF4gS6BIoE7ANeA/sC1AI9ArIBtAHwARoCwwGHAXoBWQELAUMAjf/2/pb+W/76/eP9l/1c/fP8xvyN/OH7T/vW+vv69vrT+p36YPpi+j36HPq9+Vf5Jvnr+OL40/jN+K34Z/hv+Ib4l/hT+PL3wvel96v3kfd/94X3nvfy9zX4k/il+JD4bfhc+JX4lfjB+Oz4Tvmg+ej5Vvqc+r36x/on+6/7Cfwl/Ff8uvwc/TH9G/0h/VP9mv3j/WT+Dv+A/6D/wP88ANoAKQF2AT4CvgMjBe8FHAY+BoYGsQabBmUGhwb5BpMHHAiTCN4IyAiMCG8IkwikCGYILAg3CIUImAhZCAAIzQePBy4H0waYBnMGJgbzBeMF9AXTBX4FTQVCBTkF4gRpBCoEBgTSA1cD5AKcAl0CMAIBAgQC/gHWAY8BPQEMAdAAhwA0AAYABwDy/7j/WP8N/7v+Yf4W/vP94f2y/YH9YP1M/SL93/yX/GX8P/wp/AD8y/uj+4P7dftY+0v7M/sZ+/366frg+tj6zPrJ+sn64foN+xD76Pqx+rP6zvrZ+t/6Avs8+2n7f/uX+6P7iPtX+yj7K/tP+3H7hfus+/T7LfxP/Gv8tfz2/O78zfzE/PD8EP0s/Wj9wP0l/kj+XP5S/mD+a/5r/pr+/P6X//v/OQBwALcA4ADUAM8A+wBxAfUBcgLcAjEDbgOTA60DvAPFA8gD4QMdBGUErQTWBOoE/QQTBTMFQwVHBUIFPgU+BTcFGwX4BMwEpQSDBGYERQQpBAwE/gPuA+ID0gPAA6wDigNuAzoDEwPlAr4ClQJqAkYCIAL9AdQBsQGEAVwBMQEKAekAygC2AKMAkwB5AFIAKAD3/8b/jf9k/0L/KP8O//f+5f7H/p3+av48/hT+9P3Y/cL9r/2c/Yb9bv1R/TD9Ev0G/QD9+vz3/Pb8Af0G/Q79Ef0V/RT9Df0O/Q79Ev0L/Qf9Cv0Z/SP9Lf01/UH9TP1O/U39U/1l/X39k/2o/cf94/3t/er95f3s/er95v30/Rz+TP5k/nH+kP7J/vr+Ef8e/zj/XP9w/3T/ev+H/5X/o/+6/+X/FAAwADwATwBwAIcAjACcAL4A6gALASsBVgF1AY4BnwGtAcEBzwHgAfUBFAI+Al0CdAKLAqQCuwLJAtQC4QLrAvIC7gLqAuwC7ALpAtMCyQLTAtkC3ALQAsYCuwKuAqECiwJ5AmYCUQI6AiICCgLxAdMBugGhAYgBdQFbAUUBKwEWAf4A3wDEAKUAiwBwAFwARQAvABgAAQDp/8n/sf+X/4D/a/9a/0X/Mf8c/wn/8/7h/sz+uP6k/pH+gf5w/l/+UP5B/jb+L/4p/iT+IP4a/hb+E/4P/g3+DP4M/g3+DP4M/gv+EP4T/hz+KP43/kf+Sf5J/k7+UP5S/lP+WP5d/mf+bv53/oP+jP6X/qD+rP65/sr+2/7q/v7+Dv8e/y//P/9N/13/dP+Q/63/x//m////EgAnADYARABUAGUAeACLAKIAuQDLAN4A7gACARcBJwE0AUMBUAFWAV0BXAFbAVsBXQFhAWcBawFxAXUBdQFzAWkBYAFUAUcBPAE8AUIBQAE9ATcBMwEtASUBHQEUAQ0BAwH4AOsA3gDNAL8ArwCjAJkAkACJAIAAdwBpAGAAUQBCADIAJgAZAA0AAgD4/+//5P/Y/8v/wP+5/67/qP+d/5b/jP+B/3n/b/9q/2L/XP9W/1H/Sf9B/zr/NP8t/yj/Jv8h/yL/If8j/yD/Hv8b/xf/Fv8Y/xr/Gf8f/yr/Mv8v/yr/Kv8s/y7/Mv81/zv/RP9M/1b/Xf9j/2z/dP96/4b/j/+V/53/oP+l/6f/q/+z/73/yP/V/+b/7//7/wEACAANAA4AFgAaAB4AIAAnAC4ANQA7AEEASwBSAFwAXgBjAGEAYABdAFoAWwBaAFwAXgBhAGEAZQBmAGcAaQBsAHAAbwBwAHEAbwBrAGcAaABkAGQAYwBlAGQAYQBiAGQAXgBWAFgAXwBhAFkAUwBPAEwARwBDAEEAPwA9ADwANwA0ADIALgApACQAHgAaABYAEAAMAAYAAgD///v/9//z//T/8v/w/+//6v/m/+P/3v/a/9r/1v/V/9f/2P/a/9r/2v/Z/9n/2v/Y/9r/2v/a/9r/2P/W/9X/1f/V/9b/2f/b/97/4f/l/+X/5f/l/+X/4//j/+L/4v/k/+X/6P/u//D/8v/0//f/+f/6//z/+//8//r//P/6//r//P/8//7/AQAEAAcACQALAAwADQAKAAkABwACAAIAAgACAAIACAAKAA0ADQAOABAAEQAOAAsACAAFAAAA/v/6//j/+f/8//7//v8AAP///v/6//b/9P/z//D/8P/t/+n/6f/q/+n/7P/v//H/8f/z//P/7//u/+n/6//v/+7/8f/z//P/8//z//P/9//1//f/+P/3//f/9//3//j/9v/2//b/9//4//f/+f/7//z//P/8//v/+v/6//z//P/8//z//P/8//z//P/8//z//v/+//7//v/+//7//v/+//7//v/+//7//v/+//7//v/+//7//v/+/wAA/v/+//7//v/+//7//v/+//7//v/+//7//v/+//7//v/+//7//v/+//7//v/+//3//f/8//z//P/8//3//v/+//7//v/+//7//f/9//z//P/8//z//P/8//z//P/8//z//f/+//7//v/+//7//v/+//7//f/9//3//P/8//z//P/8//7//v/+//3//f////z//f/+//7//v/+//7//v/+//3//P/8//z//P/8//z//P/8//z//P/8//z//v/+//3//v/+//7//v/+//7//v/+//7//v/9//7//P/8//z//P/8//z//P/8//z//P/+//7//v/+//7//v/+//z//f8YABYAEwARABQAFAAEAAwACgAKAAMA+//+/woAAQD0//7/+f/7//r/6//2//L/+P/t//n//f/5//T/8P/x/+P/5f/V/+L/4v/W/97/vv/M/+T/zP/f/+H/0//0/9n/4v/o/+f/7P/g//T//f/y/wAA8P/k//D/9P///+b/9P+t/6f/x//H/77/TP9w/2//VACcAYT9P//HAuf/QgG3/6D+ef+i/6H/Y/++/z7/rv/R//P/IQD0/q7/0f95/4H/x/99/z7/wP+m/9v/uf9z/1kATP9EACQAq//8/yH/cQCrAFP/NADd/xoA3P8P/7P/eQDY/0r/9P/X/9P//P/n/pwAPADx/63/8v+2/wQAE/8uAGAAB/+6AC8AN//PAAL+iQJv/5v/6v/z/tgAzADO/tv/uwDY/mMBFv9lAPr/qQCw/t4A7/+p/50Ap/8SARMAuv+u/+H/dwFu/9X/MwBn/8IAiQGe/REBDQFf/64BKP/a/hcBo//L/yIBIwDl/WoA4P9ZAmT/Z/45AAcDA/7MAFgB4/00Ahr/bv86Ah37wgMK/mcARQOv/bz/ZP+n/yUCIACr/qn/5gE/Aa7+0v03Agr/k//iAlb+Fv+8A+H+LwBLA0f+egFJ/wICkvwkACkCBQCEALn9hwCTACQDf/yaAdYAlP+kAKX8pwGAA2j7n/9uB4r49QRA/gT+RwPv/V4Cd/74//sBnv3BAEwBIQPW+QMDz/+D/JIBoP/wAgH/nf1OAgoBXP7NAE4Bi/05BVH8e/2N//YETf/q+QgHT/+gAAj8RwMLAhL8cABeA5H8rQDz/1cDbvtFBqn7/gTD+L4G/wFZ+mf/+Qdz+/IAKwPI918JrvtYAJEDcQB+/T74pRD+8XMJFf5FAD8ABP4pAyL9WALj/d4De/p0APv+GP9BAlH74QE4/cUBoPe/Cv38Yfu+Bun9gP24AHv8ggSV/L4BUfymAFUFFfnXAtMBcP3QAtgCt/klAVT9ngXZ+AoF+vrOAOsBa/weAXr73ga8/If+fP5RBGv4MAV+/Q0Cif+lAbv3rgcp/Jj6hwc9+poCwv1n/g/9DAGXA1T9yvpZCE37BwRA+hf86Qb8/Yj9cQIe/yMAwgO79ycIlv7t/SEB3Qhl83oHSwAZ/y8Ew/gADIz2qQBsBEX4kAZN/TkEM/9x/OEEKvorANMGoPt8+wwNevlT+o8ITAHK9GINYQWP8GsGz/9f/C0Fdvx//HsEjgCk++QAtgL0+twFEPxIARsCs/qI/VQCuv+S/Vv/kAJr+y//4gEv/87+WQKd+mkEbAFb/Hv+8gM2BHj1DgWyBqT4nfsuBp79if4YCLr7WPnzA3sDrQAV+JEPUPzX+dsEH/40AWcDOvkiA9H87gPWAc/4lAaEAr3+Q/2VBtvykgH/CnX1vQFiAtT/N/uoAn8Iff6a9qwFCwU6AEoAnwAx/oIFQ/rPAmsCFPmTBPoA9/87/tAAPfvnBIX7EQjHBXLzlvldEOIAVu8RCagA/AEJ/tEAHf6HAXD85AJ0BksHG/TJ9pgQxf32+DUFOQBQAdkCQfbqA4UHs/oF+hMALwz491rxfw67/7YAgwB8+4D8gght/XEBZgGp94UExQTe9bgAdwf7934DJAmm/VH2h/79BowD3QVB/C76Q/tiEBf7bACq9r0ILwWY+cT7AwqD+0nx6Qy+B7j2oQUX+4X3QA2FC7zpfv+jEJj4T/esEMv7KPyZ/zH+4Qrq9t4BA/1G/QIDqAfPATv1zP50CsD7ivqiC5rzQf5mB5/5VwTw/8j8xf2FBnQEu/3R+CD9owYrB5L09wFw/ET/mweL9hwAqwkK9RQDNQFIBLf/E/+r8P8K8A9J+fn0fAMcBgH3u/43CP34QwaX+Cf8cAceCOXycP4qBSYJ3PgX98b4/g/3BLH4LPbt/PUDaPn3AyYHd//e+jH++fhyBnMGTP4YAvv82QQ2+yH5IQUjBjEDEwWn/B37afui/SsOmQHV92v9uQLI+RoGoQDNBtUBkfs+/DwC6gGP+pYD6/d8/vYJrPo48ygD6/t9/t0A8wcfAXDucwU7CFL+Av4J/8/96v+NAy0CnAG0+5D4NwcFDLn6X/im/ob/mgFNDsP9VvJg+9cFugNSAl0C4fZS+DL/QAWSDN/+l/ARA28CLgeKADL6bQJfAIn+vwPGAGICIPVlALwIKPtMB8ID2vJx/TkGf/4DAAsGuvl19ucGyQlk+sb8dwL1BVn+tPw+B/sBRPwV/D0LQP6A+4j/ewAe/pUJoAC4+Qf+HvneBDgQhQQP7xH5kwZgAwoEcAKC8jAFzAXJ/dUEf/9NBGf1af3vEU7+DvfG/bUDwwQBA70Cwvd0/i0Dxv+kBJAEXfUP/VcF/v/o/xAEP/wX9ygCywsVA9L2vfsT/mAD/AlMAfv3Lf2EAoEGlQEiAev7QADWAr8BHQMu/zr8Gf5uBDcGSv5b/5H9HP//AUsDbfu//xUDWPxq+wgBGAGB+V77BgFEAgwDG/n5/vEEVAF1+isA6wTwAf/+x/vw/UgDqAT3/LH8TQQ4ABf8U/65A+b/dP5F/nf+gAC2/ij91/59ASf+APwC+98AgAOE/SL7Rf9hAfn8FQHP/wwAaP5b/kD/ygNhBMT8mvu+AnAE5QOA/un8tAF5A3/9z/z0ASYCl/0a/yoBh/3kAP4AJf7C/xwBY/xe/XwDiQKb+0IDJQPLAS3+Q/+MA5MIpALL/bf8x/4xBYsIxf/6/eb+Kf48AqsEUwBv+yH+JwMVAj8BYP49+1f+FwR4/rb7t/2z/Ff/LQFr/Bv9Z/5u/eYAUv59/qP/EPojAAABmPue+e77Tv8rAPf9kfvS+WP6Uf5vAdT+e/xN+7L6EAC/AGX8j/y2/Xf+UP3FATn+U/sPAKf/wP3l/4D+qfoV/GkC0wNv/lH4HP3XBBgD2/7y/ccASwECBSkF8APMAycDKAXwCQ0OLwezAs0ISAxvEFYO4wlzDHYPTxGeEokUgg8hEQsVGRWrFFYSERGJEW4UVw8VEJwOPAzUC7II5QrcB6UDGALJAbcCtf5/+zH6yPql+Xb0C/MD8grxB/Be7ZHrYOmN59fnJufr5Zjkm+E74yriXODR3g7iOOf543Lght0g4NHjWOaS5zji8N865NPqE+yy5s3hPeZF8CzyDOok5xbyaf7H/8r47fIv/GcKAw2TCWsGuAo8E0gbzxyDGVQa2h5hJAsrqSkWJgcofi3LL4Yukis/KngsJi8iLVwqSyUaIjYlzSjrI3wcYxajFisYzhjUEmINggopC8QKXQjeBPMB5ADiAaUBhf+p/Yj6xvt4/fD7C/jB9YP2CPhi9rDys+8b707v4O0f66Ho1OZD5TDj8+C/3ond9dxk2qTXatZw1R3YRde+1LfS5NDgzsTU3tMS0/DP+M2N0I7W6tiP13XXjeHl7BLv++Z35f/wOQIUCQIDRv9qBlYT2xw/HRMfSh+lIwAqADFBMzkxjTBTNCs5SDnGNEk1YTepNqoz6C85LZIsbC1DKwgj3BtMGVcbNxuUFeQNegndCbAJZwkgBUsB/P5nAIr/Of8T/ov9cf01/Wn9m/3q/Tr+6v6S/m38o/ud/C/+u/yA+dH25PXi9iD11PH/7gvsBesU6cPn7uSv4Z3eRN2F3BDcTtip1evUmdRq0IPQgs6xz5HNPM39y2LMT82i03zgdenM38LUWdaZ7qMFAANF8ibv//++E9wYdxb8GbQdXyGPJYwtiTQsNPMyjDfFOls4sTXPOUw+Hz1tM4stZy0kMbkw+Cz8I9AcixnnGC8aJRWiDcYHEwUcBdEBQAAH/i/93fly9zv2b/i++Rb5yPlO92z3p/gJ/Jz/U/1E+7P6bv1TAPf+y/0Z/QD9i/zh+rz4G/ht9/r0d/Fn7n7qwupe6C3n6+Ex3QHbNdn92EPUx9DxzrvN6MoEy5bIqscEyILKA9//3xTaOcdAzjDsFQC9+cDjoefC/PcOsRBDDYYUchj6GwofFissMm0v3TAdNK04TjPcMvc6XEIlPCIsOikzL6s2+TIoKsAhvhwpHCUbBxt/FDMNmQdHBRsE8QHRAR7/Xfyx9sr0iffw+Fj7Zfjj9gL16vQI+o7+VwAg/BH4OfsWAFYDiAF+/t/9nf8q/x7/jf4l/WH7J/jZ9BP0f/I18b7tKut+5uXhguAA4GvdAtlF0s7R9tHCzVDLoMsrynXKMsXB2ercU951yC7GYOIs+WD6oeFC3y/0KgloDfgG1ApEEpkYpRn0IwIrWCzRK5sudzPOMCcxADddPUg4oSwNKAsueTUtMkYqoiKjHdMbBxx+HFUYxQ/+Bz0H+QbYBcoDvwFS/1/5sPUd+NP8N/1l+c70wPRI96b5t/0Z/a/7I/gr+fD9HgJTArz9ovwV/i8A4/97/5T9Yf2y+Wz2qvcS94L1DPHM7SPsz+ko6HflLuMK3j/bZNcE2PzUvtNizw7OPMyWy9/gcuOG23XHq8fo5Pn82vMZ3iDcq/IiBFEF9QHaBvoLBQ83EL0cDCVIJcoiiydrK1Yr+ikTMo45MzSmJ0slsy7NMnMurictJqUh0xtPGhIfAB9CFhoLBgqXDJsMEwlMB9cEx/+h++b8DQL/AuP81vhs+I77YPw0/Vb/Nf5U+5D5GP0WAdkBnP7P/Jf8uv1o/nz/KgAH/df57va595H5Kvnd9Mjws+6G7TvsNeu96Mvk2uCz3gPfId0t2V3Xv9PW1BfR59c85Enmq9g+yjDTOez2+xjubNxP3wL1uwH4AP3+hAI0B+8GRgytGAAgqh0IGe8fWiVFJpMkPStKMcIr/CEqIakr5y/1KZ8iqyFvIK4c0xv0HgkfaRWcC88LzxFPEuwKkQZ9BVIFvQCLAFEDeQNtAID5aPr+/Mb+nf5P/vD8b/rq+JD8ewH+AEv8Gfhs+d39DP/g/Yv7BPoE+Nb3Ovh1+Tj3kPM78DbwfvBF7pbt7Ota6d3lsuJX4jblKeEW3XPbMdqF3Y/Wyt8e56PoaN500Cber+9B+QbtL+Be51P1J/zW+xP+wAFeAvP+zwVSE2IYnxQMEEQWBByEHKUdryOwJwEhdxpIHJ0ooilzI9Id4x1TIEwb5Bp0HVEfaxexDqsNMRQNFuIQoQwNCHEHUAV1B44JMwcfAdv7xP08ASMCgf+w/ZT7gPr6+bf7zv6I/fn5TPbj94j60/tp+8L4B/ce9WH2TPhT+Zb2EvOL8QXy8fOd8yvy2+/p7CrsVOuh7JzrWumu47zkNeS0563jN9+I5M/qu+0h5cDexuTB8Hz1Oe8M6ejsMfQX+CL7+f3m/pD8z/x1BboNgg6SCkgLfRHdFOgTvhVfGv0bJxgsFZoZmB78HUQaphlxGzwZcBXYFv0aTRozE8gNHRAOFBwU+A8zDaYLBgsgCm0L0wthCYcETQHQA7EFSgUcAfX//f8R/+b9L/69/2T//Psg+fT5ifw//fb7Afl3+IH4vvhc+Tf5GflI9gD1vfVy9pD1SPX/9JH0F/Ka8VfysfJR8ZXvcexg7STtB+4e7T/q8OeT7GDwj/AI6iTnFevM80v1SPDH7Ajw4/U2+Hv5Vvqt+xb7gfyMAe4GbAd4BIAF0gk8Dd4Mbgy6Dt8Qwg+0DvcQAhSfEx0RuhAtE8cTzhEwEAIS8RLlEIkOzg6zEI8Qrw5jDaQNmQ1qDPgL8AtFC+sJ6we9ByAIQge0BZcEFgSLA8EBPgGlAWYBaAAN/lj+Lv5e/r79B/w//NH7MvsF+lv6jPrj+S35j/fv9yv4Svji9r71+fWw9V71z/SQ9MXzBfMW8hHyWvJQ8YnwNvCP8Njv2O6n78Hxc/Kb8ELvvPDw9Or1qvST83b1KvjH+ZD64fu+/Ej9Ef5wACYDkAMXA5EDpgWBB5kHsAdpCKEJ1wmaCXcK5AsjDIQLqQu3DKANTg2lDCwN+Q30DUANNA31Df0NZQ0eDQoNZw2tDHoLnAu4C/wK2gmyCOcIjgisB3AGvQVdBXMEpwM6A+kCFwIXASMAWAAcAHb/m/71/eP9W/0D/ZP8P/zS+wP7p/qT+i/6xPkw+bn4Wfjh92r3MvfU9oX2xPWl9Vf1HPXO9G70FfTa86fzufOT8x7zrvL48ojztvMh8x/zbvNn9M/02PRm9Sr24vaM94/45/kA+5/7SvyW/TT/OQDWAMkBvgK0A3EEOAVdBiIHgAfvB7EIuwlrCtMKVQvVC00MmAzzDJQN2A2TDTUNQQ2UDZkNIw2QDCUMzwtdCwcLugo3CmUJhAgKCPIHmAfKBu0FMQXOBFQE6QN3A9MCAwJLAfUA0wBtAL3/Cv+H/iz+3P2E/TD9r/wd/LD7afth+yH7nfod+r75mflx+Sb51vh3+Br41Pec93z3OvfV9nb2MvYO9v/12/Wk9W31OfU39Vn1jPWm9Zz1qfX79YP2Cvdk98T3Rfjr+Kj5cfpV+xv8uvxj/UX+VP8tALcAMwHcAY0CGAOLAwsEhATXBAwFdQUQBosGwAbpBlEHzwc9CIAIyQgfCVIJcAmhCeMJHQoYCtcJsQm6CbwJjgkwCckIeQgmCMAHXQfvBnEG5gVbBegEigQpBKkDDwOJAiQC2AGAARABmQAuAN//mf9R/wb/sf5Z/gX+vv2J/Vj9FP3E/H38QfwX/Or7tPt3+zz7FPvx+s36qfp++lr6OPog+hD6//ny+eP51vnT+d359PkA+vz5/vkZ+j36Wvpu+oP6pfrQ+vv6IftJ+3P7mvvD+/P7Kfxf/JH8xfz5/DT9ef29/QX+Sv6M/t7+Pf+a//L/QQCdAAYBagHKAScCjQLtAkUDnAP7A10EqwTeBBcFXAWeBcsF4QX0BQ0GHQYfBhQGCQb5BdoFsAWJBWwFSwUQBdMEogRvBDsE9wOzA3kDPgP7AsEChgJIAgcCyAGPAVsBIgHmAK0AewBOABwA7v+//5D/Yf84/xL/6P6//pP+cP5P/in+Bf7g/cH9pP2E/Wr9Sv00/R79Cf33/OT81PzP/Mb8xPzF/MX8zvza/On8/vwQ/R39MP1M/Wj9gv2j/cL96v0P/jD+Yf6P/rX+4f4I/zn/Zv+M/7n/4/8OADAATwBxAJIArgDGAN0A8QAKARwBKwE7AUsBVAFaAWABZAFoAWIBWwFXAVIBUQFJATwBLgElARkBBQH6AOkA2gDHALoAsQCtAKQAlgCRAIcAgQB8AGwAYgBdAFQARwA7ADEALgAlABcADgAMAAYA9v/t/9//3f/a/8v/wv+6/6//oP+c/5H/j/+C/3H/aP9u/2v/Zf9Y/1v/Wf9Y/1b/Sf9N/03/TP9N/1T/Wv9e/2j/Zv9z/3r/gv+O/5X/nv+o/7H/uv/K/9H/2v/k/+3/+f8EAA8AEQAWAB4AKQA7ADMANAA5AEgASQBMAFAATgBOAE4AUABVAFYATwBKAFEAVwBVAEwASABLAFYATgBBAEEASABQAEUAOQA8AEkARAA/AEAAOwBBADkAOAA5ADQAMAA2ACwAKgAtACgAMgAuACkAKgAoAC8AIwAaABsAHgAbAA8ACgALAAUABAD6//f/7v/x/+z/5//j/9n/4f/d/9z/4v/X/+D/3v/f/+j/3//p/+v/7f/t/+//8v/u//3/9f/y//j//v/9//f//f8CAAQA+P8EAAcABAADAAYADQAAAAQABwAFAAQADAAJABUADQAAAAkAEAASAAgABgAHAAwADwAMAAwACQAEAA4ADAANABEAAAASABgABQAJABMAFQAMAA0ACwALABIADgAGAAkADQAAAAEAAAD7//f/+//y//L/6f/y/+7/5v/i/+P/4v/p/+X/1P/X/+L/4//d/9//2f/V/+b/5//a/9n/4P/g/+L/6v/l/+v/6f/y//n/+f/m/+v/+f8AAPT/8P/8/wMA/P8BABAACAALAAsADAAYAB0AFwALABIAHQAlAB0ADQAQABkAKwAmACUAGQAjADAAMQArAB4AHwAgACIAHwAaAA0ADgAPAAsABQALAAsAAAAAAA0AIAAYAA8AEgAaABgAFwAbABMABAAIAAAAAQAFAPT/9v/7/+H/2//w//H/3v/0/xQA5//D/8v/VAA1AIn/i/8VADIArv9b/67/EgAKAEb/b//z/wAAlv+E/8H/6v/U/8T/mf/k/xQAyP+2/xsAy/8SAIgAWv8wACEA0f/A/wUAXwBKAOL/yv8sAI0AJQCeAKQA1f+zAGMACv8L//MAiQRHAdf6/v7/AccAGv6O/SwAtQEvAeH/B/8oAHgAJgAg/8X+A//+/nP/pP+H/qr+xQA7ASgAFf+I//8AjgFbADX/zv+QABgB7f8//4r/tP/F/sH/CP9B/4r/7f+//v3+9//o/2//2f5f/4f/CwCX/wEAeP7m/EP/aQKT/tT8uAFeApX+KP7UAUgD7f/7/g3/OQEeAeT/lv6Z/sgApQHQAAMAuACaAT8AdwDSAOcAggAfAJ4AdwAQAKb/XP+UAPv/4P6EAJMAGQD9/hn/kP+c/3z/UQDW//r/GACD/2X/hP7N/oQAWf/Z/dH+Xf+8AEUArP+RAiAD4/6oAEYBg//s/hEAAABh/2j/NAHRAr4AMACLAd0AVQAUAG3/BP/n/xL/ff58/b3+SP+//mr+//7x/gwAlP9eAFr/4P6C/zYBr/9w/4H/iAB9/2//iAGNAGIA+v9oAaAAWAB7/CEATwJcAOn8+/5q/9//GABq/0/+9/9NARMAZwJw/mb+4wG2AlP/UP/sAJ4A5AI7AFD/OgJDAdcAVQD4AOMAOP+zAJICnAD9/pD/jgCFAJf/AAE0AAEAlADBAEH/QwKiAX79+P8XAsQAOABq/3T/RQA7AQH/dv8/AeoAdAGU/7P/DALDAoAASgBoAe0AVQIwA1YAzf5QAk0CcQBBADr/JQDbAJ4AWP7y/CUAxP90/xz+h/4HACYAJ/3y/0wB5f7F/W7/KAFO/1X/GwAqATwA//6H/+QCBgHr/hMAtf99AkACBv8x/N0AAwNIAc7//P1CAIADmP9D/Ur/BALxAUf/0f20AIsBfAAT/wMAZwIiASv/V//QABMBdAC1/pP/agFuAKP+Wv6u/63/QgJo/7L+OQDoAT3/+v0aAGoARAI1/tj9TgG3ATn+JAAUATwBqf8J/qkBhwE8AN/+RP8/Aa4B6f5u/i//CgH6ACoBuf36/R4BxgGK/YL8jP4KAYEDvfxY+20AqwFfADD/pvxb/ZAApQKI/9D94f6mAboBh/+z/gT/if9NAc//iv0C/koAKQDC/of+jP5P/3MAP/6c/k//NwCr/jL/9gAY/xj/eQBHAYP/G/6b/ysC5AFV/oH9igCyArIBQP/G/jcAcwOeAsP9CP+OAsMCjf7n/rj/5AHmAHD94v6iAFEAJgAj/qn9NwF+AFwAwfxz/zj/HQEkAJr+8fzx/ZgAMf/o/1QAAf9y/+L/Of/P/pUA5f/6/7r/5f3Y/qz+DQBN/8/8mv7U/uL8q/5g/Uj93v16/YL+5P1o/vz9Rv7I/mP/4f2+/YsAEQLU/5z9Q/4RA0AEqAEF/zwANAMDBPsCTgAPAa0D7wTqAg0BJALwA9kEggMeAkcCDgPDBOwDJAMkAdEBEgNvBMoDnQFjANUBTwN7ApMBeAA5Ae0BxQFGAaD/+f++ADcBy/+O/lv+of8qAIT//v2b/af+nP6N/Q/9xPxv/Pb8ef00+5L6yfoV+/L6JPsw+Tr59/hA+gv6c/lT94z3Evma+Xj5Bvhh+Cr54/jp+AX5WPn1+VP6SPuG+z76IPqg+mn9ef5F/eX8aP9qAXYCiACZAjkFWQdbBxwI4AmNDLEMRQ/BEHkSfhEZExwVexdXF7kW9BZ+GDsYlhhKF90WDRdNFsEUaxOOER0ROBDuDSkLDQjpBkoGPAT/AP39y/xR+2z5j/az9G/z0/H57rvs6Oq+6njpz+cR5sPkgeMW5JbkU+MG4aDfNeEs4DDgc96h3WbfceHJ3p7dCuAq6dnunupJ4wXnEvPn+/n5K/RQ+dMB7wekBzUKWxCEFfoVnxiNHJAhnCMzJXsnfSkdKDMpoCvoLYErXycvJ6gnJSiaJMcg+R4EHpQavReOFCsR2g9UDaUJVAZQBM4CaAI2/1j7wPiz+ZH4Jffj9Efzv/JG8nzxGvHb8A/vt+1C7Z7ssusG62vq0+gK6MfmgOaD5WzkdeH+3jvfBt1c3FTYFNi21kPXPtSs1RjehOU64UvXEtUp50r17PXI6HPps/jCAyYGPAP5C6gTlhZJFpIbJCUZKswooSvaLREvty4kMao2nDVDLo8qGyxoMPgszSfkJDQiWB6VGSEZdxgLFHUNQAmbB94FcwN+AokBl/yW9172n/iv+pX3XPSu8Vryk/O59Nf0CvQB8qLwufBo8cvxnvA174Pt0+t463nqF+o555vjB+H73e3cBtvi1+zUdNMx0JfPB86y2LPkW90x0qrKyd4t9gn26+jV4+b01wPqBuAF1g1CGeIZvRfdHs4r2THEL3cvVDSANlo0YDZvPHo84jI5LMEucjItMNkneyOtIeocXhZ7FAYVKBEmCbYCNwEvAd/+n/xJ+wP5AfPq8Dj0b/dY9ufxy++P8dbzCPWb9cv1tvQf8yfzN/Uf9tL0MfI78KXwv++K7U3qlej35ITiNN583O/aR9Uq1OXOS87bzrvNEOIg3tTWVscUzWXrD/vm7vTfDOSz/FAJsQeCC0sTgRr4FnUaPCrkNY8zVi4rMUM4HzkvN+k6G0DvN5otHiqgMukzoCsAI+4fXhw6FnUSfhSOE+wHO/5u/D//w/5r+uD3mPVu8DftqvCP9w33JfD861zvTPQs94n24vYq9nb0rvPZ9+n6G/rF9FLxWfIa9G3ylu7Q6ePmXeK53+je1tzp12rTgs2RywrMcc1i4tje79OAv67HL+n1+sjuG9wn4b73FwRYBtkLvRXQGAcSMBcGKg031jQgLqwy3Dc0NxM2mzxuQjg57Sx2KhEynjMgK7AkMyGvHOUVHREpFIcSGgkj/2z7APyJ/bX4i/mp83Pw0+xH8Kz2hfVo8IXtd/BA9Ez2B/YS+RH3IvcQ9WT4K/yK+3/4TfTO87f1gvTO8Yvss+kr5kzikeD03jHYyNb9z1POQM+AzX3i694W1LHAKceK6R/5n+3p2GncHfYQBKcG+wj7DQESjg/IF78r8DICLncoCjBoOmA3cDRbOSU/MDg1LZwr0jN+MzEr3CPQIuse1hYuE3MVlRNiClX+Pv1v/6D+xfqD9h71AfCj7arwEvYf9Wbv2euh71r1dvY+9qL1aPYg9kv3QPk/+5b66/d/9VH2GfdY9kvyMO6E6uroHebp5GzgKtsb2GfUm9Ex0X7SsuSD4c7VPcO6yfrnRPgg8Yfentuv7A7+Awm4DsYN4Ag7B0kVhSqzMtUq2yLRKq40GDZqNNI1/jkgNEsuBS1VMcEvyCgeJQQlqB/mFtARTxMUFcgN1gL8/Y39Zv5p/IT6wPeE8Zju9+7E9D/2tvGk7cnt/PHB9Dr2WPVx9Ur0rfSd9pf5ffnL91L1b/V/9sz1zfPq8MbufesN6Xfml+Vd4TPf2Njf1BPU7tUd5f3ph9+B0IjGCdy18Vv6M+8r4Q/igu+jABQORBExDPADEgcHGBApTy1zJlciByc7Kx0v/jHfM8oxOyzQKCcruSt3KEglcyOaIfcbUxWBEjIT0xESDfMHFgSuAM39T/05/rL9Z/g98+HyNfV79jX12PLY8nby//FR8/j0FvZT9NvxW/J39JP1WfTH8lTyd/KN8ZDwO+8a7S/q0+f552Hm2OTJ37DbmNqS21jjIOs66UnggNYp2YToEvXZ9xXxResp7IHz2f82DL4Q3wuCBXQHmhNLH3QjkiJKIOwfRyGEJNEoPSocKOUkvSP3I0QidB+SHpgeLh19GXYUmhH7Do4N/gzVDB4KtwQs/xv+OQBZAe7/Ivzf+AL3p/Ul9v73vfgm9wz0T/Ls8gv07vQI9S31s/Na8mnxiPJh9ND0U/ML8p3wQPB58BLvAO8f7WbrFOsN6p3qf+ra6Sftqe/s74rtCuuF7Pvww/Qf9132FPd795L4Ef1IAm8G4QYkBYoGEgpTDtYQ+RGkEs8SlhKDE4AVXxZ8FZsTFRPqE+oTYRKrEL4PHg+1DjoO+g1TDLoJ3QdiCBEKbQrUCHoGgAUQBXoFugXsBeQEagOOAZIB3wGmAcsA0P9b/xj/vf7O/Vv9WvwK/Lz7Efzi+xD75fnN+Jz4cPhH+Gf3u/XG9Hjzz/JO8qTxmPCE78ru7+2K7RPuEu/S7yvv5u0m7fPtzO908cXy1/Ol9ED1jPan+GD7av2n/pb/awGhA1wFkga0BwMJAwqdCl0LPgzSDLAMTwyUDHYNuQ11DQMN6QwKDcgMjQy1DJMMOAytC6ALFgxIDA0MqAtbCyMLoQouChYK6AlfCaAI5QdQB58G4AU4BZIEswPkAhECawHGANb/9P5X/pb91vwh/G/7wfoL+iD5cvjT9xb3PPZ/9dP0J/SM8+vyavLV8SjxlvDt753vhe/w75Dw4PDu8NHwCvGg8UzySfMv9DP1Ivb89l347Plm+4z8h/0E/4sAxgHFAtAD2wSwBUkG5Qa8B3AIxAghCaAJMQp4CpoK9wqFC+gL/gv3Cy0MSwxPDDYMOgxXDD8M9gvWC8ULows1C7IKUwoMCo8J8QhLCKkHBwdTBqgFAwViBJ0DzgIfAoMB4gAvAIv/4f5D/qD9Af1y/ND7K/uV+v75evnu+Fb4yfdB98P2Q/bG9V/1AfWX9Df0wPNc8/Hyr/Kv8uPyDfML8//yHvN58wT0qvR49TT29var97v46PkQ+wD82/zd/ef+2v+3AIkBUALrAnoDIgTZBFQFogXvBXcGBQd3B9wHUAjICBYJZwnSCUIKjAqPCqcK1Ar5CvwK4grWCrcKewoiCssJfgkWCZwIGwinBysHlQb8BWsF4wRTBL4DKgOaAg8CdwHyAHIA6v9f/83+Sf7A/TH9ofwP/IH77vpj+t/5WvnW+FD41/ds9xH3tPZh9gr2svV09Vb1WfVd9VX1T/Vb9Yj1zPUn9pf2D/eJ9xH4vfh/+UL68/qp+2j8LP3r/ZT+Nv/O/1gA2ABVAdABNwKOAuQCRQOwAw8EZwS9BBcFcgXLBScGewbCBvoGNAdtB6IHyAfjB/sHDwgUCAYI9QflB88HrAd/B0oHBAeyBlkGAgaoBUIF0wRdBOcDagPvAnEC9gF1AfMAcgD9/4L/Bv+N/hz+rv1A/dL8bfwR/Lz7Zfsc++H6pPpz+kP6JPoY+gj6CfoO+h36MfpF+mr6lvrC+uX6Dvs9+2z7nfvM+wT8N/xs/KD8zvwF/Tb9av2a/dD9A/42/m3+pP7a/hf/Wf+Z/9r/HwBqALIA9wBGAZUB5gExAoMCzQIUA1sDlgPXAw8EQARpBIcEogS0BL4EvgS5BKoEkgR7BF4EOQQMBN0DpQNtAzQD9wK5AnkCOwL+Ab0BdgE1AfcAtAB3AD4ABgDP/5X/X/8w/wP/0f6r/oH+Xf44/hb++f3b/cX9pv2Q/Xr9Z/1a/Ur9Of0u/ST9F/0T/Q39Ev0S/Q39D/0Z/SX9L/0//VP9cP2O/a791/0C/i7+XP6R/sb+/v45/2//p//i/xIARgB5AKkA3gADASwBUQF0AZABogG2AcMB1AHhAd4B3wHkAd8B1QHRAcQBuwGvAZ4BiQF8AWgBTwEzASQBEQH7AOoA1QDLALQAoACVAIkAfABqAGQAXQBaAFAAQwBBAD0AMwAsACYAIwAaABAAAQD7//f/7//p/+D/1f/P/8T/wP+8/7H/q/+k/6X/l/+P/5H/if+L/4X/gf+A/4L/hf+B/4v/kf+W/57/ov+q/7j/vP/H/9T/3//s//P/8//7/wgACwARABwAIAArAC4ALwA1ADsAOQBBADoAOwA9ADgAQAA4ADgANQAtAC8AJgAhAB0AHAAYAA8ADgAIAAUABwD8//3/+f/6//f/8P/t/+r/8//0/+7/8v/v//b/+P/0//X/8f/2//P/9P/u//X/9P/p//j/8v/w//X/9//x//X/9//x//T/9P/7//b/9v/7///////9/wUAAAAAAAsABAAFAAkADgACAA0ABgAHAAYABQD//wIA///8//f/+P/y/+v/6//k/+b/4P/e/9n/2f/S/9D/1f/M/83/zv/L/8v/yf/G/83/xf/H/8j/yf/L/8n/zf/O/9H/0//Y/9b/2P/e/9j/0//S/9j/2//Y/9z/2f/X/+H/3//Y/+L/5f/b/+H/4P/b/+D/2f/d/+L/2v/e/93/3v/g/9n/2v/e/+D/2v/d/9z/2P/g/+L/2f/k/+T/5f/s/+n/7f/v//f/9//9//z/AAAGAAgACQAFAA0ADgAMABMABwAUABMADgAUAA4ADgAPAA4ADgAHAAoABwAHAAcA//8AAP7/BAD4//z/+f/5//L/9//9//v/+//5/wcAAwAOAAUAAAAXAAwACAARAAsACwAMABIAEAAPAAcAEAAOAAwABgALAAIA/v8AAAAA/f8EAPT/AQAJAPX/+P/0//b/7f/t/+z/5P/o/+H/5P/r/+j/5P/q/+z/7//z/+j/+f/8//T/CAAAAAAADwAAAAcACgD//wwABQAAAAUA/P8OABkAFQABAAwAGAAyAD4ARwCf/28AlgDh/3wASQDc/zQAbwBTAMj/LABMADoAKwArABMAMAAhAP7/GQDi//f/HADq//H/BAD6/yoA9P8GACQAIADa/wEASABGAEUATQCDAKYAhACoAKwAmgB+AGgAPwAlABUA5v/m/wQA+v+5/8X/uv+Z/9AB0P0XA6sE1gE5AXMAmQDWAO/+xf9PACP/x/9c/z0AFwDu/sf/Vf9c/2X/YP6G/ob+zf8M/9n+NACO/0f/4v32/usAhP7u/3YATgB2AKL/HgBdAEAAyv/8/3f/pP6i/yT+7P5zAB0Ap//PA68ADf4Z/3n/TAA2//7+mf41/tz/mf53/+v/L/+HABP+mP4O/rj+KQC6/zP/Gf8d/+v/jP7Z/7T/x/9gA93+MgI1Ajj9SP4YAKr/Ov+Y/3r94PsQ/17+WACO/xj+HwAHAEf8NwBz/tn/nwDc/fb/TAKM/kv9aAIXAbL+OgHg/VgBNv/9AOH8/wGk/uz+JQJz/Vj/l/7H/tcDGgBh/h0BxgDZAXL8vARL/rABCQKk/N4CggFc/R4DbgCR+7oFWv9o/UQAHACkAG8AZQJd/qwAbQLOAMcBff+/AFsDrgB1Avn9J//BBAz/JAEcA+ACtv9tALgEdfyeAkoCjAKb/mYEvQDT/5IATwFo/4UGaQFk/hj9WP81BKEErPu3A076Qwhl/bj9aQMp+pAFBP0iBN0B7PxIAI7/iAQd/yEEDwDk/FcCugK9/LMFTwAv/1AEmgHE/SYB9gFVAT4Ddf00AbwBRv8y/KcEyf/g/SMDKf10/kkD2f7GAHYAC//r/VIClP0cAGkA+f5U/1MBwPwYAWwBK/2XAbP//gIL/QT/MwCzAq4BE//R/oT+hAAUA4379wAGBUf8if12AM/+mv54AhX9CAK//kn+dwEt/FIAlQPD/xsAev5+/YsAhgE+/m8BRgNM+z8C+P9l/AIC8f9/BQ/8gwCr/hr/GQWB/ab9cwNwA5L8VQP1/GEALf8NAkoHYf70Adz8zgEl/VgG0gQz+hYG4fnMALAC1/yLBbX+cQiI/N32uQXbAyb9+AIkB1T6vv1pAJAA2gH9AmcB+wGhAIH9Xfvx/nIIuQQZBaj4Rfwc/ycHqAVM/2j8IwWd/qcGlfiLAMoBnAIJA177aAEF/iz+TgFG/doJ3/voAIz80v2bBej3DAev/Xb+OwRYA6v0OPw7B3v/RQZD/cz6PPqdAksBrwF3/k4Dt/iJ9wwCag6H+57zEgN+BRr/5P8V+vP4DQVaCtL4uwLy+zb48QECBa0Cpvng/hj+tf8PA5r3yASU+ZcAuwxH9GsA7/eo/dAIzAIg+7P9LPphAAz/GQlI9fH7CAic/NkCePuR+VAEBf6mBiv/WPxN9tUFyAPl+TIIm/oV/hj6egqDAiX0AgT+/x4JhPbc/a0Duv9Y/WUI4PuE+t74LAjQCknxcgFeBFYFtfPS+2EMX/8n/cUG5PWU9lwO+AT2+Jj8tv8cAIQHyQL99TL/KQJvBB39xAAf/SD+6gS5/GEAQQDtAvT7gfmyBPwLV/Ye8WgQTAXq+KP0zQFGB7IFoPpP+uUHiABb+tX14gx2Bd0AG/e0+tMF+wTv/BsAz/6vC4b6kfEZBv0OOvco/B0CUgV1ATj7qfxvBJwBqAOUAYb2qQYq+dMAkQEECzP9jO7vCf3+Mf0zB1n/GPgGBq75TAeq/3z76QH1+zwJUAOc/2j0KvjfEccCr/yABDvw3QRBCrACkPFECJn6AQj1AJT5m/qjBRsLkPFx/4EFvgQf+LP9DAkVAtn+Qv/A700Tvwcw9Xb84P1WCKv/AgB79wEAAA7P+3L8gvmpA6oH4P2++cr+bAxD9EX+JQPNCUYDe/FP/FINGAZW9BsFRPpWCFACZ/048y0JCAJ0BVwFP/cm+TgD8gYhAvsDGfZ1AIkJmf59+cj+ywpC+IkA6Aot/rX7t/gaAQsFWAQZBbz0SP2nAUgF5wJy+2D8IAP0BBcCPvX8/5MDSf4CAR4JZ/RnAxn2sQWFAAQE2gC+/J//KfuZBjwA8wBF/B/6pwNTCtj6/vvCAwv8oAC5AewAIwKyAh/3WP+fBUH4/Qyy+PIAjwFm/LECAv6B/uwDVAJUAmX2GQZ8+DD7Rwy8DM3yKfwA+GMH8AQGCDX0OwCsCSP+6f4Q+N4Acgew+PEC+hFq9lPseQDTDWQFhv3y9GYCwQsk+2f2NARHBRYBBgDc/5/5+ADZA9/8WwwHB7X3kforB13/9fQpDbwA9wW196f84gDh/LUBJAPyBZUAUPjy9tUAnQYZB9P4CPo/CQ3+5P61+Ij6OAuKA+X/dPtl/WcBgv/UAHMCbgjO9cv4wALUAfgACv+Q/E8LtvkP/kT/6QY/+m39Ggpi+r79dvzo/L4DugU0/9X9tP1PADkAKQNd/Q/5cwKLCZ77y/0u+WQF9gRD+nP8ofxYC78IPfDI+TwE0RBY8un/V/97/ywKCuuVEGIAsgAy9G0Avwxe+poHj/MfBg0CePxa+tQDjwTvA+P4G/aYBXIBx/2S9WQFPQia+8nuhfvxGYL3i/pYAfP7nxJ5+r3xU/5BDVkDOPfN+rwDfgZY/0Xw4gBpEMYF6ew18RARaguC85X3yf0OCYP+5/xs96cEYf+y/tz+TQWJAPb4hgIm/tX/VQnS+VT5ZwlZ+vz7hQFA/jQGPvah/mYCxwcL+FDxkAdVETn7TvsM7vQE8RF89dT0wAbeBWgHNO6o/FsNXQJ9+rkAfAJ0+18M6PSO+ywI5wX9A5/v6AaG/J8ARQQS+5MESQDy/Nj+Zf6gAWz8HAEtBhcJRPb+//sFa/mb/KQWnwCn8e/+6v6mCPwCkfLJBI8AtAWL8ugCtgiPAjb6wPe3CqsHnPNH+jMEwAgd/dr7FP7J/rgFiQYX+p33Mgh/BP8BA/gNAgQGhwmR9kD34wz5ChH3kPXvA/wGkgrq+zjuQgOACW8GxPS7AGwT9f6v8aP7BAcMDdf64vRPAAoDmgt19XP8wAN6Dkr7ifj/ADv8rgs7/MP3+w9f/5P58/d4BjgPXPjF/ZcCQgv0+gP+nQI1ACEDHfzDCz38ufif/XYD2AUh/yf+V/jHA8z9WAqC/ez0xQSjEaPyfvLgCh0GOgDm/U3/9QNI/FjyDg2PDH8CdO2Q/QkRkvuM8tv/EAskB2H+1flV/yALM/gA+LgE9w6G9+vzhgLzBA8KZ/d1+Vz9Qw3RBeP+y+70ADsQ5P497c0C8AMUAY0Dqf3H/DP9QwLoBbgBvALEAFH1ugJ6CY7+lfpX96kJYPsA+xwCbQY4/K31dAWY/o4EX/8K+6n9agxaAX7v+fteCsME6fw9Blb56QDW+g0FnwgA/aH+NPTC/FELIA1T+F3yuPymB6n+YAA1AEr2zAYCBE3/Jv6y9VYD1P+5AxANCvyu9vT75Qgu/9H2HgE+AesCTP7f+DUIhP6a+0n/dP9yCC0A4fhn+ecKlwOS+0L+PP9tAz74Ffu1AhMILwHg8X0C+gqsACPz7/nQDFgIWPUE9tv8lRFAAl3xJPYaBjUCdvnW/CYGQQU4/JT5I/10CnMCgvucAD4D8Qcm9xX5/QNKBhMF9wD0/Jj/+Pk5/1AG9f/9+V//n/zM//MAz//PBCD+HP4N/ngDbwEU/SD7ofViBLoGHv4J/Lz4r/e7/0QDOgjl/vX3FwbuARr/+/rS/MgAKgJKCf0FWfrj9Uz7QQl1CYMB9Pwn/qX9jQJMBA/5cPe/AcUIJQbd/fz33vmG/hUDaAYuBKb+PwGmAuz5d//jBAYE3gFGAMkAlAJL/Z75DfvVBgoGrwH6/h771PbB+3wEWQC1A18EF/mS+7EAPgP4/Hr/ZQcDCNUB3v/q/D/+YwCgA40K1v47/aP9GPwZ/3f/jv/MBV///Pw1AJ8AL/xv+hMDZQWUAJABjAJS/bf+C/o9AzAK0wTh/031oAGgBhb83/3l/SEByQOoA+oBlvpY/jEB4gDwA5f/sv74AwsAcPxP/YcCjv/XAJwCZgRbAGX5J/1R/pUCfwMC/1f/eP9G/sf+bwGNAPUAqAPFALwAWf8F/rv+MAL2BfwDJALnAAz+Q/0t/VkA7wHfCFMEcfwK+5L8//0W/ZL+cgHOBKcCK/yq/yQAoP0s/YQGzgiJASD7/ftk/20BegEt/e//VAVsALf6ufp7/3IBowMAAir/+fwy/h4AoAF3AAIAiv+bACoATv1v+5v7ev/m/nsAywF7/6T8Y/wN/9kAEgItAPr/sQTgBssBnv8oANwAZwCu/e79bgJSA6n+7fso/lj/Bv7X/uf7cP2oASgAX/5A/nsALQAdASoEAQIG/33/vQHIA9QDfv78/eL+Yv/RAKEACf8p/mz7uPtD/Xj+j/7D/kIAfgAi/0b/hf3E/P//uAAC/7P/F/93/ZX9hf2E/eD/qAFhAjwCAgHQAeMAlv5K/x3/iv2P/Ev9sf4t/+7+iv4r/7AA6wK1AyQDsQHQ/yoAdAIjAzoCJQL0ATgBywAUAav/hAALAa4AxwFUA4gA4Pxu/vsBwgJMAS8A3AFQAV///f7aALkB/QBJApoDvwI4/nr8af/0AfACOgEUAT7/S/6r/lj/wP+f/kT+8v56/7X9fvt0/BD+Gv7V/Az9KP25/cb8Q/wB/qj+Hf9Y/y//q/0Z/LH8qv2K/qT/Gf/k/TT9x/z5/Mz9Jf8zABUCDwIAAMz+Yv9wAXkCMAM6A5kDMAPpAsQB9wBfAGMBbQOuA2wDmQJ8A2sClgGBAZ8CCwX7BGoGHAaQBV4FIAZ9CA4JEgpfCTEKIgo0CYoJOgjkCCcIygikCG8HjQZXBY4FKwSuBIAE+wNPAgIAAf8l/dv7EPo7+K/24vS/817yF/HS73LvhO+A7oDtIexd687qUOl35zDm5eYd6BDpkuhJ59TnJuqp7c7ud+537/rx8PPT8xD3Jfs8AC0DWgehC+kOOxKVFLAXKBg8GrccOx64HYkbdhv6GmochR19Ho8dXho3GZ8YnRkGGZoZ6RslHKAbyxiRF5IU2hH4D/8PWhGjEPwOcwtOCVAHRAYKBWgDYwF//tH8cPv2+MTzp+5X61LpnufI5FPiD+Ba3pfbNtkZ187VK9XX0pLQhc5IzqnO/8/Mzx/O8sz2zVDRXNWl4oP18AWtCLUEIAceD1YY8BrgHw0jiyOyIbAdYx03GCsWRxZZGSkczRjtFjsSXxC3DkUPBBJZEowTmxBvD4wNfg9cFcYZQRwuGc8XLReCFzoYMhecFtgTGhPOES0PaQqXBc0DAwNuA8sCcwEH/pj4N/OE7jjr+ugr6DjoZuW+4OPbtNiH1+bU7tP00qfS6s9Fy6vJhsYaxfTAcsDJwtbEa80u3PT3vQi1C3QE2AUVFM8cliN3I/kn6Sf0JHAkFB/EGRoSWRIyFwUaYRoUEykNXwcdB/AJdg3kEVgS/hKPEa4ScBQRFuMYhBntG/Qceh5aHU0aiBiLFmYXABjfGcUYMxWZEDILLgixBSUGkgZWBkIDL/wx9D3uLu0K7jXuaeyG6WflgeCE3GHaHdnx1VPSD9D0zWHKYcKevGe5272oxL7Iw8mdzrPoWAZfGCQSVAxqFXIhTirEKGcsdyvsJv0ieCD/HjEVdw22C9UO0RGDD9AL9QXcAowD6wfsDBsQzxJkFOAW3hgdGpwYIRbdFTUZWB4eH/Ia8xN8EI0PWBG1Eg8TIRGtD+QPbg8MDIUHxwVpBd4E1QCx+wf2YfIO8XnvHO6S65TpEec75JbhM90H2TDUUNErzjLK7cXDwRe/87uLuwu+kcSAzDbdwfhWFMUfwBgKFMQZ0CPEJ3cn/SkGKUIj8Br8FIwQpAd9AnIClwgbCycILQREADMAxQFUCJwO3xJOFZsWhRigGIYZJhmuF10WMBfcGCgYxROiDlsKagoKDpkTphQXEbMLGAmbCVsLUQ3cDMgJlgRN/yD6uPRX8Fvuau7Z7gzurest51vhzNuw2JrWFNOEzIHGeMLbv8q6n7UPtVm6JcJuyaHblfsSGyokixkTFV4eoCjDKAknICvwKoghFhWqDjML9QOG/R3+IARICBgG8wDi+l/4ePz/Ba4P3BWxGXIb3BpfGrgafBsDGvYY6BfNFk4U5BD1DBMIRQbICAgPZRObErMO2gqyCewKng0bEKYOBQpzA779TvgB9ELxLPCu7wjvX+1l6lfmueDs2n7Wh9RD0Y3KBcT2v1K+L7p/t2G6XMENymbWFPMcFRQonCE1FswbGyhtLWUpeSnzK24mjxrPDiUJ+wOn/TH78f1EBHUFwwBr+XL0//fLAdkNYRUnGUociB2vHagc2hyDG7UYBxejFsIWlxQAEQULXAXgBCcK/xApElcPrQsLC1kM3Q1lDp8MOApBB3wEHACT+tb0UPB67mLuv+7f7HDopuJ73K7XPNNWz/PJx8T9wVzAS752ukG69r0DxmDYQferGHolVR4aF2AdNCj1KX8qfi3fLv0lMRlWEPsIKQD6+VP7WwGUBKcDMv5y9lPxb/UxAscO0xaUG9Qe5x3vGTsYBBrHG6IafRktGBYXThTzD50JQgRVBTYMHxJfEqIOwQtPCRQIfgmADEMOawz2CNcDG/0c92PzY/IR8XPw9u/W7aroFeH32lfWJ9S10TPO0siVw2+/bbzzuve7eb93xvvWkfV0FbYi+xl8EPwWHyWRLcMumC+eLpcm7hurEk0MBwaCAVAB4AHAA6kCNv6r9LftYfKf/xgNvBPjFuUX4BVkFHoWgBtCHisdIRywGSsYtxUMExINqAauB5AOGRVQE9kN5gc2BHEEDQi2DDUMhAjVA5b/YvvK9lL02fES8Q/xIPG27uboKeJK2+3We9V71BzRq8pWxZ/A6rx6u4G8g77nw1DYbPoWFWoX6wudC4YYsyW9K/ovrDIWLrUlQB4DGakRiwvKCbIIQAZGBFcDmf3K8qbtY/N4/7YI8Q1CEKwO3AyKDv8UdRpnHCId/hx/GyQanBlVGQMUuBDPEMEVRhaYE9IOwAkVBVcDLQZdCPQGgAK9/TH5XPWM89Xy6fET8czwRvBQ7QnpmuPk3VnZVdc01jjSqsujxQLBtr5yvUW+KL8lxdDYp/asD4sTgw3SCpYT+R6XKp0zZDWKLjYm7SGRHmIXzhFTD0oOtAqACGUGcwC99oHxsPRJ/J8DhgnsCwoJ4QThBvENzBTxF9kaQxyAG1QaaRvQG2UYwBVfFy4aDhkPFaAQEQtQBVkDjwXMBl0EMwC2+0/2d/Hm73rw0/DV8AjxFfAD7Dbn/OID37Dbx9ny2DjUR82XxpLD1cEHwZW/gb8uxUTZWPTjCMUKiQXsA1wMXBlRKMkxEzPuLJkpYif+JBse/hmcF6EV4xHTDfAIyQBl+K/0MPay+hf/4wPVBHYBMf5KAOIHOw6RE7YWYhhZGI0ZXh28HvEcZxtiHOAdYxtFGJ8TeQ7XCNkFuwU8BDABDf0J+bfzge6B7LLthe/27+nu1Ox26SrmK+SH4jrgtdyM2RLWrtE2zRDJ28YUxErCN8FAx5fWAu3O/7sGZwPi/1cDoBB9IF8uDTK+L/Yq0iibJ1gkuCALHVgbWxneFf4PbwYH/j34U/iA+nn97v+SAMD/Zvxj+0b9DwOyCVYPYxPdFJQWaRhyG74cKR2oHUwfjyA/HzUbKhUdD64KgghfBzAFzgCP+/H1P/HB7Ifqaeoz7Dvtduzl6WzmXuNa4aLgK+Dc3iPcXtjw03LPeMtyyWPIpMcUyErPtN5n8dj9UwGE/0P/QgQdEIQeDiqrLcMs8ioYKt4nlSRMIiEi9SFLIDQblxPfCSsCK/6Z/R/+ev4m/4T+/PsN+P31SfeM+3MBawcWDIsOKBCNErAVRRhmGi0d4SB+I7Yj/SBRHGoWUxH3DS8MzAmgBcv/O/nX8l/tE+pB6STqmuq66TrnHeQN4d3eC97H3Z3dM9zy2bTWm9P90BvP2M3FzFvNbtJz3XjsFPnt/3cANP9QAE0GeRFQHe8mTStpLFsq6CbvIs4gmSGrI4MkDyJXHEIUtQt1BR4CEQF9ABAA1f8j/gb77/bc9Bb1tvc8/JMBwAZPCosMSQ7YDwIS9RS4GeIerCKBI4MhvR3MGEoUsBCODjUMDQlnBIj+x/c38Yzsk+pP6jLqrujs5UnivN4n3LrattrL2sna09nn1+vUDNI50OXPrtAC1H3avuQA77P2V/pL+zX8Cv8WBroPxRk8IYQl7SbBJUQjOCGRIS0kEyccKKwl3x8xGOgQ0AvBCAwHGAYaBVEDoP/j+o72FfTR8231V/h8+x7+jwDOAskEQgY1CMULKhEGF9sbhx7jHu4c+hkWF+gUPxOhEYUPDQzsBqYAyPqa9in0bfJn8H/tBuoo5mziH9+I3NXa+Nlm2aDY+tbd1MLSm9EC0V7R+dLi1ofdseWD7RfzDfZd9wP5HP30A+cMpRWeHMMgECKqIbYg9SC5IqAl8yccKKsltCD3GukVlBI4EAEOmQvYCMMFEwJf/h/78vjF92v3qfdh+OH5U/wm/6QB/AIfBPYFxwnPDswTVBfqGPcYGRjbFhkVIRMsEX4P+Q2aCwAIGQNH/j36Rfdm9LTwr+zb6Enmn+TB4uXfF9yk2OXVi9Rk043S6NGL0RbSjtMd14zcwuNC61TxZPVY90b5jfyCAjUKeRKOGRweZyBpICwgWiDuITwkEia0JiUl8iGfHf4Y8hRPEVsOkwvxCEYGmwNnAWf/5P1K/KH6Lvlh+P343PrK/c4AcQOJBREHbwgECjwM9w7+EZkU3hV6FZkT3xAEDnwLagmVB+kFNAQKAjf/mft391nzve/g7NTqHel556jlk+MX4aLepNxm2xPbQdtL2+faWNqJ2qHcPeG45/ruc/XU+eP7JPwm/Gj9TwGvB4QP6hbkG+YdAx3DGqkYdxfJF9AY/xl2GpMZPxe8EwsQhQzrCQMIbgZDBToEngNSA0sDAgNaAoUBfwATADUAUwGAA0QGMglrC5cMuQwtDJ0LDQvYCoAK2AnLCG8H4wVeBPkCowFSAL3+2fyE+vX3qPW280Ty/fCZ7yDuueyM67nqX+oc6uHpoOnk6LLnA+Y65E3jUeRI59rr5fBZ9Y74EPo6+rP5fvmh+nX96wEMB38Lnw4wEKMQyhDuEDERjxGsES4R8A/vDZ0LvQnVCA4J2QmXCnMKdAnsB1cGLAWfBMcErwXfBgcIkghiCJYHxgZoBpoGRwcuCAMJmwm7CVAJMgixBvIEbwMxAnIBLQFsAQUCoQL2ApgCiwEXAKH+iP35/Nv86/zp/In8pPs6+o/4//bk9Vv1OPUg9bb0uPNO8sbwd++47pTu1u5l79nv++/K71nvEe8v7/vvX/Eu8xj18fap+EX63vt1/Q7/owApApUDtwSGBRYGjQYPB64HYggdCdgJgQoVC3YLkQtfC/QKfwoQCsIJlwmQCcQJLArGCmkL+QtQDG0MaAxDDP0LlAsCC14KtwkQCWIIoAfXBg4GVAWjBNYD2AKkAUsA6f6V/Vz8Svtb+pf55fg6+Hr3qfbQ9f70O/R+87vy8PEl8Wzw1O9r7zfvOe9p77Pv/+9C8H3w1fBQ8ffx0fK/88j0APZU9874U/rU+1f91P5DAJ8BzgLLA6cEcgUyBuwGlQcxCNMIdAkTCpsKAQtPC4sLvQvjC/kLAAz/CwoMIAxADGUMgAyhDMcM7Qz4DNEMgQwRDJELCQt7CuEJOwmNCNYHGgdPBnYFlQSwA8IC1AHdAN3/4f7u/Qb9Lvxj+6T67vlH+af4Dfh89+z2Yvbd9Vz13PRj9PLzjPM58/Tyz/LJ8tryAvMy82zzsvP/81b0ufQd9Zn1I/bP9pz3gvh7+Yf6oPvJ/O39C/8WAA0B9QHKApYDWAQTBc4FjwZZByMI5gilCVYK+AqFC+4LOQxlDHAMawxUDDIMFQz3C9wLwAueC3ILMwvgCnkK+gloCb8IBwhEB3kGrAXlBCQEbgPCAhsCeQHgAEcAr/8a/4b+8P1c/cr8O/y2+zv7xPpY+vb5mfk++eT4jPgz+Nf3evcf98j2dPYm9uH1qPV59Vj1SfVI9VD1ZfWG9bT18/U89pT29vZs9/X3kvhA+QL61Pq0+5z8jP16/mn/UAA1AQ0C3wKkA14EEQW0BVEG4gZjB9kHQQiZCOAIFQk9CVIJWQlUCUIJJAkCCdsIpwhpCCMI2weGByoHzAZnBvsFjQUYBaMEKwSsAzADtAI5Ar8BSgHZAGsAAACb/zn/2v58/iL+y/12/Sf91vyM/D/89vu0+3P7L/vy+rn6f/pK+hj65vm5+Y35Yvk1+Qv56PjK+LX4nPiQ+JL4m/ix+NL4+/gr+WP5qPn5+Vj6v/o2+7z7S/zk/IT9Jv7I/mj/AACTACEBowEiApwCCwN4A+ADOgSSBOMEKgVtBaMFzwX3BRQGKgY6BjwGNQYoBhQG/gXbBbUFjQVlBTgFAgXJBIwESAQBBLUDagMXA8YCbwIYAsABagEZAcQAdAAkANf/jP9B//r+uP50/jP++P3C/Yz9Wv0r/fn8zvyk/H78XvxA/Cb8EPwC/PT77fvu++/77fvn++r79vv8+wn8JPw9/Fn8gfyp/NX8Cf07/XT9rf3o/Sr+Z/6t/u/+NP96/7n/+f85AHkAtQDyACoBZgGhAdgBDAJAAm4CnQLJAu4CEgMwA0sDXgNvA3gDewN5A3MDZgNWA0MDJwMKA+4C0QKyAocCXAIwAv4ByAGUAV0BIwHpALEAfABHABIA3/+x/3//Uv8m//n+0v6x/pL+d/5k/k7+QP40/iX+H/4a/hX+F/4f/if+Lf4w/jv+T/5e/nH+h/6b/rP+y/7h/vr+E/8n/zv/T/9h/3H/f/+R/5//r//C/8//4f/y/wAAEwAiADcARwBaAG0AfgCSAKQAswDEANcA4wDxAAIBDAEYASEBKgEuATMBOgE3ATgBNAEsAScBFwEKAf0A9QDqANsAzAC6AKgAmQCCAG4AXwBHADoAKgAWAAkAAADv/+T/3f/S/83/yP/C/7n/uf+4/7T/tP+5/7f/vf/B/8P/y//P/9P/2P/f/+X/5v/r/+v/8f/0//L/+P/2//j/+P/6/////P8AAAIABAAJAA4AFgAdACYANAA7AEcAVABfAGsAdAB+AIgAlACdAKQArgC2ALsAvQDEAMYAxwDIAMQAwwDAALkAtACsAKEAmQCPAIAAdwBoAFgATABCADEAKgAdABEACgAAAPT/8P/k/9z/1//M/8r/w/+9/7n/sf+v/6r/pf+h/53/nP+a/5z/mv+a/5z/nP+b/57/nf+f/5//oP+g/6P/pP+l/6f/qv+t/7H/sv+4/7n/vf/B/8X/y//O/9L/1//d/+D/4//q/+3/8v/2//n/AAAFAAoADwARABcAGwAbACAAIAAhACAAHwAdABsAGQAXABMAEQAOAAkABgACAAAA+P/y//L/6f/l/+L/2f/U/8//yf/E/73/t/+0/67/qP+l/6P/nv+c/5v/mP+Z/5f/l/+X/5X/mP+b/5v/m/+c/6D/oP+l/6X/qv+t/7L/tf+5/77/v//D/8P/yP/K/8v/zf/K/8z/yf/F/8r/xv/G/8X/xP/H/8T/xv/H/8b/yv/K/8v/z//Q/9P/1f/Z/9v/3f/g/+H/4//l/+X/6P/n/+j/6//n/+f/6v/l/+b/5f/k/+H/3v/e/9f/2f/V/9H/z//P/8r/yv/I/8j/xf/G/8P/wf/C/8D/v/+9/7v/vv+9/77/wv/C/8T/x//G/8r/y//L/9D/0P/P/9P/1P/V/9T/1//a/9v/3//f/+D/5f/r/+v/7//z//b/+v/9/wAAAwAGAAkADgARABAAFgAXABYAGwAeAB0AIwAlACcAKwAuACsALwAuADAAMQArADEALgAxADIALQAvAC0ALAArACQAJgAoACUAIgAkACYAIAAiAB4AGQAaABgAGgAaABkAEwATABQAEAAJAAYAAgAAAP3/+//3//b/8v/w/+3/5//o/+L/3//e/97/3f/c/9v/2f/a/9j/2v/Z/9n/2//f/+X/5f/n/+X/7//x/+//8P/1//n//v8AAAAACAAMAAoADgALABUAFwAVACIAHgAtACoALwA7ADgARwA+AEAAUABFAE4AUABNAFAAWQBXAFUAZABlAGUAZQBtAGoAawBtAGIAaABqAGYAZABbAF4AZQBeAFYAUwBQAFYAUQBIAEQARwA5ADcAPQAqACcAJwAnACIAIAAdABcAEgAQAA4ABgAIAP7//v/8//n//v/y//f/8//1//f/+//1//D/9P/6//v/9v/6//7/AQACAAAAAwAFAAoACQALABAAFwAQABIAGAAZACMAHgAfACAAJgAnACIAKgApACsALQArACkALgApACgAKgAhACIAJQAiAB0AGwAdABcAEgAMAAoAAgAAAP3/9f/x/+r/6f/h/9X/2//Q/8b/yP/H/8P/vf+9/8D/v/+8/7r/uv+8/7j/tv+3/7n/tf+z/7H/sf+s/6n/pf+e/5//nP+i/6D/nP+n/63/rv+t/7n/w//I/8b/yf/J/9b/3P/b/+T/6f/q//L/7v8CAAAA//8GAP7/CwAWAB8ALgAgACUAKAAcADEANQBLAEwAKAArACIAAgAeADAAOwA/APb/9P8KAEYAIQDw/yAAFABgAJ4AjQCIAJ4AzAD6APYA5wC7AKMAnABvAHsAUAAkAGIACADa/5L/Cv9p/wIAOQCw/wz/V/+SAxsC0QIUA34CbwLSAjIC0AGCAsACbgMhBKEDwQL4AW8BUgGNARsBRgBZ/73+9v0j/VX8i/vs+jP7Kvvq+vD6XfvC+3j7Lftq+6v77Ptr/ND89vwv/WH9Bf0w/RX+TP55/rL+mv6C/iH+9/3+/Tf+s/4K/zP/3P9CAC8ArADsAP4AAABS/6P/twBvAg4EKgXsBAQDcwIJAlABvQBjALT/FP+h/g3+Cv3S/LH8IP3//Pf8zPyD/B38Ivw2/PH7HvyI+zj7TfsA+zn7U/vP+6H86PxX/Qn+bv4M/0f/MP8Q//n+9P7v/rH+UP4w/p7+IP+6/w4AagB3AFsAsAC/AMkAtgCxANgAIAFjAZsB7AHhATQCbQLRApAD9gOABKcEvASPBBgE9APiA/EDDQTkAwYEEQSfBNIEAgUlBRoFiwVMBTAF4ARIBNYDUwNQA2oDdgN4A5UDugMeBHAE4gQhBTgFMAXcBHYEqwPZAtYBCQFlALP/Mf9q/uL9Lf2b/Bf8gvs3+9H6Zvqe+Wz4NffH9Wb0BPPx8R7xXPDU79TvfPAX8ZDxyvFC8rnyCfMG80XyyPHt8Obw5u9f8GDyHPc9/YEC8An1EUQcwSTCKhcwszLdNOMyRy/NKSAjuRylFSUQQAuHCDYHLgeOCH4KAQ6sEOwSjBOdE20TrRFMD6ML1AjABmEF2gSmBPQF1QcxCtAMww6hEAYRhBALD0QMXAkwBQIBmvyh+Oj1T/Ov8U3wjO+T75fv1+9C70DuC+1167vpQ+dp5OjhHt8N3afa69h018/VwdT00iLSqtD1z0DPC85PzW7NUs970NzSk9i65Qj1KwMsEEsfGjJ/QBVL1E5AUANO1kb/PV4wICNSFcEJYgFW+fH2LvY392f43PhR/TH/n/8Q/C/3SvTK8Obvhu197R3wUvYWAKUJGRWZH/opRTFeNfA37zbjMh8qdB9QFdgLnQPL+jbztu5b7eTurvC48tn0sPY9+GH4i/eI9XPy6e5060Ppuei/6TDrvOwZ7xvyhPUX9yn2UfM/7/npd+OB3OTUoc2Ex9bCyr/1vfe8bbxkvdG/7sDvwf/G99S76XX6UwmRGvkyFEoUWNpfQGE9YAxacU6UQMQtxhzTDIX/e/b28IXxkPA671rwKfQr+ff3tPIh7GDni+UA5JfjHuRK6Yv0SwOtEyojfTLtP9hIs02NTSJKIUA/MVIgsxCoBG/5JPDA6N7mwelb70P1pPlp/U4A+QGEAQr+M/mD86zuMusV6i3sO+/Y88j4x//qBtULgg3dCjoGQv959oPrzt7V0pbIBcF7vBa6l7pfuwu9Cb8awVjEX8WuxQ7CycHKzaLi6/ruChEeVDjDVH9sPnUheOFyYWerWU5EsS/KF/EDpvXJ6Y7oner+76Dyj/Kk9yn7aPyF9XXqlOGr26Xcht955WXv1P7RFKwqAD+QT45bgGAtXBBTmkV2NAAgZAp0+YvuPeor6jPs7vCn+H0C+wouDmsNDAnuAk/7xfI77ELoS+eR6XLvN/mtBGsP5RfYHMEfXB4uGMsMx/1n7g7gTNS7ygnEksBTwQLFEsoJzwzUrtcF14rU185hyl/FtL4/ua+1hMLt2jf5BxMcJ0tGyGLGev9/mXlZcPJcCkqhL80YmQQY82zswefW623zy/zYBCUEhgSmAkkAd/Zv53Hda9l43hvlUPD5/7wTDytdPldPzlhqXIRY4kvYOx8p/BjxB9D4ZO5r67vwN/d0/vADBgsXEcsSFxD7B+//7vZG73nqoegN7APy8PqvBOsOHBl3H3EhTh3TFRcM5P9u8l3kRNlI0U7NaMxazaXQxdNJ19bYodjC1tHSks6wx03DG8A7v3XAQMENxLnEqMwG4i7+oBfMI1M0h0pbXqBmIl/iVeVFBzX/I48SaQRa9VfvkO1X74T2Zv4UBjMDo/0K+gj4a/JO5unc1Nmn36PrYfuwDL8dkC/PP2lLIE/jS4ZB7S9/G3sJ0fwn83/rtOeI6i30IAGUC3kQoBBAD6cLOwTp+jfxCeqK5Q3mN+wg9igBGwqIEUQWOBnvGB0T5AhG/Njx6un34zbfjNxY3Hzdk98l4vrjteJU3rnXBNLtzFDHTsKzvWG8VLwOvx3DicaJywHNKc8Wzx3ZA/BICSIaiiKQM+1JjViKWFtQMUd2OAcnShdeC///F/bK8Z/wkfOJ+TAB8QEv+5/0HfRD9AvwAerp6EvuRvmYB94WVCR+L0E47D2/PbE5QTKVJu8V1wUZ/aX6Q/qt98724PqAApcI9wlmB8QDk/+I+qv2m/Rw9fL2avqL/28GhQ78E9gUMxFXDLcIAgQS/X31MfAU7hLuP+8k8R7yx/GE7y7sOOhW48rdUNdV0bzNRs2bzvHORM+/z8zPZ89+zVjMcMqXyDLGD8PJyAjdAv73GWsp+zn6TxBkCmarW8VOhj7uKQcVHAkVBJsAc/8lAI0DTwnDDlgOBgSR9r3u6uvx6Djmhugx8qn/IBC6ITUy3j04QuBAiTrPMccnhhyIDyADGv0V/wMF4ghrCr4MWA+YDvwJSwQe/yT6u/VI9T753gDKCJYP5RNSFvMXThZEED4GXP1q96vztfFW8gH20/oc//EB8wI7Abb8XPUw7IvjVt0p2kHYXdcG2DDbrt5X4BreAdrW1DvP2chqwqm+tr2nvjvA6MHYzBLkgge/JQc3h0LBToZa81ccSgc7ViziHhkQkwp8DXwTMRc2FW0Sug86DWcFnvaT5r/dwN3+4n7r+ff0CI8ZJCfIMBY3KTnUMy8pRxzAElkOgw2UDQgNZw5UEckTFxIeDW4GW/5X9ZzumO5N9Nj8aQTsCz0TKhkCHAYZdBG1BqD9jvfu9EH1vfhM/WIBdANJBb4FHQOh/GTzi+u45vnl7+fY6VrrAusx6gLoTuSI3yTZ4NLYzfrKVctQzC/NR8yXyWbGF8MNwYLBxMK9xLzKKN1s/9kiXjyVSItQaVZIUktHSTj3KqwdLREODF4MiBKUFqkUyAoO/234RPT17ObjLOEN57fxuv1vCz4ZZSPtJzInAyXRI6gkNiM6HkgZ/BhdG9oaRxbbDl4Hs/8G+Yf0B/NR9bT36flE/NoC2wsYEtER9AwACfcImgpFCrwIiQjVCcwIcAYLBcYDHgD0+E7yje5+7tjw8fGg8fLwmPFX8QTuW+mE5Bvff9l+1BXSrtHu0dHR4s8UzrvLbcm3xkHDYsHmv7DB2cRgyX/Ot9aL5xoCYyLgOiJGykikSlFJ2UDNMzspqiHRGokVwRRlFqcWIBGxBRP3q+zJ5yXmNeXS53XwuP2tC7EX1SBxJq4n1yTKH9sdFiAmJDommSY+JrckRyB7F9YLwP9j9a/tO+p+7H/zufog/zcCBQYZCmEM+gyDDAcNNg8lE7YWHBj5FpQTfA1KBbX9SPjZ9GfyyfGH8y32TfhM+Nv2LfP/7YvoyeMI4Q/g9OBd4vLhzd8K3BTYc9MZz3/LkcjsxcjE18QJxpnGcMYlxpbGJsn5zDnTKuThAqAn1j+QRyhJ80k3RdY3oCu1KV4qGilXJA0jzyIEHSQRF/5f7eviHuKA5jnrW/U/AXsM2Q+8EHwTxhY7GY8Zch0pJegvOTdQNhcvhCVpHJQRQgd8ANX+IP/a/sn95f3A/s/+xPvO+Cf59v7zBnoOvxTNGfMdqx2HGMEREA73DK4JrQU/A2oDnwHB/Xr4OPMP73jsEOue6ZLpi+tM7DfqpeYc5FPiid833C/ZkNZl1fnTGdOe0RbPlMzFx2HE7sDowL3Ck8TXx2rMI9Oq2uPqfAj1KX89sUDNQMY/0junMXQwmTQEN+wzDC6gKDgezREfBbX1gOkR5oLuBveI+kL9rwDRATX/AAABB9cS2R4RKGguMjLdNVEz9yqtIJcaPRhNFQYU/xK3ECMKiQBA9yTx1fAP9Dr49PwyAzYKGw4yD/QOnA8AEpETqxWjF3IaBhp3FLQMwAR5/qX4zfSW8hHykvIV8jbvv+oC54Xjlt833QzeReCI4f7gG9952+LWPtMO0ZHQONH20APPs8oGxnvBi72Zu9O86cELywvRodY14yEAqiI5NN02bTWsNn4ycirBL4w9i0XdQMM1lStOHZUPogbM/iz5Rfhc/aX+Gfjr8iDysfFU8Ir19QNVFHwecCIMI4Aj3yQWJV0kEiTrJi4p0SbsIDoZohILCq8CcP4d/y8DdgS/Ai7+Kftz+4n9xAEwBm8LphD6EVkQRA4jDtIObQwiC7UKbQoqCDMDj/71+Bn1avHm7bzqKOkD6KHkVOBc3CjajNeG1TbUn9OZ0ibQSs3Gyk7JFcjOxn/GQMZgxX7DV8Jkw0DIS9Bf1nHayeiSBqYnazIvLPEl8icLKbMo0DOrQ1hJbD+/L/kiqRfjEUEQtgyJBgkENAUEACL0tuzD7abwg/NN+0EI9xMuGbkY5hSqEz8ZyiFZKAssiC94L/woLx90F+gTYRPaE4UTRBDAC9MFVf9a+Zb4iv2mA6YGyQX9BMcE3wSdBDAGXQokDtYPag4lDC8JcgUQAsD+5f0c/u39QPoG82HsB+fn4vPf/t7Y3+bezdrc1LnOXMolyHbIq8nVysPKaMjpw3jAlcDrwirFYcYXyhHQ7tRA12/hB/3vIK8zHi2aIEgfFSXCKeozfETwTMFCgC+JIbQa+BeyFzMX6BKcDNIGwf5R8zLqYekh7kn0F/tFApgGRwWhAk0CWgioE4IfdCZhJkEkwyHYH9MfRiHqIjYhDB7nGSEUfA5qClEIqAVVBGAE2QMAAZL9Lfxs/KT+7ABUAjQCewHRAZkBLAJSAmECSQH2/gH9iPux+8b65fe781/viut+53nkmuIQ4dDe9Nqq1nfScM9zzfTL7spZyWLHvsTAwoPB0cCZwMHBm8RJx9zKXNZO7xQM6hvgGqYVfhcxH6AqgjoLSoNP/0dLPF4zzi6dLgkxJDGEK8gjYxzSEaoCNPek9Wr7VwG+BAoE2/0R9nzz5fi+AxwQGxpoHOUXqRPiFY8c6SNIKkkvEjHnLlkqjyR4IIof+CEJJIsjKCCYGXARbQl6BXgF+AjlCyYKYATf/Uv7efri+jj9DQB1AsQAzf2Q+a72lvaM96H4c/cQ9pbySOzF5Uvh7uDe36vdwtmr1CHQOMt2yBPGysQYxFLDWsKnwQjAWb65vU+/kcEXxSHYYPoIFuYT2f3b+HUJbR8OLQw59UO3PVwsbR9bIugrATJQMwMsph8tFboOmgX6+Uv4bgEXCAMDNPo186zt9umA8Fj/0A3HErINNwV7ALkH9BVmI0QprCjPJnEk+SJPIIQgAiTEJ7En4SInHiMXJBBzCnIKKA2GDU8KXAGm+HrybfMv90H6/fpq+Aj0yO+Q7vLwA/Vn+Fv4uvQU8G3tU+w761PqE+ks56jiut2T2GTV/NKd0fPP7szVyUvFxsHOv3q/o8EjwLK+KLsjvAq+HcFB0CjtoAvpC531AOvj/vsdaCwBM784kza5KJAe0yezNY88VDqSMxYnHRlVE00RSQ15CmoNeQ/gBTD42O9J7qfyMvxbB3sI/AEf/PL7cf/5B08WviDuIJgbthipGgcfFyYELEYtTCusKNYk3R9OHjAhWCNSIUkcKBWODP0FZgSvBNoDcgJM/xf5AvIf8PfyCPaR9nL1FvIQ7qDsau3v7szvR/Az7mvnSeI/4XXio+GL3mPcDNgI1N/PN84tzSzMC811yWDFoL/RvgnAJ8FqwizB1Mlq4Sf+/QTX8ELm6PYrFZkjMChHL6IvPyZMH/opejkNQCg/TzmvLn0iiR/IIPkdWhmTGAEYoQxL/pr2gPg2/b0BPgR9ABn5BPVq+PH/Ggj8ELMVuRMdD1oQ/BhhItkojSpzKYEmWCXgJS8o2irJLMkppyLwGoAWcBQdE6MRbA3gBt4A9/y4+uX4pPja9wX11PHX73Xuxuyk7KPtMO5H7QXro+eI4xTiheN55AfjBd9u2lDW7dOw01DTF9JVzwDMKsiVxK/Cj8CNwYPCoMOzw0/M3uLM9r/3F+e85An7fhW4ISggGiLNIiohAyX+LjI7STzNOVA0Gi1HJxwl/ybZJK4grBsKFZ0LiQKA/w4BuwRQBfsAwvgm84v1+fycA64GKwiTCIgItAkKEPIYdiAbImIgFh7MH/EklyqtLNIq4yYZI1wfjx2vG88ZJBVAD68IngNyAar/J/3V+Cb28PMZ8Snuc+w67FzrNeti62vq1ucT5XzkVOSq5N/jX+JH3+jbC9qh2B7ZZ9iC1afQfMuDylfK38o2yCDE0r9OvxzDx8rf1sTkMe2K6uvjjOmZ/KQSdBznHM4ZZxmSHoooiTX8Oks55DJdLxAumS3ZLfosLipkJFUdjBUNDlQKsgnZCUUH4QLs/Zr4AvYH+e8ACwYnBU4ATP6OANEHLhKAGoQcehZlEyoXzSCwJosn9CSGIskfxR6hHq8d5xrOFhsTWA7KCCsEygFuABf+1vpW9mfyHO+s7entP+2C7Dnqoegu5yDnq+ec573njObH5Szk1uJ14WHgWOD639PePtuA2NTWIdYm1ODQ2MwuyarHcckkywnLI8yG117m1Oux4sbciOnpAF4Pog6WCUAK1xEsHQooRC2tK+ooLCteL7AxpS4BLM8qbSqsJ2Yijxx5F84UAhPtEP0NhArzBlYCpf8xAZkG3QjXBasBmwHaBbsKvQ8xE1sTDhGeD6ETSBknHhEf5R3XGvgX3RaNFwkYChZuEqwNzwlJB50GQAVCAvf99Pn39pH1bvTY87PxVO8r7RTsmOut6znr8Okg6cDp8erR6hrplOZx5RDmU+cv6LHlP+K/37ffkOBZ3/XcldcZ06zRH9R+14bWStJM0o/aHOWL6JXk3eF66RP1M/+yAUcDnATNCPEO2RYlHXUeSh7XH4ojYSdfKMoodifvJZwkXyORIUofPR61G8MYOBWnE2USJhBxDBwLLAxYDtoPww6dDPYJEgmqCykOzRCVEeMR7RFzEb0RUhNIFWUU1RGeD00OSQ6NDWMMEQpFB34ExgNIA08B6v6s/I/7Nfp5+KD2RfWF9E30i/PW8SDwbu+77yjwEvAs7/DsZOqu6UPtX/Ck7tbpSuVH5djlBuYU58vo6efj40TiMeK55LjhOODt4c3ju+SS5DHkk+eK6uDsbu/r8S/0uPZw+h39KwEjAWwCEAZOCUAM/AyVDkQQjRGMExcWUhd2F5MYIxqiGr4ZExlPGGQYzhcUGBcaGxiMFrYVhxOWFO0T0RMkFBkStxHIEb0RQhIYEFINkQ0OD7IOCw9tDUwLywncCnUIZgYLBw8GRQWlBA4C1QRAAxv9evuQ/Wz9lfzt+r72YvkD+a75KPUP9sb3u/bP80DxOfCk8EHzoPB48TT2f/E/7aXste097m/1CPYr7yjrIeqh8hr3m/PB8ITvCPKm8ODzzvQr+B72QvHQ86r1l/XW9uP0sfct/cP61PMq8eb0lvwzAML/Rvsc+pH4l/lG/+cAUgFfA6P/FwHTBCgFCwQ8BGIGFQlTCiAIlglZDIsK6QkUC7INmw9TClMNshBXEggNTgziDPkOyRJ6DzEO4wwHCEMTuA5GCUkOpAq3CA8IXQlLC8ALvAVEA0YJawh+A3oFWgIy/2MGCwTv/UwEkwOS/yf/Jv48+qD84foNBLYAW/cH9Tz3NvpN/TT/1vLX89/8svl4/d32++/+7YT/TPsM9xrwKPRS/A7/gPm27z788vdt+zT8xPtX+zP2qfy5+dX95f5lAxf2t/d8+6UAMAQP/ND3PwKPAi/+4PwH9hz9kwB7AwYEFQHM+ET0T/zCA1wLUPzT9N/58gVcBKv9Vv5EAaAEsAL+BJ8BQfrQA/8EP/8JAq4InQWpBEQGlPxI/u7+FQRdDVUKBv78+u8AOPzOCDsRJgO/BXj1yvfiCAgKaPzgAYcFPQPF+r4FxgHQAPwBnPgbCvILmAaeAV/ymAO5BkgGNgAyAaH+3PSKA7UNcAdl+DfsRf4RCuEO/P5c9NX27v3j/vACXf+a+sH74/0hBJsAM/ol9vH44QwWCczyNvV1AkIEVADh/BMChP1mBcsC0O02/rUGfwZ2CJD7YPpx97H8gAV/ECYAovVs8oj8Sw8eD5P6Le4OALkIIQLlA3vzewZiDFkD9PfZ8K8BrwdKCiwNwfX097X5mwAqCmgHBwQE/kz09gIfBKYC6PuYAIMEaQYKACPv9v77BQsCEwfGA3j/pPdR+nb/kQxTA7v7UflwBGj+0f10/w==\" type=\"audio/wav\" />\n",
              "                    Your browser does not support the audio element.\n",
              "                </audio>\n",
              "              "
            ]
          },
          "metadata": {}
        }
      ],
      "source": [
        "import IPython.display as ipd\n",
        "\n",
        "# Use the internal dataframe from train_dataset (already reset)\n",
        "df = train_dataset.df\n",
        "\n",
        "# Get real and fake indices\n",
        "real_indices = df[df['label'] == 0].index.tolist()\n",
        "fake_indices = df[df['label'] == 1].index.tolist()\n",
        "\n",
        "# Sample one from each\n",
        "real_idx = random.choice(real_indices)\n",
        "fake_idx = random.choice(fake_indices)\n",
        "\n",
        "# Get audio + label from dataset\n",
        "real_audio, real_label = train_dataset[real_idx]\n",
        "fake_audio, fake_label = train_dataset[fake_idx]\n",
        "\n",
        "# Get corresponding paths\n",
        "real_path = df.iloc[real_idx]['path']\n",
        "fake_path = df.iloc[fake_idx]['path']\n",
        "\n",
        "# Print and play\n",
        "print(f\"Real Audio | Label: {real_label} | Path: {real_path}\")\n",
        "ipd.display(ipd.Audio(real_audio.numpy(), rate=16000))\n",
        "\n",
        "print(f\"Fake Audio | Label: {fake_label} | Path: {fake_path}\")\n",
        "ipd.display(ipd.Audio(fake_audio.numpy(), rate=16000))\n"
      ]
    },
    {
      "cell_type": "code",
      "execution_count": 31,
      "metadata": {
        "id": "UK9SvGkf4Dw8"
      },
      "outputs": [],
      "source": [
        "import torch\n",
        "import torch.nn as nn\n",
        "import torch.nn.functional as F\n",
        "from torch import Tensor\n",
        "import numpy as np\n",
        "import math\n",
        "from torch.utils import data\n",
        "from collections import OrderedDict\n",
        "from torch.nn.parameter import Parameter\n",
        "from torch.autograd import Variable\n",
        "import pickle\n",
        "import random\n",
        "\n",
        "class SincConv(nn.Module):\n",
        "    @staticmethod\n",
        "    def to_mel(hz):\n",
        "        return 2595 * np.log10(1 + hz / 700)\n",
        "\n",
        "    @staticmethod\n",
        "    def to_hz(mel):\n",
        "        return 700 * (10 ** (mel / 2595) - 1)\n",
        "\n",
        "\n",
        "    def __init__(self, device,out_channels, kernel_size,in_channels=1,sample_rate=16000,\n",
        "                 stride=1, padding=0, dilation=1, bias=False, groups=1,freq_scale='Mel'):\n",
        "\n",
        "        super(SincConv,self).__init__()\n",
        "\n",
        "\n",
        "        if in_channels != 1:\n",
        "\n",
        "            msg = \"SincConv only support one input channel (here, in_channels = {%i})\" % (in_channels)\n",
        "            raise ValueError(msg)\n",
        "\n",
        "        self.out_channels = out_channels+1\n",
        "        self.kernel_size = kernel_size\n",
        "        self.sample_rate=sample_rate\n",
        "\n",
        "        # Forcing the filters to be odd (i.e, perfectly symmetrics)\n",
        "        if kernel_size%2==0:\n",
        "            self.kernel_size=self.kernel_size+1\n",
        "\n",
        "        self.device=device\n",
        "        self.stride = stride\n",
        "        self.padding = padding\n",
        "        self.dilation = dilation\n",
        "\n",
        "        if bias:\n",
        "            raise ValueError('SincConv does not support bias.')\n",
        "        if groups > 1:\n",
        "            raise ValueError('SincConv does not support groups.')\n",
        "\n",
        "\n",
        "        # initialize filterbanks using Mel scale\n",
        "        NFFT = 512\n",
        "        f=int(self.sample_rate/2)*np.linspace(0,1,int(NFFT/2)+1)\n",
        "\n",
        "\n",
        "        if freq_scale == 'Mel':\n",
        "            fmel=self.to_mel(f) # Hz to mel conversion\n",
        "            fmelmax=np.max(fmel)\n",
        "            fmelmin=np.min(fmel)\n",
        "            filbandwidthsmel=np.linspace(fmelmin,fmelmax,self.out_channels+2)\n",
        "            filbandwidthsf=self.to_hz(filbandwidthsmel) # Mel to Hz conversion\n",
        "            self.freq=filbandwidthsf[:self.out_channels]\n",
        "\n",
        "        elif freq_scale == 'Inverse-mel':\n",
        "            fmel=self.to_mel(f) # Hz to mel conversion\n",
        "            fmelmax=np.max(fmel)\n",
        "            fmelmin=np.min(fmel)\n",
        "            filbandwidthsmel=np.linspace(fmelmin,fmelmax,self.out_channels+2)\n",
        "            filbandwidthsf=self.to_hz(filbandwidthsmel) # Mel to Hz conversion\n",
        "            self.mel=filbandwidthsf[:self.out_channels]\n",
        "            self.freq=np.abs(np.flip(self.mel)-1) ## invert mel scale\n",
        "\n",
        "\n",
        "        else:\n",
        "            fmelmax=np.max(f)\n",
        "            fmelmin=np.min(f)\n",
        "            filbandwidthsmel=np.linspace(fmelmin,fmelmax,self.out_channels+2)\n",
        "            self.freq=filbandwidthsmel[:self.out_channels]\n",
        "\n",
        "        self.hsupp=torch.arange(-(self.kernel_size-1)/2, (self.kernel_size-1)/2+1)\n",
        "        self.band_pass=torch.zeros(self.out_channels-1,self.kernel_size)\n",
        "\n",
        "\n",
        "\n",
        "    def forward(self,x):\n",
        "        for i in range(len(self.freq)-1):\n",
        "            fmin=self.freq[i]\n",
        "            fmax=self.freq[i+1]\n",
        "            hHigh=(2*fmax/self.sample_rate)*np.sinc(2*fmax*self.hsupp/self.sample_rate)\n",
        "            hLow=(2*fmin/self.sample_rate)*np.sinc(2*fmin*self.hsupp/self.sample_rate)\n",
        "            hideal=hHigh-hLow\n",
        "\n",
        "            self.band_pass[i,:]=Tensor(np.hamming(self.kernel_size))*Tensor(hideal)\n",
        "\n",
        "        band_pass_filter=self.band_pass.to(self.device)\n",
        "\n",
        "        self.filters = (band_pass_filter).view(self.out_channels-1, 1, self.kernel_size)\n",
        "\n",
        "        return F.conv1d(x, self.filters, stride=self.stride,\n",
        "                        padding=self.padding, dilation=self.dilation,\n",
        "                         bias=None, groups=1)\n",
        "\n",
        "\n",
        "\n",
        "class Residual_block(nn.Module):\n",
        "    def __init__(self, nb_filts, first = False):\n",
        "        super(Residual_block, self).__init__()\n",
        "        self.first = first\n",
        "\n",
        "        if not self.first:\n",
        "            self.bn1 = nn.BatchNorm1d(num_features = nb_filts[0])\n",
        "\n",
        "        self.lrelu = nn.LeakyReLU(negative_slope=0.3)\n",
        "\n",
        "        self.conv1 = nn.Conv1d(in_channels = nb_filts[0], out_channels = nb_filts[1], kernel_size = 3, padding = 1, stride = 1)\n",
        "\n",
        "        self.bn2 = nn.BatchNorm1d(num_features = nb_filts[1])\n",
        "        self.conv2 = nn.Conv1d(in_channels = nb_filts[1], out_channels = nb_filts[1], padding = 1, kernel_size = 3, stride = 1)\n",
        "\n",
        "        if nb_filts[0] != nb_filts[1]:\n",
        "            self.downsample = True\n",
        "            self.conv_downsample = nn.Conv1d(in_channels = nb_filts[0], out_channels = nb_filts[1], padding = 0, kernel_size = 1, stride = 1)\n",
        "\n",
        "        else:\n",
        "            self.downsample = False\n",
        "        self.mp = nn.MaxPool1d(3)\n",
        "\n",
        "    def forward(self, x):\n",
        "        identity = x\n",
        "        if not self.first:\n",
        "            out = self.bn1(x)\n",
        "            out = self.lrelu(out)\n",
        "        else:\n",
        "            out = x\n",
        "\n",
        "        out = self.conv1(out)\n",
        "        out = self.bn2(out)\n",
        "        out = self.lrelu(out)\n",
        "        out = self.conv2(out)\n",
        "\n",
        "        if self.downsample:\n",
        "            identity = self.conv_downsample(identity)\n",
        "\n",
        "        out += identity\n",
        "        out = self.mp(out)\n",
        "        return out\n",
        "\n",
        "\n",
        "\n",
        "\n",
        "\n",
        "class RawNet(nn.Module):\n",
        "    def __init__(self, d_args, device):\n",
        "        super(RawNet, self).__init__()\n",
        "\n",
        "\n",
        "        self.device=device\n",
        "\n",
        "        self.Sinc_conv=SincConv(device=self.device, out_channels = d_args['filts'][0], kernel_size = d_args['first_conv'], in_channels = d_args['in_channels'],freq_scale='Mel'\n",
        "                                    )\n",
        "\n",
        "        self.first_bn = nn.BatchNorm1d(num_features = d_args['filts'][0])\n",
        "        self.selu = nn.SELU(inplace=True)\n",
        "        self.block0 = nn.Sequential(Residual_block(nb_filts = d_args['filts'][1], first = True))\n",
        "        self.block1 = nn.Sequential(Residual_block(nb_filts = d_args['filts'][1]))\n",
        "        self.block2 = nn.Sequential(Residual_block(nb_filts = d_args['filts'][2]))\n",
        "        d_args['filts'][2][0] = d_args['filts'][2][1]\n",
        "        self.block3 = nn.Sequential(Residual_block(nb_filts = d_args['filts'][2]))\n",
        "        self.block4 = nn.Sequential(Residual_block(nb_filts = d_args['filts'][2]))\n",
        "        self.block5 = nn.Sequential(Residual_block(nb_filts = d_args['filts'][2]))\n",
        "        self.avgpool = nn.AdaptiveAvgPool1d(1)\n",
        "\n",
        "        self.fc_attention0 = self._make_attention_fc(in_features = d_args['filts'][1][-1], l_out_features = d_args['filts'][1][-1])\n",
        "        self.fc_attention1 = self._make_attention_fc(in_features = d_args['filts'][1][-1], l_out_features = d_args['filts'][1][-1])\n",
        "        self.fc_attention2 = self._make_attention_fc(in_features = d_args['filts'][2][-1], l_out_features = d_args['filts'][2][-1])\n",
        "        self.fc_attention3 = self._make_attention_fc(in_features = d_args['filts'][2][-1], l_out_features = d_args['filts'][2][-1])\n",
        "        self.fc_attention4 = self._make_attention_fc(in_features = d_args['filts'][2][-1], l_out_features = d_args['filts'][2][-1])\n",
        "        self.fc_attention5 = self._make_attention_fc(in_features = d_args['filts'][2][-1], l_out_features = d_args['filts'][2][-1])\n",
        "\n",
        "        self.bn_before_gru = nn.BatchNorm1d(num_features = d_args['filts'][2][-1])\n",
        "        self.gru = nn.GRU(input_size = d_args['filts'][2][-1], hidden_size = d_args['gru_node'], num_layers = d_args['nb_gru_layer'], batch_first = True)\n",
        "\n",
        "        self.fc1_gru = nn.Linear(in_features = d_args['gru_node'], out_features = d_args['nb_fc_node'])\n",
        "\n",
        "        self.fc2_gru = nn.Linear(in_features = d_args['nb_fc_node'], out_features = d_args['nb_classes'],bias=True)\n",
        "\n",
        "        self.sig = nn.Sigmoid()\n",
        "\n",
        "\n",
        "    def forward(self, x, y = None,is_test=False):\n",
        "\n",
        "\n",
        "        nb_samp = x.shape[0]\n",
        "        len_seq = x.shape[1]\n",
        "        x=x.view(nb_samp,1,len_seq)\n",
        "\n",
        "        x = self.Sinc_conv(x)    # Fixed sinc filters convolution\n",
        "        x = F.max_pool1d(torch.abs(x), 3)\n",
        "        x = self.first_bn(x)\n",
        "        x = self.selu(x)\n",
        "\n",
        "        x0 = self.block0(x)\n",
        "        y0 = self.avgpool(x0).view(x0.size(0), -1) # torch.Size([batch, filter])\n",
        "        y0 = self.fc_attention0(y0)\n",
        "        y0 = self.sig(y0).view(y0.size(0), y0.size(1), -1)  # torch.Size([batch, filter, 1])\n",
        "        x = x0 * y0 + y0  # (batch, filter, time) x (batch, filter, 1)\n",
        "\n",
        "\n",
        "        x1 = self.block1(x)\n",
        "        y1 = self.avgpool(x1).view(x1.size(0), -1) # torch.Size([batch, filter])\n",
        "        y1 = self.fc_attention1(y1)\n",
        "        y1 = self.sig(y1).view(y1.size(0), y1.size(1), -1)  # torch.Size([batch, filter, 1])\n",
        "        x = x1 * y1 + y1 # (batch, filter, time) x (batch, filter, 1)\n",
        "\n",
        "        x2 = self.block2(x)\n",
        "        y2 = self.avgpool(x2).view(x2.size(0), -1) # torch.Size([batch, filter])\n",
        "        y2 = self.fc_attention2(y2)\n",
        "        y2 = self.sig(y2).view(y2.size(0), y2.size(1), -1)  # torch.Size([batch, filter, 1])\n",
        "        x = x2 * y2 + y2 # (batch, filter, time) x (batch, filter, 1)\n",
        "\n",
        "        x3 = self.block3(x)\n",
        "        y3 = self.avgpool(x3).view(x3.size(0), -1) # torch.Size([batch, filter])\n",
        "        y3 = self.fc_attention3(y3)\n",
        "        y3 = self.sig(y3).view(y3.size(0), y3.size(1), -1)  # torch.Size([batch, filter, 1])\n",
        "        x = x3 * y3 + y3 # (batch, filter, time) x (batch, filter, 1)\n",
        "\n",
        "        x4 = self.block4(x)\n",
        "        y4 = self.avgpool(x4).view(x4.size(0), -1) # torch.Size([batch, filter])\n",
        "        y4 = self.fc_attention4(y4)\n",
        "        y4 = self.sig(y4).view(y4.size(0), y4.size(1), -1)  # torch.Size([batch, filter, 1])\n",
        "        x = x4 * y4 + y4 # (batch, filter, time) x (batch, filter, 1)\n",
        "\n",
        "        x5 = self.block5(x)\n",
        "        y5 = self.avgpool(x5).view(x5.size(0), -1) # torch.Size([batch, filter])\n",
        "        y5 = self.fc_attention5(y5)\n",
        "        y5 = self.sig(y5).view(y5.size(0), y5.size(1), -1)  # torch.Size([batch, filter, 1])\n",
        "        x = x5 * y5 + y5 # (batch, filter, time) x (batch, filter, 1)\n",
        "\n",
        "        x = self.bn_before_gru(x)\n",
        "        x = self.selu(x)\n",
        "        x = x.permute(0, 2, 1)     #(batch, filt, time) >> (batch, time, filt)\n",
        "        self.gru.flatten_parameters()\n",
        "        x, _ = self.gru(x)\n",
        "        x = x[:,-1,:]\n",
        "        x = self.fc1_gru(x)\n",
        "        x = self.fc2_gru(x)\n",
        "\n",
        "        if not is_test:\n",
        "            output = x\n",
        "            return output\n",
        "\n",
        "        else:\n",
        "            output=F.softmax(x,dim=1)\n",
        "            return output\n",
        "\n",
        "\n",
        "\n",
        "\n",
        "    def _make_attention_fc(self, in_features, l_out_features):\n",
        "\n",
        "        l_fc = []\n",
        "\n",
        "        l_fc.append(nn.Linear(in_features = in_features,\n",
        "\t\t\t        out_features = l_out_features))\n",
        "\n",
        "\n",
        "\n",
        "        return nn.Sequential(*l_fc)\n",
        "\n",
        "\n",
        "    def _make_layer(self, nb_blocks, nb_filts, first = False):\n",
        "        layers = []\n",
        "        #def __init__(self, nb_filts, first = False):\n",
        "        for i in range(nb_blocks):\n",
        "            first = first if i == 0 else False\n",
        "            layers.append(Residual_block(nb_filts = nb_filts,\n",
        "\t\t\t\tfirst = first))\n",
        "            if i == 0: nb_filts[0] = nb_filts[1]\n",
        "\n",
        "        return nn.Sequential(*layers)\n",
        "\n",
        "    # def summary(self, input_size, batch_size=-1, device=\"cuda\", print_fn=None):\n",
        "    #     if print_fn is None:\n",
        "    #         print_fn = print\n",
        "    #     model = self\n",
        "\n",
        "    #     def register_hook(module):\n",
        "    #         def hook(module, input, output):\n",
        "    #             class_name = str(module.__class__).split(\".\")[-1].split(\"'\")[0]\n",
        "    #             module_idx = len(summary)\n",
        "\n",
        "    #             m_key = \"%s-%i\" % (class_name, module_idx + 1)\n",
        "    #             summary[m_key] = OrderedDict()\n",
        "    #             summary[m_key][\"input_shape\"] = list(input[0].size())\n",
        "    #             summary[m_key][\"input_shape\"][0] = batch_size\n",
        "    #             if isinstance(output, (list, tuple)):\n",
        "    #                 summary[m_key][\"output_shape\"] = [\n",
        "    #                     [-1] + list(o.size())[1:] for o in output\n",
        "    #                 ]\n",
        "    #             else:\n",
        "    #                 summary[m_key][\"output_shape\"] = list(output.size())\n",
        "    #                 if len(summary[m_key][\"output_shape\"]) != 0:\n",
        "    #                     summary[m_key][\"output_shape\"][0] = batch_size\n",
        "\n",
        "    #             params = 0\n",
        "    #             if hasattr(module, \"weight\") and hasattr(module.weight, \"size\"):\n",
        "    #                 params += torch.prod(torch.LongTensor(list(module.weight.size())))\n",
        "    #                 summary[m_key][\"trainable\"] = module.weight.requires_grad\n",
        "    #             if hasattr(module, \"bias\") and hasattr(module.bias, \"size\"):\n",
        "    #                 params += torch.prod(torch.LongTensor(list(module.bias.size())))\n",
        "    #             summary[m_key][\"nb_params\"] = params\n",
        "\n",
        "    #         if (\n",
        "    #             not isinstance(module, nn.Sequential)\n",
        "    #             and not isinstance(module, nn.ModuleList)\n",
        "    #             and not (module == model)\n",
        "    #         ):\n",
        "    #             hooks.append(module.register_forward_hook(hook))\n",
        "\n",
        "    #     # Handle device input (string or torch.device)\n",
        "    #     if isinstance(device, torch.device):\n",
        "    #         device = str(device).split(':')[0]  # Convert torch.device('cuda:0') to 'cuda'\n",
        "    #     device = device.lower()\n",
        "    #     assert device in [\"cuda\", \"cpu\"], \"Input device is not valid, please specify 'cuda' or 'cpu'\"\n",
        "\n",
        "    #     if device == \"cuda\" and torch.cuda.is_available():\n",
        "    #         dtype = torch.cuda.FloatTensor\n",
        "    #     else:\n",
        "    #         dtype = torch.FloatTensor\n",
        "\n",
        "    #     if isinstance(input_size, tuple):\n",
        "    #         input_size = [input_size]\n",
        "    #     x = [torch.rand(2, *in_size).type(dtype) for in_size in input_size]\n",
        "    #     summary = OrderedDict()\n",
        "    #     hooks = []\n",
        "    #     model.apply(register_hook)\n",
        "    #     model(*x)\n",
        "    #     for h in hooks:\n",
        "    #         h.remove()\n",
        "\n",
        "    #     print(\"----------------------------------------------------------------\")\n",
        "    #     line_new = \"{:>20}  {:>25} {:>15}\".format(\"Layer (type)\", \"Output Shape\", \"Param #\")\n",
        "    #     print(line_new)\n",
        "    #     print(\"================================================================\")\n",
        "    #     total_params = 0\n",
        "    #     total_output = 0\n",
        "    #     trainable_params = 0\n",
        "    #     for layer in summary:\n",
        "    #         line_new = \"{:>20}  {:>25} {:>15}\".format(\n",
        "    #             layer,\n",
        "    #             str(summary[layer][\"output_shape\"]),\n",
        "    #             \"{0:,}\".format(summary[layer][\"nb_params\"]),\n",
        "    #         )\n",
        "    #         total_params += summary[layer][\"nb_params\"]\n",
        "    #         total_output += np.prod(summary[layer][\"output_shape\"])\n",
        "    #         if \"trainable\" in summary[layer]:\n",
        "    #             if summary[layer][\"trainable\"]:\n",
        "    #                 trainable_params += summary[layer][\"nb_params\"]\n",
        "    #         print_fn(line_new)\n",
        "\n",
        "    #     print(\"================================================================\")\n",
        "    #     print(f\"Total params: {total_params:,}\")\n",
        "    #     print(f\"Trainable params: {trainable_params:,}\")\n",
        "    #     print(f\"Non-trainable params: {total_params - trainable_params:,}\")\n",
        "    #     print(\"----------------------------------------------------------------\")"
      ]
    },
    {
      "cell_type": "code",
      "execution_count": 32,
      "metadata": {
        "colab": {
          "base_uri": "https://localhost:8080/"
        },
        "id": "xUepUdQc5NoP",
        "outputId": "1de3dddd-2910-4017-f8cb-5a73c90314f4"
      },
      "outputs": [
        {
          "output_type": "execute_result",
          "data": {
            "text/plain": [
              "RawNet(\n",
              "  (Sinc_conv): SincConv()\n",
              "  (first_bn): BatchNorm1d(128, eps=1e-05, momentum=0.1, affine=True, track_running_stats=True)\n",
              "  (selu): SELU(inplace=True)\n",
              "  (block0): Sequential(\n",
              "    (0): Residual_block(\n",
              "      (lrelu): LeakyReLU(negative_slope=0.3)\n",
              "      (conv1): Conv1d(128, 128, kernel_size=(3,), stride=(1,), padding=(1,))\n",
              "      (bn2): BatchNorm1d(128, eps=1e-05, momentum=0.1, affine=True, track_running_stats=True)\n",
              "      (conv2): Conv1d(128, 128, kernel_size=(3,), stride=(1,), padding=(1,))\n",
              "      (mp): MaxPool1d(kernel_size=3, stride=3, padding=0, dilation=1, ceil_mode=False)\n",
              "    )\n",
              "  )\n",
              "  (block1): Sequential(\n",
              "    (0): Residual_block(\n",
              "      (bn1): BatchNorm1d(128, eps=1e-05, momentum=0.1, affine=True, track_running_stats=True)\n",
              "      (lrelu): LeakyReLU(negative_slope=0.3)\n",
              "      (conv1): Conv1d(128, 128, kernel_size=(3,), stride=(1,), padding=(1,))\n",
              "      (bn2): BatchNorm1d(128, eps=1e-05, momentum=0.1, affine=True, track_running_stats=True)\n",
              "      (conv2): Conv1d(128, 128, kernel_size=(3,), stride=(1,), padding=(1,))\n",
              "      (mp): MaxPool1d(kernel_size=3, stride=3, padding=0, dilation=1, ceil_mode=False)\n",
              "    )\n",
              "  )\n",
              "  (block2): Sequential(\n",
              "    (0): Residual_block(\n",
              "      (bn1): BatchNorm1d(128, eps=1e-05, momentum=0.1, affine=True, track_running_stats=True)\n",
              "      (lrelu): LeakyReLU(negative_slope=0.3)\n",
              "      (conv1): Conv1d(128, 512, kernel_size=(3,), stride=(1,), padding=(1,))\n",
              "      (bn2): BatchNorm1d(512, eps=1e-05, momentum=0.1, affine=True, track_running_stats=True)\n",
              "      (conv2): Conv1d(512, 512, kernel_size=(3,), stride=(1,), padding=(1,))\n",
              "      (conv_downsample): Conv1d(128, 512, kernel_size=(1,), stride=(1,))\n",
              "      (mp): MaxPool1d(kernel_size=3, stride=3, padding=0, dilation=1, ceil_mode=False)\n",
              "    )\n",
              "  )\n",
              "  (block3): Sequential(\n",
              "    (0): Residual_block(\n",
              "      (bn1): BatchNorm1d(512, eps=1e-05, momentum=0.1, affine=True, track_running_stats=True)\n",
              "      (lrelu): LeakyReLU(negative_slope=0.3)\n",
              "      (conv1): Conv1d(512, 512, kernel_size=(3,), stride=(1,), padding=(1,))\n",
              "      (bn2): BatchNorm1d(512, eps=1e-05, momentum=0.1, affine=True, track_running_stats=True)\n",
              "      (conv2): Conv1d(512, 512, kernel_size=(3,), stride=(1,), padding=(1,))\n",
              "      (mp): MaxPool1d(kernel_size=3, stride=3, padding=0, dilation=1, ceil_mode=False)\n",
              "    )\n",
              "  )\n",
              "  (block4): Sequential(\n",
              "    (0): Residual_block(\n",
              "      (bn1): BatchNorm1d(512, eps=1e-05, momentum=0.1, affine=True, track_running_stats=True)\n",
              "      (lrelu): LeakyReLU(negative_slope=0.3)\n",
              "      (conv1): Conv1d(512, 512, kernel_size=(3,), stride=(1,), padding=(1,))\n",
              "      (bn2): BatchNorm1d(512, eps=1e-05, momentum=0.1, affine=True, track_running_stats=True)\n",
              "      (conv2): Conv1d(512, 512, kernel_size=(3,), stride=(1,), padding=(1,))\n",
              "      (mp): MaxPool1d(kernel_size=3, stride=3, padding=0, dilation=1, ceil_mode=False)\n",
              "    )\n",
              "  )\n",
              "  (block5): Sequential(\n",
              "    (0): Residual_block(\n",
              "      (bn1): BatchNorm1d(512, eps=1e-05, momentum=0.1, affine=True, track_running_stats=True)\n",
              "      (lrelu): LeakyReLU(negative_slope=0.3)\n",
              "      (conv1): Conv1d(512, 512, kernel_size=(3,), stride=(1,), padding=(1,))\n",
              "      (bn2): BatchNorm1d(512, eps=1e-05, momentum=0.1, affine=True, track_running_stats=True)\n",
              "      (conv2): Conv1d(512, 512, kernel_size=(3,), stride=(1,), padding=(1,))\n",
              "      (mp): MaxPool1d(kernel_size=3, stride=3, padding=0, dilation=1, ceil_mode=False)\n",
              "    )\n",
              "  )\n",
              "  (avgpool): AdaptiveAvgPool1d(output_size=1)\n",
              "  (fc_attention0): Sequential(\n",
              "    (0): Linear(in_features=128, out_features=128, bias=True)\n",
              "  )\n",
              "  (fc_attention1): Sequential(\n",
              "    (0): Linear(in_features=128, out_features=128, bias=True)\n",
              "  )\n",
              "  (fc_attention2): Sequential(\n",
              "    (0): Linear(in_features=512, out_features=512, bias=True)\n",
              "  )\n",
              "  (fc_attention3): Sequential(\n",
              "    (0): Linear(in_features=512, out_features=512, bias=True)\n",
              "  )\n",
              "  (fc_attention4): Sequential(\n",
              "    (0): Linear(in_features=512, out_features=512, bias=True)\n",
              "  )\n",
              "  (fc_attention5): Sequential(\n",
              "    (0): Linear(in_features=512, out_features=512, bias=True)\n",
              "  )\n",
              "  (bn_before_gru): BatchNorm1d(512, eps=1e-05, momentum=0.1, affine=True, track_running_stats=True)\n",
              "  (gru): GRU(512, 1024, num_layers=3, batch_first=True)\n",
              "  (fc1_gru): Linear(in_features=1024, out_features=1024, bias=True)\n",
              "  (fc2_gru): Linear(in_features=1024, out_features=2, bias=True)\n",
              "  (sig): Sigmoid()\n",
              ")"
            ]
          },
          "metadata": {},
          "execution_count": 32
        }
      ],
      "source": [
        "# Model configuration\n",
        "config = {\n",
        "    'first_conv': 128,\n",
        "    'in_channels': 1,\n",
        "    'filts': [128, [128, 128], [128, 512], [512, 512]],  # Match original\n",
        "    'nb_fc_node': 1024,\n",
        "    'gru_node': 1024,\n",
        "    'nb_gru_layer': 3,\n",
        "    'nb_classes': 2,\n",
        "    'nb_samp': 64000\n",
        "}\n",
        "\n",
        "\n",
        "device = torch.device('cuda' if torch.cuda.is_available() else 'cpu')\n",
        "model = RawNet(config, device=device).to(device)\n",
        "model.apply(init_weights)  # Initialize weights\n",
        "\n",
        "# model.summary()"
      ]
    },
    {
      "cell_type": "code",
      "execution_count": 33,
      "metadata": {
        "id": "guoNMrPq5T97"
      },
      "outputs": [],
      "source": [
        "# Loss and optimizer\n",
        "weight = torch.FloatTensor([1.0, 1.0]).to(device)  # Weighted loss\n",
        "criterion = nn.CrossEntropyLoss(weight=weight)\n",
        "optimizer = torch.optim.Adam(model.parameters(), lr=1e-4, weight_decay=0.0001)\n",
        "epochs = 20"
      ]
    },
    {
      "cell_type": "code",
      "execution_count": 34,
      "metadata": {
        "colab": {
          "base_uri": "https://localhost:8080/"
        },
        "id": "OwRHHyQI7eC0",
        "outputId": "7227fc93-ef1e-42ff-dabf-c02c13242ed6"
      },
      "outputs": [
        {
          "output_type": "stream",
          "name": "stdout",
          "text": [
            "\n",
            "Epoch 1/20\n"
          ]
        },
        {
          "output_type": "stream",
          "name": "stderr",
          "text": [
            "Training Epoch 1:   7%|▋         | 10/149 [00:14<03:11,  1.38s/it]"
          ]
        },
        {
          "output_type": "stream",
          "name": "stdout",
          "text": [
            "\rBatch 10: Accuracy: 71.88%"
          ]
        },
        {
          "output_type": "stream",
          "name": "stderr",
          "text": [
            "Training Epoch 1:  13%|█▎        | 20/149 [00:28<02:56,  1.37s/it]"
          ]
        },
        {
          "output_type": "stream",
          "name": "stdout",
          "text": [
            "\rBatch 20: Accuracy: 79.69%"
          ]
        },
        {
          "output_type": "stream",
          "name": "stderr",
          "text": [
            "Training Epoch 1:  20%|██        | 30/149 [00:42<02:42,  1.37s/it]"
          ]
        },
        {
          "output_type": "stream",
          "name": "stdout",
          "text": [
            "\rBatch 30: Accuracy: 80.73%"
          ]
        },
        {
          "output_type": "stream",
          "name": "stderr",
          "text": [
            "Training Epoch 1:  27%|██▋       | 40/149 [00:57<02:27,  1.35s/it]"
          ]
        },
        {
          "output_type": "stream",
          "name": "stdout",
          "text": [
            "\rBatch 40: Accuracy: 82.27%"
          ]
        },
        {
          "output_type": "stream",
          "name": "stderr",
          "text": [
            "Training Epoch 1:  34%|███▎      | 50/149 [01:10<02:13,  1.34s/it]"
          ]
        },
        {
          "output_type": "stream",
          "name": "stdout",
          "text": [
            "\rBatch 50: Accuracy: 82.94%"
          ]
        },
        {
          "output_type": "stream",
          "name": "stderr",
          "text": [
            "Training Epoch 1:  40%|████      | 60/149 [01:25<02:03,  1.39s/it]"
          ]
        },
        {
          "output_type": "stream",
          "name": "stdout",
          "text": [
            "\rBatch 60: Accuracy: 83.33%"
          ]
        },
        {
          "output_type": "stream",
          "name": "stderr",
          "text": [
            "Training Epoch 1:  47%|████▋     | 70/149 [01:39<01:48,  1.37s/it]"
          ]
        },
        {
          "output_type": "stream",
          "name": "stdout",
          "text": [
            "\rBatch 70: Accuracy: 84.11%"
          ]
        },
        {
          "output_type": "stream",
          "name": "stderr",
          "text": [
            "Training Epoch 1:  54%|█████▎    | 80/149 [01:53<01:39,  1.44s/it]"
          ]
        },
        {
          "output_type": "stream",
          "name": "stdout",
          "text": [
            "\rBatch 80: Accuracy: 84.26%"
          ]
        },
        {
          "output_type": "stream",
          "name": "stderr",
          "text": [
            "Training Epoch 1:  60%|██████    | 90/149 [02:07<01:27,  1.48s/it]"
          ]
        },
        {
          "output_type": "stream",
          "name": "stdout",
          "text": [
            "\rBatch 90: Accuracy: 85.14%"
          ]
        },
        {
          "output_type": "stream",
          "name": "stderr",
          "text": [
            "Training Epoch 1:  67%|██████▋   | 100/149 [02:22<01:13,  1.51s/it]"
          ]
        },
        {
          "output_type": "stream",
          "name": "stdout",
          "text": [
            "\rBatch 100: Accuracy: 85.56%"
          ]
        },
        {
          "output_type": "stream",
          "name": "stderr",
          "text": [
            "Training Epoch 1:  74%|███████▍  | 110/149 [02:36<00:57,  1.48s/it]"
          ]
        },
        {
          "output_type": "stream",
          "name": "stdout",
          "text": [
            "\rBatch 110: Accuracy: 86.11%"
          ]
        },
        {
          "output_type": "stream",
          "name": "stderr",
          "text": [
            "Training Epoch 1:  81%|████████  | 120/149 [02:50<00:42,  1.48s/it]"
          ]
        },
        {
          "output_type": "stream",
          "name": "stdout",
          "text": [
            "\rBatch 120: Accuracy: 86.54%"
          ]
        },
        {
          "output_type": "stream",
          "name": "stderr",
          "text": [
            "Training Epoch 1:  87%|████████▋ | 130/149 [03:03<00:26,  1.42s/it]"
          ]
        },
        {
          "output_type": "stream",
          "name": "stdout",
          "text": [
            "\rBatch 130: Accuracy: 86.51%"
          ]
        },
        {
          "output_type": "stream",
          "name": "stderr",
          "text": [
            "Training Epoch 1:  94%|█████████▍| 140/149 [03:17<00:12,  1.44s/it]"
          ]
        },
        {
          "output_type": "stream",
          "name": "stdout",
          "text": [
            "\rBatch 140: Accuracy: 86.99%"
          ]
        },
        {
          "output_type": "stream",
          "name": "stderr",
          "text": []
        },
        {
          "output_type": "stream",
          "name": "stdout",
          "text": [
            "\n",
            "Train Loss: 0.3161, Accuracy: 87.21%, Precision: 0.9168, Recall: 0.8104, F1 Score: 0.8604\n",
            "Validation Loss: 0.3906, Accuracy: 93.95%, EER: 0.0596, Precision: 0.9614, Recall: 0.9299, F1 Score: 0.9454\n",
            "Best model saved!\n",
            "\n",
            "Epoch 2/20\n"
          ]
        },
        {
          "output_type": "stream",
          "name": "stderr",
          "text": [
            "Training Epoch 2:   7%|▋         | 10/149 [00:14<03:29,  1.50s/it]"
          ]
        },
        {
          "output_type": "stream",
          "name": "stdout",
          "text": [
            "\rBatch 10: Accuracy: 90.31%"
          ]
        },
        {
          "output_type": "stream",
          "name": "stderr",
          "text": [
            "Training Epoch 2:  13%|█▎        | 20/149 [00:28<03:13,  1.50s/it]"
          ]
        },
        {
          "output_type": "stream",
          "name": "stdout",
          "text": [
            "\rBatch 20: Accuracy: 92.03%"
          ]
        },
        {
          "output_type": "stream",
          "name": "stderr",
          "text": [
            "Training Epoch 2:  20%|██        | 30/149 [00:42<02:57,  1.49s/it]"
          ]
        },
        {
          "output_type": "stream",
          "name": "stdout",
          "text": [
            "\rBatch 30: Accuracy: 91.46%"
          ]
        },
        {
          "output_type": "stream",
          "name": "stderr",
          "text": [
            "Training Epoch 2:  27%|██▋       | 40/149 [00:56<02:37,  1.44s/it]"
          ]
        },
        {
          "output_type": "stream",
          "name": "stdout",
          "text": [
            "\rBatch 40: Accuracy: 92.50%"
          ]
        },
        {
          "output_type": "stream",
          "name": "stderr",
          "text": [
            "Training Epoch 2:  34%|███▎      | 50/149 [01:10<02:21,  1.43s/it]"
          ]
        },
        {
          "output_type": "stream",
          "name": "stdout",
          "text": [
            "\rBatch 50: Accuracy: 92.75%"
          ]
        },
        {
          "output_type": "stream",
          "name": "stderr",
          "text": [
            "Training Epoch 2:  40%|████      | 60/149 [01:23<02:04,  1.40s/it]"
          ]
        },
        {
          "output_type": "stream",
          "name": "stdout",
          "text": [
            "\rBatch 60: Accuracy: 92.92%"
          ]
        },
        {
          "output_type": "stream",
          "name": "stderr",
          "text": [
            "Training Epoch 2:  47%|████▋     | 70/149 [01:37<01:50,  1.40s/it]"
          ]
        },
        {
          "output_type": "stream",
          "name": "stdout",
          "text": [
            "\rBatch 70: Accuracy: 93.21%"
          ]
        },
        {
          "output_type": "stream",
          "name": "stderr",
          "text": [
            "Training Epoch 2:  54%|█████▎    | 80/149 [01:51<01:36,  1.39s/it]"
          ]
        },
        {
          "output_type": "stream",
          "name": "stdout",
          "text": [
            "\rBatch 80: Accuracy: 93.48%"
          ]
        },
        {
          "output_type": "stream",
          "name": "stderr",
          "text": [
            "Training Epoch 2:  60%|██████    | 90/149 [02:05<01:21,  1.38s/it]"
          ]
        },
        {
          "output_type": "stream",
          "name": "stdout",
          "text": [
            "\rBatch 90: Accuracy: 93.33%"
          ]
        },
        {
          "output_type": "stream",
          "name": "stderr",
          "text": [
            "Training Epoch 2:  67%|██████▋   | 100/149 [02:19<01:07,  1.38s/it]"
          ]
        },
        {
          "output_type": "stream",
          "name": "stdout",
          "text": [
            "\rBatch 100: Accuracy: 93.41%"
          ]
        },
        {
          "output_type": "stream",
          "name": "stderr",
          "text": [
            "Training Epoch 2:  74%|███████▍  | 110/149 [02:33<00:53,  1.36s/it]"
          ]
        },
        {
          "output_type": "stream",
          "name": "stdout",
          "text": [
            "\rBatch 110: Accuracy: 93.47%"
          ]
        },
        {
          "output_type": "stream",
          "name": "stderr",
          "text": [
            "Training Epoch 2:  81%|████████  | 120/149 [02:47<00:40,  1.39s/it]"
          ]
        },
        {
          "output_type": "stream",
          "name": "stdout",
          "text": [
            "\rBatch 120: Accuracy: 93.62%"
          ]
        },
        {
          "output_type": "stream",
          "name": "stderr",
          "text": [
            "Training Epoch 2:  87%|████████▋ | 130/149 [03:01<00:26,  1.39s/it]"
          ]
        },
        {
          "output_type": "stream",
          "name": "stdout",
          "text": [
            "\rBatch 130: Accuracy: 93.70%"
          ]
        },
        {
          "output_type": "stream",
          "name": "stderr",
          "text": [
            "Training Epoch 2:  94%|█████████▍| 140/149 [03:15<00:11,  1.32s/it]"
          ]
        },
        {
          "output_type": "stream",
          "name": "stdout",
          "text": [
            "\rBatch 140: Accuracy: 93.71%"
          ]
        },
        {
          "output_type": "stream",
          "name": "stderr",
          "text": []
        },
        {
          "output_type": "stream",
          "name": "stdout",
          "text": [
            "\n",
            "Train Loss: 0.1602, Accuracy: 93.93%, Precision: 0.9677, Recall: 0.9175, F1 Score: 0.9420\n",
            "Validation Loss: 0.3446, Accuracy: 97.14%, EER: 0.0254, Precision: 0.9622, Recall: 0.9881, F1 Score: 0.9750\n",
            "Best model saved!\n",
            "\n",
            "Epoch 3/20\n"
          ]
        },
        {
          "output_type": "stream",
          "name": "stderr",
          "text": [
            "Training Epoch 3:   7%|▋         | 10/149 [00:14<03:13,  1.39s/it]"
          ]
        },
        {
          "output_type": "stream",
          "name": "stdout",
          "text": [
            "\rBatch 10: Accuracy: 94.69%"
          ]
        },
        {
          "output_type": "stream",
          "name": "stderr",
          "text": [
            "Training Epoch 3:  13%|█▎        | 20/149 [00:28<03:02,  1.42s/it]"
          ]
        },
        {
          "output_type": "stream",
          "name": "stdout",
          "text": [
            "\rBatch 20: Accuracy: 93.75%"
          ]
        },
        {
          "output_type": "stream",
          "name": "stderr",
          "text": [
            "Training Epoch 3:  20%|██        | 30/149 [00:41<02:42,  1.37s/it]"
          ]
        },
        {
          "output_type": "stream",
          "name": "stdout",
          "text": [
            "\rBatch 30: Accuracy: 94.27%"
          ]
        },
        {
          "output_type": "stream",
          "name": "stderr",
          "text": [
            "Training Epoch 3:  27%|██▋       | 40/149 [00:55<02:25,  1.34s/it]"
          ]
        },
        {
          "output_type": "stream",
          "name": "stdout",
          "text": [
            "\rBatch 40: Accuracy: 94.38%"
          ]
        },
        {
          "output_type": "stream",
          "name": "stderr",
          "text": [
            "Training Epoch 3:  34%|███▎      | 50/149 [01:09<02:14,  1.36s/it]"
          ]
        },
        {
          "output_type": "stream",
          "name": "stdout",
          "text": [
            "\rBatch 50: Accuracy: 94.19%"
          ]
        },
        {
          "output_type": "stream",
          "name": "stderr",
          "text": [
            "Training Epoch 3:  40%|████      | 60/149 [01:23<01:58,  1.33s/it]"
          ]
        },
        {
          "output_type": "stream",
          "name": "stdout",
          "text": [
            "\rBatch 60: Accuracy: 93.85%"
          ]
        },
        {
          "output_type": "stream",
          "name": "stderr",
          "text": [
            "Training Epoch 3:  47%|████▋     | 70/149 [01:36<01:46,  1.35s/it]"
          ]
        },
        {
          "output_type": "stream",
          "name": "stdout",
          "text": [
            "\rBatch 70: Accuracy: 94.11%"
          ]
        },
        {
          "output_type": "stream",
          "name": "stderr",
          "text": [
            "Training Epoch 3:  54%|█████▎    | 80/149 [01:50<01:33,  1.35s/it]"
          ]
        },
        {
          "output_type": "stream",
          "name": "stdout",
          "text": [
            "\rBatch 80: Accuracy: 94.49%"
          ]
        },
        {
          "output_type": "stream",
          "name": "stderr",
          "text": [
            "Training Epoch 3:  60%|██████    | 90/149 [02:04<01:16,  1.30s/it]"
          ]
        },
        {
          "output_type": "stream",
          "name": "stdout",
          "text": [
            "\rBatch 90: Accuracy: 94.31%"
          ]
        },
        {
          "output_type": "stream",
          "name": "stderr",
          "text": [
            "Training Epoch 3:  67%|██████▋   | 100/149 [02:18<01:05,  1.34s/it]"
          ]
        },
        {
          "output_type": "stream",
          "name": "stdout",
          "text": [
            "\rBatch 100: Accuracy: 94.47%"
          ]
        },
        {
          "output_type": "stream",
          "name": "stderr",
          "text": [
            "Training Epoch 3:  74%|███████▍  | 110/149 [02:32<00:52,  1.35s/it]"
          ]
        },
        {
          "output_type": "stream",
          "name": "stdout",
          "text": [
            "\rBatch 110: Accuracy: 94.63%"
          ]
        },
        {
          "output_type": "stream",
          "name": "stderr",
          "text": [
            "Training Epoch 3:  81%|████████  | 120/149 [02:45<00:38,  1.32s/it]"
          ]
        },
        {
          "output_type": "stream",
          "name": "stdout",
          "text": [
            "\rBatch 120: Accuracy: 94.61%"
          ]
        },
        {
          "output_type": "stream",
          "name": "stderr",
          "text": [
            "Training Epoch 3:  87%|████████▋ | 130/149 [02:59<00:24,  1.30s/it]"
          ]
        },
        {
          "output_type": "stream",
          "name": "stdout",
          "text": [
            "\rBatch 130: Accuracy: 94.64%"
          ]
        },
        {
          "output_type": "stream",
          "name": "stderr",
          "text": [
            "Training Epoch 3:  94%|█████████▍| 140/149 [03:13<00:12,  1.35s/it]"
          ]
        },
        {
          "output_type": "stream",
          "name": "stdout",
          "text": [
            "\rBatch 140: Accuracy: 94.78%"
          ]
        },
        {
          "output_type": "stream",
          "name": "stderr",
          "text": []
        },
        {
          "output_type": "stream",
          "name": "stdout",
          "text": [
            "\n",
            "Train Loss: 0.1417, Accuracy: 94.89%, Precision: 0.9697, Recall: 0.9310, F1 Score: 0.9499\n",
            "Validation Loss: 0.3434, Accuracy: 97.14%, EER: 0.0192, Precision: 0.9923, Recall: 0.9567, F1 Score: 0.9742\n",
            "Best model saved!\n",
            "\n",
            "Epoch 4/20\n"
          ]
        },
        {
          "output_type": "stream",
          "name": "stderr",
          "text": [
            "Training Epoch 4:   7%|▋         | 10/149 [00:14<03:07,  1.35s/it]"
          ]
        },
        {
          "output_type": "stream",
          "name": "stdout",
          "text": [
            "\rBatch 10: Accuracy: 98.75%"
          ]
        },
        {
          "output_type": "stream",
          "name": "stderr",
          "text": [
            "Training Epoch 4:  13%|█▎        | 20/149 [00:28<02:51,  1.33s/it]"
          ]
        },
        {
          "output_type": "stream",
          "name": "stdout",
          "text": [
            "\rBatch 20: Accuracy: 98.28%"
          ]
        },
        {
          "output_type": "stream",
          "name": "stderr",
          "text": [
            "Training Epoch 4:  20%|██        | 30/149 [00:41<02:41,  1.36s/it]"
          ]
        },
        {
          "output_type": "stream",
          "name": "stdout",
          "text": [
            "\rBatch 30: Accuracy: 96.56%"
          ]
        },
        {
          "output_type": "stream",
          "name": "stderr",
          "text": [
            "Training Epoch 4:  27%|██▋       | 40/149 [00:55<02:24,  1.32s/it]"
          ]
        },
        {
          "output_type": "stream",
          "name": "stdout",
          "text": [
            "\rBatch 40: Accuracy: 96.56%"
          ]
        },
        {
          "output_type": "stream",
          "name": "stderr",
          "text": [
            "Training Epoch 4:  34%|███▎      | 50/149 [01:09<02:09,  1.31s/it]"
          ]
        },
        {
          "output_type": "stream",
          "name": "stdout",
          "text": [
            "\rBatch 50: Accuracy: 96.06%"
          ]
        },
        {
          "output_type": "stream",
          "name": "stderr",
          "text": [
            "Training Epoch 4:  40%|████      | 60/149 [01:23<01:59,  1.34s/it]"
          ]
        },
        {
          "output_type": "stream",
          "name": "stdout",
          "text": [
            "\rBatch 60: Accuracy: 96.15%"
          ]
        },
        {
          "output_type": "stream",
          "name": "stderr",
          "text": [
            "Training Epoch 4:  47%|████▋     | 70/149 [01:36<01:45,  1.33s/it]"
          ]
        },
        {
          "output_type": "stream",
          "name": "stdout",
          "text": [
            "\rBatch 70: Accuracy: 96.38%"
          ]
        },
        {
          "output_type": "stream",
          "name": "stderr",
          "text": [
            "Training Epoch 4:  54%|█████▎    | 80/149 [01:50<01:32,  1.34s/it]"
          ]
        },
        {
          "output_type": "stream",
          "name": "stdout",
          "text": [
            "\rBatch 80: Accuracy: 96.52%"
          ]
        },
        {
          "output_type": "stream",
          "name": "stderr",
          "text": [
            "Training Epoch 4:  60%|██████    | 90/149 [02:05<01:25,  1.44s/it]"
          ]
        },
        {
          "output_type": "stream",
          "name": "stdout",
          "text": [
            "\rBatch 90: Accuracy: 96.67%"
          ]
        },
        {
          "output_type": "stream",
          "name": "stderr",
          "text": [
            "Training Epoch 4:  67%|██████▋   | 100/149 [02:19<01:11,  1.47s/it]"
          ]
        },
        {
          "output_type": "stream",
          "name": "stdout",
          "text": [
            "\rBatch 100: Accuracy: 96.62%"
          ]
        },
        {
          "output_type": "stream",
          "name": "stderr",
          "text": [
            "Training Epoch 4:  74%|███████▍  | 110/149 [02:33<00:57,  1.47s/it]"
          ]
        },
        {
          "output_type": "stream",
          "name": "stdout",
          "text": [
            "\rBatch 110: Accuracy: 96.65%"
          ]
        },
        {
          "output_type": "stream",
          "name": "stderr",
          "text": [
            "Training Epoch 4:  81%|████████  | 120/149 [02:47<00:43,  1.48s/it]"
          ]
        },
        {
          "output_type": "stream",
          "name": "stdout",
          "text": [
            "\rBatch 120: Accuracy: 96.64%"
          ]
        },
        {
          "output_type": "stream",
          "name": "stderr",
          "text": [
            "Training Epoch 4:  87%|████████▋ | 130/149 [03:00<00:27,  1.46s/it]"
          ]
        },
        {
          "output_type": "stream",
          "name": "stdout",
          "text": [
            "\rBatch 130: Accuracy: 96.71%"
          ]
        },
        {
          "output_type": "stream",
          "name": "stderr",
          "text": [
            "Training Epoch 4:  94%|█████████▍| 140/149 [03:14<00:13,  1.45s/it]"
          ]
        },
        {
          "output_type": "stream",
          "name": "stdout",
          "text": [
            "\rBatch 140: Accuracy: 96.81%"
          ]
        },
        {
          "output_type": "stream",
          "name": "stderr",
          "text": []
        },
        {
          "output_type": "stream",
          "name": "stdout",
          "text": [
            "\n",
            "Train Loss: 0.0944, Accuracy: 96.81%, Precision: 0.9785, Recall: 0.9515, F1 Score: 0.9648\n",
            "Validation Loss: 0.3444, Accuracy: 97.23%, EER: 0.0250, Precision: 0.9892, Recall: 0.9612, F1 Score: 0.9750\n",
            "\n",
            "Epoch 5/20\n"
          ]
        },
        {
          "output_type": "stream",
          "name": "stderr",
          "text": [
            "Training Epoch 5:   7%|▋         | 10/149 [00:13<03:03,  1.32s/it]"
          ]
        },
        {
          "output_type": "stream",
          "name": "stdout",
          "text": [
            "\rBatch 10: Accuracy: 96.25%"
          ]
        },
        {
          "output_type": "stream",
          "name": "stderr",
          "text": [
            "Training Epoch 5:  13%|█▎        | 20/149 [00:27<02:52,  1.34s/it]"
          ]
        },
        {
          "output_type": "stream",
          "name": "stdout",
          "text": [
            "\rBatch 20: Accuracy: 96.56%"
          ]
        },
        {
          "output_type": "stream",
          "name": "stderr",
          "text": [
            "Training Epoch 5:  20%|██        | 30/149 [00:41<02:34,  1.30s/it]"
          ]
        },
        {
          "output_type": "stream",
          "name": "stdout",
          "text": [
            "\rBatch 30: Accuracy: 97.08%"
          ]
        },
        {
          "output_type": "stream",
          "name": "stderr",
          "text": [
            "Training Epoch 5:  27%|██▋       | 40/149 [00:55<02:31,  1.39s/it]"
          ]
        },
        {
          "output_type": "stream",
          "name": "stdout",
          "text": [
            "\rBatch 40: Accuracy: 97.34%"
          ]
        },
        {
          "output_type": "stream",
          "name": "stderr",
          "text": [
            "Training Epoch 5:  34%|███▎      | 50/149 [01:09<02:23,  1.45s/it]"
          ]
        },
        {
          "output_type": "stream",
          "name": "stdout",
          "text": [
            "\rBatch 50: Accuracy: 97.12%"
          ]
        },
        {
          "output_type": "stream",
          "name": "stderr",
          "text": [
            "Training Epoch 5:  40%|████      | 60/149 [01:22<02:06,  1.42s/it]"
          ]
        },
        {
          "output_type": "stream",
          "name": "stdout",
          "text": [
            "\rBatch 60: Accuracy: 97.03%"
          ]
        },
        {
          "output_type": "stream",
          "name": "stderr",
          "text": [
            "Training Epoch 5:  47%|████▋     | 70/149 [01:36<01:56,  1.48s/it]"
          ]
        },
        {
          "output_type": "stream",
          "name": "stdout",
          "text": [
            "\rBatch 70: Accuracy: 97.14%"
          ]
        },
        {
          "output_type": "stream",
          "name": "stderr",
          "text": [
            "Training Epoch 5:  54%|█████▎    | 80/149 [01:50<01:41,  1.48s/it]"
          ]
        },
        {
          "output_type": "stream",
          "name": "stdout",
          "text": [
            "\rBatch 80: Accuracy: 97.11%"
          ]
        },
        {
          "output_type": "stream",
          "name": "stderr",
          "text": [
            "Training Epoch 5:  60%|██████    | 90/149 [02:04<01:26,  1.47s/it]"
          ]
        },
        {
          "output_type": "stream",
          "name": "stdout",
          "text": [
            "\rBatch 90: Accuracy: 97.15%"
          ]
        },
        {
          "output_type": "stream",
          "name": "stderr",
          "text": [
            "Training Epoch 5:  67%|██████▋   | 100/149 [02:18<01:09,  1.43s/it]"
          ]
        },
        {
          "output_type": "stream",
          "name": "stdout",
          "text": [
            "\rBatch 100: Accuracy: 97.25%"
          ]
        },
        {
          "output_type": "stream",
          "name": "stderr",
          "text": [
            "Training Epoch 5:  74%|███████▍  | 110/149 [02:32<00:56,  1.44s/it]"
          ]
        },
        {
          "output_type": "stream",
          "name": "stdout",
          "text": [
            "\rBatch 110: Accuracy: 97.30%"
          ]
        },
        {
          "output_type": "stream",
          "name": "stderr",
          "text": [
            "Training Epoch 5:  81%|████████  | 120/149 [02:45<00:39,  1.36s/it]"
          ]
        },
        {
          "output_type": "stream",
          "name": "stdout",
          "text": [
            "\rBatch 120: Accuracy: 97.32%"
          ]
        },
        {
          "output_type": "stream",
          "name": "stderr",
          "text": [
            "Training Epoch 5:  87%|████████▋ | 130/149 [02:59<00:26,  1.40s/it]"
          ]
        },
        {
          "output_type": "stream",
          "name": "stdout",
          "text": [
            "\rBatch 130: Accuracy: 97.09%"
          ]
        },
        {
          "output_type": "stream",
          "name": "stderr",
          "text": [
            "Training Epoch 5:  94%|█████████▍| 140/149 [03:13<00:12,  1.37s/it]"
          ]
        },
        {
          "output_type": "stream",
          "name": "stdout",
          "text": [
            "\rBatch 140: Accuracy: 97.03%"
          ]
        },
        {
          "output_type": "stream",
          "name": "stderr",
          "text": []
        },
        {
          "output_type": "stream",
          "name": "stdout",
          "text": [
            "\n",
            "Train Loss: 0.0811, Accuracy: 96.97%, Precision: 0.9842, Recall: 0.9560, F1 Score: 0.9699\n",
            "Validation Loss: 0.3481, Accuracy: 96.64%, EER: 0.0212, Precision: 0.9565, Recall: 0.9851, F1 Score: 0.9706\n",
            "\n",
            "Epoch 6/20\n"
          ]
        },
        {
          "output_type": "stream",
          "name": "stderr",
          "text": [
            "Training Epoch 6:   7%|▋         | 10/149 [00:14<03:27,  1.50s/it]"
          ]
        },
        {
          "output_type": "stream",
          "name": "stdout",
          "text": [
            "\rBatch 10: Accuracy: 98.44%"
          ]
        },
        {
          "output_type": "stream",
          "name": "stderr",
          "text": [
            "Training Epoch 6:  13%|█▎        | 20/149 [00:28<03:10,  1.48s/it]"
          ]
        },
        {
          "output_type": "stream",
          "name": "stdout",
          "text": [
            "\rBatch 20: Accuracy: 97.66%"
          ]
        },
        {
          "output_type": "stream",
          "name": "stderr",
          "text": [
            "Training Epoch 6:  20%|██        | 30/149 [00:42<02:50,  1.43s/it]"
          ]
        },
        {
          "output_type": "stream",
          "name": "stdout",
          "text": [
            "\rBatch 30: Accuracy: 97.71%"
          ]
        },
        {
          "output_type": "stream",
          "name": "stderr",
          "text": [
            "Training Epoch 6:  27%|██▋       | 40/149 [00:55<02:34,  1.42s/it]"
          ]
        },
        {
          "output_type": "stream",
          "name": "stdout",
          "text": [
            "\rBatch 40: Accuracy: 98.05%"
          ]
        },
        {
          "output_type": "stream",
          "name": "stderr",
          "text": [
            "Training Epoch 6:  34%|███▎      | 50/149 [01:09<02:16,  1.38s/it]"
          ]
        },
        {
          "output_type": "stream",
          "name": "stdout",
          "text": [
            "\rBatch 50: Accuracy: 98.19%"
          ]
        },
        {
          "output_type": "stream",
          "name": "stderr",
          "text": [
            "Training Epoch 6:  40%|████      | 60/149 [01:22<02:03,  1.38s/it]"
          ]
        },
        {
          "output_type": "stream",
          "name": "stdout",
          "text": [
            "\rBatch 60: Accuracy: 98.23%"
          ]
        },
        {
          "output_type": "stream",
          "name": "stderr",
          "text": [
            "Training Epoch 6:  47%|████▋     | 70/149 [01:36<01:50,  1.40s/it]"
          ]
        },
        {
          "output_type": "stream",
          "name": "stdout",
          "text": [
            "\rBatch 70: Accuracy: 98.17%"
          ]
        },
        {
          "output_type": "stream",
          "name": "stderr",
          "text": [
            "Training Epoch 6:  54%|█████▎    | 80/149 [01:50<01:33,  1.36s/it]"
          ]
        },
        {
          "output_type": "stream",
          "name": "stdout",
          "text": [
            "\rBatch 80: Accuracy: 97.93%"
          ]
        },
        {
          "output_type": "stream",
          "name": "stderr",
          "text": [
            "Training Epoch 6:  60%|██████    | 90/149 [02:04<01:23,  1.41s/it]"
          ]
        },
        {
          "output_type": "stream",
          "name": "stdout",
          "text": [
            "\rBatch 90: Accuracy: 97.74%"
          ]
        },
        {
          "output_type": "stream",
          "name": "stderr",
          "text": [
            "Training Epoch 6:  67%|██████▋   | 100/149 [02:18<01:06,  1.36s/it]"
          ]
        },
        {
          "output_type": "stream",
          "name": "stdout",
          "text": [
            "\rBatch 100: Accuracy: 97.66%"
          ]
        },
        {
          "output_type": "stream",
          "name": "stderr",
          "text": [
            "Training Epoch 6:  74%|███████▍  | 110/149 [02:32<00:52,  1.34s/it]"
          ]
        },
        {
          "output_type": "stream",
          "name": "stdout",
          "text": [
            "\rBatch 110: Accuracy: 97.56%"
          ]
        },
        {
          "output_type": "stream",
          "name": "stderr",
          "text": [
            "Training Epoch 6:  81%|████████  | 120/149 [02:45<00:38,  1.33s/it]"
          ]
        },
        {
          "output_type": "stream",
          "name": "stdout",
          "text": [
            "\rBatch 120: Accuracy: 97.66%"
          ]
        },
        {
          "output_type": "stream",
          "name": "stderr",
          "text": [
            "Training Epoch 6:  87%|████████▋ | 130/149 [02:59<00:25,  1.33s/it]"
          ]
        },
        {
          "output_type": "stream",
          "name": "stdout",
          "text": [
            "\rBatch 130: Accuracy: 97.43%"
          ]
        },
        {
          "output_type": "stream",
          "name": "stderr",
          "text": [
            "Training Epoch 6:  94%|█████████▍| 140/149 [03:12<00:11,  1.32s/it]"
          ]
        },
        {
          "output_type": "stream",
          "name": "stdout",
          "text": [
            "\rBatch 140: Accuracy: 97.34%"
          ]
        },
        {
          "output_type": "stream",
          "name": "stderr",
          "text": []
        },
        {
          "output_type": "stream",
          "name": "stdout",
          "text": [
            "\n",
            "Train Loss: 0.0753, Accuracy: 97.31%, Precision: 0.9843, Recall: 0.9612, F1 Score: 0.9726\n",
            "Validation Loss: 0.3354, Accuracy: 98.24%, EER: 0.0173, Precision: 0.9880, Recall: 0.9806, F1 Score: 0.9843\n",
            "Best model saved!\n",
            "\n",
            "Epoch 7/20\n"
          ]
        },
        {
          "output_type": "stream",
          "name": "stderr",
          "text": [
            "Training Epoch 7:   7%|▋         | 10/149 [00:14<03:11,  1.37s/it]"
          ]
        },
        {
          "output_type": "stream",
          "name": "stdout",
          "text": [
            "\rBatch 10: Accuracy: 98.75%"
          ]
        },
        {
          "output_type": "stream",
          "name": "stderr",
          "text": [
            "Training Epoch 7:  13%|█▎        | 20/149 [00:28<02:58,  1.39s/it]"
          ]
        },
        {
          "output_type": "stream",
          "name": "stdout",
          "text": [
            "\rBatch 20: Accuracy: 98.12%"
          ]
        },
        {
          "output_type": "stream",
          "name": "stderr",
          "text": [
            "Training Epoch 7:  20%|██        | 30/149 [00:42<02:46,  1.40s/it]"
          ]
        },
        {
          "output_type": "stream",
          "name": "stdout",
          "text": [
            "\rBatch 30: Accuracy: 96.98%"
          ]
        },
        {
          "output_type": "stream",
          "name": "stderr",
          "text": [
            "Training Epoch 7:  27%|██▋       | 40/149 [00:56<02:30,  1.38s/it]"
          ]
        },
        {
          "output_type": "stream",
          "name": "stdout",
          "text": [
            "\rBatch 40: Accuracy: 96.80%"
          ]
        },
        {
          "output_type": "stream",
          "name": "stderr",
          "text": [
            "Training Epoch 7:  34%|███▎      | 50/149 [01:10<02:12,  1.34s/it]"
          ]
        },
        {
          "output_type": "stream",
          "name": "stdout",
          "text": [
            "\rBatch 50: Accuracy: 97.06%"
          ]
        },
        {
          "output_type": "stream",
          "name": "stderr",
          "text": [
            "Training Epoch 7:  40%|████      | 60/149 [01:23<01:56,  1.31s/it]"
          ]
        },
        {
          "output_type": "stream",
          "name": "stdout",
          "text": [
            "\rBatch 60: Accuracy: 97.29%"
          ]
        },
        {
          "output_type": "stream",
          "name": "stderr",
          "text": [
            "Training Epoch 7:  47%|████▋     | 70/149 [01:37<01:45,  1.34s/it]"
          ]
        },
        {
          "output_type": "stream",
          "name": "stdout",
          "text": [
            "\rBatch 70: Accuracy: 97.41%"
          ]
        },
        {
          "output_type": "stream",
          "name": "stderr",
          "text": [
            "Training Epoch 7:  54%|█████▎    | 80/149 [01:51<01:33,  1.35s/it]"
          ]
        },
        {
          "output_type": "stream",
          "name": "stdout",
          "text": [
            "\rBatch 80: Accuracy: 97.38%"
          ]
        },
        {
          "output_type": "stream",
          "name": "stderr",
          "text": [
            "Training Epoch 7:  60%|██████    | 90/149 [02:05<01:18,  1.33s/it]"
          ]
        },
        {
          "output_type": "stream",
          "name": "stdout",
          "text": [
            "\rBatch 90: Accuracy: 97.47%"
          ]
        },
        {
          "output_type": "stream",
          "name": "stderr",
          "text": [
            "Training Epoch 7:  67%|██████▋   | 100/149 [02:19<01:05,  1.33s/it]"
          ]
        },
        {
          "output_type": "stream",
          "name": "stdout",
          "text": [
            "\rBatch 100: Accuracy: 97.34%"
          ]
        },
        {
          "output_type": "stream",
          "name": "stderr",
          "text": [
            "Training Epoch 7:  74%|███████▍  | 110/149 [02:32<00:52,  1.34s/it]"
          ]
        },
        {
          "output_type": "stream",
          "name": "stdout",
          "text": [
            "\rBatch 110: Accuracy: 97.50%"
          ]
        },
        {
          "output_type": "stream",
          "name": "stderr",
          "text": [
            "Training Epoch 7:  81%|████████  | 120/149 [02:46<00:37,  1.31s/it]"
          ]
        },
        {
          "output_type": "stream",
          "name": "stdout",
          "text": [
            "\rBatch 120: Accuracy: 97.55%"
          ]
        },
        {
          "output_type": "stream",
          "name": "stderr",
          "text": [
            "Training Epoch 7:  87%|████████▋ | 130/149 [03:00<00:24,  1.31s/it]"
          ]
        },
        {
          "output_type": "stream",
          "name": "stdout",
          "text": [
            "\rBatch 130: Accuracy: 97.74%"
          ]
        },
        {
          "output_type": "stream",
          "name": "stderr",
          "text": [
            "Training Epoch 7:  94%|█████████▍| 140/149 [03:14<00:12,  1.36s/it]"
          ]
        },
        {
          "output_type": "stream",
          "name": "stdout",
          "text": [
            "\rBatch 140: Accuracy: 97.83%"
          ]
        },
        {
          "output_type": "stream",
          "name": "stderr",
          "text": []
        },
        {
          "output_type": "stream",
          "name": "stdout",
          "text": [
            "\n",
            "Train Loss: 0.0601, Accuracy: 97.82%, Precision: 0.9878, Recall: 0.9664, F1 Score: 0.9770\n",
            "Validation Loss: 0.3254, Accuracy: 98.74%, EER: 0.0119, Precision: 0.9925, Recall: 0.9851, F1 Score: 0.9888\n",
            "Best model saved!\n",
            "\n",
            "Epoch 8/20\n"
          ]
        },
        {
          "output_type": "stream",
          "name": "stderr",
          "text": [
            "Training Epoch 8:   7%|▋         | 10/149 [00:13<03:09,  1.36s/it]"
          ]
        },
        {
          "output_type": "stream",
          "name": "stdout",
          "text": [
            "\rBatch 10: Accuracy: 96.88%"
          ]
        },
        {
          "output_type": "stream",
          "name": "stderr",
          "text": [
            "Training Epoch 8:  13%|█▎        | 20/149 [00:28<02:56,  1.37s/it]"
          ]
        },
        {
          "output_type": "stream",
          "name": "stdout",
          "text": [
            "\rBatch 20: Accuracy: 97.34%"
          ]
        },
        {
          "output_type": "stream",
          "name": "stderr",
          "text": [
            "Training Epoch 8:  20%|██        | 30/149 [00:42<02:42,  1.36s/it]"
          ]
        },
        {
          "output_type": "stream",
          "name": "stdout",
          "text": [
            "\rBatch 30: Accuracy: 97.81%"
          ]
        },
        {
          "output_type": "stream",
          "name": "stderr",
          "text": [
            "Training Epoch 8:  27%|██▋       | 40/149 [00:56<02:30,  1.38s/it]"
          ]
        },
        {
          "output_type": "stream",
          "name": "stdout",
          "text": [
            "\rBatch 40: Accuracy: 97.81%"
          ]
        },
        {
          "output_type": "stream",
          "name": "stderr",
          "text": [
            "Training Epoch 8:  34%|███▎      | 50/149 [01:11<02:23,  1.45s/it]"
          ]
        },
        {
          "output_type": "stream",
          "name": "stdout",
          "text": [
            "\rBatch 50: Accuracy: 97.94%"
          ]
        },
        {
          "output_type": "stream",
          "name": "stderr",
          "text": [
            "Training Epoch 8:  40%|████      | 60/149 [01:25<02:07,  1.43s/it]"
          ]
        },
        {
          "output_type": "stream",
          "name": "stdout",
          "text": [
            "\rBatch 60: Accuracy: 97.81%"
          ]
        },
        {
          "output_type": "stream",
          "name": "stderr",
          "text": [
            "Training Epoch 8:  47%|████▋     | 70/149 [01:39<02:03,  1.56s/it]"
          ]
        },
        {
          "output_type": "stream",
          "name": "stdout",
          "text": [
            "\rBatch 70: Accuracy: 97.72%"
          ]
        },
        {
          "output_type": "stream",
          "name": "stderr",
          "text": [
            "Training Epoch 8:  54%|█████▎    | 80/149 [01:54<01:43,  1.50s/it]"
          ]
        },
        {
          "output_type": "stream",
          "name": "stdout",
          "text": [
            "\rBatch 80: Accuracy: 97.81%"
          ]
        },
        {
          "output_type": "stream",
          "name": "stderr",
          "text": [
            "Training Epoch 8:  60%|██████    | 90/149 [02:08<01:25,  1.45s/it]"
          ]
        },
        {
          "output_type": "stream",
          "name": "stdout",
          "text": [
            "\rBatch 90: Accuracy: 97.88%"
          ]
        },
        {
          "output_type": "stream",
          "name": "stderr",
          "text": [
            "Training Epoch 8:  67%|██████▋   | 100/149 [02:22<01:11,  1.45s/it]"
          ]
        },
        {
          "output_type": "stream",
          "name": "stdout",
          "text": [
            "\rBatch 100: Accuracy: 98.06%"
          ]
        },
        {
          "output_type": "stream",
          "name": "stderr",
          "text": [
            "Training Epoch 8:  74%|███████▍  | 110/149 [02:36<00:55,  1.43s/it]"
          ]
        },
        {
          "output_type": "stream",
          "name": "stdout",
          "text": [
            "\rBatch 110: Accuracy: 98.15%"
          ]
        },
        {
          "output_type": "stream",
          "name": "stderr",
          "text": [
            "Training Epoch 8:  81%|████████  | 120/149 [02:50<00:40,  1.40s/it]"
          ]
        },
        {
          "output_type": "stream",
          "name": "stdout",
          "text": [
            "\rBatch 120: Accuracy: 98.23%"
          ]
        },
        {
          "output_type": "stream",
          "name": "stderr",
          "text": [
            "Training Epoch 8:  87%|████████▋ | 130/149 [03:04<00:26,  1.38s/it]"
          ]
        },
        {
          "output_type": "stream",
          "name": "stdout",
          "text": [
            "\rBatch 130: Accuracy: 98.05%"
          ]
        },
        {
          "output_type": "stream",
          "name": "stderr",
          "text": [
            "Training Epoch 8:  94%|█████████▍| 140/149 [03:17<00:12,  1.36s/it]"
          ]
        },
        {
          "output_type": "stream",
          "name": "stdout",
          "text": [
            "\rBatch 140: Accuracy: 97.99%"
          ]
        },
        {
          "output_type": "stream",
          "name": "stderr",
          "text": []
        },
        {
          "output_type": "stream",
          "name": "stdout",
          "text": [
            "\n",
            "Train Loss: 0.0582, Accuracy: 97.98%, Precision: 0.9875, Recall: 0.9713, F1 Score: 0.9793\n",
            "Validation Loss: 0.3328, Accuracy: 98.91%, EER: 0.0115, Precision: 0.9867, Recall: 0.9940, F1 Score: 0.9903\n",
            "Best model saved!\n",
            "\n",
            "Epoch 9/20\n"
          ]
        },
        {
          "output_type": "stream",
          "name": "stderr",
          "text": [
            "Training Epoch 9:   7%|▋         | 10/149 [00:14<03:21,  1.45s/it]"
          ]
        },
        {
          "output_type": "stream",
          "name": "stdout",
          "text": [
            "\rBatch 10: Accuracy: 98.75%"
          ]
        },
        {
          "output_type": "stream",
          "name": "stderr",
          "text": [
            "Training Epoch 9:  13%|█▎        | 20/149 [00:27<03:03,  1.42s/it]"
          ]
        },
        {
          "output_type": "stream",
          "name": "stdout",
          "text": [
            "\rBatch 20: Accuracy: 98.75%"
          ]
        },
        {
          "output_type": "stream",
          "name": "stderr",
          "text": [
            "Training Epoch 9:  20%|██        | 30/149 [00:41<02:45,  1.39s/it]"
          ]
        },
        {
          "output_type": "stream",
          "name": "stdout",
          "text": [
            "\rBatch 30: Accuracy: 98.65%"
          ]
        },
        {
          "output_type": "stream",
          "name": "stderr",
          "text": [
            "Training Epoch 9:  27%|██▋       | 40/149 [00:55<02:27,  1.35s/it]"
          ]
        },
        {
          "output_type": "stream",
          "name": "stdout",
          "text": [
            "\rBatch 40: Accuracy: 98.91%"
          ]
        },
        {
          "output_type": "stream",
          "name": "stderr",
          "text": [
            "Training Epoch 9:  34%|███▎      | 50/149 [01:09<02:20,  1.42s/it]"
          ]
        },
        {
          "output_type": "stream",
          "name": "stdout",
          "text": [
            "\rBatch 50: Accuracy: 99.00%"
          ]
        },
        {
          "output_type": "stream",
          "name": "stderr",
          "text": [
            "Training Epoch 9:  40%|████      | 60/149 [01:22<02:03,  1.39s/it]"
          ]
        },
        {
          "output_type": "stream",
          "name": "stdout",
          "text": [
            "\rBatch 60: Accuracy: 98.54%"
          ]
        },
        {
          "output_type": "stream",
          "name": "stderr",
          "text": [
            "Training Epoch 9:  47%|████▋     | 70/149 [01:36<01:48,  1.37s/it]"
          ]
        },
        {
          "output_type": "stream",
          "name": "stdout",
          "text": [
            "\rBatch 70: Accuracy: 98.21%"
          ]
        },
        {
          "output_type": "stream",
          "name": "stderr",
          "text": [
            "Training Epoch 9:  54%|█████▎    | 80/149 [01:50<01:38,  1.43s/it]"
          ]
        },
        {
          "output_type": "stream",
          "name": "stdout",
          "text": [
            "\rBatch 80: Accuracy: 98.32%"
          ]
        },
        {
          "output_type": "stream",
          "name": "stderr",
          "text": [
            "Training Epoch 9:  60%|██████    | 90/149 [02:04<01:22,  1.40s/it]"
          ]
        },
        {
          "output_type": "stream",
          "name": "stdout",
          "text": [
            "\rBatch 90: Accuracy: 98.33%"
          ]
        },
        {
          "output_type": "stream",
          "name": "stderr",
          "text": [
            "Training Epoch 9:  67%|██████▋   | 100/149 [02:18<01:07,  1.37s/it]"
          ]
        },
        {
          "output_type": "stream",
          "name": "stdout",
          "text": [
            "\rBatch 100: Accuracy: 98.34%"
          ]
        },
        {
          "output_type": "stream",
          "name": "stderr",
          "text": [
            "Training Epoch 9:  74%|███████▍  | 110/149 [02:32<00:51,  1.33s/it]"
          ]
        },
        {
          "output_type": "stream",
          "name": "stdout",
          "text": [
            "\rBatch 110: Accuracy: 98.10%"
          ]
        },
        {
          "output_type": "stream",
          "name": "stderr",
          "text": [
            "Training Epoch 9:  81%|████████  | 120/149 [02:46<00:39,  1.35s/it]"
          ]
        },
        {
          "output_type": "stream",
          "name": "stdout",
          "text": [
            "\rBatch 120: Accuracy: 98.02%"
          ]
        },
        {
          "output_type": "stream",
          "name": "stderr",
          "text": [
            "Training Epoch 9:  87%|████████▋ | 130/149 [03:00<00:25,  1.36s/it]"
          ]
        },
        {
          "output_type": "stream",
          "name": "stdout",
          "text": [
            "\rBatch 130: Accuracy: 98.10%"
          ]
        },
        {
          "output_type": "stream",
          "name": "stderr",
          "text": [
            "Training Epoch 9:  94%|█████████▍| 140/149 [03:13<00:12,  1.34s/it]"
          ]
        },
        {
          "output_type": "stream",
          "name": "stdout",
          "text": [
            "\rBatch 140: Accuracy: 98.06%"
          ]
        },
        {
          "output_type": "stream",
          "name": "stderr",
          "text": []
        },
        {
          "output_type": "stream",
          "name": "stdout",
          "text": [
            "\n",
            "Train Loss: 0.0546, Accuracy: 98.09%, Precision: 0.9886, Recall: 0.9739, F1 Score: 0.9812\n",
            "Validation Loss: 0.3379, Accuracy: 97.82%, EER: 0.0254, Precision: 0.9864, Recall: 0.9746, F1 Score: 0.9805\n",
            "\n",
            "Epoch 10/20\n"
          ]
        },
        {
          "output_type": "stream",
          "name": "stderr",
          "text": [
            "Training Epoch 10:   7%|▋         | 10/149 [00:14<03:18,  1.43s/it]"
          ]
        },
        {
          "output_type": "stream",
          "name": "stdout",
          "text": [
            "\rBatch 10: Accuracy: 96.88%"
          ]
        },
        {
          "output_type": "stream",
          "name": "stderr",
          "text": [
            "Training Epoch 10:  13%|█▎        | 20/149 [00:28<02:59,  1.39s/it]"
          ]
        },
        {
          "output_type": "stream",
          "name": "stdout",
          "text": [
            "\rBatch 20: Accuracy: 97.66%"
          ]
        },
        {
          "output_type": "stream",
          "name": "stderr",
          "text": [
            "Training Epoch 10:  20%|██        | 30/149 [00:42<02:42,  1.36s/it]"
          ]
        },
        {
          "output_type": "stream",
          "name": "stdout",
          "text": [
            "\rBatch 30: Accuracy: 97.81%"
          ]
        },
        {
          "output_type": "stream",
          "name": "stderr",
          "text": [
            "Training Epoch 10:  27%|██▋       | 40/149 [00:56<02:29,  1.37s/it]"
          ]
        },
        {
          "output_type": "stream",
          "name": "stdout",
          "text": [
            "\rBatch 40: Accuracy: 97.58%"
          ]
        },
        {
          "output_type": "stream",
          "name": "stderr",
          "text": [
            "Training Epoch 10:  34%|███▎      | 50/149 [01:10<02:12,  1.34s/it]"
          ]
        },
        {
          "output_type": "stream",
          "name": "stdout",
          "text": [
            "\rBatch 50: Accuracy: 97.69%"
          ]
        },
        {
          "output_type": "stream",
          "name": "stderr",
          "text": [
            "Training Epoch 10:  40%|████      | 60/149 [01:24<02:00,  1.36s/it]"
          ]
        },
        {
          "output_type": "stream",
          "name": "stdout",
          "text": [
            "\rBatch 60: Accuracy: 98.02%"
          ]
        },
        {
          "output_type": "stream",
          "name": "stderr",
          "text": [
            "Training Epoch 10:  47%|████▋     | 70/149 [01:38<01:47,  1.36s/it]"
          ]
        },
        {
          "output_type": "stream",
          "name": "stdout",
          "text": [
            "\rBatch 70: Accuracy: 98.08%"
          ]
        },
        {
          "output_type": "stream",
          "name": "stderr",
          "text": [
            "Training Epoch 10:  54%|█████▎    | 80/149 [01:52<01:34,  1.38s/it]"
          ]
        },
        {
          "output_type": "stream",
          "name": "stdout",
          "text": [
            "\rBatch 80: Accuracy: 98.28%"
          ]
        },
        {
          "output_type": "stream",
          "name": "stderr",
          "text": [
            "Training Epoch 10:  60%|██████    | 90/149 [02:06<01:23,  1.41s/it]"
          ]
        },
        {
          "output_type": "stream",
          "name": "stdout",
          "text": [
            "\rBatch 90: Accuracy: 98.23%"
          ]
        },
        {
          "output_type": "stream",
          "name": "stderr",
          "text": [
            "Training Epoch 10:  67%|██████▋   | 100/149 [02:20<01:09,  1.41s/it]"
          ]
        },
        {
          "output_type": "stream",
          "name": "stdout",
          "text": [
            "\rBatch 100: Accuracy: 98.34%"
          ]
        },
        {
          "output_type": "stream",
          "name": "stderr",
          "text": [
            "Training Epoch 10:  74%|███████▍  | 110/149 [02:34<00:57,  1.47s/it]"
          ]
        },
        {
          "output_type": "stream",
          "name": "stdout",
          "text": [
            "\rBatch 110: Accuracy: 98.35%"
          ]
        },
        {
          "output_type": "stream",
          "name": "stderr",
          "text": [
            "Training Epoch 10:  81%|████████  | 120/149 [02:48<00:42,  1.47s/it]"
          ]
        },
        {
          "output_type": "stream",
          "name": "stdout",
          "text": [
            "\rBatch 120: Accuracy: 98.36%"
          ]
        },
        {
          "output_type": "stream",
          "name": "stderr",
          "text": [
            "Training Epoch 10:  87%|████████▋ | 130/149 [03:02<00:28,  1.49s/it]"
          ]
        },
        {
          "output_type": "stream",
          "name": "stdout",
          "text": [
            "\rBatch 130: Accuracy: 98.25%"
          ]
        },
        {
          "output_type": "stream",
          "name": "stderr",
          "text": [
            "Training Epoch 10:  94%|█████████▍| 140/149 [03:16<00:13,  1.47s/it]"
          ]
        },
        {
          "output_type": "stream",
          "name": "stdout",
          "text": [
            "\rBatch 140: Accuracy: 98.28%"
          ]
        },
        {
          "output_type": "stream",
          "name": "stderr",
          "text": []
        },
        {
          "output_type": "stream",
          "name": "stdout",
          "text": [
            "\n",
            "Train Loss: 0.0496, Accuracy: 98.26%, Precision: 0.9905, Recall: 0.9739, F1 Score: 0.9821\n",
            "Validation Loss: 0.3602, Accuracy: 95.46%, EER: 0.0269, Precision: 0.9278, Recall: 0.9970, F1 Score: 0.9612\n",
            "\n",
            "Epoch 11/20\n"
          ]
        },
        {
          "output_type": "stream",
          "name": "stderr",
          "text": [
            "Training Epoch 11:   7%|▋         | 10/149 [00:14<03:07,  1.35s/it]"
          ]
        },
        {
          "output_type": "stream",
          "name": "stdout",
          "text": [
            "\rBatch 10: Accuracy: 99.06%"
          ]
        },
        {
          "output_type": "stream",
          "name": "stderr",
          "text": [
            "Training Epoch 11:  13%|█▎        | 20/149 [00:27<02:53,  1.35s/it]"
          ]
        },
        {
          "output_type": "stream",
          "name": "stdout",
          "text": [
            "\rBatch 20: Accuracy: 99.22%"
          ]
        },
        {
          "output_type": "stream",
          "name": "stderr",
          "text": [
            "Training Epoch 11:  20%|██        | 30/149 [00:41<02:49,  1.42s/it]"
          ]
        },
        {
          "output_type": "stream",
          "name": "stdout",
          "text": [
            "\rBatch 30: Accuracy: 99.17%"
          ]
        },
        {
          "output_type": "stream",
          "name": "stderr",
          "text": [
            "Training Epoch 11:  27%|██▋       | 40/149 [00:55<02:34,  1.42s/it]"
          ]
        },
        {
          "output_type": "stream",
          "name": "stdout",
          "text": [
            "\rBatch 40: Accuracy: 98.91%"
          ]
        },
        {
          "output_type": "stream",
          "name": "stderr",
          "text": [
            "Training Epoch 11:  34%|███▎      | 50/149 [01:09<02:24,  1.46s/it]"
          ]
        },
        {
          "output_type": "stream",
          "name": "stdout",
          "text": [
            "\rBatch 50: Accuracy: 99.00%"
          ]
        },
        {
          "output_type": "stream",
          "name": "stderr",
          "text": [
            "Training Epoch 11:  40%|████      | 60/149 [01:23<02:12,  1.49s/it]"
          ]
        },
        {
          "output_type": "stream",
          "name": "stdout",
          "text": [
            "\rBatch 60: Accuracy: 99.06%"
          ]
        },
        {
          "output_type": "stream",
          "name": "stderr",
          "text": [
            "Training Epoch 11:  47%|████▋     | 70/149 [01:37<01:53,  1.44s/it]"
          ]
        },
        {
          "output_type": "stream",
          "name": "stdout",
          "text": [
            "\rBatch 70: Accuracy: 98.93%"
          ]
        },
        {
          "output_type": "stream",
          "name": "stderr",
          "text": [
            "Training Epoch 11:  54%|█████▎    | 80/149 [01:51<01:40,  1.46s/it]"
          ]
        },
        {
          "output_type": "stream",
          "name": "stdout",
          "text": [
            "\rBatch 80: Accuracy: 98.95%"
          ]
        },
        {
          "output_type": "stream",
          "name": "stderr",
          "text": [
            "Training Epoch 11:  60%|██████    | 90/149 [02:05<01:26,  1.46s/it]"
          ]
        },
        {
          "output_type": "stream",
          "name": "stdout",
          "text": [
            "\rBatch 90: Accuracy: 99.03%"
          ]
        },
        {
          "output_type": "stream",
          "name": "stderr",
          "text": [
            "Training Epoch 11:  67%|██████▋   | 100/149 [02:19<01:09,  1.41s/it]"
          ]
        },
        {
          "output_type": "stream",
          "name": "stdout",
          "text": [
            "\rBatch 100: Accuracy: 99.03%"
          ]
        },
        {
          "output_type": "stream",
          "name": "stderr",
          "text": [
            "Training Epoch 11:  74%|███████▍  | 110/149 [02:33<00:54,  1.39s/it]"
          ]
        },
        {
          "output_type": "stream",
          "name": "stdout",
          "text": [
            "\rBatch 110: Accuracy: 98.89%"
          ]
        },
        {
          "output_type": "stream",
          "name": "stderr",
          "text": [
            "Training Epoch 11:  81%|████████  | 120/149 [02:47<00:39,  1.37s/it]"
          ]
        },
        {
          "output_type": "stream",
          "name": "stdout",
          "text": [
            "\rBatch 120: Accuracy: 98.85%"
          ]
        },
        {
          "output_type": "stream",
          "name": "stderr",
          "text": [
            "Training Epoch 11:  87%|████████▋ | 130/149 [03:01<00:26,  1.37s/it]"
          ]
        },
        {
          "output_type": "stream",
          "name": "stdout",
          "text": [
            "\rBatch 130: Accuracy: 98.82%"
          ]
        },
        {
          "output_type": "stream",
          "name": "stderr",
          "text": [
            "Training Epoch 11:  94%|█████████▍| 140/149 [03:15<00:12,  1.40s/it]"
          ]
        },
        {
          "output_type": "stream",
          "name": "stdout",
          "text": [
            "\rBatch 140: Accuracy: 98.79%"
          ]
        },
        {
          "output_type": "stream",
          "name": "stderr",
          "text": []
        },
        {
          "output_type": "stream",
          "name": "stdout",
          "text": [
            "\n",
            "Train Loss: 0.0319, Accuracy: 98.87%, Precision: 0.9928, Recall: 0.9843, F1 Score: 0.9886\n",
            "Validation Loss: 0.3223, Accuracy: 99.50%, EER: 0.0060, Precision: 1.0000, Recall: 0.9910, F1 Score: 0.9955\n",
            "Best model saved!\n",
            "\n",
            "Epoch 12/20\n"
          ]
        },
        {
          "output_type": "stream",
          "name": "stderr",
          "text": [
            "Training Epoch 12:   7%|▋         | 10/149 [00:14<03:14,  1.40s/it]"
          ]
        },
        {
          "output_type": "stream",
          "name": "stdout",
          "text": [
            "\rBatch 10: Accuracy: 99.69%"
          ]
        },
        {
          "output_type": "stream",
          "name": "stderr",
          "text": [
            "Training Epoch 12:  13%|█▎        | 20/149 [00:28<02:59,  1.39s/it]"
          ]
        },
        {
          "output_type": "stream",
          "name": "stdout",
          "text": [
            "\rBatch 20: Accuracy: 99.06%"
          ]
        },
        {
          "output_type": "stream",
          "name": "stderr",
          "text": [
            "Training Epoch 12:  20%|██        | 30/149 [00:41<02:47,  1.41s/it]"
          ]
        },
        {
          "output_type": "stream",
          "name": "stdout",
          "text": [
            "\rBatch 30: Accuracy: 99.17%"
          ]
        },
        {
          "output_type": "stream",
          "name": "stderr",
          "text": [
            "Training Epoch 12:  27%|██▋       | 40/149 [00:55<02:30,  1.38s/it]"
          ]
        },
        {
          "output_type": "stream",
          "name": "stdout",
          "text": [
            "\rBatch 40: Accuracy: 99.06%"
          ]
        },
        {
          "output_type": "stream",
          "name": "stderr",
          "text": [
            "Training Epoch 12:  34%|███▎      | 50/149 [01:09<02:16,  1.37s/it]"
          ]
        },
        {
          "output_type": "stream",
          "name": "stdout",
          "text": [
            "\rBatch 50: Accuracy: 99.25%"
          ]
        },
        {
          "output_type": "stream",
          "name": "stderr",
          "text": [
            "Training Epoch 12:  40%|████      | 60/149 [01:23<01:59,  1.34s/it]"
          ]
        },
        {
          "output_type": "stream",
          "name": "stdout",
          "text": [
            "\rBatch 60: Accuracy: 99.32%"
          ]
        },
        {
          "output_type": "stream",
          "name": "stderr",
          "text": [
            "Training Epoch 12:  47%|████▋     | 70/149 [01:37<01:50,  1.40s/it]"
          ]
        },
        {
          "output_type": "stream",
          "name": "stdout",
          "text": [
            "\rBatch 70: Accuracy: 99.02%"
          ]
        },
        {
          "output_type": "stream",
          "name": "stderr",
          "text": [
            "Training Epoch 12:  54%|█████▎    | 80/149 [01:51<01:34,  1.37s/it]"
          ]
        },
        {
          "output_type": "stream",
          "name": "stdout",
          "text": [
            "\rBatch 80: Accuracy: 98.91%"
          ]
        },
        {
          "output_type": "stream",
          "name": "stderr",
          "text": [
            "Training Epoch 12:  60%|██████    | 90/149 [02:05<01:19,  1.35s/it]"
          ]
        },
        {
          "output_type": "stream",
          "name": "stdout",
          "text": [
            "\rBatch 90: Accuracy: 98.92%"
          ]
        },
        {
          "output_type": "stream",
          "name": "stderr",
          "text": [
            "Training Epoch 12:  67%|██████▋   | 100/149 [02:19<01:06,  1.36s/it]"
          ]
        },
        {
          "output_type": "stream",
          "name": "stdout",
          "text": [
            "\rBatch 100: Accuracy: 98.97%"
          ]
        },
        {
          "output_type": "stream",
          "name": "stderr",
          "text": [
            "Training Epoch 12:  74%|███████▍  | 110/149 [02:33<00:53,  1.37s/it]"
          ]
        },
        {
          "output_type": "stream",
          "name": "stdout",
          "text": [
            "\rBatch 110: Accuracy: 98.95%"
          ]
        },
        {
          "output_type": "stream",
          "name": "stderr",
          "text": [
            "Training Epoch 12:  81%|████████  | 120/149 [02:48<00:39,  1.38s/it]"
          ]
        },
        {
          "output_type": "stream",
          "name": "stdout",
          "text": [
            "\rBatch 120: Accuracy: 98.85%"
          ]
        },
        {
          "output_type": "stream",
          "name": "stderr",
          "text": [
            "Training Epoch 12:  87%|████████▋ | 130/149 [03:02<00:25,  1.36s/it]"
          ]
        },
        {
          "output_type": "stream",
          "name": "stdout",
          "text": [
            "\rBatch 130: Accuracy: 98.94%"
          ]
        },
        {
          "output_type": "stream",
          "name": "stderr",
          "text": [
            "Training Epoch 12:  94%|█████████▍| 140/149 [03:16<00:13,  1.47s/it]"
          ]
        },
        {
          "output_type": "stream",
          "name": "stdout",
          "text": [
            "\rBatch 140: Accuracy: 98.93%"
          ]
        },
        {
          "output_type": "stream",
          "name": "stderr",
          "text": []
        },
        {
          "output_type": "stream",
          "name": "stdout",
          "text": [
            "\n",
            "Train Loss: 0.0347, Accuracy: 98.89%, Precision: 0.9936, Recall: 0.9828, F1 Score: 0.9882\n",
            "Validation Loss: 0.3248, Accuracy: 99.16%, EER: 0.0115, Precision: 0.9882, Recall: 0.9970, F1 Score: 0.9926\n",
            "\n",
            "Epoch 13/20\n"
          ]
        },
        {
          "output_type": "stream",
          "name": "stderr",
          "text": [
            "Training Epoch 13:   7%|▋         | 10/149 [00:14<03:08,  1.35s/it]"
          ]
        },
        {
          "output_type": "stream",
          "name": "stdout",
          "text": [
            "\rBatch 10: Accuracy: 99.69%"
          ]
        },
        {
          "output_type": "stream",
          "name": "stderr",
          "text": [
            "Training Epoch 13:  13%|█▎        | 20/149 [00:28<02:54,  1.35s/it]"
          ]
        },
        {
          "output_type": "stream",
          "name": "stdout",
          "text": [
            "\rBatch 20: Accuracy: 98.91%"
          ]
        },
        {
          "output_type": "stream",
          "name": "stderr",
          "text": [
            "Training Epoch 13:  20%|██        | 30/149 [00:42<02:37,  1.33s/it]"
          ]
        },
        {
          "output_type": "stream",
          "name": "stdout",
          "text": [
            "\rBatch 30: Accuracy: 99.06%"
          ]
        },
        {
          "output_type": "stream",
          "name": "stderr",
          "text": [
            "Training Epoch 13:  27%|██▋       | 40/149 [00:56<02:37,  1.45s/it]"
          ]
        },
        {
          "output_type": "stream",
          "name": "stdout",
          "text": [
            "\rBatch 40: Accuracy: 98.98%"
          ]
        },
        {
          "output_type": "stream",
          "name": "stderr",
          "text": [
            "Training Epoch 13:  34%|███▎      | 50/149 [01:10<02:22,  1.44s/it]"
          ]
        },
        {
          "output_type": "stream",
          "name": "stdout",
          "text": [
            "\rBatch 50: Accuracy: 98.81%"
          ]
        },
        {
          "output_type": "stream",
          "name": "stderr",
          "text": [
            "Training Epoch 13:  40%|████      | 60/149 [01:24<02:15,  1.52s/it]"
          ]
        },
        {
          "output_type": "stream",
          "name": "stdout",
          "text": [
            "\rBatch 60: Accuracy: 98.85%"
          ]
        },
        {
          "output_type": "stream",
          "name": "stderr",
          "text": [
            "Training Epoch 13:  47%|████▋     | 70/149 [01:39<02:01,  1.53s/it]"
          ]
        },
        {
          "output_type": "stream",
          "name": "stdout",
          "text": [
            "\rBatch 70: Accuracy: 98.93%"
          ]
        },
        {
          "output_type": "stream",
          "name": "stderr",
          "text": [
            "Training Epoch 13:  54%|█████▎    | 80/149 [01:53<01:43,  1.51s/it]"
          ]
        },
        {
          "output_type": "stream",
          "name": "stdout",
          "text": [
            "\rBatch 80: Accuracy: 99.02%"
          ]
        },
        {
          "output_type": "stream",
          "name": "stderr",
          "text": [
            "Training Epoch 13:  60%|██████    | 90/149 [02:07<01:23,  1.41s/it]"
          ]
        },
        {
          "output_type": "stream",
          "name": "stdout",
          "text": [
            "\rBatch 90: Accuracy: 99.10%"
          ]
        },
        {
          "output_type": "stream",
          "name": "stderr",
          "text": [
            "Training Epoch 13:  67%|██████▋   | 100/149 [02:21<01:08,  1.40s/it]"
          ]
        },
        {
          "output_type": "stream",
          "name": "stdout",
          "text": [
            "\rBatch 100: Accuracy: 99.03%"
          ]
        },
        {
          "output_type": "stream",
          "name": "stderr",
          "text": [
            "Training Epoch 13:  74%|███████▍  | 110/149 [02:35<00:52,  1.35s/it]"
          ]
        },
        {
          "output_type": "stream",
          "name": "stdout",
          "text": [
            "\rBatch 110: Accuracy: 99.03%"
          ]
        },
        {
          "output_type": "stream",
          "name": "stderr",
          "text": [
            "Training Epoch 13:  81%|████████  | 120/149 [02:49<00:40,  1.38s/it]"
          ]
        },
        {
          "output_type": "stream",
          "name": "stdout",
          "text": [
            "\rBatch 120: Accuracy: 99.04%"
          ]
        },
        {
          "output_type": "stream",
          "name": "stderr",
          "text": [
            "Training Epoch 13:  87%|████████▋ | 130/149 [03:03<00:26,  1.39s/it]"
          ]
        },
        {
          "output_type": "stream",
          "name": "stdout",
          "text": [
            "\rBatch 130: Accuracy: 99.11%"
          ]
        },
        {
          "output_type": "stream",
          "name": "stderr",
          "text": [
            "Training Epoch 13:  94%|█████████▍| 140/149 [03:17<00:12,  1.39s/it]"
          ]
        },
        {
          "output_type": "stream",
          "name": "stdout",
          "text": [
            "\rBatch 140: Accuracy: 99.13%"
          ]
        },
        {
          "output_type": "stream",
          "name": "stderr",
          "text": []
        },
        {
          "output_type": "stream",
          "name": "stdout",
          "text": [
            "\n",
            "Train Loss: 0.0270, Accuracy: 99.16%, Precision: 0.9940, Recall: 0.9862, F1 Score: 0.9901\n",
            "Validation Loss: 0.3202, Accuracy: 99.16%, EER: 0.0045, Precision: 0.9970, Recall: 0.9881, F1 Score: 0.9925\n",
            "Best model saved!\n",
            "\n",
            "Epoch 14/20\n"
          ]
        },
        {
          "output_type": "stream",
          "name": "stderr",
          "text": [
            "Training Epoch 14:   7%|▋         | 10/149 [00:14<03:18,  1.43s/it]"
          ]
        },
        {
          "output_type": "stream",
          "name": "stdout",
          "text": [
            "\rBatch 10: Accuracy: 100.00%"
          ]
        },
        {
          "output_type": "stream",
          "name": "stderr",
          "text": [
            "Training Epoch 14:  13%|█▎        | 20/149 [00:28<02:58,  1.38s/it]"
          ]
        },
        {
          "output_type": "stream",
          "name": "stdout",
          "text": [
            "\rBatch 20: Accuracy: 99.69%"
          ]
        },
        {
          "output_type": "stream",
          "name": "stderr",
          "text": [
            "Training Epoch 14:  20%|██        | 30/149 [00:42<02:48,  1.41s/it]"
          ]
        },
        {
          "output_type": "stream",
          "name": "stdout",
          "text": [
            "\rBatch 30: Accuracy: 99.17%"
          ]
        },
        {
          "output_type": "stream",
          "name": "stderr",
          "text": [
            "Training Epoch 14:  27%|██▋       | 40/149 [00:56<02:30,  1.38s/it]"
          ]
        },
        {
          "output_type": "stream",
          "name": "stdout",
          "text": [
            "\rBatch 40: Accuracy: 98.52%"
          ]
        },
        {
          "output_type": "stream",
          "name": "stderr",
          "text": [
            "Training Epoch 14:  34%|███▎      | 50/149 [01:11<02:14,  1.36s/it]"
          ]
        },
        {
          "output_type": "stream",
          "name": "stdout",
          "text": [
            "\rBatch 50: Accuracy: 98.81%"
          ]
        },
        {
          "output_type": "stream",
          "name": "stderr",
          "text": [
            "Training Epoch 14:  40%|████      | 60/149 [01:25<02:01,  1.37s/it]"
          ]
        },
        {
          "output_type": "stream",
          "name": "stdout",
          "text": [
            "\rBatch 60: Accuracy: 98.80%"
          ]
        },
        {
          "output_type": "stream",
          "name": "stderr",
          "text": [
            "Training Epoch 14:  47%|████▋     | 70/149 [01:39<01:49,  1.39s/it]"
          ]
        },
        {
          "output_type": "stream",
          "name": "stdout",
          "text": [
            "\rBatch 70: Accuracy: 98.71%"
          ]
        },
        {
          "output_type": "stream",
          "name": "stderr",
          "text": [
            "Training Epoch 14:  54%|█████▎    | 80/149 [01:53<01:33,  1.36s/it]"
          ]
        },
        {
          "output_type": "stream",
          "name": "stdout",
          "text": [
            "\rBatch 80: Accuracy: 98.75%"
          ]
        },
        {
          "output_type": "stream",
          "name": "stderr",
          "text": [
            "Training Epoch 14:  60%|██████    | 90/149 [02:07<01:23,  1.41s/it]"
          ]
        },
        {
          "output_type": "stream",
          "name": "stdout",
          "text": [
            "\rBatch 90: Accuracy: 98.78%"
          ]
        },
        {
          "output_type": "stream",
          "name": "stderr",
          "text": [
            "Training Epoch 14:  67%|██████▋   | 100/149 [02:21<01:08,  1.41s/it]"
          ]
        },
        {
          "output_type": "stream",
          "name": "stdout",
          "text": [
            "\rBatch 100: Accuracy: 98.84%"
          ]
        },
        {
          "output_type": "stream",
          "name": "stderr",
          "text": [
            "Training Epoch 14:  74%|███████▍  | 110/149 [02:36<00:58,  1.51s/it]"
          ]
        },
        {
          "output_type": "stream",
          "name": "stdout",
          "text": [
            "\rBatch 110: Accuracy: 98.86%"
          ]
        },
        {
          "output_type": "stream",
          "name": "stderr",
          "text": [
            "Training Epoch 14:  81%|████████  | 120/149 [02:50<00:44,  1.53s/it]"
          ]
        },
        {
          "output_type": "stream",
          "name": "stdout",
          "text": [
            "\rBatch 120: Accuracy: 98.88%"
          ]
        },
        {
          "output_type": "stream",
          "name": "stderr",
          "text": [
            "Training Epoch 14:  87%|████████▋ | 130/149 [03:05<00:28,  1.48s/it]"
          ]
        },
        {
          "output_type": "stream",
          "name": "stdout",
          "text": [
            "\rBatch 130: Accuracy: 98.73%"
          ]
        },
        {
          "output_type": "stream",
          "name": "stderr",
          "text": [
            "Training Epoch 14:  94%|█████████▍| 140/149 [03:19<00:12,  1.44s/it]"
          ]
        },
        {
          "output_type": "stream",
          "name": "stdout",
          "text": [
            "\rBatch 140: Accuracy: 98.64%"
          ]
        },
        {
          "output_type": "stream",
          "name": "stderr",
          "text": []
        },
        {
          "output_type": "stream",
          "name": "stdout",
          "text": [
            "\n",
            "Train Loss: 0.0405, Accuracy: 98.66%, Precision: 0.9921, Recall: 0.9810, F1 Score: 0.9865\n",
            "Validation Loss: 0.3212, Accuracy: 99.41%, EER: 0.0077, Precision: 0.9926, Recall: 0.9970, F1 Score: 0.9948\n",
            "\n",
            "Epoch 15/20\n"
          ]
        },
        {
          "output_type": "stream",
          "name": "stderr",
          "text": [
            "Training Epoch 15:   7%|▋         | 10/149 [00:14<03:26,  1.48s/it]"
          ]
        },
        {
          "output_type": "stream",
          "name": "stdout",
          "text": [
            "\rBatch 10: Accuracy: 99.69%"
          ]
        },
        {
          "output_type": "stream",
          "name": "stderr",
          "text": [
            "Training Epoch 15:  13%|█▎        | 20/149 [00:28<03:14,  1.51s/it]"
          ]
        },
        {
          "output_type": "stream",
          "name": "stdout",
          "text": [
            "\rBatch 20: Accuracy: 99.22%"
          ]
        },
        {
          "output_type": "stream",
          "name": "stderr",
          "text": [
            "Training Epoch 15:  20%|██        | 30/149 [00:42<02:54,  1.46s/it]"
          ]
        },
        {
          "output_type": "stream",
          "name": "stdout",
          "text": [
            "\rBatch 30: Accuracy: 99.17%"
          ]
        },
        {
          "output_type": "stream",
          "name": "stderr",
          "text": [
            "Training Epoch 15:  27%|██▋       | 40/149 [00:56<02:39,  1.47s/it]"
          ]
        },
        {
          "output_type": "stream",
          "name": "stdout",
          "text": [
            "\rBatch 40: Accuracy: 98.98%"
          ]
        },
        {
          "output_type": "stream",
          "name": "stderr",
          "text": [
            "Training Epoch 15:  34%|███▎      | 50/149 [01:10<02:18,  1.40s/it]"
          ]
        },
        {
          "output_type": "stream",
          "name": "stdout",
          "text": [
            "\rBatch 50: Accuracy: 98.88%"
          ]
        },
        {
          "output_type": "stream",
          "name": "stderr",
          "text": [
            "Training Epoch 15:  40%|████      | 60/149 [01:24<02:08,  1.44s/it]"
          ]
        },
        {
          "output_type": "stream",
          "name": "stdout",
          "text": [
            "\rBatch 60: Accuracy: 98.75%"
          ]
        },
        {
          "output_type": "stream",
          "name": "stderr",
          "text": [
            "Training Epoch 15:  47%|████▋     | 70/149 [01:39<01:50,  1.40s/it]"
          ]
        },
        {
          "output_type": "stream",
          "name": "stdout",
          "text": [
            "\rBatch 70: Accuracy: 98.71%"
          ]
        },
        {
          "output_type": "stream",
          "name": "stderr",
          "text": [
            "Training Epoch 15:  54%|█████▎    | 80/149 [01:53<01:37,  1.41s/it]"
          ]
        },
        {
          "output_type": "stream",
          "name": "stdout",
          "text": [
            "\rBatch 80: Accuracy: 98.79%"
          ]
        },
        {
          "output_type": "stream",
          "name": "stderr",
          "text": [
            "Training Epoch 15:  60%|██████    | 90/149 [02:07<01:24,  1.43s/it]"
          ]
        },
        {
          "output_type": "stream",
          "name": "stdout",
          "text": [
            "\rBatch 90: Accuracy: 98.89%"
          ]
        },
        {
          "output_type": "stream",
          "name": "stderr",
          "text": [
            "Training Epoch 15:  67%|██████▋   | 100/149 [02:21<01:06,  1.36s/it]"
          ]
        },
        {
          "output_type": "stream",
          "name": "stdout",
          "text": [
            "\rBatch 100: Accuracy: 98.88%"
          ]
        },
        {
          "output_type": "stream",
          "name": "stderr",
          "text": [
            "Training Epoch 15:  74%|███████▍  | 110/149 [02:36<00:54,  1.40s/it]"
          ]
        },
        {
          "output_type": "stream",
          "name": "stdout",
          "text": [
            "\rBatch 110: Accuracy: 98.92%"
          ]
        },
        {
          "output_type": "stream",
          "name": "stderr",
          "text": [
            "Training Epoch 15:  81%|████████  | 120/149 [02:50<00:40,  1.39s/it]"
          ]
        },
        {
          "output_type": "stream",
          "name": "stdout",
          "text": [
            "\rBatch 120: Accuracy: 99.01%"
          ]
        },
        {
          "output_type": "stream",
          "name": "stderr",
          "text": [
            "Training Epoch 15:  87%|████████▋ | 130/149 [03:05<00:26,  1.39s/it]"
          ]
        },
        {
          "output_type": "stream",
          "name": "stdout",
          "text": [
            "\rBatch 130: Accuracy: 99.09%"
          ]
        },
        {
          "output_type": "stream",
          "name": "stderr",
          "text": [
            "Training Epoch 15:  94%|█████████▍| 140/149 [03:19<00:12,  1.39s/it]"
          ]
        },
        {
          "output_type": "stream",
          "name": "stdout",
          "text": [
            "\rBatch 140: Accuracy: 99.13%"
          ]
        },
        {
          "output_type": "stream",
          "name": "stderr",
          "text": []
        },
        {
          "output_type": "stream",
          "name": "stdout",
          "text": [
            "\n",
            "Train Loss: 0.0263, Accuracy: 99.18%, Precision: 0.9947, Recall: 0.9884, F1 Score: 0.9916\n",
            "Validation Loss: 0.3150, Accuracy: 99.92%, EER: 0.0019, Precision: 0.9985, Recall: 1.0000, F1 Score: 0.9993\n",
            "Best model saved!\n",
            "\n",
            "Epoch 16/20\n"
          ]
        },
        {
          "output_type": "stream",
          "name": "stderr",
          "text": [
            "Training Epoch 16:   7%|▋         | 10/149 [00:13<03:03,  1.32s/it]"
          ]
        },
        {
          "output_type": "stream",
          "name": "stdout",
          "text": [
            "\rBatch 10: Accuracy: 100.00%"
          ]
        },
        {
          "output_type": "stream",
          "name": "stderr",
          "text": [
            "Training Epoch 16:  13%|█▎        | 20/149 [00:28<02:57,  1.38s/it]"
          ]
        },
        {
          "output_type": "stream",
          "name": "stdout",
          "text": [
            "\rBatch 20: Accuracy: 99.69%"
          ]
        },
        {
          "output_type": "stream",
          "name": "stderr",
          "text": [
            "Training Epoch 16:  20%|██        | 30/149 [00:41<02:40,  1.35s/it]"
          ]
        },
        {
          "output_type": "stream",
          "name": "stdout",
          "text": [
            "\rBatch 30: Accuracy: 99.48%"
          ]
        },
        {
          "output_type": "stream",
          "name": "stderr",
          "text": [
            "Training Epoch 16:  27%|██▋       | 40/149 [00:55<02:22,  1.31s/it]"
          ]
        },
        {
          "output_type": "stream",
          "name": "stdout",
          "text": [
            "\rBatch 40: Accuracy: 99.53%"
          ]
        },
        {
          "output_type": "stream",
          "name": "stderr",
          "text": [
            "Training Epoch 16:  34%|███▎      | 50/149 [01:09<02:15,  1.37s/it]"
          ]
        },
        {
          "output_type": "stream",
          "name": "stdout",
          "text": [
            "\rBatch 50: Accuracy: 99.19%"
          ]
        },
        {
          "output_type": "stream",
          "name": "stderr",
          "text": [
            "Training Epoch 16:  40%|████      | 60/149 [01:23<02:05,  1.41s/it]"
          ]
        },
        {
          "output_type": "stream",
          "name": "stdout",
          "text": [
            "\rBatch 60: Accuracy: 99.17%"
          ]
        },
        {
          "output_type": "stream",
          "name": "stderr",
          "text": [
            "Training Epoch 16:  47%|████▋     | 70/149 [01:37<01:51,  1.41s/it]"
          ]
        },
        {
          "output_type": "stream",
          "name": "stdout",
          "text": [
            "\rBatch 70: Accuracy: 99.15%"
          ]
        },
        {
          "output_type": "stream",
          "name": "stderr",
          "text": [
            "Training Epoch 16:  54%|█████▎    | 80/149 [01:51<01:41,  1.47s/it]"
          ]
        },
        {
          "output_type": "stream",
          "name": "stdout",
          "text": [
            "\rBatch 80: Accuracy: 99.22%"
          ]
        },
        {
          "output_type": "stream",
          "name": "stderr",
          "text": [
            "Training Epoch 16:  60%|██████    | 90/149 [02:05<01:28,  1.51s/it]"
          ]
        },
        {
          "output_type": "stream",
          "name": "stdout",
          "text": [
            "\rBatch 90: Accuracy: 99.31%"
          ]
        },
        {
          "output_type": "stream",
          "name": "stderr",
          "text": [
            "Training Epoch 16:  67%|██████▋   | 100/149 [02:19<01:13,  1.51s/it]"
          ]
        },
        {
          "output_type": "stream",
          "name": "stdout",
          "text": [
            "\rBatch 100: Accuracy: 99.38%"
          ]
        },
        {
          "output_type": "stream",
          "name": "stderr",
          "text": [
            "Training Epoch 16:  74%|███████▍  | 110/149 [02:33<00:56,  1.46s/it]"
          ]
        },
        {
          "output_type": "stream",
          "name": "stdout",
          "text": [
            "\rBatch 110: Accuracy: 99.32%"
          ]
        },
        {
          "output_type": "stream",
          "name": "stderr",
          "text": [
            "Training Epoch 16:  81%|████████  | 120/149 [02:47<00:42,  1.46s/it]"
          ]
        },
        {
          "output_type": "stream",
          "name": "stdout",
          "text": [
            "\rBatch 120: Accuracy: 99.14%"
          ]
        },
        {
          "output_type": "stream",
          "name": "stderr",
          "text": [
            "Training Epoch 16:  87%|████████▋ | 130/149 [03:01<00:26,  1.40s/it]"
          ]
        },
        {
          "output_type": "stream",
          "name": "stdout",
          "text": [
            "\rBatch 130: Accuracy: 99.01%"
          ]
        },
        {
          "output_type": "stream",
          "name": "stderr",
          "text": [
            "Training Epoch 16:  94%|█████████▍| 140/149 [03:15<00:12,  1.41s/it]"
          ]
        },
        {
          "output_type": "stream",
          "name": "stdout",
          "text": [
            "\rBatch 140: Accuracy: 98.91%"
          ]
        },
        {
          "output_type": "stream",
          "name": "stderr",
          "text": []
        },
        {
          "output_type": "stream",
          "name": "stdout",
          "text": [
            "\n",
            "Train Loss: 0.0377, Accuracy: 98.89%, Precision: 0.9928, Recall: 0.9840, F1 Score: 0.9884\n",
            "Validation Loss: 0.3370, Accuracy: 97.39%, EER: 0.0096, Precision: 0.9953, Recall: 0.9582, F1 Score: 0.9764\n",
            "\n",
            "Epoch 17/20\n"
          ]
        },
        {
          "output_type": "stream",
          "name": "stderr",
          "text": [
            "Training Epoch 17:   7%|▋         | 10/149 [00:14<03:29,  1.50s/it]"
          ]
        },
        {
          "output_type": "stream",
          "name": "stdout",
          "text": [
            "\rBatch 10: Accuracy: 98.75%"
          ]
        },
        {
          "output_type": "stream",
          "name": "stderr",
          "text": [
            "Training Epoch 17:  13%|█▎        | 20/149 [00:28<03:03,  1.42s/it]"
          ]
        },
        {
          "output_type": "stream",
          "name": "stdout",
          "text": [
            "\rBatch 20: Accuracy: 98.44%"
          ]
        },
        {
          "output_type": "stream",
          "name": "stderr",
          "text": [
            "Training Epoch 17:  20%|██        | 30/149 [00:42<02:47,  1.41s/it]"
          ]
        },
        {
          "output_type": "stream",
          "name": "stdout",
          "text": [
            "\rBatch 30: Accuracy: 98.54%"
          ]
        },
        {
          "output_type": "stream",
          "name": "stderr",
          "text": [
            "Training Epoch 17:  27%|██▋       | 40/149 [00:56<02:31,  1.39s/it]"
          ]
        },
        {
          "output_type": "stream",
          "name": "stdout",
          "text": [
            "\rBatch 40: Accuracy: 98.59%"
          ]
        },
        {
          "output_type": "stream",
          "name": "stderr",
          "text": [
            "Training Epoch 17:  34%|███▎      | 50/149 [01:10<02:16,  1.37s/it]"
          ]
        },
        {
          "output_type": "stream",
          "name": "stdout",
          "text": [
            "\rBatch 50: Accuracy: 98.75%"
          ]
        },
        {
          "output_type": "stream",
          "name": "stderr",
          "text": [
            "Training Epoch 17:  40%|████      | 60/149 [01:24<02:02,  1.38s/it]"
          ]
        },
        {
          "output_type": "stream",
          "name": "stdout",
          "text": [
            "\rBatch 60: Accuracy: 98.85%"
          ]
        },
        {
          "output_type": "stream",
          "name": "stderr",
          "text": [
            "Training Epoch 17:  47%|████▋     | 70/149 [01:43<02:12,  1.67s/it]"
          ]
        },
        {
          "output_type": "stream",
          "name": "stdout",
          "text": [
            "\rBatch 70: Accuracy: 98.88%"
          ]
        },
        {
          "output_type": "stream",
          "name": "stderr",
          "text": [
            "Training Epoch 17:  54%|█████▎    | 80/149 [01:58<01:40,  1.46s/it]"
          ]
        },
        {
          "output_type": "stream",
          "name": "stdout",
          "text": [
            "\rBatch 80: Accuracy: 98.95%"
          ]
        },
        {
          "output_type": "stream",
          "name": "stderr",
          "text": [
            "Training Epoch 17:  60%|██████    | 90/149 [02:12<01:25,  1.45s/it]"
          ]
        },
        {
          "output_type": "stream",
          "name": "stdout",
          "text": [
            "\rBatch 90: Accuracy: 99.06%"
          ]
        },
        {
          "output_type": "stream",
          "name": "stderr",
          "text": [
            "Training Epoch 17:  67%|██████▋   | 100/149 [02:26<01:13,  1.51s/it]"
          ]
        },
        {
          "output_type": "stream",
          "name": "stdout",
          "text": [
            "\rBatch 100: Accuracy: 99.12%"
          ]
        },
        {
          "output_type": "stream",
          "name": "stderr",
          "text": [
            "Training Epoch 17:  74%|███████▍  | 110/149 [02:42<01:08,  1.75s/it]"
          ]
        },
        {
          "output_type": "stream",
          "name": "stdout",
          "text": [
            "\rBatch 110: Accuracy: 99.20%"
          ]
        },
        {
          "output_type": "stream",
          "name": "stderr",
          "text": [
            "Training Epoch 17:  81%|████████  | 120/149 [02:56<00:40,  1.41s/it]"
          ]
        },
        {
          "output_type": "stream",
          "name": "stdout",
          "text": [
            "\rBatch 120: Accuracy: 99.19%"
          ]
        },
        {
          "output_type": "stream",
          "name": "stderr",
          "text": [
            "Training Epoch 17:  87%|████████▋ | 130/149 [03:10<00:26,  1.41s/it]"
          ]
        },
        {
          "output_type": "stream",
          "name": "stdout",
          "text": [
            "\rBatch 130: Accuracy: 99.18%"
          ]
        },
        {
          "output_type": "stream",
          "name": "stderr",
          "text": [
            "Training Epoch 17:  94%|█████████▍| 140/149 [03:24<00:12,  1.40s/it]"
          ]
        },
        {
          "output_type": "stream",
          "name": "stdout",
          "text": [
            "\rBatch 140: Accuracy: 99.13%"
          ]
        },
        {
          "output_type": "stream",
          "name": "stderr",
          "text": []
        },
        {
          "output_type": "stream",
          "name": "stdout",
          "text": [
            "\n",
            "Train Loss: 0.0271, Accuracy: 99.12%, Precision: 0.9947, Recall: 0.9858, F1 Score: 0.9903\n",
            "Validation Loss: 0.3408, Accuracy: 97.48%, EER: 0.0090, Precision: 1.0000, Recall: 0.9552, F1 Score: 0.9771\n",
            "\n",
            "Epoch 18/20\n"
          ]
        },
        {
          "output_type": "stream",
          "name": "stderr",
          "text": [
            "Training Epoch 18:   7%|▋         | 10/149 [00:13<03:23,  1.46s/it]"
          ]
        },
        {
          "output_type": "stream",
          "name": "stdout",
          "text": [
            "\rBatch 10: Accuracy: 98.44%"
          ]
        },
        {
          "output_type": "stream",
          "name": "stderr",
          "text": [
            "Training Epoch 18:  13%|█▎        | 20/149 [00:27<03:05,  1.44s/it]"
          ]
        },
        {
          "output_type": "stream",
          "name": "stdout",
          "text": [
            "\rBatch 20: Accuracy: 98.59%"
          ]
        },
        {
          "output_type": "stream",
          "name": "stderr",
          "text": [
            "Training Epoch 18:  20%|██        | 30/149 [00:41<02:46,  1.40s/it]"
          ]
        },
        {
          "output_type": "stream",
          "name": "stdout",
          "text": [
            "\rBatch 30: Accuracy: 98.85%"
          ]
        },
        {
          "output_type": "stream",
          "name": "stderr",
          "text": [
            "Training Epoch 18:  27%|██▋       | 40/149 [00:55<02:30,  1.38s/it]"
          ]
        },
        {
          "output_type": "stream",
          "name": "stdout",
          "text": [
            "\rBatch 40: Accuracy: 99.06%"
          ]
        },
        {
          "output_type": "stream",
          "name": "stderr",
          "text": [
            "Training Epoch 18:  34%|███▎      | 50/149 [01:09<02:20,  1.42s/it]"
          ]
        },
        {
          "output_type": "stream",
          "name": "stdout",
          "text": [
            "\rBatch 50: Accuracy: 99.25%"
          ]
        },
        {
          "output_type": "stream",
          "name": "stderr",
          "text": [
            "Training Epoch 18:  40%|████      | 60/149 [01:23<02:02,  1.37s/it]"
          ]
        },
        {
          "output_type": "stream",
          "name": "stdout",
          "text": [
            "\rBatch 60: Accuracy: 99.38%"
          ]
        },
        {
          "output_type": "stream",
          "name": "stderr",
          "text": [
            "Training Epoch 18:  47%|████▋     | 70/149 [01:37<01:47,  1.36s/it]"
          ]
        },
        {
          "output_type": "stream",
          "name": "stdout",
          "text": [
            "\rBatch 70: Accuracy: 99.46%"
          ]
        },
        {
          "output_type": "stream",
          "name": "stderr",
          "text": [
            "Training Epoch 18:  54%|█████▎    | 80/149 [01:51<01:34,  1.37s/it]"
          ]
        },
        {
          "output_type": "stream",
          "name": "stdout",
          "text": [
            "\rBatch 80: Accuracy: 99.38%"
          ]
        },
        {
          "output_type": "stream",
          "name": "stderr",
          "text": [
            "Training Epoch 18:  60%|██████    | 90/149 [02:05<01:18,  1.32s/it]"
          ]
        },
        {
          "output_type": "stream",
          "name": "stdout",
          "text": [
            "\rBatch 90: Accuracy: 99.34%"
          ]
        },
        {
          "output_type": "stream",
          "name": "stderr",
          "text": [
            "Training Epoch 18:  67%|██████▋   | 100/149 [02:18<01:05,  1.33s/it]"
          ]
        },
        {
          "output_type": "stream",
          "name": "stdout",
          "text": [
            "\rBatch 100: Accuracy: 99.34%"
          ]
        },
        {
          "output_type": "stream",
          "name": "stderr",
          "text": [
            "Training Epoch 18:  74%|███████▍  | 110/149 [02:32<00:52,  1.35s/it]"
          ]
        },
        {
          "output_type": "stream",
          "name": "stdout",
          "text": [
            "\rBatch 110: Accuracy: 99.38%"
          ]
        },
        {
          "output_type": "stream",
          "name": "stderr",
          "text": [
            "Training Epoch 18:  81%|████████  | 120/149 [02:46<00:38,  1.32s/it]"
          ]
        },
        {
          "output_type": "stream",
          "name": "stdout",
          "text": [
            "\rBatch 120: Accuracy: 99.40%"
          ]
        },
        {
          "output_type": "stream",
          "name": "stderr",
          "text": [
            "Training Epoch 18:  87%|████████▋ | 130/149 [03:00<00:25,  1.36s/it]"
          ]
        },
        {
          "output_type": "stream",
          "name": "stdout",
          "text": [
            "\rBatch 130: Accuracy: 99.42%"
          ]
        },
        {
          "output_type": "stream",
          "name": "stderr",
          "text": [
            "Training Epoch 18:  94%|█████████▍| 140/149 [03:13<00:11,  1.32s/it]"
          ]
        },
        {
          "output_type": "stream",
          "name": "stdout",
          "text": [
            "\rBatch 140: Accuracy: 99.44%"
          ]
        },
        {
          "output_type": "stream",
          "name": "stderr",
          "text": []
        },
        {
          "output_type": "stream",
          "name": "stdout",
          "text": [
            "\n",
            "Train Loss: 0.0203, Accuracy: 99.43%, Precision: 0.9963, Recall: 0.9918, F1 Score: 0.9940\n",
            "Validation Loss: 0.3173, Accuracy: 99.66%, EER: 0.0030, Precision: 0.9985, Recall: 0.9955, F1 Score: 0.9970\n",
            "\n",
            "Epoch 19/20\n"
          ]
        },
        {
          "output_type": "stream",
          "name": "stderr",
          "text": [
            "Training Epoch 19:   7%|▋         | 10/149 [00:14<03:15,  1.40s/it]"
          ]
        },
        {
          "output_type": "stream",
          "name": "stdout",
          "text": [
            "\rBatch 10: Accuracy: 99.38%"
          ]
        },
        {
          "output_type": "stream",
          "name": "stderr",
          "text": [
            "Training Epoch 19:  13%|█▎        | 20/149 [00:28<03:00,  1.40s/it]"
          ]
        },
        {
          "output_type": "stream",
          "name": "stdout",
          "text": [
            "\rBatch 20: Accuracy: 99.38%"
          ]
        },
        {
          "output_type": "stream",
          "name": "stderr",
          "text": [
            "Training Epoch 19:  20%|██        | 30/149 [00:42<02:38,  1.33s/it]"
          ]
        },
        {
          "output_type": "stream",
          "name": "stdout",
          "text": [
            "\rBatch 30: Accuracy: 99.27%"
          ]
        },
        {
          "output_type": "stream",
          "name": "stderr",
          "text": [
            "Training Epoch 19:  27%|██▋       | 40/149 [00:56<02:25,  1.33s/it]"
          ]
        },
        {
          "output_type": "stream",
          "name": "stdout",
          "text": [
            "\rBatch 40: Accuracy: 99.22%"
          ]
        },
        {
          "output_type": "stream",
          "name": "stderr",
          "text": [
            "Training Epoch 19:  34%|███▎      | 50/149 [01:10<02:13,  1.35s/it]"
          ]
        },
        {
          "output_type": "stream",
          "name": "stdout",
          "text": [
            "\rBatch 50: Accuracy: 99.31%"
          ]
        },
        {
          "output_type": "stream",
          "name": "stderr",
          "text": [
            "Training Epoch 19:  40%|████      | 60/149 [01:23<01:55,  1.30s/it]"
          ]
        },
        {
          "output_type": "stream",
          "name": "stdout",
          "text": [
            "\rBatch 60: Accuracy: 99.38%"
          ]
        },
        {
          "output_type": "stream",
          "name": "stderr",
          "text": [
            "Training Epoch 19:  47%|████▋     | 70/149 [01:37<01:46,  1.34s/it]"
          ]
        },
        {
          "output_type": "stream",
          "name": "stdout",
          "text": [
            "\rBatch 70: Accuracy: 99.38%"
          ]
        },
        {
          "output_type": "stream",
          "name": "stderr",
          "text": [
            "Training Epoch 19:  54%|█████▎    | 80/149 [01:51<01:33,  1.36s/it]"
          ]
        },
        {
          "output_type": "stream",
          "name": "stdout",
          "text": [
            "\rBatch 80: Accuracy: 99.41%"
          ]
        },
        {
          "output_type": "stream",
          "name": "stderr",
          "text": [
            "Training Epoch 19:  60%|██████    | 90/149 [02:05<01:24,  1.43s/it]"
          ]
        },
        {
          "output_type": "stream",
          "name": "stdout",
          "text": [
            "\rBatch 90: Accuracy: 99.41%"
          ]
        },
        {
          "output_type": "stream",
          "name": "stderr",
          "text": [
            "Training Epoch 19:  67%|██████▋   | 100/149 [02:19<01:09,  1.41s/it]"
          ]
        },
        {
          "output_type": "stream",
          "name": "stdout",
          "text": [
            "\rBatch 100: Accuracy: 99.47%"
          ]
        },
        {
          "output_type": "stream",
          "name": "stderr",
          "text": [
            "Training Epoch 19:  74%|███████▍  | 110/149 [02:34<00:59,  1.52s/it]"
          ]
        },
        {
          "output_type": "stream",
          "name": "stdout",
          "text": [
            "\rBatch 110: Accuracy: 99.40%"
          ]
        },
        {
          "output_type": "stream",
          "name": "stderr",
          "text": [
            "Training Epoch 19:  81%|████████  | 120/149 [02:48<00:44,  1.52s/it]"
          ]
        },
        {
          "output_type": "stream",
          "name": "stdout",
          "text": [
            "\rBatch 120: Accuracy: 99.45%"
          ]
        },
        {
          "output_type": "stream",
          "name": "stderr",
          "text": [
            "Training Epoch 19:  87%|████████▋ | 130/149 [03:02<00:27,  1.45s/it]"
          ]
        },
        {
          "output_type": "stream",
          "name": "stdout",
          "text": [
            "\rBatch 130: Accuracy: 99.47%"
          ]
        },
        {
          "output_type": "stream",
          "name": "stderr",
          "text": [
            "Training Epoch 19:  94%|█████████▍| 140/149 [03:15<00:12,  1.43s/it]"
          ]
        },
        {
          "output_type": "stream",
          "name": "stdout",
          "text": [
            "\rBatch 140: Accuracy: 99.51%"
          ]
        },
        {
          "output_type": "stream",
          "name": "stderr",
          "text": []
        },
        {
          "output_type": "stream",
          "name": "stdout",
          "text": [
            "\n",
            "Train Loss: 0.0149, Accuracy: 99.52%, Precision: 0.9966, Recall: 0.9929, F1 Score: 0.9948\n",
            "Validation Loss: 0.3164, Accuracy: 99.75%, EER: 0.0038, Precision: 0.9970, Recall: 0.9985, F1 Score: 0.9978\n",
            "\n",
            "Epoch 20/20\n"
          ]
        },
        {
          "output_type": "stream",
          "name": "stderr",
          "text": [
            "Training Epoch 20:   7%|▋         | 10/149 [00:14<03:20,  1.44s/it]"
          ]
        },
        {
          "output_type": "stream",
          "name": "stdout",
          "text": [
            "\rBatch 10: Accuracy: 100.00%"
          ]
        },
        {
          "output_type": "stream",
          "name": "stderr",
          "text": [
            "Training Epoch 20:  13%|█▎        | 20/149 [00:28<03:08,  1.46s/it]"
          ]
        },
        {
          "output_type": "stream",
          "name": "stdout",
          "text": [
            "\rBatch 20: Accuracy: 99.84%"
          ]
        },
        {
          "output_type": "stream",
          "name": "stderr",
          "text": [
            "Training Epoch 20:  20%|██        | 30/149 [00:42<02:57,  1.49s/it]"
          ]
        },
        {
          "output_type": "stream",
          "name": "stdout",
          "text": [
            "\rBatch 30: Accuracy: 99.79%"
          ]
        },
        {
          "output_type": "stream",
          "name": "stderr",
          "text": [
            "Training Epoch 20:  27%|██▋       | 40/149 [00:56<02:40,  1.47s/it]"
          ]
        },
        {
          "output_type": "stream",
          "name": "stdout",
          "text": [
            "\rBatch 40: Accuracy: 99.77%"
          ]
        },
        {
          "output_type": "stream",
          "name": "stderr",
          "text": [
            "Training Epoch 20:  34%|███▎      | 50/149 [01:10<02:24,  1.46s/it]"
          ]
        },
        {
          "output_type": "stream",
          "name": "stdout",
          "text": [
            "\rBatch 50: Accuracy: 99.81%"
          ]
        },
        {
          "output_type": "stream",
          "name": "stderr",
          "text": [
            "Training Epoch 20:  40%|████      | 60/149 [01:24<02:08,  1.44s/it]"
          ]
        },
        {
          "output_type": "stream",
          "name": "stdout",
          "text": [
            "\rBatch 60: Accuracy: 99.79%"
          ]
        },
        {
          "output_type": "stream",
          "name": "stderr",
          "text": [
            "Training Epoch 20:  47%|████▋     | 70/149 [01:39<01:52,  1.43s/it]"
          ]
        },
        {
          "output_type": "stream",
          "name": "stdout",
          "text": [
            "\rBatch 70: Accuracy: 99.82%"
          ]
        },
        {
          "output_type": "stream",
          "name": "stderr",
          "text": [
            "Training Epoch 20:  54%|█████▎    | 80/149 [01:53<01:39,  1.44s/it]"
          ]
        },
        {
          "output_type": "stream",
          "name": "stdout",
          "text": [
            "\rBatch 80: Accuracy: 99.84%"
          ]
        },
        {
          "output_type": "stream",
          "name": "stderr",
          "text": [
            "Training Epoch 20:  60%|██████    | 90/149 [02:07<01:20,  1.37s/it]"
          ]
        },
        {
          "output_type": "stream",
          "name": "stdout",
          "text": [
            "\rBatch 90: Accuracy: 99.83%"
          ]
        },
        {
          "output_type": "stream",
          "name": "stderr",
          "text": [
            "Training Epoch 20:  67%|██████▋   | 100/149 [02:21<01:08,  1.39s/it]"
          ]
        },
        {
          "output_type": "stream",
          "name": "stdout",
          "text": [
            "\rBatch 100: Accuracy: 99.84%"
          ]
        },
        {
          "output_type": "stream",
          "name": "stderr",
          "text": [
            "Training Epoch 20:  74%|███████▍  | 110/149 [02:35<00:54,  1.39s/it]"
          ]
        },
        {
          "output_type": "stream",
          "name": "stdout",
          "text": [
            "\rBatch 110: Accuracy: 99.86%"
          ]
        },
        {
          "output_type": "stream",
          "name": "stderr",
          "text": [
            "Training Epoch 20:  81%|████████  | 120/149 [02:50<00:39,  1.36s/it]"
          ]
        },
        {
          "output_type": "stream",
          "name": "stdout",
          "text": [
            "\rBatch 120: Accuracy: 99.84%"
          ]
        },
        {
          "output_type": "stream",
          "name": "stderr",
          "text": [
            "Training Epoch 20:  87%|████████▋ | 130/149 [03:04<00:25,  1.36s/it]"
          ]
        },
        {
          "output_type": "stream",
          "name": "stdout",
          "text": [
            "\rBatch 130: Accuracy: 99.81%"
          ]
        },
        {
          "output_type": "stream",
          "name": "stderr",
          "text": [
            "Training Epoch 20:  94%|█████████▍| 140/149 [03:18<00:12,  1.39s/it]"
          ]
        },
        {
          "output_type": "stream",
          "name": "stdout",
          "text": [
            "\rBatch 140: Accuracy: 99.80%"
          ]
        },
        {
          "output_type": "stream",
          "name": "stderr",
          "text": []
        },
        {
          "output_type": "stream",
          "name": "stdout",
          "text": [
            "\n",
            "Train Loss: 0.0069, Accuracy: 99.77%, Precision: 0.9981, Recall: 0.9966, F1 Score: 0.9974\n",
            "Validation Loss: 0.3316, Accuracy: 98.24%, EER: 0.0194, Precision: 0.9894, Recall: 0.9791, F1 Score: 0.9842\n"
          ]
        }
      ],
      "source": [
        "\n",
        "history = {\n",
        "    'accuracy': [],\n",
        "    'val_accuracy': [],\n",
        "    'loss': [],\n",
        "    'val_loss': [],\n",
        "    'f1_score': [],\n",
        "    'val_f1_score': [],\n",
        "    'precision': [],\n",
        "    'val_precision': [],\n",
        "    'recall': [],\n",
        "    'val_recall': [],\n",
        "}\n",
        "\n",
        "# Training loop\n",
        "os.makedirs(\"models\", exist_ok=True)\n",
        "best_eer = float('inf')\n",
        "for epoch in range(epochs):\n",
        "    model.train()\n",
        "    running_loss = 0\n",
        "    correct = 0\n",
        "    total = 0\n",
        "    train_y_true, train_y_score = [], []  # For training metrics\n",
        "    print(f\"\\nEpoch {epoch+1}/{epochs}\")\n",
        "    for i, (x, y) in enumerate(tqdm(train_loader, desc=f\"Training Epoch {epoch+1}\", leave=False)):\n",
        "        x, y = x.to(device), y.to(device)\n",
        "        outputs = model(x, y)\n",
        "        loss = criterion(outputs, y)\n",
        "        optimizer.zero_grad()\n",
        "        loss.backward()\n",
        "        optimizer.step()\n",
        "        running_loss += loss.item() * x.size(0)\n",
        "        pred = torch.argmax(outputs, dim=1)\n",
        "        correct += (pred == y).sum().item()\n",
        "        total += y.size(0)\n",
        "        # Collect for precision, recall, F1\n",
        "        prob = outputs[:, 1].detach()\n",
        "        train_y_score.extend(prob.cpu().numpy())\n",
        "        train_y_true.extend(y.cpu().numpy())\n",
        "        if (i + 1) % 10 == 0:\n",
        "            print(f\"\\rBatch {i+1}: Accuracy: {100*correct/total:.2f}%\", end=\"\")\n",
        "    train_loss = running_loss / total\n",
        "    train_acc = 100 * correct / total\n",
        "    train_preds = [1 if s > 0.5 else 0 for s in train_y_score]\n",
        "    train_precision = precision_score(train_y_true, train_preds)\n",
        "    train_recall = recall_score(train_y_true, train_preds)\n",
        "    train_f1 = f1_score(train_y_true, train_preds)\n",
        "    print(f\"\\nTrain Loss: {train_loss:.4f}, Accuracy: {train_acc:.2f}%, Precision: {train_precision:.4f}, Recall: {train_recall:.4f}, F1 Score: {train_f1:.4f}\")\n",
        "\n",
        "    # Validation\n",
        "    model.eval()\n",
        "    val_running_loss = 0\n",
        "    correct = 0\n",
        "    total = 0\n",
        "    y_true, y_score = [], []\n",
        "    with torch.no_grad():\n",
        "        for x, y in val_loader:\n",
        "            x, y = x.to(device), y.to(device)\n",
        "            output = model(x, is_test=True)\n",
        "            val_loss = criterion(output, y)\n",
        "            val_running_loss += val_loss.item() * x.size(0)\n",
        "            prob = output[:, 1]\n",
        "            y_score.extend(prob.cpu().numpy())\n",
        "            y_true.extend(y.cpu().numpy())\n",
        "            pred = torch.argmax(output, dim=1)\n",
        "            correct += (pred == y).sum().item()\n",
        "            total += y.size(0)\n",
        "    val_loss = val_running_loss / total\n",
        "    val_acc = 100 * correct / total\n",
        "    fpr, tpr, _ = roc_curve(y_true, y_score)\n",
        "    eer = brentq(lambda x: 1. - x - interp1d(fpr, tpr)(x), 0., 1.)\n",
        "    preds = [1 if s > 0.5 else 0 for s in y_score]\n",
        "    val_precision = precision_score(y_true, preds)\n",
        "    val_recall = recall_score(y_true, preds)\n",
        "    val_f1 = f1_score(y_true, preds)\n",
        "    print(f\"Validation Loss: {val_loss:.4f}, Accuracy: {val_acc:.2f}%, EER: {eer:.4f}, Precision: {val_precision:.4f}, Recall: {val_recall:.4f}, F1 Score: {val_f1:.4f}\")\n",
        "\n",
        "    # Store metrics\n",
        "    history['accuracy'].append(train_acc)\n",
        "    history['val_accuracy'].append(val_acc)\n",
        "    history['loss'].append(train_loss)\n",
        "    history['val_loss'].append(val_loss)\n",
        "    history['f1_score'].append(train_f1)\n",
        "    history['val_f1_score'].append(val_f1)\n",
        "    history['precision'].append(train_precision)\n",
        "    history['val_precision'].append(val_precision)\n",
        "    history['recall'].append(train_recall)\n",
        "    history['val_recall'].append(val_recall)\n",
        "\n",
        "    # Save checkpoint\n",
        "    torch.save(model.state_dict(), f\"models/epoch_{epoch+1}.pth\")\n",
        "    if eer < best_eer:\n",
        "        best_eer = eer\n",
        "        torch.save(model.state_dict(), \"models/best.pth\")\n",
        "        print(\"Best model saved!\")\n",
        "\n"
      ]
    },
    {
      "cell_type": "code",
      "source": [
        "from google.colab import drive\n",
        "drive.mount('/content/drive')"
      ],
      "metadata": {
        "id": "QL9tvN2Dcg1m"
      },
      "execution_count": null,
      "outputs": []
    },
    {
      "cell_type": "code",
      "execution_count": 35,
      "metadata": {
        "id": "r7WbJzU9MnOM",
        "colab": {
          "base_uri": "https://localhost:8080/",
          "height": 1000
        },
        "outputId": "0533a1f4-3159-4787-de28-8220d118f568"
      },
      "outputs": [
        {
          "output_type": "display_data",
          "data": {
            "text/plain": [
              "<Figure size 800x2000 with 5 Axes>"
            ],
            "image/png": "[encoded data removed]"
          },
          "metadata": {}
        }
      ],
      "source": [
        "plt.figure(figsize=(8, 20))\n",
        "\n",
        "# Accuracy\n",
        "plt.subplot(5, 1, 1)\n",
        "plt.plot(range(1, len(history['accuracy']) + 1), history['accuracy'], label='Training Accuracy')\n",
        "plt.plot(range(1, len(history['val_accuracy']) + 1), history['val_accuracy'], label='Validation Accuracy')\n",
        "plt.title('Model Accuracy')\n",
        "plt.ylabel('Accuracy (%)')\n",
        "plt.legend()\n",
        "plt.grid(True)\n",
        "\n",
        "# Loss\n",
        "plt.subplot(5, 1, 2)\n",
        "plt.plot(range(1, len(history['loss']) + 1), history['loss'], label='Training Loss')\n",
        "plt.plot(range(1, len(history['val_loss']) + 1), history['val_loss'], label='Validation Loss')\n",
        "plt.title('Model Loss')\n",
        "plt.ylabel('Loss')\n",
        "plt.legend()\n",
        "plt.grid(True)\n",
        "\n",
        "# F1 Score\n",
        "plt.subplot(5, 1, 3)\n",
        "plt.plot(range(1, len(history['f1_score']) + 1), history['f1_score'], label='Training F1 Score')\n",
        "plt.plot(range(1, len(history['val_f1_score']) + 1), history['val_f1_score'], label='Validation F1 Score')\n",
        "plt.title('Model F1 Score')\n",
        "plt.ylabel('F1 Score')\n",
        "plt.legend()\n",
        "plt.grid(True)\n",
        "\n",
        "# Precision\n",
        "plt.subplot(5, 1, 4)\n",
        "plt.plot(range(1, len(history['precision']) + 1), history['precision'], label='Training Precision')\n",
        "plt.plot(range(1, len(history['val_precision']) + 1), history['val_precision'], label='Validation Precision')\n",
        "plt.title('Model Precision')\n",
        "plt.ylabel('Precision')\n",
        "plt.legend()\n",
        "plt.grid(True)\n",
        "\n",
        "# Recall\n",
        "plt.subplot(5, 1, 5)\n",
        "plt.plot(range(1, len(history['recall']) + 1), history['recall'], label='Training Recall')\n",
        "plt.plot(range(1, len(history['val_recall']) + 1), history['val_recall'], label='Validation Recall')\n",
        "plt.title('Model Recall')\n",
        "plt.xlabel('Epoch')\n",
        "plt.ylabel('Recall')\n",
        "plt.legend()\n",
        "plt.grid(True)\n",
        "\n",
        "plt.tight_layout()\n",
        "plt.show()"
      ]
    }
  ],
  "metadata": {
    "colab": {
      "provenance": [],
      "gpuType": "T4",
      "include_colab_link": true
    },
    "kernelspec": {
      "display_name": "Python 3",
      "name": "python3"
    },
    "language_info": {
      "codemirror_mode": {
        "name": "ipython",
        "version": 3
      },
      "file_extension": ".py",
      "mimetype": "text/x-python",
      "name": "python",
      "nbconvert_exporter": "python",
      "pygments_lexer": "ipython3",
      "version": "3.11.7"
    },
    "accelerator": "GPU"
  },
  "nbformat": 4,
  "nbformat_minor": 0
}